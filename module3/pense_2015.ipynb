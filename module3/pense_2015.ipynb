{
 "cells": [
  {
   "cell_type": "code",
   "execution_count": null,
   "metadata": {},
   "outputs": [],
   "source": []
  },
  {
   "cell_type": "markdown",
   "metadata": {},
   "source": [
    "# Lesson 1 - Data types\n",
    "\n",
    "---"
   ]
  },
  {
   "cell_type": "markdown",
   "metadata": {},
   "source": [
    "# Lesson 1 - Part 01 - Reading compressed data"
   ]
  },
  {
   "cell_type": "markdown",
   "metadata": {},
   "source": [
    "## 1. Importing Libraries"
   ]
  },
  {
   "cell_type": "code",
   "execution_count": 1,
   "metadata": {},
   "outputs": [],
   "source": [
    "import pandas as pd\n",
    "from zipfile import ZipFile\n",
    "import numpy as np\n",
    "import seaborn as sns\n",
    "import matplotlib.pyplot as plt"
   ]
  },
  {
   "cell_type": "markdown",
   "metadata": {},
   "source": [
    "## 2. Getting the data"
   ]
  },
  {
   "cell_type": "code",
   "execution_count": 2,
   "metadata": {},
   "outputs": [
    {
     "data": {
      "text/html": [
       "<div>\n",
       "<style scoped>\n",
       "    .dataframe tbody tr th:only-of-type {\n",
       "        vertical-align: middle;\n",
       "    }\n",
       "\n",
       "    .dataframe tbody tr th {\n",
       "        vertical-align: top;\n",
       "    }\n",
       "\n",
       "    .dataframe thead th {\n",
       "        text-align: right;\n",
       "    }\n",
       "</style>\n",
       "<table border=\"1\" class=\"dataframe\">\n",
       "  <thead>\n",
       "    <tr style=\"text-align: right;\">\n",
       "      <th></th>\n",
       "      <th>ANOPESQ</th>\n",
       "      <th>PAIS</th>\n",
       "      <th>REGEOGR</th>\n",
       "      <th>VB00004</th>\n",
       "      <th>VB01001</th>\n",
       "      <th>VB01002</th>\n",
       "      <th>VB01003</th>\n",
       "      <th>VB01004</th>\n",
       "      <th>VB01005</th>\n",
       "      <th>VB01006</th>\n",
       "      <th>...</th>\n",
       "      <th>ESTRATO_EXP</th>\n",
       "      <th>ESTRATOGEOREG</th>\n",
       "      <th>PESO</th>\n",
       "      <th>V0006</th>\n",
       "      <th>V0007</th>\n",
       "      <th>V0008</th>\n",
       "      <th>V0041</th>\n",
       "      <th>aluno</th>\n",
       "      <th>escola</th>\n",
       "      <th>turma</th>\n",
       "    </tr>\n",
       "  </thead>\n",
       "  <tbody>\n",
       "    <tr>\n",
       "      <th>0</th>\n",
       "      <td>2015</td>\n",
       "      <td>76</td>\n",
       "      <td>1</td>\n",
       "      <td>1</td>\n",
       "      <td>2</td>\n",
       "      <td>1</td>\n",
       "      <td>13</td>\n",
       "      <td>7</td>\n",
       "      <td>7</td>\n",
       "      <td>1</td>\n",
       "      <td>...</td>\n",
       "      <td>1223</td>\n",
       "      <td>1</td>\n",
       "      <td>299,735235</td>\n",
       "      <td>1</td>\n",
       "      <td>2</td>\n",
       "      <td>4</td>\n",
       "      <td>1</td>\n",
       "      <td>1</td>\n",
       "      <td>1</td>\n",
       "      <td>296</td>\n",
       "    </tr>\n",
       "    <tr>\n",
       "      <th>1</th>\n",
       "      <td>2015</td>\n",
       "      <td>76</td>\n",
       "      <td>1</td>\n",
       "      <td>1</td>\n",
       "      <td>2</td>\n",
       "      <td>1</td>\n",
       "      <td>14</td>\n",
       "      <td>4</td>\n",
       "      <td>7</td>\n",
       "      <td>1</td>\n",
       "      <td>...</td>\n",
       "      <td>1223</td>\n",
       "      <td>1</td>\n",
       "      <td>355,170081</td>\n",
       "      <td>1</td>\n",
       "      <td>2</td>\n",
       "      <td>4</td>\n",
       "      <td>1</td>\n",
       "      <td>2</td>\n",
       "      <td>1</td>\n",
       "      <td>296</td>\n",
       "    </tr>\n",
       "    <tr>\n",
       "      <th>2</th>\n",
       "      <td>2015</td>\n",
       "      <td>76</td>\n",
       "      <td>1</td>\n",
       "      <td>1</td>\n",
       "      <td>1</td>\n",
       "      <td>4</td>\n",
       "      <td>13</td>\n",
       "      <td>6</td>\n",
       "      <td>7</td>\n",
       "      <td>1</td>\n",
       "      <td>...</td>\n",
       "      <td>1223</td>\n",
       "      <td>1</td>\n",
       "      <td>299,735235</td>\n",
       "      <td>1</td>\n",
       "      <td>2</td>\n",
       "      <td>4</td>\n",
       "      <td>1</td>\n",
       "      <td>3</td>\n",
       "      <td>1</td>\n",
       "      <td>296</td>\n",
       "    </tr>\n",
       "    <tr>\n",
       "      <th>3</th>\n",
       "      <td>2015</td>\n",
       "      <td>76</td>\n",
       "      <td>1</td>\n",
       "      <td>1</td>\n",
       "      <td>1</td>\n",
       "      <td>1</td>\n",
       "      <td>14</td>\n",
       "      <td>6</td>\n",
       "      <td>7</td>\n",
       "      <td>1</td>\n",
       "      <td>...</td>\n",
       "      <td>1223</td>\n",
       "      <td>1</td>\n",
       "      <td>355,170081</td>\n",
       "      <td>1</td>\n",
       "      <td>2</td>\n",
       "      <td>4</td>\n",
       "      <td>1</td>\n",
       "      <td>4</td>\n",
       "      <td>1</td>\n",
       "      <td>296</td>\n",
       "    </tr>\n",
       "    <tr>\n",
       "      <th>4</th>\n",
       "      <td>2015</td>\n",
       "      <td>76</td>\n",
       "      <td>1</td>\n",
       "      <td>1</td>\n",
       "      <td>1</td>\n",
       "      <td>1</td>\n",
       "      <td>13</td>\n",
       "      <td>9</td>\n",
       "      <td>7</td>\n",
       "      <td>1</td>\n",
       "      <td>...</td>\n",
       "      <td>1223</td>\n",
       "      <td>1</td>\n",
       "      <td>299,735235</td>\n",
       "      <td>1</td>\n",
       "      <td>2</td>\n",
       "      <td>4</td>\n",
       "      <td>1</td>\n",
       "      <td>5</td>\n",
       "      <td>1</td>\n",
       "      <td>296</td>\n",
       "    </tr>\n",
       "  </tbody>\n",
       "</table>\n",
       "<p>5 rows × 181 columns</p>\n",
       "</div>"
      ],
      "text/plain": [
       "   ANOPESQ  PAIS  REGEOGR  VB00004  VB01001  VB01002  VB01003  VB01004  \\\n",
       "0     2015    76        1        1        2        1       13        7   \n",
       "1     2015    76        1        1        2        1       14        4   \n",
       "2     2015    76        1        1        1        4       13        6   \n",
       "3     2015    76        1        1        1        1       14        6   \n",
       "4     2015    76        1        1        1        1       13        9   \n",
       "\n",
       "   VB01005  VB01006  ...  ESTRATO_EXP  ESTRATOGEOREG        PESO  V0006  \\\n",
       "0        7        1  ...         1223              1  299,735235      1   \n",
       "1        7        1  ...         1223              1  355,170081      1   \n",
       "2        7        1  ...         1223              1  299,735235      1   \n",
       "3        7        1  ...         1223              1  355,170081      1   \n",
       "4        7        1  ...         1223              1  299,735235      1   \n",
       "\n",
       "   V0007  V0008  V0041  aluno  escola  turma  \n",
       "0      2      4      1      1       1    296  \n",
       "1      2      4      1      2       1    296  \n",
       "2      2      4      1      3       1    296  \n",
       "3      2      4      1      4       1    296  \n",
       "4      2      4      1      5       1    296  \n",
       "\n",
       "[5 rows x 181 columns]"
      ]
     },
     "execution_count": 2,
     "metadata": {},
     "output_type": "execute_result"
    }
   ],
   "source": [
    "path = '/home/gabriela/Data Science/bootcamp-alura/module3/dataset/PeNSE_2015_AMOSTRA2.zip'\n",
    "\n",
    "zip_ = ZipFile(path)\n",
    "file = zip_.namelist()[1]\n",
    "\n",
    "pense_2015 = pd.read_csv(zip_.open(file), \n",
    "                         sep=';')\n",
    "\n",
    "pense_2015.head()"
   ]
  },
  {
   "cell_type": "code",
   "execution_count": 3,
   "metadata": {},
   "outputs": [
    {
     "data": {
      "text/plain": [
       "[<ZipInfo filename='arquivos csv/' external_attr=0x10>,\n",
       " <ZipInfo filename='arquivos csv/PENSE_AMOSTRA2_ALUNO.CSV' compress_type=deflate external_attr=0x20 file_size=7262170 compress_size=1235667>,\n",
       " <ZipInfo filename='arquivos csv/PENSE_AMOSTRA2_ALUNOESCOLA.CSV' compress_type=deflate external_attr=0x20 file_size=11420533 compress_size=1329882>,\n",
       " <ZipInfo filename='arquivos csv/PENSE_AMOSTRA2_ESCOLA.CSV' compress_type=deflate external_attr=0x20 file_size=5000642 compress_size=114324>,\n",
       " <ZipInfo filename='arquivos sas/' external_attr=0x10>,\n",
       " <ZipInfo filename='arquivos sas/pense_amostra2_aluno.sas7bdat' compress_type=deflate external_attr=0x20 file_size=24691712 compress_size=1957530>,\n",
       " <ZipInfo filename='arquivos sas/pense_amostra2_alunoescola.sas7bdat' compress_type=deflate external_attr=0x20 file_size=45253632 compress_size=2461932>,\n",
       " <ZipInfo filename='arquivos sas/pense_amostra2_escola.sas7bdat' compress_type=deflate external_attr=0x20 file_size=18105344 compress_size=332162>,\n",
       " <ZipInfo filename='arquivos xlsx/' external_attr=0x10>,\n",
       " <ZipInfo filename='arquivos xlsx/PENSE_AMOSTRA2_ALUNO.xlsx' compress_type=deflate external_attr=0x20 file_size=11757246 compress_size=11337133>,\n",
       " <ZipInfo filename='arquivos xlsx/PENSE_AMOSTRA2_ALUNOESCOLA.xlsx' compress_type=deflate external_attr=0x20 file_size=18732739 compress_size=17064325>,\n",
       " <ZipInfo filename='arquivos xlsx/PENSE_AMOSTRA2_ESCOLA.xlsx' compress_type=deflate external_attr=0x20 file_size=7159579 compress_size=3209953>,\n",
       " <ZipInfo filename='Dicionario_PENSE_Microdados_AMOSTRA2.xls' compress_type=deflate external_attr=0x20 file_size=144896 compress_size=35737>]"
      ]
     },
     "execution_count": 3,
     "metadata": {},
     "output_type": "execute_result"
    }
   ],
   "source": [
    "zip_.infolist()"
   ]
  },
  {
   "cell_type": "code",
   "execution_count": 4,
   "metadata": {},
   "outputs": [
    {
     "data": {
      "text/plain": [
       "['arquivos csv/',\n",
       " 'arquivos csv/PENSE_AMOSTRA2_ALUNO.CSV',\n",
       " 'arquivos csv/PENSE_AMOSTRA2_ALUNOESCOLA.CSV',\n",
       " 'arquivos csv/PENSE_AMOSTRA2_ESCOLA.CSV',\n",
       " 'arquivos sas/',\n",
       " 'arquivos sas/pense_amostra2_aluno.sas7bdat',\n",
       " 'arquivos sas/pense_amostra2_alunoescola.sas7bdat',\n",
       " 'arquivos sas/pense_amostra2_escola.sas7bdat',\n",
       " 'arquivos xlsx/',\n",
       " 'arquivos xlsx/PENSE_AMOSTRA2_ALUNO.xlsx',\n",
       " 'arquivos xlsx/PENSE_AMOSTRA2_ALUNOESCOLA.xlsx',\n",
       " 'arquivos xlsx/PENSE_AMOSTRA2_ESCOLA.xlsx',\n",
       " 'Dicionario_PENSE_Microdados_AMOSTRA2.xls']"
      ]
     },
     "execution_count": 4,
     "metadata": {},
     "output_type": "execute_result"
    }
   ],
   "source": [
    "zip_.namelist()"
   ]
  },
  {
   "cell_type": "code",
   "execution_count": 5,
   "metadata": {},
   "outputs": [
    {
     "name": "stdout",
     "output_type": "stream",
     "text": [
      "dataset  pense_2015.ipynb\r\n"
     ]
    }
   ],
   "source": [
    "!ls"
   ]
  },
  {
   "cell_type": "markdown",
   "metadata": {},
   "source": [
    "**Challenge 1: Unzip the zipped folder using linux commands (bash)**\n",
    "\n",
    "**Challenge 2: Study pense dataset**"
   ]
  },
  {
   "cell_type": "markdown",
   "metadata": {},
   "source": [
    "# Lesson 1 - Part 02 - Data types"
   ]
  },
  {
   "cell_type": "code",
   "execution_count": 6,
   "metadata": {},
   "outputs": [
    {
     "data": {
      "text/html": [
       "<div>\n",
       "<style scoped>\n",
       "    .dataframe tbody tr th:only-of-type {\n",
       "        vertical-align: middle;\n",
       "    }\n",
       "\n",
       "    .dataframe tbody tr th {\n",
       "        vertical-align: top;\n",
       "    }\n",
       "\n",
       "    .dataframe thead th {\n",
       "        text-align: right;\n",
       "    }\n",
       "</style>\n",
       "<table border=\"1\" class=\"dataframe\">\n",
       "  <thead>\n",
       "    <tr style=\"text-align: right;\">\n",
       "      <th></th>\n",
       "      <th>ANOPESQ</th>\n",
       "      <th>PAIS</th>\n",
       "      <th>REGEOGR</th>\n",
       "      <th>VB00004</th>\n",
       "      <th>VB01001</th>\n",
       "      <th>VB01002</th>\n",
       "      <th>VB01003</th>\n",
       "      <th>VB01004</th>\n",
       "      <th>VB01005</th>\n",
       "      <th>VB01006</th>\n",
       "      <th>...</th>\n",
       "      <th>ESTRATO_EXP</th>\n",
       "      <th>ESTRATOGEOREG</th>\n",
       "      <th>PESO</th>\n",
       "      <th>V0006</th>\n",
       "      <th>V0007</th>\n",
       "      <th>V0008</th>\n",
       "      <th>V0041</th>\n",
       "      <th>aluno</th>\n",
       "      <th>escola</th>\n",
       "      <th>turma</th>\n",
       "    </tr>\n",
       "  </thead>\n",
       "  <tbody>\n",
       "    <tr>\n",
       "      <th>0</th>\n",
       "      <td>2015</td>\n",
       "      <td>76</td>\n",
       "      <td>1</td>\n",
       "      <td>1</td>\n",
       "      <td>2</td>\n",
       "      <td>1</td>\n",
       "      <td>13</td>\n",
       "      <td>7</td>\n",
       "      <td>7</td>\n",
       "      <td>1</td>\n",
       "      <td>...</td>\n",
       "      <td>1223</td>\n",
       "      <td>1</td>\n",
       "      <td>299,735235</td>\n",
       "      <td>1</td>\n",
       "      <td>2</td>\n",
       "      <td>4</td>\n",
       "      <td>1</td>\n",
       "      <td>1</td>\n",
       "      <td>1</td>\n",
       "      <td>296</td>\n",
       "    </tr>\n",
       "    <tr>\n",
       "      <th>1</th>\n",
       "      <td>2015</td>\n",
       "      <td>76</td>\n",
       "      <td>1</td>\n",
       "      <td>1</td>\n",
       "      <td>2</td>\n",
       "      <td>1</td>\n",
       "      <td>14</td>\n",
       "      <td>4</td>\n",
       "      <td>7</td>\n",
       "      <td>1</td>\n",
       "      <td>...</td>\n",
       "      <td>1223</td>\n",
       "      <td>1</td>\n",
       "      <td>355,170081</td>\n",
       "      <td>1</td>\n",
       "      <td>2</td>\n",
       "      <td>4</td>\n",
       "      <td>1</td>\n",
       "      <td>2</td>\n",
       "      <td>1</td>\n",
       "      <td>296</td>\n",
       "    </tr>\n",
       "    <tr>\n",
       "      <th>2</th>\n",
       "      <td>2015</td>\n",
       "      <td>76</td>\n",
       "      <td>1</td>\n",
       "      <td>1</td>\n",
       "      <td>1</td>\n",
       "      <td>4</td>\n",
       "      <td>13</td>\n",
       "      <td>6</td>\n",
       "      <td>7</td>\n",
       "      <td>1</td>\n",
       "      <td>...</td>\n",
       "      <td>1223</td>\n",
       "      <td>1</td>\n",
       "      <td>299,735235</td>\n",
       "      <td>1</td>\n",
       "      <td>2</td>\n",
       "      <td>4</td>\n",
       "      <td>1</td>\n",
       "      <td>3</td>\n",
       "      <td>1</td>\n",
       "      <td>296</td>\n",
       "    </tr>\n",
       "    <tr>\n",
       "      <th>3</th>\n",
       "      <td>2015</td>\n",
       "      <td>76</td>\n",
       "      <td>1</td>\n",
       "      <td>1</td>\n",
       "      <td>1</td>\n",
       "      <td>1</td>\n",
       "      <td>14</td>\n",
       "      <td>6</td>\n",
       "      <td>7</td>\n",
       "      <td>1</td>\n",
       "      <td>...</td>\n",
       "      <td>1223</td>\n",
       "      <td>1</td>\n",
       "      <td>355,170081</td>\n",
       "      <td>1</td>\n",
       "      <td>2</td>\n",
       "      <td>4</td>\n",
       "      <td>1</td>\n",
       "      <td>4</td>\n",
       "      <td>1</td>\n",
       "      <td>296</td>\n",
       "    </tr>\n",
       "    <tr>\n",
       "      <th>4</th>\n",
       "      <td>2015</td>\n",
       "      <td>76</td>\n",
       "      <td>1</td>\n",
       "      <td>1</td>\n",
       "      <td>1</td>\n",
       "      <td>1</td>\n",
       "      <td>13</td>\n",
       "      <td>9</td>\n",
       "      <td>7</td>\n",
       "      <td>1</td>\n",
       "      <td>...</td>\n",
       "      <td>1223</td>\n",
       "      <td>1</td>\n",
       "      <td>299,735235</td>\n",
       "      <td>1</td>\n",
       "      <td>2</td>\n",
       "      <td>4</td>\n",
       "      <td>1</td>\n",
       "      <td>5</td>\n",
       "      <td>1</td>\n",
       "      <td>296</td>\n",
       "    </tr>\n",
       "  </tbody>\n",
       "</table>\n",
       "<p>5 rows × 181 columns</p>\n",
       "</div>"
      ],
      "text/plain": [
       "   ANOPESQ  PAIS  REGEOGR  VB00004  VB01001  VB01002  VB01003  VB01004  \\\n",
       "0     2015    76        1        1        2        1       13        7   \n",
       "1     2015    76        1        1        2        1       14        4   \n",
       "2     2015    76        1        1        1        4       13        6   \n",
       "3     2015    76        1        1        1        1       14        6   \n",
       "4     2015    76        1        1        1        1       13        9   \n",
       "\n",
       "   VB01005  VB01006  ...  ESTRATO_EXP  ESTRATOGEOREG        PESO  V0006  \\\n",
       "0        7        1  ...         1223              1  299,735235      1   \n",
       "1        7        1  ...         1223              1  355,170081      1   \n",
       "2        7        1  ...         1223              1  299,735235      1   \n",
       "3        7        1  ...         1223              1  355,170081      1   \n",
       "4        7        1  ...         1223              1  299,735235      1   \n",
       "\n",
       "   V0007  V0008  V0041  aluno  escola  turma  \n",
       "0      2      4      1      1       1    296  \n",
       "1      2      4      1      2       1    296  \n",
       "2      2      4      1      3       1    296  \n",
       "3      2      4      1      4       1    296  \n",
       "4      2      4      1      5       1    296  \n",
       "\n",
       "[5 rows x 181 columns]"
      ]
     },
     "execution_count": 6,
     "metadata": {},
     "output_type": "execute_result"
    }
   ],
   "source": [
    "pense_2015.head()"
   ]
  },
  {
   "cell_type": "code",
   "execution_count": 7,
   "metadata": {},
   "outputs": [
    {
     "data": {
      "text/plain": [
       "(16556, 181)"
      ]
     },
     "execution_count": 7,
     "metadata": {},
     "output_type": "execute_result"
    }
   ],
   "source": [
    "pense_2015.shape"
   ]
  },
  {
   "cell_type": "code",
   "execution_count": 8,
   "metadata": {},
   "outputs": [
    {
     "data": {
      "text/plain": [
       "Index(['ANOPESQ', 'PAIS', 'REGEOGR', 'VB00004', 'VB01001', 'VB01002',\n",
       "       'VB01003', 'VB01004', 'VB01005', 'VB01006',\n",
       "       ...\n",
       "       'ESTRATO_EXP', 'ESTRATOGEOREG', 'PESO', 'V0006', 'V0007', 'V0008',\n",
       "       'V0041', 'aluno', 'escola', 'turma'],\n",
       "      dtype='object', length=181)"
      ]
     },
     "execution_count": 8,
     "metadata": {},
     "output_type": "execute_result"
    }
   ],
   "source": [
    "pense_2015.columns"
   ]
  },
  {
   "cell_type": "code",
   "execution_count": 9,
   "metadata": {},
   "outputs": [
    {
     "name": "stdout",
     "output_type": "stream",
     "text": [
      "<class 'pandas.core.frame.DataFrame'>\n",
      "RangeIndex: 16556 entries, 0 to 16555\n",
      "Columns: 181 entries, ANOPESQ to turma\n",
      "dtypes: float64(7), int64(171), object(3)\n",
      "memory usage: 22.9+ MB\n"
     ]
    }
   ],
   "source": [
    "pense_2015.info()"
   ]
  },
  {
   "cell_type": "code",
   "execution_count": 10,
   "metadata": {},
   "outputs": [
    {
     "data": {
      "text/html": [
       "<div>\n",
       "<style scoped>\n",
       "    .dataframe tbody tr th:only-of-type {\n",
       "        vertical-align: middle;\n",
       "    }\n",
       "\n",
       "    .dataframe tbody tr th {\n",
       "        vertical-align: top;\n",
       "    }\n",
       "\n",
       "    .dataframe thead th {\n",
       "        text-align: right;\n",
       "    }\n",
       "</style>\n",
       "<table border=\"1\" class=\"dataframe\">\n",
       "  <thead>\n",
       "    <tr style=\"text-align: right;\">\n",
       "      <th></th>\n",
       "      <th>VB17003</th>\n",
       "      <th>VB17004</th>\n",
       "      <th>PESO</th>\n",
       "    </tr>\n",
       "  </thead>\n",
       "  <tbody>\n",
       "    <tr>\n",
       "      <th>0</th>\n",
       "      <td>37,1</td>\n",
       "      <td>157</td>\n",
       "      <td>299,735235</td>\n",
       "    </tr>\n",
       "    <tr>\n",
       "      <th>1</th>\n",
       "      <td>50,2</td>\n",
       "      <td>152</td>\n",
       "      <td>355,170081</td>\n",
       "    </tr>\n",
       "    <tr>\n",
       "      <th>2</th>\n",
       "      <td>48,2</td>\n",
       "      <td>161,4</td>\n",
       "      <td>299,735235</td>\n",
       "    </tr>\n",
       "    <tr>\n",
       "      <th>3</th>\n",
       "      <td>69,4</td>\n",
       "      <td>172,5</td>\n",
       "      <td>355,170081</td>\n",
       "    </tr>\n",
       "    <tr>\n",
       "      <th>4</th>\n",
       "      <td>78,9</td>\n",
       "      <td>167,5</td>\n",
       "      <td>299,735235</td>\n",
       "    </tr>\n",
       "    <tr>\n",
       "      <th>...</th>\n",
       "      <td>...</td>\n",
       "      <td>...</td>\n",
       "      <td>...</td>\n",
       "    </tr>\n",
       "    <tr>\n",
       "      <th>16551</th>\n",
       "      <td>56,7</td>\n",
       "      <td>167,9</td>\n",
       "      <td>447,815539</td>\n",
       "    </tr>\n",
       "    <tr>\n",
       "      <th>16552</th>\n",
       "      <td>61,9</td>\n",
       "      <td>185,8</td>\n",
       "      <td>592,50744</td>\n",
       "    </tr>\n",
       "    <tr>\n",
       "      <th>16553</th>\n",
       "      <td>60,9</td>\n",
       "      <td>159,4</td>\n",
       "      <td>401,131512</td>\n",
       "    </tr>\n",
       "    <tr>\n",
       "      <th>16554</th>\n",
       "      <td>47,3</td>\n",
       "      <td>157,8</td>\n",
       "      <td>442,718091</td>\n",
       "    </tr>\n",
       "    <tr>\n",
       "      <th>16555</th>\n",
       "      <td>62,6</td>\n",
       "      <td>163,9</td>\n",
       "      <td>592,50744</td>\n",
       "    </tr>\n",
       "  </tbody>\n",
       "</table>\n",
       "<p>16556 rows × 3 columns</p>\n",
       "</div>"
      ],
      "text/plain": [
       "      VB17003 VB17004        PESO\n",
       "0        37,1     157  299,735235\n",
       "1        50,2     152  355,170081\n",
       "2        48,2   161,4  299,735235\n",
       "3        69,4   172,5  355,170081\n",
       "4        78,9   167,5  299,735235\n",
       "...       ...     ...         ...\n",
       "16551    56,7   167,9  447,815539\n",
       "16552    61,9   185,8   592,50744\n",
       "16553    60,9   159,4  401,131512\n",
       "16554    47,3   157,8  442,718091\n",
       "16555    62,6   163,9   592,50744\n",
       "\n",
       "[16556 rows x 3 columns]"
      ]
     },
     "execution_count": 10,
     "metadata": {},
     "output_type": "execute_result"
    }
   ],
   "source": [
    "pense_2015.select_dtypes(include='object')"
   ]
  },
  {
   "cell_type": "code",
   "execution_count": 11,
   "metadata": {},
   "outputs": [
    {
     "data": {
      "text/html": [
       "<div>\n",
       "<style scoped>\n",
       "    .dataframe tbody tr th:only-of-type {\n",
       "        vertical-align: middle;\n",
       "    }\n",
       "\n",
       "    .dataframe tbody tr th {\n",
       "        vertical-align: top;\n",
       "    }\n",
       "\n",
       "    .dataframe thead th {\n",
       "        text-align: right;\n",
       "    }\n",
       "</style>\n",
       "<table border=\"1\" class=\"dataframe\">\n",
       "  <thead>\n",
       "    <tr style=\"text-align: right;\">\n",
       "      <th></th>\n",
       "      <th>ANOPESQ</th>\n",
       "      <th>PAIS</th>\n",
       "      <th>REGEOGR</th>\n",
       "      <th>VB00004</th>\n",
       "      <th>VB01001</th>\n",
       "      <th>VB01002</th>\n",
       "      <th>VB01003</th>\n",
       "      <th>VB01004</th>\n",
       "      <th>VB01005</th>\n",
       "      <th>VB01006</th>\n",
       "      <th>...</th>\n",
       "      <th>ESTRATO_EXP</th>\n",
       "      <th>ESTRATOGEOREG</th>\n",
       "      <th>PESO</th>\n",
       "      <th>V0006</th>\n",
       "      <th>V0007</th>\n",
       "      <th>V0008</th>\n",
       "      <th>V0041</th>\n",
       "      <th>aluno</th>\n",
       "      <th>escola</th>\n",
       "      <th>turma</th>\n",
       "    </tr>\n",
       "  </thead>\n",
       "  <tbody>\n",
       "    <tr>\n",
       "      <th>0</th>\n",
       "      <td>2015</td>\n",
       "      <td>76</td>\n",
       "      <td>1</td>\n",
       "      <td>1</td>\n",
       "      <td>2</td>\n",
       "      <td>1</td>\n",
       "      <td>13</td>\n",
       "      <td>7</td>\n",
       "      <td>7</td>\n",
       "      <td>1</td>\n",
       "      <td>...</td>\n",
       "      <td>1223</td>\n",
       "      <td>1</td>\n",
       "      <td>299.735235</td>\n",
       "      <td>1</td>\n",
       "      <td>2</td>\n",
       "      <td>4</td>\n",
       "      <td>1</td>\n",
       "      <td>1</td>\n",
       "      <td>1</td>\n",
       "      <td>296</td>\n",
       "    </tr>\n",
       "    <tr>\n",
       "      <th>1</th>\n",
       "      <td>2015</td>\n",
       "      <td>76</td>\n",
       "      <td>1</td>\n",
       "      <td>1</td>\n",
       "      <td>2</td>\n",
       "      <td>1</td>\n",
       "      <td>14</td>\n",
       "      <td>4</td>\n",
       "      <td>7</td>\n",
       "      <td>1</td>\n",
       "      <td>...</td>\n",
       "      <td>1223</td>\n",
       "      <td>1</td>\n",
       "      <td>355.170081</td>\n",
       "      <td>1</td>\n",
       "      <td>2</td>\n",
       "      <td>4</td>\n",
       "      <td>1</td>\n",
       "      <td>2</td>\n",
       "      <td>1</td>\n",
       "      <td>296</td>\n",
       "    </tr>\n",
       "    <tr>\n",
       "      <th>2</th>\n",
       "      <td>2015</td>\n",
       "      <td>76</td>\n",
       "      <td>1</td>\n",
       "      <td>1</td>\n",
       "      <td>1</td>\n",
       "      <td>4</td>\n",
       "      <td>13</td>\n",
       "      <td>6</td>\n",
       "      <td>7</td>\n",
       "      <td>1</td>\n",
       "      <td>...</td>\n",
       "      <td>1223</td>\n",
       "      <td>1</td>\n",
       "      <td>299.735235</td>\n",
       "      <td>1</td>\n",
       "      <td>2</td>\n",
       "      <td>4</td>\n",
       "      <td>1</td>\n",
       "      <td>3</td>\n",
       "      <td>1</td>\n",
       "      <td>296</td>\n",
       "    </tr>\n",
       "    <tr>\n",
       "      <th>3</th>\n",
       "      <td>2015</td>\n",
       "      <td>76</td>\n",
       "      <td>1</td>\n",
       "      <td>1</td>\n",
       "      <td>1</td>\n",
       "      <td>1</td>\n",
       "      <td>14</td>\n",
       "      <td>6</td>\n",
       "      <td>7</td>\n",
       "      <td>1</td>\n",
       "      <td>...</td>\n",
       "      <td>1223</td>\n",
       "      <td>1</td>\n",
       "      <td>355.170081</td>\n",
       "      <td>1</td>\n",
       "      <td>2</td>\n",
       "      <td>4</td>\n",
       "      <td>1</td>\n",
       "      <td>4</td>\n",
       "      <td>1</td>\n",
       "      <td>296</td>\n",
       "    </tr>\n",
       "    <tr>\n",
       "      <th>4</th>\n",
       "      <td>2015</td>\n",
       "      <td>76</td>\n",
       "      <td>1</td>\n",
       "      <td>1</td>\n",
       "      <td>1</td>\n",
       "      <td>1</td>\n",
       "      <td>13</td>\n",
       "      <td>9</td>\n",
       "      <td>7</td>\n",
       "      <td>1</td>\n",
       "      <td>...</td>\n",
       "      <td>1223</td>\n",
       "      <td>1</td>\n",
       "      <td>299.735235</td>\n",
       "      <td>1</td>\n",
       "      <td>2</td>\n",
       "      <td>4</td>\n",
       "      <td>1</td>\n",
       "      <td>5</td>\n",
       "      <td>1</td>\n",
       "      <td>296</td>\n",
       "    </tr>\n",
       "  </tbody>\n",
       "</table>\n",
       "<p>5 rows × 181 columns</p>\n",
       "</div>"
      ],
      "text/plain": [
       "   ANOPESQ  PAIS  REGEOGR  VB00004  VB01001  VB01002  VB01003  VB01004  \\\n",
       "0     2015    76        1        1        2        1       13        7   \n",
       "1     2015    76        1        1        2        1       14        4   \n",
       "2     2015    76        1        1        1        4       13        6   \n",
       "3     2015    76        1        1        1        1       14        6   \n",
       "4     2015    76        1        1        1        1       13        9   \n",
       "\n",
       "   VB01005  VB01006  ...  ESTRATO_EXP  ESTRATOGEOREG        PESO  V0006  \\\n",
       "0        7        1  ...         1223              1  299.735235      1   \n",
       "1        7        1  ...         1223              1  355.170081      1   \n",
       "2        7        1  ...         1223              1  299.735235      1   \n",
       "3        7        1  ...         1223              1  355.170081      1   \n",
       "4        7        1  ...         1223              1  299.735235      1   \n",
       "\n",
       "   V0007  V0008  V0041  aluno  escola  turma  \n",
       "0      2      4      1      1       1    296  \n",
       "1      2      4      1      2       1    296  \n",
       "2      2      4      1      3       1    296  \n",
       "3      2      4      1      4       1    296  \n",
       "4      2      4      1      5       1    296  \n",
       "\n",
       "[5 rows x 181 columns]"
      ]
     },
     "execution_count": 11,
     "metadata": {},
     "output_type": "execute_result"
    }
   ],
   "source": [
    "pense_2015 = pd.read_csv(zip_.open(file), \n",
    "                         sep=';', thousands='.',\n",
    "                         decimal=',')\n",
    "\n",
    "pense_2015.head()"
   ]
  },
  {
   "cell_type": "code",
   "execution_count": 12,
   "metadata": {},
   "outputs": [
    {
     "name": "stdout",
     "output_type": "stream",
     "text": [
      "<class 'pandas.core.frame.DataFrame'>\n",
      "RangeIndex: 16556 entries, 0 to 16555\n",
      "Columns: 181 entries, ANOPESQ to turma\n",
      "dtypes: float64(10), int64(171)\n",
      "memory usage: 22.9 MB\n"
     ]
    }
   ],
   "source": [
    "pense_2015.info()"
   ]
  },
  {
   "cell_type": "code",
   "execution_count": 13,
   "metadata": {},
   "outputs": [
    {
     "data": {
      "text/html": [
       "<div>\n",
       "<style scoped>\n",
       "    .dataframe tbody tr th:only-of-type {\n",
       "        vertical-align: middle;\n",
       "    }\n",
       "\n",
       "    .dataframe tbody tr th {\n",
       "        vertical-align: top;\n",
       "    }\n",
       "\n",
       "    .dataframe thead th {\n",
       "        text-align: right;\n",
       "    }\n",
       "</style>\n",
       "<table border=\"1\" class=\"dataframe\">\n",
       "  <thead>\n",
       "    <tr style=\"text-align: right;\">\n",
       "      <th></th>\n",
       "      <th>TEMPODESLOC</th>\n",
       "      <th>TEMPOTOTAL</th>\n",
       "      <th>TEMPOEDFIS</th>\n",
       "      <th>TEMPOEXTRA</th>\n",
       "      <th>TEMPOEST</th>\n",
       "      <th>VB17001</th>\n",
       "      <th>VB17002</th>\n",
       "      <th>VB17003</th>\n",
       "      <th>VB17004</th>\n",
       "      <th>PESO</th>\n",
       "    </tr>\n",
       "  </thead>\n",
       "  <tbody>\n",
       "    <tr>\n",
       "      <th>0</th>\n",
       "      <td>0.0</td>\n",
       "      <td>15.0</td>\n",
       "      <td>0.0</td>\n",
       "      <td>15.0</td>\n",
       "      <td>60.0</td>\n",
       "      <td>371.0</td>\n",
       "      <td>1570.0</td>\n",
       "      <td>37.1</td>\n",
       "      <td>157.0</td>\n",
       "      <td>299.735235</td>\n",
       "    </tr>\n",
       "    <tr>\n",
       "      <th>1</th>\n",
       "      <td>120.0</td>\n",
       "      <td>510.0</td>\n",
       "      <td>260.0</td>\n",
       "      <td>130.0</td>\n",
       "      <td>300.0</td>\n",
       "      <td>502.0</td>\n",
       "      <td>1520.0</td>\n",
       "      <td>50.2</td>\n",
       "      <td>152.0</td>\n",
       "      <td>355.170081</td>\n",
       "    </tr>\n",
       "    <tr>\n",
       "      <th>2</th>\n",
       "      <td>0.0</td>\n",
       "      <td>585.0</td>\n",
       "      <td>130.0</td>\n",
       "      <td>455.0</td>\n",
       "      <td>420.0</td>\n",
       "      <td>482.0</td>\n",
       "      <td>1614.0</td>\n",
       "      <td>48.2</td>\n",
       "      <td>161.4</td>\n",
       "      <td>299.735235</td>\n",
       "    </tr>\n",
       "    <tr>\n",
       "      <th>3</th>\n",
       "      <td>0.0</td>\n",
       "      <td>0.0</td>\n",
       "      <td>0.0</td>\n",
       "      <td>0.0</td>\n",
       "      <td>0.0</td>\n",
       "      <td>694.0</td>\n",
       "      <td>1725.0</td>\n",
       "      <td>69.4</td>\n",
       "      <td>172.5</td>\n",
       "      <td>355.170081</td>\n",
       "    </tr>\n",
       "    <tr>\n",
       "      <th>4</th>\n",
       "      <td>30.0</td>\n",
       "      <td>165.0</td>\n",
       "      <td>90.0</td>\n",
       "      <td>45.0</td>\n",
       "      <td>60.0</td>\n",
       "      <td>789.0</td>\n",
       "      <td>1675.0</td>\n",
       "      <td>78.9</td>\n",
       "      <td>167.5</td>\n",
       "      <td>299.735235</td>\n",
       "    </tr>\n",
       "    <tr>\n",
       "      <th>...</th>\n",
       "      <td>...</td>\n",
       "      <td>...</td>\n",
       "      <td>...</td>\n",
       "      <td>...</td>\n",
       "      <td>...</td>\n",
       "      <td>...</td>\n",
       "      <td>...</td>\n",
       "      <td>...</td>\n",
       "      <td>...</td>\n",
       "      <td>...</td>\n",
       "    </tr>\n",
       "    <tr>\n",
       "      <th>16551</th>\n",
       "      <td>30.0</td>\n",
       "      <td>400.0</td>\n",
       "      <td>110.0</td>\n",
       "      <td>260.0</td>\n",
       "      <td>240.0</td>\n",
       "      <td>567.0</td>\n",
       "      <td>1679.0</td>\n",
       "      <td>56.7</td>\n",
       "      <td>167.9</td>\n",
       "      <td>447.815539</td>\n",
       "    </tr>\n",
       "    <tr>\n",
       "      <th>16552</th>\n",
       "      <td>20.0</td>\n",
       "      <td>800.0</td>\n",
       "      <td>325.0</td>\n",
       "      <td>455.0</td>\n",
       "      <td>240.0</td>\n",
       "      <td>619.0</td>\n",
       "      <td>1858.0</td>\n",
       "      <td>61.9</td>\n",
       "      <td>185.8</td>\n",
       "      <td>592.507440</td>\n",
       "    </tr>\n",
       "    <tr>\n",
       "      <th>16553</th>\n",
       "      <td>0.0</td>\n",
       "      <td>0.0</td>\n",
       "      <td>0.0</td>\n",
       "      <td>0.0</td>\n",
       "      <td>60.0</td>\n",
       "      <td>609.0</td>\n",
       "      <td>1594.0</td>\n",
       "      <td>60.9</td>\n",
       "      <td>159.4</td>\n",
       "      <td>401.131512</td>\n",
       "    </tr>\n",
       "    <tr>\n",
       "      <th>16554</th>\n",
       "      <td>75.0</td>\n",
       "      <td>215.0</td>\n",
       "      <td>35.0</td>\n",
       "      <td>105.0</td>\n",
       "      <td>120.0</td>\n",
       "      <td>473.0</td>\n",
       "      <td>1578.0</td>\n",
       "      <td>47.3</td>\n",
       "      <td>157.8</td>\n",
       "      <td>442.718091</td>\n",
       "    </tr>\n",
       "    <tr>\n",
       "      <th>16555</th>\n",
       "      <td>50.0</td>\n",
       "      <td>485.0</td>\n",
       "      <td>110.0</td>\n",
       "      <td>325.0</td>\n",
       "      <td>360.0</td>\n",
       "      <td>626.0</td>\n",
       "      <td>1639.0</td>\n",
       "      <td>62.6</td>\n",
       "      <td>163.9</td>\n",
       "      <td>592.507440</td>\n",
       "    </tr>\n",
       "  </tbody>\n",
       "</table>\n",
       "<p>16556 rows × 10 columns</p>\n",
       "</div>"
      ],
      "text/plain": [
       "       TEMPODESLOC  TEMPOTOTAL  TEMPOEDFIS  TEMPOEXTRA  TEMPOEST  VB17001  \\\n",
       "0              0.0        15.0         0.0        15.0      60.0    371.0   \n",
       "1            120.0       510.0       260.0       130.0     300.0    502.0   \n",
       "2              0.0       585.0       130.0       455.0     420.0    482.0   \n",
       "3              0.0         0.0         0.0         0.0       0.0    694.0   \n",
       "4             30.0       165.0        90.0        45.0      60.0    789.0   \n",
       "...            ...         ...         ...         ...       ...      ...   \n",
       "16551         30.0       400.0       110.0       260.0     240.0    567.0   \n",
       "16552         20.0       800.0       325.0       455.0     240.0    619.0   \n",
       "16553          0.0         0.0         0.0         0.0      60.0    609.0   \n",
       "16554         75.0       215.0        35.0       105.0     120.0    473.0   \n",
       "16555         50.0       485.0       110.0       325.0     360.0    626.0   \n",
       "\n",
       "       VB17002  VB17003  VB17004        PESO  \n",
       "0       1570.0     37.1    157.0  299.735235  \n",
       "1       1520.0     50.2    152.0  355.170081  \n",
       "2       1614.0     48.2    161.4  299.735235  \n",
       "3       1725.0     69.4    172.5  355.170081  \n",
       "4       1675.0     78.9    167.5  299.735235  \n",
       "...        ...      ...      ...         ...  \n",
       "16551   1679.0     56.7    167.9  447.815539  \n",
       "16552   1858.0     61.9    185.8  592.507440  \n",
       "16553   1594.0     60.9    159.4  401.131512  \n",
       "16554   1578.0     47.3    157.8  442.718091  \n",
       "16555   1639.0     62.6    163.9  592.507440  \n",
       "\n",
       "[16556 rows x 10 columns]"
      ]
     },
     "execution_count": 13,
     "metadata": {},
     "output_type": "execute_result"
    }
   ],
   "source": [
    "pense_2015.select_dtypes(include='float64')"
   ]
  },
  {
   "cell_type": "markdown",
   "metadata": {},
   "source": [
    "**Challenge 03: Classify the variables into qualitative (nominal and ordinal) and quantitative (discrete and continuous).**"
   ]
  },
  {
   "cell_type": "markdown",
   "metadata": {},
   "source": [
    "### Challenge 01: Unzip the zipped folder using linux commands (bash)\n",
    "\n",
    "from command line:\n",
    "\n",
    "`sudo apt-get install unzip` (I already have this installed)\n",
    "\n",
    "Then,\n",
    "`unzip file.zip -d destination_folder`\n",
    "\n",
    "if you are in the path (destination directory) <br>\n",
    "`unzip file.zip`"
   ]
  },
  {
   "cell_type": "markdown",
   "metadata": {},
   "source": [
    "### Challenge 02: Study pense dataset"
   ]
  },
  {
   "cell_type": "code",
   "execution_count": 14,
   "metadata": {},
   "outputs": [
    {
     "data": {
      "text/html": [
       "<div>\n",
       "<style scoped>\n",
       "    .dataframe tbody tr th:only-of-type {\n",
       "        vertical-align: middle;\n",
       "    }\n",
       "\n",
       "    .dataframe tbody tr th {\n",
       "        vertical-align: top;\n",
       "    }\n",
       "\n",
       "    .dataframe thead th {\n",
       "        text-align: right;\n",
       "    }\n",
       "</style>\n",
       "<table border=\"1\" class=\"dataframe\">\n",
       "  <thead>\n",
       "    <tr style=\"text-align: right;\">\n",
       "      <th></th>\n",
       "      <th>VARIÁVEL</th>\n",
       "      <th>QUESTIONÁRIO DO ALUNO</th>\n",
       "    </tr>\n",
       "  </thead>\n",
       "  <tbody>\n",
       "    <tr>\n",
       "      <th>0</th>\n",
       "      <td>ANOPESQ</td>\n",
       "      <td>Ano em que a pesquisa foi realizada</td>\n",
       "    </tr>\n",
       "    <tr>\n",
       "      <th>1</th>\n",
       "      <td>PAIS</td>\n",
       "      <td>País</td>\n",
       "    </tr>\n",
       "    <tr>\n",
       "      <th>2</th>\n",
       "      <td>76</td>\n",
       "      <td>Brasil</td>\n",
       "    </tr>\n",
       "    <tr>\n",
       "      <th>3</th>\n",
       "      <td>REGEOGR</td>\n",
       "      <td>Região geográfica</td>\n",
       "    </tr>\n",
       "    <tr>\n",
       "      <th>4</th>\n",
       "      <td>1</td>\n",
       "      <td>Norte</td>\n",
       "    </tr>\n",
       "  </tbody>\n",
       "</table>\n",
       "</div>"
      ],
      "text/plain": [
       "  VARIÁVEL                QUESTIONÁRIO DO ALUNO\n",
       "0  ANOPESQ  Ano em que a pesquisa foi realizada\n",
       "1     PAIS                                 País\n",
       "2       76                               Brasil\n",
       "3  REGEOGR                    Região geográfica\n",
       "4        1                                Norte"
      ]
     },
     "execution_count": 14,
     "metadata": {},
     "output_type": "execute_result"
    }
   ],
   "source": [
    "dictionary = '/home/gabriela/Data Science/bootcamp-alura/module3/dataset/Dicionario_PENSE_Microdados_AMOSTRA2.xls'\n",
    "\n",
    "dictionary_pense_student = pd.read_excel(dictionary,\n",
    "                                         sheet_name='AMOSTRA2_ALUNO')\n",
    "\n",
    "dictionary_pense_school = pd.read_excel(dictionary,\n",
    "                                        sheet_name='AMOSTRA2_ESCOLA')\n",
    "\n",
    "dictionary_pense_student.head()"
   ]
  },
  {
   "cell_type": "markdown",
   "metadata": {},
   "source": [
    "**search about 'UnsupportedOperation: seek zip' error.**"
   ]
  },
  {
   "cell_type": "markdown",
   "metadata": {},
   "source": [
    "### Challenge 03: Classify the variables into qualitative (nominal and ordinal) and quantitative (discrete and continuous)"
   ]
  },
  {
   "cell_type": "code",
   "execution_count": 15,
   "metadata": {},
   "outputs": [
    {
     "data": {
      "text/html": [
       "<div>\n",
       "<style scoped>\n",
       "    .dataframe tbody tr th:only-of-type {\n",
       "        vertical-align: middle;\n",
       "    }\n",
       "\n",
       "    .dataframe tbody tr th {\n",
       "        vertical-align: top;\n",
       "    }\n",
       "\n",
       "    .dataframe thead th {\n",
       "        text-align: right;\n",
       "    }\n",
       "</style>\n",
       "<table border=\"1\" class=\"dataframe\">\n",
       "  <thead>\n",
       "    <tr style=\"text-align: right;\">\n",
       "      <th></th>\n",
       "      <th>VARIÁVEL</th>\n",
       "      <th>QUESTIONÁRIO DO ALUNO</th>\n",
       "    </tr>\n",
       "  </thead>\n",
       "  <tbody>\n",
       "    <tr>\n",
       "      <th>1183</th>\n",
       "      <td>998</td>\n",
       "      <td>Não informado</td>\n",
       "    </tr>\n",
       "    <tr>\n",
       "      <th>1184</th>\n",
       "      <td>9999</td>\n",
       "      <td>Recusa ou impossibilidade de medição</td>\n",
       "    </tr>\n",
       "    <tr>\n",
       "      <th>1185</th>\n",
       "      <td>VB17003</td>\n",
       "      <td>Peso do estudante, incluindo os imputados, com...</td>\n",
       "    </tr>\n",
       "    <tr>\n",
       "      <th>1186</th>\n",
       "      <td>VB17004</td>\n",
       "      <td>Altura do estudante, incluindo os imputados, c...</td>\n",
       "    </tr>\n",
       "    <tr>\n",
       "      <th>1187</th>\n",
       "      <td>VB17005</td>\n",
       "      <td>Variável identificadora se houve imputação no ...</td>\n",
       "    </tr>\n",
       "    <tr>\n",
       "      <th>1188</th>\n",
       "      <td>1</td>\n",
       "      <td>Sim</td>\n",
       "    </tr>\n",
       "    <tr>\n",
       "      <th>1189</th>\n",
       "      <td>2</td>\n",
       "      <td>Não</td>\n",
       "    </tr>\n",
       "    <tr>\n",
       "      <th>1190</th>\n",
       "      <td>VB17006</td>\n",
       "      <td>Variável identificadora do estado nutricional ...</td>\n",
       "    </tr>\n",
       "    <tr>\n",
       "      <th>1191</th>\n",
       "      <td>1</td>\n",
       "      <td>Deficit de peso</td>\n",
       "    </tr>\n",
       "    <tr>\n",
       "      <th>1192</th>\n",
       "      <td>2</td>\n",
       "      <td>Eutrofia</td>\n",
       "    </tr>\n",
       "    <tr>\n",
       "      <th>1193</th>\n",
       "      <td>3</td>\n",
       "      <td>Sobrepeso</td>\n",
       "    </tr>\n",
       "    <tr>\n",
       "      <th>1194</th>\n",
       "      <td>4</td>\n",
       "      <td>Obesidade</td>\n",
       "    </tr>\n",
       "    <tr>\n",
       "      <th>1195</th>\n",
       "      <td>ESTRATOGEOREG</td>\n",
       "      <td>Indicador de estrato georeg</td>\n",
       "    </tr>\n",
       "    <tr>\n",
       "      <th>1196</th>\n",
       "      <td>ESTRATO_EXP</td>\n",
       "      <td>Expressão do estrato</td>\n",
       "    </tr>\n",
       "    <tr>\n",
       "      <th>1197</th>\n",
       "      <td>PESO</td>\n",
       "      <td>Peso do aluno de acordo com a amostra, utiliza...</td>\n",
       "    </tr>\n",
       "    <tr>\n",
       "      <th>1198</th>\n",
       "      <td>V0006</td>\n",
       "      <td>Situação da escola</td>\n",
       "    </tr>\n",
       "    <tr>\n",
       "      <th>1199</th>\n",
       "      <td>1</td>\n",
       "      <td>Urbana</td>\n",
       "    </tr>\n",
       "    <tr>\n",
       "      <th>1200</th>\n",
       "      <td>2</td>\n",
       "      <td>Rural</td>\n",
       "    </tr>\n",
       "    <tr>\n",
       "      <th>1201</th>\n",
       "      <td>V0007</td>\n",
       "      <td>Dependência Administrativa da escola</td>\n",
       "    </tr>\n",
       "    <tr>\n",
       "      <th>1202</th>\n",
       "      <td>1</td>\n",
       "      <td>Pública</td>\n",
       "    </tr>\n",
       "    <tr>\n",
       "      <th>1203</th>\n",
       "      <td>2</td>\n",
       "      <td>Privada</td>\n",
       "    </tr>\n",
       "    <tr>\n",
       "      <th>1204</th>\n",
       "      <td>V0008</td>\n",
       "      <td>Esfera Administrativa da escola</td>\n",
       "    </tr>\n",
       "    <tr>\n",
       "      <th>1205</th>\n",
       "      <td>1</td>\n",
       "      <td>Municipal</td>\n",
       "    </tr>\n",
       "    <tr>\n",
       "      <th>1206</th>\n",
       "      <td>2</td>\n",
       "      <td>Estadual</td>\n",
       "    </tr>\n",
       "    <tr>\n",
       "      <th>1207</th>\n",
       "      <td>3</td>\n",
       "      <td>Federal</td>\n",
       "    </tr>\n",
       "    <tr>\n",
       "      <th>1208</th>\n",
       "      <td>4</td>\n",
       "      <td>Privada</td>\n",
       "    </tr>\n",
       "    <tr>\n",
       "      <th>1209</th>\n",
       "      <td>V0041</td>\n",
       "      <td>Tipo de escola privada</td>\n",
       "    </tr>\n",
       "    <tr>\n",
       "      <th>1210</th>\n",
       "      <td>-1</td>\n",
       "      <td>Pulo no questionário</td>\n",
       "    </tr>\n",
       "    <tr>\n",
       "      <th>1211</th>\n",
       "      <td>1</td>\n",
       "      <td>Particular</td>\n",
       "    </tr>\n",
       "    <tr>\n",
       "      <th>1212</th>\n",
       "      <td>2</td>\n",
       "      <td>Comunitária</td>\n",
       "    </tr>\n",
       "    <tr>\n",
       "      <th>1213</th>\n",
       "      <td>3</td>\n",
       "      <td>Confessional</td>\n",
       "    </tr>\n",
       "    <tr>\n",
       "      <th>1214</th>\n",
       "      <td>4</td>\n",
       "      <td>Filantrópica</td>\n",
       "    </tr>\n",
       "    <tr>\n",
       "      <th>1215</th>\n",
       "      <td>aluno</td>\n",
       "      <td>contador de aluno</td>\n",
       "    </tr>\n",
       "    <tr>\n",
       "      <th>1216</th>\n",
       "      <td>escola</td>\n",
       "      <td>UPA (unidade primária de amostragem)</td>\n",
       "    </tr>\n",
       "    <tr>\n",
       "      <th>1217</th>\n",
       "      <td>turma</td>\n",
       "      <td>USA (unidade secundária de amostragem)</td>\n",
       "    </tr>\n",
       "  </tbody>\n",
       "</table>\n",
       "</div>"
      ],
      "text/plain": [
       "           VARIÁVEL                              QUESTIONÁRIO DO ALUNO\n",
       "1183            998                                      Não informado\n",
       "1184           9999               Recusa ou impossibilidade de medição\n",
       "1185        VB17003  Peso do estudante, incluindo os imputados, com...\n",
       "1186        VB17004  Altura do estudante, incluindo os imputados, c...\n",
       "1187        VB17005  Variável identificadora se houve imputação no ...\n",
       "1188              1                                                Sim\n",
       "1189              2                                                Não\n",
       "1190        VB17006  Variável identificadora do estado nutricional ...\n",
       "1191              1                                    Deficit de peso\n",
       "1192              2                                           Eutrofia\n",
       "1193              3                                          Sobrepeso\n",
       "1194              4                                          Obesidade\n",
       "1195  ESTRATOGEOREG                        Indicador de estrato georeg\n",
       "1196    ESTRATO_EXP                               Expressão do estrato\n",
       "1197           PESO  Peso do aluno de acordo com a amostra, utiliza...\n",
       "1198          V0006                                 Situação da escola\n",
       "1199              1                                             Urbana\n",
       "1200              2                                              Rural\n",
       "1201          V0007               Dependência Administrativa da escola\n",
       "1202              1                                            Pública\n",
       "1203              2                                            Privada\n",
       "1204          V0008                    Esfera Administrativa da escola\n",
       "1205              1                                          Municipal\n",
       "1206              2                                           Estadual\n",
       "1207              3                                            Federal\n",
       "1208              4                                            Privada\n",
       "1209          V0041                             Tipo de escola privada\n",
       "1210             -1                               Pulo no questionário\n",
       "1211              1                                         Particular\n",
       "1212              2                                        Comunitária\n",
       "1213              3                                       Confessional\n",
       "1214              4                                       Filantrópica\n",
       "1215          aluno                                  contador de aluno\n",
       "1216         escola               UPA (unidade primária de amostragem)\n",
       "1217          turma             USA (unidade secundária de amostragem)"
      ]
     },
     "execution_count": 15,
     "metadata": {},
     "output_type": "execute_result"
    }
   ],
   "source": [
    "dictionary_pense_student.tail(35)"
   ]
  },
  {
   "cell_type": "markdown",
   "metadata": {},
   "source": [
    "- quantitative continuous: VB17003, VB17004\n",
    "\n",
    "\n",
    "- qualitative nominal: VB17005, V0006, V0007, V0008, V0041\n",
    "\n",
    "\n",
    "- qualitative ordinal: VB17006\n",
    "\n",
    "\n",
    "**Think about V0008.**"
   ]
  },
  {
   "cell_type": "markdown",
   "metadata": {},
   "source": [
    "# Lesson 2 - Qualitative data and Frequency tables\n",
    "\n",
    "---"
   ]
  },
  {
   "cell_type": "code",
   "execution_count": 16,
   "metadata": {},
   "outputs": [
    {
     "data": {
      "text/plain": [
       "1    8287\n",
       "2    8269\n",
       "Name: VB01001, dtype: int64"
      ]
     },
     "execution_count": 16,
     "metadata": {},
     "output_type": "execute_result"
    }
   ],
   "source": [
    "pense_2015['VB01001'].value_counts()"
   ]
  },
  {
   "cell_type": "code",
   "execution_count": 17,
   "metadata": {},
   "outputs": [
    {
     "data": {
      "text/html": [
       "<div>\n",
       "<style scoped>\n",
       "    .dataframe tbody tr th:only-of-type {\n",
       "        vertical-align: middle;\n",
       "    }\n",
       "\n",
       "    .dataframe tbody tr th {\n",
       "        vertical-align: top;\n",
       "    }\n",
       "\n",
       "    .dataframe thead th {\n",
       "        text-align: right;\n",
       "    }\n",
       "</style>\n",
       "<table border=\"1\" class=\"dataframe\">\n",
       "  <thead>\n",
       "    <tr style=\"text-align: right;\">\n",
       "      <th></th>\n",
       "      <th>VARIÁVEL</th>\n",
       "      <th>QUESTIONÁRIO DO ALUNO</th>\n",
       "    </tr>\n",
       "  </thead>\n",
       "  <tbody>\n",
       "    <tr>\n",
       "      <th>11</th>\n",
       "      <td>VB01001</td>\n",
       "      <td>Qual é o seu sexo?</td>\n",
       "    </tr>\n",
       "    <tr>\n",
       "      <th>12</th>\n",
       "      <td>1</td>\n",
       "      <td>Masculino</td>\n",
       "    </tr>\n",
       "    <tr>\n",
       "      <th>13</th>\n",
       "      <td>2</td>\n",
       "      <td>Feminino</td>\n",
       "    </tr>\n",
       "  </tbody>\n",
       "</table>\n",
       "</div>"
      ],
      "text/plain": [
       "   VARIÁVEL QUESTIONÁRIO DO ALUNO\n",
       "11  VB01001    Qual é o seu sexo?\n",
       "12        1             Masculino\n",
       "13        2              Feminino"
      ]
     },
     "execution_count": 17,
     "metadata": {},
     "output_type": "execute_result"
    }
   ],
   "source": [
    "index = dictionary_pense_student[dictionary_pense_student.VARIÁVEL == 'VB01001'] \\\n",
    "            .index[0]\n",
    "\n",
    "dictionary_pense_student.iloc[index:index+3]"
   ]
  },
  {
   "cell_type": "code",
   "execution_count": 18,
   "metadata": {},
   "outputs": [
    {
     "data": {
      "text/plain": [
       "1    50.054361\n",
       "2    49.945639\n",
       "Name: VB01001, dtype: float64"
      ]
     },
     "execution_count": 18,
     "metadata": {},
     "output_type": "execute_result"
    }
   ],
   "source": [
    "pense_2015['VB01001'].value_counts(normalize=True) * 100"
   ]
  },
  {
   "cell_type": "code",
   "execution_count": 19,
   "metadata": {},
   "outputs": [
    {
     "data": {
      "text/html": [
       "<div>\n",
       "<style scoped>\n",
       "    .dataframe tbody tr th:only-of-type {\n",
       "        vertical-align: middle;\n",
       "    }\n",
       "\n",
       "    .dataframe tbody tr th {\n",
       "        vertical-align: top;\n",
       "    }\n",
       "\n",
       "    .dataframe thead th {\n",
       "        text-align: right;\n",
       "    }\n",
       "</style>\n",
       "<table border=\"1\" class=\"dataframe\">\n",
       "  <thead>\n",
       "    <tr style=\"text-align: right;\">\n",
       "      <th></th>\n",
       "      <th>VARIÁVEL</th>\n",
       "      <th>QUESTIONÁRIO DO ALUNO</th>\n",
       "    </tr>\n",
       "  </thead>\n",
       "  <tbody>\n",
       "    <tr>\n",
       "      <th>1113</th>\n",
       "      <td>VB11007</td>\n",
       "      <td>Como você se sente em relação ao seu corpo?</td>\n",
       "    </tr>\n",
       "    <tr>\n",
       "      <th>1114</th>\n",
       "      <td>1</td>\n",
       "      <td>Muito satisfeito(a)</td>\n",
       "    </tr>\n",
       "    <tr>\n",
       "      <th>1115</th>\n",
       "      <td>2</td>\n",
       "      <td>Satisfeito(a)</td>\n",
       "    </tr>\n",
       "    <tr>\n",
       "      <th>1116</th>\n",
       "      <td>3</td>\n",
       "      <td>Indiferente</td>\n",
       "    </tr>\n",
       "    <tr>\n",
       "      <th>1117</th>\n",
       "      <td>4</td>\n",
       "      <td>Insatisfeito(a)</td>\n",
       "    </tr>\n",
       "    <tr>\n",
       "      <th>1118</th>\n",
       "      <td>5</td>\n",
       "      <td>Muito insatisfeito(a)</td>\n",
       "    </tr>\n",
       "    <tr>\n",
       "      <th>1119</th>\n",
       "      <td>99</td>\n",
       "      <td>Não informado</td>\n",
       "    </tr>\n",
       "  </tbody>\n",
       "</table>\n",
       "</div>"
      ],
      "text/plain": [
       "     VARIÁVEL                        QUESTIONÁRIO DO ALUNO\n",
       "1113  VB11007  Como você se sente em relação ao seu corpo?\n",
       "1114        1                          Muito satisfeito(a)\n",
       "1115        2                                Satisfeito(a)\n",
       "1116        3                                  Indiferente\n",
       "1117        4                              Insatisfeito(a)\n",
       "1118        5                        Muito insatisfeito(a)\n",
       "1119       99                                Não informado"
      ]
     },
     "execution_count": 19,
     "metadata": {},
     "output_type": "execute_result"
    }
   ],
   "source": [
    "index = dictionary_pense_student \\\n",
    "            [dictionary_pense_student.VARIÁVEL == 'VB11007'] \\\n",
    "            .index[0]\n",
    "\n",
    "dictionary_pense_student.iloc[index:index+7]"
   ]
  },
  {
   "cell_type": "code",
   "execution_count": 20,
   "metadata": {},
   "outputs": [
    {
     "data": {
      "text/plain": [
       "2     6920\n",
       "1     4608\n",
       "4     2326\n",
       "3     1807\n",
       "5      714\n",
       "99     181\n",
       "Name: VB11007, dtype: int64"
      ]
     },
     "execution_count": 20,
     "metadata": {},
     "output_type": "execute_result"
    }
   ],
   "source": [
    "value_count_VB11007 = pense_2015['VB11007'].value_counts()\n",
    "\n",
    "value_count_VB11007"
   ]
  },
  {
   "cell_type": "code",
   "execution_count": 21,
   "metadata": {},
   "outputs": [
    {
     "data": {
      "text/plain": [
       "2     41.797536\n",
       "1     27.832810\n",
       "4     14.049287\n",
       "3     10.914472\n",
       "5      4.312636\n",
       "99     1.093259\n",
       "Name: VB11007, dtype: float64"
      ]
     },
     "execution_count": 21,
     "metadata": {},
     "output_type": "execute_result"
    }
   ],
   "source": [
    "value_count_VB11007_normalized = \\\n",
    "    pense_2015['VB11007'].value_counts(normalize=True)\n",
    "\n",
    "value_count_VB11007_normalized * 100"
   ]
  },
  {
   "cell_type": "code",
   "execution_count": 22,
   "metadata": {},
   "outputs": [
    {
     "data": {
      "text/html": [
       "<div>\n",
       "<style scoped>\n",
       "    .dataframe tbody tr th:only-of-type {\n",
       "        vertical-align: middle;\n",
       "    }\n",
       "\n",
       "    .dataframe tbody tr th {\n",
       "        vertical-align: top;\n",
       "    }\n",
       "\n",
       "    .dataframe thead th {\n",
       "        text-align: right;\n",
       "    }\n",
       "</style>\n",
       "<table border=\"1\" class=\"dataframe\">\n",
       "  <thead>\n",
       "    <tr style=\"text-align: right;\">\n",
       "      <th></th>\n",
       "      <th>count</th>\n",
       "      <th>percentage</th>\n",
       "    </tr>\n",
       "  </thead>\n",
       "  <tbody>\n",
       "    <tr>\n",
       "      <th>2</th>\n",
       "      <td>6920</td>\n",
       "      <td>41.797536</td>\n",
       "    </tr>\n",
       "    <tr>\n",
       "      <th>1</th>\n",
       "      <td>4608</td>\n",
       "      <td>27.832810</td>\n",
       "    </tr>\n",
       "    <tr>\n",
       "      <th>4</th>\n",
       "      <td>2326</td>\n",
       "      <td>14.049287</td>\n",
       "    </tr>\n",
       "    <tr>\n",
       "      <th>3</th>\n",
       "      <td>1807</td>\n",
       "      <td>10.914472</td>\n",
       "    </tr>\n",
       "    <tr>\n",
       "      <th>5</th>\n",
       "      <td>714</td>\n",
       "      <td>4.312636</td>\n",
       "    </tr>\n",
       "    <tr>\n",
       "      <th>99</th>\n",
       "      <td>181</td>\n",
       "      <td>1.093259</td>\n",
       "    </tr>\n",
       "  </tbody>\n",
       "</table>\n",
       "</div>"
      ],
      "text/plain": [
       "    count  percentage\n",
       "2    6920   41.797536\n",
       "1    4608   27.832810\n",
       "4    2326   14.049287\n",
       "3    1807   10.914472\n",
       "5     714    4.312636\n",
       "99    181    1.093259"
      ]
     },
     "execution_count": 22,
     "metadata": {},
     "output_type": "execute_result"
    }
   ],
   "source": [
    "dist_VB11007 = pd.DataFrame({'count': value_count_VB11007,\n",
    "                             'percentage': value_count_VB11007_normalized * 100})\n",
    "\n",
    "dist_VB11007"
   ]
  },
  {
   "cell_type": "code",
   "execution_count": 23,
   "metadata": {},
   "outputs": [
    {
     "data": {
      "text/html": [
       "<div>\n",
       "<style scoped>\n",
       "    .dataframe tbody tr th:only-of-type {\n",
       "        vertical-align: middle;\n",
       "    }\n",
       "\n",
       "    .dataframe tbody tr th {\n",
       "        vertical-align: top;\n",
       "    }\n",
       "\n",
       "    .dataframe thead th {\n",
       "        text-align: right;\n",
       "    }\n",
       "</style>\n",
       "<table border=\"1\" class=\"dataframe\">\n",
       "  <thead>\n",
       "    <tr style=\"text-align: right;\">\n",
       "      <th>felling_about_their_body</th>\n",
       "      <th>count</th>\n",
       "      <th>percentage</th>\n",
       "    </tr>\n",
       "  </thead>\n",
       "  <tbody>\n",
       "    <tr>\n",
       "      <th>Satisfeito(a)</th>\n",
       "      <td>6920</td>\n",
       "      <td>41.797536</td>\n",
       "    </tr>\n",
       "    <tr>\n",
       "      <th>Muito satisfeito(a)</th>\n",
       "      <td>4608</td>\n",
       "      <td>27.832810</td>\n",
       "    </tr>\n",
       "    <tr>\n",
       "      <th>Insatisfeito(a)</th>\n",
       "      <td>2326</td>\n",
       "      <td>14.049287</td>\n",
       "    </tr>\n",
       "    <tr>\n",
       "      <th>Indiferente</th>\n",
       "      <td>1807</td>\n",
       "      <td>10.914472</td>\n",
       "    </tr>\n",
       "    <tr>\n",
       "      <th>Muito insatisfeito(a)</th>\n",
       "      <td>714</td>\n",
       "      <td>4.312636</td>\n",
       "    </tr>\n",
       "    <tr>\n",
       "      <th>Não informado</th>\n",
       "      <td>181</td>\n",
       "      <td>1.093259</td>\n",
       "    </tr>\n",
       "  </tbody>\n",
       "</table>\n",
       "</div>"
      ],
      "text/plain": [
       "felling_about_their_body  count  percentage\n",
       "Satisfeito(a)              6920   41.797536\n",
       "Muito satisfeito(a)        4608   27.832810\n",
       "Insatisfeito(a)            2326   14.049287\n",
       "Indiferente                1807   10.914472\n",
       "Muito insatisfeito(a)       714    4.312636\n",
       "Não informado               181    1.093259"
      ]
     },
     "execution_count": 23,
     "metadata": {},
     "output_type": "execute_result"
    }
   ],
   "source": [
    "VB11007_values = {1: 'Muito satisfeito(a)',\n",
    "                  2: 'Satisfeito(a)',\n",
    "                  3: 'Indiferente',\n",
    "                  4: 'Insatisfeito(a)',\n",
    "                  5: 'Muito insatisfeito(a)',\n",
    "                  99: 'Não informado'}\n",
    "\n",
    "dist_VB11007.rename(index=VB11007_values, inplace=True)\n",
    "dist_VB11007.rename_axis('felling_about_their_body', axis=1,\n",
    "                         inplace=True)\n",
    "\n",
    "dist_VB11007"
   ]
  },
  {
   "cell_type": "markdown",
   "metadata": {},
   "source": [
    "### Challenge 01: Create a function to get dist/frequency table and make analysis on other variables"
   ]
  },
  {
   "cell_type": "code",
   "execution_count": 24,
   "metadata": {},
   "outputs": [],
   "source": [
    "def create_dist_table(variable: str) -> pd.DataFrame:\n",
    "    value_count_variable = pense_2015[variable].value_counts()\n",
    "    \n",
    "    value_count_variable_normalized = \\\n",
    "        pense_2015[variable].value_counts(normalize=True)\n",
    "    \n",
    "    return pd.DataFrame({'count': value_count_variable,\n",
    "                         'percentage': value_count_variable_normalized * 100})\n",
    "\n",
    "\n",
    "def dictionary_for_student_variable(variable: str) -> pd.DataFrame:\n",
    "    index = dictionary_pense_student \\\n",
    "                [dictionary_pense_student.VARIÁVEL == variable] \\\n",
    "                .index[0]\n",
    "    \n",
    "    #works only for categorical data. try correct it after \n",
    "    nunique = pense_2015[variable].nunique()\n",
    "\n",
    "    return dictionary_pense_student.iloc[index:index+nunique+1]"
   ]
  },
  {
   "cell_type": "code",
   "execution_count": 25,
   "metadata": {},
   "outputs": [
    {
     "data": {
      "text/html": [
       "<div>\n",
       "<style scoped>\n",
       "    .dataframe tbody tr th:only-of-type {\n",
       "        vertical-align: middle;\n",
       "    }\n",
       "\n",
       "    .dataframe tbody tr th {\n",
       "        vertical-align: top;\n",
       "    }\n",
       "\n",
       "    .dataframe thead th {\n",
       "        text-align: right;\n",
       "    }\n",
       "</style>\n",
       "<table border=\"1\" class=\"dataframe\">\n",
       "  <thead>\n",
       "    <tr style=\"text-align: right;\">\n",
       "      <th></th>\n",
       "      <th>VARIÁVEL</th>\n",
       "      <th>QUESTIONÁRIO DO ALUNO</th>\n",
       "    </tr>\n",
       "  </thead>\n",
       "  <tbody>\n",
       "    <tr>\n",
       "      <th>14</th>\n",
       "      <td>VB01002</td>\n",
       "      <td>Qual é a sua cor ou raça?</td>\n",
       "    </tr>\n",
       "    <tr>\n",
       "      <th>15</th>\n",
       "      <td>1</td>\n",
       "      <td>Branca</td>\n",
       "    </tr>\n",
       "    <tr>\n",
       "      <th>16</th>\n",
       "      <td>2</td>\n",
       "      <td>Preta</td>\n",
       "    </tr>\n",
       "    <tr>\n",
       "      <th>17</th>\n",
       "      <td>3</td>\n",
       "      <td>Amarela</td>\n",
       "    </tr>\n",
       "    <tr>\n",
       "      <th>18</th>\n",
       "      <td>4</td>\n",
       "      <td>Parda</td>\n",
       "    </tr>\n",
       "    <tr>\n",
       "      <th>19</th>\n",
       "      <td>5</td>\n",
       "      <td>Indígena</td>\n",
       "    </tr>\n",
       "    <tr>\n",
       "      <th>20</th>\n",
       "      <td>99</td>\n",
       "      <td>Não informado</td>\n",
       "    </tr>\n",
       "  </tbody>\n",
       "</table>\n",
       "</div>"
      ],
      "text/plain": [
       "   VARIÁVEL      QUESTIONÁRIO DO ALUNO\n",
       "14  VB01002  Qual é a sua cor ou raça?\n",
       "15        1                     Branca\n",
       "16        2                      Preta\n",
       "17        3                    Amarela\n",
       "18        4                      Parda\n",
       "19        5                   Indígena\n",
       "20       99              Não informado"
      ]
     },
     "execution_count": 25,
     "metadata": {},
     "output_type": "execute_result"
    }
   ],
   "source": [
    "dictionary_for_student_variable('VB01002')"
   ]
  },
  {
   "cell_type": "code",
   "execution_count": 26,
   "metadata": {},
   "outputs": [
    {
     "data": {
      "text/html": [
       "<div>\n",
       "<style scoped>\n",
       "    .dataframe tbody tr th:only-of-type {\n",
       "        vertical-align: middle;\n",
       "    }\n",
       "\n",
       "    .dataframe tbody tr th {\n",
       "        vertical-align: top;\n",
       "    }\n",
       "\n",
       "    .dataframe thead th {\n",
       "        text-align: right;\n",
       "    }\n",
       "</style>\n",
       "<table border=\"1\" class=\"dataframe\">\n",
       "  <thead>\n",
       "    <tr style=\"text-align: right;\">\n",
       "      <th></th>\n",
       "      <th>count</th>\n",
       "      <th>percentage</th>\n",
       "    </tr>\n",
       "  </thead>\n",
       "  <tbody>\n",
       "    <tr>\n",
       "      <th>4</th>\n",
       "      <td>6726</td>\n",
       "      <td>40.625755</td>\n",
       "    </tr>\n",
       "    <tr>\n",
       "      <th>1</th>\n",
       "      <td>6575</td>\n",
       "      <td>39.713699</td>\n",
       "    </tr>\n",
       "    <tr>\n",
       "      <th>2</th>\n",
       "      <td>1939</td>\n",
       "      <td>11.711766</td>\n",
       "    </tr>\n",
       "    <tr>\n",
       "      <th>3</th>\n",
       "      <td>712</td>\n",
       "      <td>4.300556</td>\n",
       "    </tr>\n",
       "    <tr>\n",
       "      <th>5</th>\n",
       "      <td>581</td>\n",
       "      <td>3.509302</td>\n",
       "    </tr>\n",
       "    <tr>\n",
       "      <th>99</th>\n",
       "      <td>23</td>\n",
       "      <td>0.138922</td>\n",
       "    </tr>\n",
       "  </tbody>\n",
       "</table>\n",
       "</div>"
      ],
      "text/plain": [
       "    count  percentage\n",
       "4    6726   40.625755\n",
       "1    6575   39.713699\n",
       "2    1939   11.711766\n",
       "3     712    4.300556\n",
       "5     581    3.509302\n",
       "99     23    0.138922"
      ]
     },
     "execution_count": 26,
     "metadata": {},
     "output_type": "execute_result"
    }
   ],
   "source": [
    "create_dist_table('VB01002')"
   ]
  },
  {
   "cell_type": "code",
   "execution_count": 27,
   "metadata": {},
   "outputs": [
    {
     "data": {
      "text/html": [
       "<div>\n",
       "<style scoped>\n",
       "    .dataframe tbody tr th:only-of-type {\n",
       "        vertical-align: middle;\n",
       "    }\n",
       "\n",
       "    .dataframe tbody tr th {\n",
       "        vertical-align: top;\n",
       "    }\n",
       "\n",
       "    .dataframe thead th {\n",
       "        text-align: right;\n",
       "    }\n",
       "</style>\n",
       "<table border=\"1\" class=\"dataframe\">\n",
       "  <thead>\n",
       "    <tr style=\"text-align: right;\">\n",
       "      <th></th>\n",
       "      <th>VARIÁVEL</th>\n",
       "      <th>QUESTIONÁRIO DO ALUNO</th>\n",
       "    </tr>\n",
       "  </thead>\n",
       "  <tbody>\n",
       "    <tr>\n",
       "      <th>66</th>\n",
       "      <td>VB01022</td>\n",
       "      <td>Em que turno você estuda?</td>\n",
       "    </tr>\n",
       "    <tr>\n",
       "      <th>67</th>\n",
       "      <td>1</td>\n",
       "      <td>Manhã</td>\n",
       "    </tr>\n",
       "    <tr>\n",
       "      <th>68</th>\n",
       "      <td>2</td>\n",
       "      <td>Intermediário</td>\n",
       "    </tr>\n",
       "    <tr>\n",
       "      <th>69</th>\n",
       "      <td>3</td>\n",
       "      <td>Tarde</td>\n",
       "    </tr>\n",
       "    <tr>\n",
       "      <th>70</th>\n",
       "      <td>4</td>\n",
       "      <td>Noite</td>\n",
       "    </tr>\n",
       "    <tr>\n",
       "      <th>71</th>\n",
       "      <td>5</td>\n",
       "      <td>Integral</td>\n",
       "    </tr>\n",
       "    <tr>\n",
       "      <th>72</th>\n",
       "      <td>99</td>\n",
       "      <td>Não informado</td>\n",
       "    </tr>\n",
       "  </tbody>\n",
       "</table>\n",
       "</div>"
      ],
      "text/plain": [
       "   VARIÁVEL      QUESTIONÁRIO DO ALUNO\n",
       "66  VB01022  Em que turno você estuda?\n",
       "67        1                      Manhã\n",
       "68        2              Intermediário\n",
       "69        3                      Tarde\n",
       "70        4                      Noite\n",
       "71        5                   Integral\n",
       "72       99              Não informado"
      ]
     },
     "execution_count": 27,
     "metadata": {},
     "output_type": "execute_result"
    }
   ],
   "source": [
    "dictionary_for_student_variable('VB01022')"
   ]
  },
  {
   "cell_type": "code",
   "execution_count": 28,
   "metadata": {},
   "outputs": [
    {
     "data": {
      "text/html": [
       "<div>\n",
       "<style scoped>\n",
       "    .dataframe tbody tr th:only-of-type {\n",
       "        vertical-align: middle;\n",
       "    }\n",
       "\n",
       "    .dataframe tbody tr th {\n",
       "        vertical-align: top;\n",
       "    }\n",
       "\n",
       "    .dataframe thead th {\n",
       "        text-align: right;\n",
       "    }\n",
       "</style>\n",
       "<table border=\"1\" class=\"dataframe\">\n",
       "  <thead>\n",
       "    <tr style=\"text-align: right;\">\n",
       "      <th></th>\n",
       "      <th>count</th>\n",
       "      <th>percentage</th>\n",
       "    </tr>\n",
       "  </thead>\n",
       "  <tbody>\n",
       "    <tr>\n",
       "      <th>1</th>\n",
       "      <td>9198</td>\n",
       "      <td>55.556898</td>\n",
       "    </tr>\n",
       "    <tr>\n",
       "      <th>3</th>\n",
       "      <td>5362</td>\n",
       "      <td>32.387050</td>\n",
       "    </tr>\n",
       "    <tr>\n",
       "      <th>4</th>\n",
       "      <td>1258</td>\n",
       "      <td>7.598454</td>\n",
       "    </tr>\n",
       "    <tr>\n",
       "      <th>5</th>\n",
       "      <td>651</td>\n",
       "      <td>3.932109</td>\n",
       "    </tr>\n",
       "    <tr>\n",
       "      <th>2</th>\n",
       "      <td>83</td>\n",
       "      <td>0.501329</td>\n",
       "    </tr>\n",
       "    <tr>\n",
       "      <th>99</th>\n",
       "      <td>4</td>\n",
       "      <td>0.024160</td>\n",
       "    </tr>\n",
       "  </tbody>\n",
       "</table>\n",
       "</div>"
      ],
      "text/plain": [
       "    count  percentage\n",
       "1    9198   55.556898\n",
       "3    5362   32.387050\n",
       "4    1258    7.598454\n",
       "5     651    3.932109\n",
       "2      83    0.501329\n",
       "99      4    0.024160"
      ]
     },
     "execution_count": 28,
     "metadata": {},
     "output_type": "execute_result"
    }
   ],
   "source": [
    "create_dist_table('VB01022')"
   ]
  },
  {
   "cell_type": "markdown",
   "metadata": {},
   "source": [
    "# Lesson 3 - Continuous data and Pandas Crosstab\n",
    "\n",
    "---"
   ]
  },
  {
   "cell_type": "markdown",
   "metadata": {},
   "source": [
    "# Lesson 3 - Part 01 - Quantitative data and Frequency tables"
   ]
  },
  {
   "cell_type": "code",
   "execution_count": 29,
   "metadata": {},
   "outputs": [
    {
     "data": {
      "text/plain": [
       "0        157.0\n",
       "1        152.0\n",
       "2        161.4\n",
       "3        172.5\n",
       "4        167.5\n",
       "         ...  \n",
       "16551    167.9\n",
       "16552    185.8\n",
       "16553    159.4\n",
       "16554    157.8\n",
       "16555    163.9\n",
       "Name: VB17004, Length: 16556, dtype: float64"
      ]
     },
     "execution_count": 29,
     "metadata": {},
     "output_type": "execute_result"
    }
   ],
   "source": [
    "pense_2015['VB17004']"
   ]
  },
  {
   "cell_type": "code",
   "execution_count": 30,
   "metadata": {},
   "outputs": [
    {
     "data": {
      "text/plain": [
       "0        15.051321\n",
       "1        21.727839\n",
       "2        18.502907\n",
       "3        23.322831\n",
       "4        28.122076\n",
       "           ...    \n",
       "16551    20.113223\n",
       "16552    17.930782\n",
       "16553    23.968489\n",
       "16554    18.995343\n",
       "16555    23.303246\n",
       "Name: BMI, Length: 16556, dtype: float64"
      ]
     },
     "execution_count": 30,
     "metadata": {},
     "output_type": "execute_result"
    }
   ],
   "source": [
    "pense_2015['BMI'] = (pense_2015['VB17003'] / \n",
    "                     ((pense_2015['VB17004']/100)**2))\n",
    "\n",
    "\n",
    "pense_2015['BMI']"
   ]
  },
  {
   "cell_type": "code",
   "execution_count": 31,
   "metadata": {},
   "outputs": [
    {
     "data": {
      "text/html": [
       "<div>\n",
       "<style scoped>\n",
       "    .dataframe tbody tr th:only-of-type {\n",
       "        vertical-align: middle;\n",
       "    }\n",
       "\n",
       "    .dataframe tbody tr th {\n",
       "        vertical-align: top;\n",
       "    }\n",
       "\n",
       "    .dataframe thead th {\n",
       "        text-align: right;\n",
       "    }\n",
       "</style>\n",
       "<table border=\"1\" class=\"dataframe\">\n",
       "  <thead>\n",
       "    <tr style=\"text-align: right;\">\n",
       "      <th></th>\n",
       "      <th>BMI</th>\n",
       "      <th>BMI_CLASS</th>\n",
       "    </tr>\n",
       "  </thead>\n",
       "  <tbody>\n",
       "    <tr>\n",
       "      <th>0</th>\n",
       "      <td>15.051321</td>\n",
       "      <td>abaixo</td>\n",
       "    </tr>\n",
       "    <tr>\n",
       "      <th>1</th>\n",
       "      <td>21.727839</td>\n",
       "      <td>normal</td>\n",
       "    </tr>\n",
       "    <tr>\n",
       "      <th>2</th>\n",
       "      <td>18.502907</td>\n",
       "      <td>normal</td>\n",
       "    </tr>\n",
       "    <tr>\n",
       "      <th>3</th>\n",
       "      <td>23.322831</td>\n",
       "      <td>normal</td>\n",
       "    </tr>\n",
       "    <tr>\n",
       "      <th>4</th>\n",
       "      <td>28.122076</td>\n",
       "      <td>sobrepeso</td>\n",
       "    </tr>\n",
       "    <tr>\n",
       "      <th>...</th>\n",
       "      <td>...</td>\n",
       "      <td>...</td>\n",
       "    </tr>\n",
       "    <tr>\n",
       "      <th>16551</th>\n",
       "      <td>20.113223</td>\n",
       "      <td>normal</td>\n",
       "    </tr>\n",
       "    <tr>\n",
       "      <th>16552</th>\n",
       "      <td>17.930782</td>\n",
       "      <td>abaixo</td>\n",
       "    </tr>\n",
       "    <tr>\n",
       "      <th>16553</th>\n",
       "      <td>23.968489</td>\n",
       "      <td>normal</td>\n",
       "    </tr>\n",
       "    <tr>\n",
       "      <th>16554</th>\n",
       "      <td>18.995343</td>\n",
       "      <td>normal</td>\n",
       "    </tr>\n",
       "    <tr>\n",
       "      <th>16555</th>\n",
       "      <td>23.303246</td>\n",
       "      <td>normal</td>\n",
       "    </tr>\n",
       "  </tbody>\n",
       "</table>\n",
       "<p>16556 rows × 2 columns</p>\n",
       "</div>"
      ],
      "text/plain": [
       "             BMI  BMI_CLASS\n",
       "0      15.051321     abaixo\n",
       "1      21.727839     normal\n",
       "2      18.502907     normal\n",
       "3      23.322831     normal\n",
       "4      28.122076  sobrepeso\n",
       "...          ...        ...\n",
       "16551  20.113223     normal\n",
       "16552  17.930782     abaixo\n",
       "16553  23.968489     normal\n",
       "16554  18.995343     normal\n",
       "16555  23.303246     normal\n",
       "\n",
       "[16556 rows x 2 columns]"
      ]
     },
     "execution_count": 31,
     "metadata": {},
     "output_type": "execute_result"
    }
   ],
   "source": [
    "classification_bmi = [0, 18.5, 25, 30, 60]\n",
    "labels_bmi = ['abaixo', 'normal', 'sobrepeso', 'obesidade']\n",
    "\n",
    "pense_2015['BMI_CLASS'] = \\\n",
    "    pd.cut(x=pense_2015['BMI'],\n",
    "           bins=classification_bmi,\n",
    "           labels=labels_bmi,\n",
    "           include_lowest=True)\n",
    "\n",
    "\n",
    "pense_2015[['BMI', 'BMI_CLASS']]"
   ]
  },
  {
   "cell_type": "code",
   "execution_count": 32,
   "metadata": {},
   "outputs": [
    {
     "data": {
      "text/html": [
       "<div>\n",
       "<style scoped>\n",
       "    .dataframe tbody tr th:only-of-type {\n",
       "        vertical-align: middle;\n",
       "    }\n",
       "\n",
       "    .dataframe tbody tr th {\n",
       "        vertical-align: top;\n",
       "    }\n",
       "\n",
       "    .dataframe thead th {\n",
       "        text-align: right;\n",
       "    }\n",
       "</style>\n",
       "<table border=\"1\" class=\"dataframe\">\n",
       "  <thead>\n",
       "    <tr style=\"text-align: right;\">\n",
       "      <th></th>\n",
       "      <th>count</th>\n",
       "      <th>percentage</th>\n",
       "    </tr>\n",
       "  </thead>\n",
       "  <tbody>\n",
       "    <tr>\n",
       "      <th>normal</th>\n",
       "      <td>9188</td>\n",
       "      <td>55.496497</td>\n",
       "    </tr>\n",
       "    <tr>\n",
       "      <th>abaixo</th>\n",
       "      <td>4975</td>\n",
       "      <td>30.049529</td>\n",
       "    </tr>\n",
       "    <tr>\n",
       "      <th>sobrepeso</th>\n",
       "      <td>1760</td>\n",
       "      <td>10.630587</td>\n",
       "    </tr>\n",
       "    <tr>\n",
       "      <th>obesidade</th>\n",
       "      <td>633</td>\n",
       "      <td>3.823387</td>\n",
       "    </tr>\n",
       "  </tbody>\n",
       "</table>\n",
       "</div>"
      ],
      "text/plain": [
       "           count  percentage\n",
       "normal      9188   55.496497\n",
       "abaixo      4975   30.049529\n",
       "sobrepeso   1760   10.630587\n",
       "obesidade    633    3.823387"
      ]
     },
     "execution_count": 32,
     "metadata": {},
     "output_type": "execute_result"
    }
   ],
   "source": [
    "create_dist_table('BMI_CLASS')"
   ]
  },
  {
   "cell_type": "markdown",
   "metadata": {},
   "source": [
    "# Lesson 3 - Part 02 - Sturges and CrossTab"
   ]
  },
  {
   "cell_type": "code",
   "execution_count": 33,
   "metadata": {},
   "outputs": [
    {
     "data": {
      "text/plain": [
       "0        157.0\n",
       "1        152.0\n",
       "2        161.4\n",
       "3        172.5\n",
       "4        167.5\n",
       "         ...  \n",
       "16551    167.9\n",
       "16552    185.8\n",
       "16553    159.4\n",
       "16554    157.8\n",
       "16555    163.9\n",
       "Name: VB17004, Length: 16556, dtype: float64"
      ]
     },
     "execution_count": 33,
     "metadata": {},
     "output_type": "execute_result"
    }
   ],
   "source": [
    "pense_2015['VB17004']"
   ]
  },
  {
   "cell_type": "code",
   "execution_count": 34,
   "metadata": {},
   "outputs": [
    {
     "data": {
      "text/plain": [
       "124.1"
      ]
     },
     "execution_count": 34,
     "metadata": {},
     "output_type": "execute_result"
    }
   ],
   "source": [
    "pense_2015['VB17004'].min()"
   ]
  },
  {
   "cell_type": "code",
   "execution_count": 35,
   "metadata": {},
   "outputs": [
    {
     "data": {
      "text/plain": [
       "195.3"
      ]
     },
     "execution_count": 35,
     "metadata": {},
     "output_type": "execute_result"
    }
   ],
   "source": [
    "pense_2015['VB17004'].max()"
   ]
  },
  {
   "cell_type": "markdown",
   "metadata": {},
   "source": [
    "**How to define number of classes that represent a continuous variable**"
   ]
  },
  {
   "cell_type": "code",
   "execution_count": 36,
   "metadata": {},
   "outputs": [
    {
     "data": {
      "text/plain": [
       "15"
      ]
     },
     "execution_count": 36,
     "metadata": {},
     "output_type": "execute_result"
    }
   ],
   "source": [
    "len_pense_2015 = len(pense_2015)\n",
    "\n",
    "# number of classes\n",
    "k = int(1 + ((10/3)*np.log10(len_pense_2015)))\n",
    "\n",
    "k"
   ]
  },
  {
   "cell_type": "code",
   "execution_count": 37,
   "metadata": {},
   "outputs": [],
   "source": [
    "pense_2015['HEIGHT_CLASS'] = \\\n",
    "    pd.cut(x=pense_2015['VB17004'],\n",
    "           bins=k,\n",
    "           include_lowest=True)"
   ]
  },
  {
   "cell_type": "code",
   "execution_count": 38,
   "metadata": {},
   "outputs": [
    {
     "data": {
      "text/html": [
       "<div>\n",
       "<style scoped>\n",
       "    .dataframe tbody tr th:only-of-type {\n",
       "        vertical-align: middle;\n",
       "    }\n",
       "\n",
       "    .dataframe tbody tr th {\n",
       "        vertical-align: top;\n",
       "    }\n",
       "\n",
       "    .dataframe thead th {\n",
       "        text-align: right;\n",
       "    }\n",
       "</style>\n",
       "<table border=\"1\" class=\"dataframe\">\n",
       "  <thead>\n",
       "    <tr style=\"text-align: right;\">\n",
       "      <th></th>\n",
       "      <th>count</th>\n",
       "      <th>percentage</th>\n",
       "    </tr>\n",
       "  </thead>\n",
       "  <tbody>\n",
       "    <tr>\n",
       "      <th>(157.327, 162.073]</th>\n",
       "      <td>3110</td>\n",
       "      <td>18.784731</td>\n",
       "    </tr>\n",
       "    <tr>\n",
       "      <th>(152.58, 157.327]</th>\n",
       "      <td>2734</td>\n",
       "      <td>16.513651</td>\n",
       "    </tr>\n",
       "    <tr>\n",
       "      <th>(162.073, 166.82]</th>\n",
       "      <td>2550</td>\n",
       "      <td>15.402271</td>\n",
       "    </tr>\n",
       "    <tr>\n",
       "      <th>(166.82, 171.567]</th>\n",
       "      <td>2063</td>\n",
       "      <td>12.460739</td>\n",
       "    </tr>\n",
       "    <tr>\n",
       "      <th>(147.833, 152.58]</th>\n",
       "      <td>1782</td>\n",
       "      <td>10.763469</td>\n",
       "    </tr>\n",
       "    <tr>\n",
       "      <th>(171.567, 176.313]</th>\n",
       "      <td>1416</td>\n",
       "      <td>8.552791</td>\n",
       "    </tr>\n",
       "    <tr>\n",
       "      <th>(143.087, 147.833]</th>\n",
       "      <td>1012</td>\n",
       "      <td>6.112588</td>\n",
       "    </tr>\n",
       "    <tr>\n",
       "      <th>(176.313, 181.06]</th>\n",
       "      <td>749</td>\n",
       "      <td>4.524040</td>\n",
       "    </tr>\n",
       "    <tr>\n",
       "      <th>(138.34, 143.087]</th>\n",
       "      <td>484</td>\n",
       "      <td>2.923411</td>\n",
       "    </tr>\n",
       "    <tr>\n",
       "      <th>(181.06, 185.807]</th>\n",
       "      <td>300</td>\n",
       "      <td>1.812032</td>\n",
       "    </tr>\n",
       "    <tr>\n",
       "      <th>(133.593, 138.34]</th>\n",
       "      <td>199</td>\n",
       "      <td>1.201981</td>\n",
       "    </tr>\n",
       "    <tr>\n",
       "      <th>(185.807, 190.553]</th>\n",
       "      <td>94</td>\n",
       "      <td>0.567770</td>\n",
       "    </tr>\n",
       "    <tr>\n",
       "      <th>(128.847, 133.593]</th>\n",
       "      <td>47</td>\n",
       "      <td>0.283885</td>\n",
       "    </tr>\n",
       "    <tr>\n",
       "      <th>(190.553, 195.3]</th>\n",
       "      <td>13</td>\n",
       "      <td>0.078521</td>\n",
       "    </tr>\n",
       "    <tr>\n",
       "      <th>(124.02799999999999, 128.847]</th>\n",
       "      <td>3</td>\n",
       "      <td>0.018120</td>\n",
       "    </tr>\n",
       "  </tbody>\n",
       "</table>\n",
       "</div>"
      ],
      "text/plain": [
       "                               count  percentage\n",
       "(157.327, 162.073]              3110   18.784731\n",
       "(152.58, 157.327]               2734   16.513651\n",
       "(162.073, 166.82]               2550   15.402271\n",
       "(166.82, 171.567]               2063   12.460739\n",
       "(147.833, 152.58]               1782   10.763469\n",
       "(171.567, 176.313]              1416    8.552791\n",
       "(143.087, 147.833]              1012    6.112588\n",
       "(176.313, 181.06]                749    4.524040\n",
       "(138.34, 143.087]                484    2.923411\n",
       "(181.06, 185.807]                300    1.812032\n",
       "(133.593, 138.34]                199    1.201981\n",
       "(185.807, 190.553]                94    0.567770\n",
       "(128.847, 133.593]                47    0.283885\n",
       "(190.553, 195.3]                  13    0.078521\n",
       "(124.02799999999999, 128.847]      3    0.018120"
      ]
     },
     "execution_count": 38,
     "metadata": {},
     "output_type": "execute_result"
    }
   ],
   "source": [
    "create_dist_table('HEIGHT_CLASS')"
   ]
  },
  {
   "cell_type": "markdown",
   "metadata": {},
   "source": [
    "**Challenge 01: Create a frequency table to weight variable.**"
   ]
  },
  {
   "cell_type": "code",
   "execution_count": 39,
   "metadata": {},
   "outputs": [
    {
     "data": {
      "text/html": [
       "<div>\n",
       "<style scoped>\n",
       "    .dataframe tbody tr th:only-of-type {\n",
       "        vertical-align: middle;\n",
       "    }\n",
       "\n",
       "    .dataframe tbody tr th {\n",
       "        vertical-align: top;\n",
       "    }\n",
       "\n",
       "    .dataframe thead th {\n",
       "        text-align: right;\n",
       "    }\n",
       "</style>\n",
       "<table border=\"1\" class=\"dataframe\">\n",
       "  <thead>\n",
       "    <tr style=\"text-align: right;\">\n",
       "      <th>VB01001</th>\n",
       "      <th>Male</th>\n",
       "      <th>Female</th>\n",
       "    </tr>\n",
       "    <tr>\n",
       "      <th>VB11007</th>\n",
       "      <th></th>\n",
       "      <th></th>\n",
       "    </tr>\n",
       "  </thead>\n",
       "  <tbody>\n",
       "    <tr>\n",
       "      <th>Muito satisfeito(a)</th>\n",
       "      <td>0.161996</td>\n",
       "      <td>0.116332</td>\n",
       "    </tr>\n",
       "    <tr>\n",
       "      <th>Satisfeito(a)</th>\n",
       "      <td>0.210800</td>\n",
       "      <td>0.207176</td>\n",
       "    </tr>\n",
       "    <tr>\n",
       "      <th>Indiferente</th>\n",
       "      <td>0.057381</td>\n",
       "      <td>0.051764</td>\n",
       "    </tr>\n",
       "    <tr>\n",
       "      <th>Insatisfeito(a)</th>\n",
       "      <td>0.047475</td>\n",
       "      <td>0.093018</td>\n",
       "    </tr>\n",
       "    <tr>\n",
       "      <th>Muito insatisfeito(a)</th>\n",
       "      <td>0.015704</td>\n",
       "      <td>0.027422</td>\n",
       "    </tr>\n",
       "    <tr>\n",
       "      <th>Não informado</th>\n",
       "      <td>0.007188</td>\n",
       "      <td>0.003745</td>\n",
       "    </tr>\n",
       "  </tbody>\n",
       "</table>\n",
       "</div>"
      ],
      "text/plain": [
       "VB01001                    Male    Female\n",
       "VB11007                                  \n",
       "Muito satisfeito(a)    0.161996  0.116332\n",
       "Satisfeito(a)          0.210800  0.207176\n",
       "Indiferente            0.057381  0.051764\n",
       "Insatisfeito(a)        0.047475  0.093018\n",
       "Muito insatisfeito(a)  0.015704  0.027422\n",
       "Não informado          0.007188  0.003745"
      ]
     },
     "execution_count": 39,
     "metadata": {},
     "output_type": "execute_result"
    }
   ],
   "source": [
    "cross_frequency_VB11007_VB11001 = \\\n",
    "    pd.crosstab(pense_2015['VB11007'],\n",
    "                pense_2015['VB01001'],\n",
    "                normalize=True)\n",
    "\n",
    "cross_frequency_VB11007_VB11001.rename(index=VB11007_values,\n",
    "                                       inplace=True)\n",
    "\n",
    "cross_frequency_VB11007_VB11001.rename(columns={1: 'Male',\n",
    "                                                2: 'Female'},\n",
    "                                       inplace=True)\n",
    "\n",
    "cross_frequency_VB11007_VB11001"
   ]
  },
  {
   "cell_type": "code",
   "execution_count": 40,
   "metadata": {},
   "outputs": [
    {
     "data": {
      "text/html": [
       "<div>\n",
       "<style scoped>\n",
       "    .dataframe tbody tr th:only-of-type {\n",
       "        vertical-align: middle;\n",
       "    }\n",
       "\n",
       "    .dataframe tbody tr th {\n",
       "        vertical-align: top;\n",
       "    }\n",
       "\n",
       "    .dataframe thead th {\n",
       "        text-align: right;\n",
       "    }\n",
       "</style>\n",
       "<table border=\"1\" class=\"dataframe\">\n",
       "  <thead>\n",
       "    <tr style=\"text-align: right;\">\n",
       "      <th>VB01001</th>\n",
       "      <th>Male</th>\n",
       "      <th>Female</th>\n",
       "    </tr>\n",
       "    <tr>\n",
       "      <th>VB11007</th>\n",
       "      <th></th>\n",
       "      <th></th>\n",
       "    </tr>\n",
       "  </thead>\n",
       "  <tbody>\n",
       "    <tr>\n",
       "      <th>Muito satisfeito(a)</th>\n",
       "      <td>32.363944</td>\n",
       "      <td>23.291813</td>\n",
       "    </tr>\n",
       "    <tr>\n",
       "      <th>Satisfeito(a)</th>\n",
       "      <td>42.114155</td>\n",
       "      <td>41.480227</td>\n",
       "    </tr>\n",
       "    <tr>\n",
       "      <th>Indiferente</th>\n",
       "      <td>11.463738</td>\n",
       "      <td>10.364010</td>\n",
       "    </tr>\n",
       "    <tr>\n",
       "      <th>Insatisfeito(a)</th>\n",
       "      <td>9.484735</td>\n",
       "      <td>18.623776</td>\n",
       "    </tr>\n",
       "    <tr>\n",
       "      <th>Muito insatisfeito(a)</th>\n",
       "      <td>3.137444</td>\n",
       "      <td>5.490386</td>\n",
       "    </tr>\n",
       "    <tr>\n",
       "      <th>Não informado</th>\n",
       "      <td>1.435984</td>\n",
       "      <td>0.749788</td>\n",
       "    </tr>\n",
       "  </tbody>\n",
       "</table>\n",
       "</div>"
      ],
      "text/plain": [
       "VB01001                     Male     Female\n",
       "VB11007                                    \n",
       "Muito satisfeito(a)    32.363944  23.291813\n",
       "Satisfeito(a)          42.114155  41.480227\n",
       "Indiferente            11.463738  10.364010\n",
       "Insatisfeito(a)         9.484735  18.623776\n",
       "Muito insatisfeito(a)   3.137444   5.490386\n",
       "Não informado           1.435984   0.749788"
      ]
     },
     "execution_count": 40,
     "metadata": {},
     "output_type": "execute_result"
    }
   ],
   "source": [
    "cross_frequency_VB11007_VB11001 = \\\n",
    "    pd.crosstab(pense_2015['VB11007'],\n",
    "                pense_2015['VB01001'],\n",
    "                normalize='columns')*100\n",
    "\n",
    "cross_frequency_VB11007_VB11001.rename(index=VB11007_values,\n",
    "                                       inplace=True)\n",
    "\n",
    "cross_frequency_VB11007_VB11001.rename(columns={1: 'Male',\n",
    "                                                2: 'Female'},\n",
    "                                       inplace=True)\n",
    "\n",
    "cross_frequency_VB11007_VB11001"
   ]
  },
  {
   "cell_type": "code",
   "execution_count": 41,
   "metadata": {},
   "outputs": [
    {
     "data": {
      "text/html": [
       "<div>\n",
       "<style scoped>\n",
       "    .dataframe tbody tr th:only-of-type {\n",
       "        vertical-align: middle;\n",
       "    }\n",
       "\n",
       "    .dataframe tbody tr th {\n",
       "        vertical-align: top;\n",
       "    }\n",
       "\n",
       "    .dataframe thead th {\n",
       "        text-align: right;\n",
       "    }\n",
       "</style>\n",
       "<table border=\"1\" class=\"dataframe\">\n",
       "  <thead>\n",
       "    <tr style=\"text-align: right;\">\n",
       "      <th>VB01001</th>\n",
       "      <th>Male</th>\n",
       "      <th>Female</th>\n",
       "    </tr>\n",
       "    <tr>\n",
       "      <th>VB11007</th>\n",
       "      <th></th>\n",
       "      <th></th>\n",
       "    </tr>\n",
       "  </thead>\n",
       "  <tbody>\n",
       "    <tr>\n",
       "      <th>Muito satisfeito(a)</th>\n",
       "      <td>58.203125</td>\n",
       "      <td>41.796875</td>\n",
       "    </tr>\n",
       "    <tr>\n",
       "      <th>Satisfeito(a)</th>\n",
       "      <td>50.433526</td>\n",
       "      <td>49.566474</td>\n",
       "    </tr>\n",
       "    <tr>\n",
       "      <th>Indiferente</th>\n",
       "      <td>52.573326</td>\n",
       "      <td>47.426674</td>\n",
       "    </tr>\n",
       "    <tr>\n",
       "      <th>Insatisfeito(a)</th>\n",
       "      <td>33.791917</td>\n",
       "      <td>66.208083</td>\n",
       "    </tr>\n",
       "    <tr>\n",
       "      <th>Muito insatisfeito(a)</th>\n",
       "      <td>36.414566</td>\n",
       "      <td>63.585434</td>\n",
       "    </tr>\n",
       "    <tr>\n",
       "      <th>Não informado</th>\n",
       "      <td>65.745856</td>\n",
       "      <td>34.254144</td>\n",
       "    </tr>\n",
       "  </tbody>\n",
       "</table>\n",
       "</div>"
      ],
      "text/plain": [
       "VB01001                     Male     Female\n",
       "VB11007                                    \n",
       "Muito satisfeito(a)    58.203125  41.796875\n",
       "Satisfeito(a)          50.433526  49.566474\n",
       "Indiferente            52.573326  47.426674\n",
       "Insatisfeito(a)        33.791917  66.208083\n",
       "Muito insatisfeito(a)  36.414566  63.585434\n",
       "Não informado          65.745856  34.254144"
      ]
     },
     "execution_count": 41,
     "metadata": {},
     "output_type": "execute_result"
    }
   ],
   "source": [
    "cross_frequency_VB11007_VB11001 = \\\n",
    "    pd.crosstab(pense_2015['VB11007'],\n",
    "                pense_2015['VB01001'],\n",
    "                normalize='index')*100\n",
    "\n",
    "cross_frequency_VB11007_VB11001.rename(index=VB11007_values,\n",
    "                                       inplace=True)\n",
    "\n",
    "cross_frequency_VB11007_VB11001.rename(columns={1: 'Male',\n",
    "                                                2: 'Female'},\n",
    "                                       inplace=True)\n",
    "\n",
    "cross_frequency_VB11007_VB11001"
   ]
  },
  {
   "cell_type": "markdown",
   "metadata": {},
   "source": [
    "**Challenge 02: Create other crosstabs. Search about aggfunc parameter, test it.**"
   ]
  },
  {
   "cell_type": "markdown",
   "metadata": {},
   "source": [
    "### Challenge 01: Create a frequency table to weight variable"
   ]
  },
  {
   "cell_type": "code",
   "execution_count": 42,
   "metadata": {},
   "outputs": [
    {
     "data": {
      "text/plain": [
       "0        157.0\n",
       "1        152.0\n",
       "2        161.4\n",
       "3        172.5\n",
       "4        167.5\n",
       "         ...  \n",
       "16551    167.9\n",
       "16552    185.8\n",
       "16553    159.4\n",
       "16554    157.8\n",
       "16555    163.9\n",
       "Name: VB17004, Length: 16556, dtype: float64"
      ]
     },
     "execution_count": 42,
     "metadata": {},
     "output_type": "execute_result"
    }
   ],
   "source": [
    "pense_2015['VB17004']"
   ]
  },
  {
   "cell_type": "code",
   "execution_count": 43,
   "metadata": {},
   "outputs": [
    {
     "data": {
      "text/plain": [
       "15"
      ]
     },
     "execution_count": 43,
     "metadata": {},
     "output_type": "execute_result"
    }
   ],
   "source": [
    "# number of classes\n",
    "k"
   ]
  },
  {
   "cell_type": "code",
   "execution_count": 44,
   "metadata": {},
   "outputs": [],
   "source": [
    "pense_2015['WEIGHT_CLASS'] = \\\n",
    "    pd.cut(x=pense_2015['VB17003'],\n",
    "           bins=k,\n",
    "           include_lowest=True)"
   ]
  },
  {
   "cell_type": "code",
   "execution_count": 45,
   "metadata": {},
   "outputs": [
    {
     "data": {
      "text/plain": [
       "0        (34.94, 46.32]\n",
       "1         (46.32, 57.7]\n",
       "2         (46.32, 57.7]\n",
       "3        (69.08, 80.46]\n",
       "4        (69.08, 80.46]\n",
       "              ...      \n",
       "16551     (46.32, 57.7]\n",
       "16552     (57.7, 69.08]\n",
       "16553     (57.7, 69.08]\n",
       "16554     (46.32, 57.7]\n",
       "16555     (57.7, 69.08]\n",
       "Name: WEIGHT_CLASS, Length: 16556, dtype: category\n",
       "Categories (15, interval[float64]): [(0.628, 12.18] < (12.18, 23.56] < (23.56, 34.94] < (34.94, 46.32] ... (125.98, 137.36] < (137.36, 148.74] < (148.74, 160.12] < (160.12, 171.5]]"
      ]
     },
     "execution_count": 45,
     "metadata": {},
     "output_type": "execute_result"
    }
   ],
   "source": [
    "pense_2015['WEIGHT_CLASS']"
   ]
  },
  {
   "cell_type": "code",
   "execution_count": 46,
   "metadata": {},
   "outputs": [
    {
     "data": {
      "text/html": [
       "<div>\n",
       "<style scoped>\n",
       "    .dataframe tbody tr th:only-of-type {\n",
       "        vertical-align: middle;\n",
       "    }\n",
       "\n",
       "    .dataframe tbody tr th {\n",
       "        vertical-align: top;\n",
       "    }\n",
       "\n",
       "    .dataframe thead th {\n",
       "        text-align: right;\n",
       "    }\n",
       "</style>\n",
       "<table border=\"1\" class=\"dataframe\">\n",
       "  <thead>\n",
       "    <tr style=\"text-align: right;\">\n",
       "      <th></th>\n",
       "      <th>count</th>\n",
       "      <th>percentage</th>\n",
       "    </tr>\n",
       "  </thead>\n",
       "  <tbody>\n",
       "    <tr>\n",
       "      <th>(46.32, 57.7]</th>\n",
       "      <td>5754</td>\n",
       "      <td>34.754772</td>\n",
       "    </tr>\n",
       "    <tr>\n",
       "      <th>(34.94, 46.32]</th>\n",
       "      <td>3852</td>\n",
       "      <td>23.266489</td>\n",
       "    </tr>\n",
       "    <tr>\n",
       "      <th>(57.7, 69.08]</th>\n",
       "      <td>3724</td>\n",
       "      <td>22.493356</td>\n",
       "    </tr>\n",
       "    <tr>\n",
       "      <th>(69.08, 80.46]</th>\n",
       "      <td>1425</td>\n",
       "      <td>8.607151</td>\n",
       "    </tr>\n",
       "    <tr>\n",
       "      <th>(23.56, 34.94]</th>\n",
       "      <td>927</td>\n",
       "      <td>5.599179</td>\n",
       "    </tr>\n",
       "    <tr>\n",
       "      <th>(80.46, 91.84]</th>\n",
       "      <td>544</td>\n",
       "      <td>3.285818</td>\n",
       "    </tr>\n",
       "    <tr>\n",
       "      <th>(91.84, 103.22]</th>\n",
       "      <td>202</td>\n",
       "      <td>1.220101</td>\n",
       "    </tr>\n",
       "    <tr>\n",
       "      <th>(103.22, 114.6]</th>\n",
       "      <td>77</td>\n",
       "      <td>0.465088</td>\n",
       "    </tr>\n",
       "    <tr>\n",
       "      <th>(114.6, 125.98]</th>\n",
       "      <td>20</td>\n",
       "      <td>0.120802</td>\n",
       "    </tr>\n",
       "    <tr>\n",
       "      <th>(125.98, 137.36]</th>\n",
       "      <td>15</td>\n",
       "      <td>0.090602</td>\n",
       "    </tr>\n",
       "    <tr>\n",
       "      <th>(137.36, 148.74]</th>\n",
       "      <td>6</td>\n",
       "      <td>0.036241</td>\n",
       "    </tr>\n",
       "    <tr>\n",
       "      <th>(148.74, 160.12]</th>\n",
       "      <td>4</td>\n",
       "      <td>0.024160</td>\n",
       "    </tr>\n",
       "    <tr>\n",
       "      <th>(12.18, 23.56]</th>\n",
       "      <td>3</td>\n",
       "      <td>0.018120</td>\n",
       "    </tr>\n",
       "    <tr>\n",
       "      <th>(160.12, 171.5]</th>\n",
       "      <td>2</td>\n",
       "      <td>0.012080</td>\n",
       "    </tr>\n",
       "    <tr>\n",
       "      <th>(0.628, 12.18]</th>\n",
       "      <td>1</td>\n",
       "      <td>0.006040</td>\n",
       "    </tr>\n",
       "  </tbody>\n",
       "</table>\n",
       "</div>"
      ],
      "text/plain": [
       "                  count  percentage\n",
       "(46.32, 57.7]      5754   34.754772\n",
       "(34.94, 46.32]     3852   23.266489\n",
       "(57.7, 69.08]      3724   22.493356\n",
       "(69.08, 80.46]     1425    8.607151\n",
       "(23.56, 34.94]      927    5.599179\n",
       "(80.46, 91.84]      544    3.285818\n",
       "(91.84, 103.22]     202    1.220101\n",
       "(103.22, 114.6]      77    0.465088\n",
       "(114.6, 125.98]      20    0.120802\n",
       "(125.98, 137.36]     15    0.090602\n",
       "(137.36, 148.74]      6    0.036241\n",
       "(148.74, 160.12]      4    0.024160\n",
       "(12.18, 23.56]        3    0.018120\n",
       "(160.12, 171.5]       2    0.012080\n",
       "(0.628, 12.18]        1    0.006040"
      ]
     },
     "execution_count": 46,
     "metadata": {},
     "output_type": "execute_result"
    }
   ],
   "source": [
    "create_dist_table('WEIGHT_CLASS')"
   ]
  },
  {
   "cell_type": "markdown",
   "metadata": {},
   "source": [
    "### Challenge 02: Create other crosstabs. Search about aggfunc parameter, test it"
   ]
  },
  {
   "cell_type": "code",
   "execution_count": 125,
   "metadata": {},
   "outputs": [
    {
     "name": "stdout",
     "output_type": "stream",
     "text": [
      "Region vs Race\n"
     ]
    },
    {
     "data": {
      "text/html": [
       "<div>\n",
       "<style scoped>\n",
       "    .dataframe tbody tr th:only-of-type {\n",
       "        vertical-align: middle;\n",
       "    }\n",
       "\n",
       "    .dataframe tbody tr th {\n",
       "        vertical-align: top;\n",
       "    }\n",
       "\n",
       "    .dataframe thead th {\n",
       "        text-align: right;\n",
       "    }\n",
       "</style>\n",
       "<table border=\"1\" class=\"dataframe\">\n",
       "  <thead>\n",
       "    <tr style=\"text-align: right;\">\n",
       "      <th>VB01002</th>\n",
       "      <th>White</th>\n",
       "      <th>Black</th>\n",
       "      <th>Yellow</th>\n",
       "      <th>Brown</th>\n",
       "      <th>Indigenous</th>\n",
       "      <th>Uninformed</th>\n",
       "    </tr>\n",
       "    <tr>\n",
       "      <th>REGEOGR</th>\n",
       "      <th></th>\n",
       "      <th></th>\n",
       "      <th></th>\n",
       "      <th></th>\n",
       "      <th></th>\n",
       "      <th></th>\n",
       "    </tr>\n",
       "  </thead>\n",
       "  <tbody>\n",
       "    <tr>\n",
       "      <th>North</th>\n",
       "      <td>13.429658</td>\n",
       "      <td>18.927282</td>\n",
       "      <td>19.382022</td>\n",
       "      <td>25.022302</td>\n",
       "      <td>19.965577</td>\n",
       "      <td>4.347826</td>\n",
       "    </tr>\n",
       "    <tr>\n",
       "      <th>Northeast</th>\n",
       "      <td>14.737643</td>\n",
       "      <td>25.580196</td>\n",
       "      <td>25.983146</td>\n",
       "      <td>24.620874</td>\n",
       "      <td>27.366609</td>\n",
       "      <td>0.000000</td>\n",
       "    </tr>\n",
       "    <tr>\n",
       "      <th>Southeast</th>\n",
       "      <td>20.866920</td>\n",
       "      <td>19.752450</td>\n",
       "      <td>17.556180</td>\n",
       "      <td>19.238775</td>\n",
       "      <td>16.006885</td>\n",
       "      <td>39.130435</td>\n",
       "    </tr>\n",
       "    <tr>\n",
       "      <th>South</th>\n",
       "      <td>31.087452</td>\n",
       "      <td>16.812790</td>\n",
       "      <td>14.747191</td>\n",
       "      <td>9.455843</td>\n",
       "      <td>15.834768</td>\n",
       "      <td>17.391304</td>\n",
       "    </tr>\n",
       "    <tr>\n",
       "      <th>Midwest</th>\n",
       "      <td>19.878327</td>\n",
       "      <td>18.927282</td>\n",
       "      <td>22.331461</td>\n",
       "      <td>21.662206</td>\n",
       "      <td>20.826162</td>\n",
       "      <td>39.130435</td>\n",
       "    </tr>\n",
       "  </tbody>\n",
       "</table>\n",
       "</div>"
      ],
      "text/plain": [
       "VB01002        White      Black     Yellow      Brown  Indigenous  Uninformed\n",
       "REGEOGR                                                                      \n",
       "North      13.429658  18.927282  19.382022  25.022302   19.965577    4.347826\n",
       "Northeast  14.737643  25.580196  25.983146  24.620874   27.366609    0.000000\n",
       "Southeast  20.866920  19.752450  17.556180  19.238775   16.006885   39.130435\n",
       "South      31.087452  16.812790  14.747191   9.455843   15.834768   17.391304\n",
       "Midwest    19.878327  18.927282  22.331461  21.662206   20.826162   39.130435"
      ]
     },
     "execution_count": 125,
     "metadata": {},
     "output_type": "execute_result"
    }
   ],
   "source": [
    "cross_frequency_REGEOGR_VB01002 = \\\n",
    "    pd.crosstab(pense_2015['REGEOGR'],\n",
    "                pense_2015['VB01002'],\n",
    "                normalize='columns')*100\n",
    "\n",
    "REGEOGR_values = {1: 'North',\n",
    "                  2: 'Northeast',\n",
    "                  3: 'Southeast',\n",
    "                  4: 'South',\n",
    "                  5: 'Midwest'}\n",
    "\n",
    "VB01002_values = {1: 'White',\n",
    "                  2: 'Black',\n",
    "                  3: 'Yellow',\n",
    "                  4: 'Brown',\n",
    "                  5: 'Indigenous',\n",
    "                  99: 'Uninformed'}\n",
    "\n",
    "cross_frequency_REGEOGR_VB01002 \\\n",
    "    .rename(index=REGEOGR_values,\n",
    "            columns=VB01002_values,\n",
    "            inplace=True)\n",
    "\n",
    "print('Region vs Race')\n",
    "cross_frequency_REGEOGR_VB01002"
   ]
  },
  {
   "cell_type": "code",
   "execution_count": 127,
   "metadata": {},
   "outputs": [
    {
     "name": "stdout",
     "output_type": "stream",
     "text": [
      "Region vs Age\n"
     ]
    },
    {
     "data": {
      "text/html": [
       "<div>\n",
       "<style scoped>\n",
       "    .dataframe tbody tr th:only-of-type {\n",
       "        vertical-align: middle;\n",
       "    }\n",
       "\n",
       "    .dataframe tbody tr th {\n",
       "        vertical-align: top;\n",
       "    }\n",
       "\n",
       "    .dataframe thead th {\n",
       "        text-align: right;\n",
       "    }\n",
       "</style>\n",
       "<table border=\"1\" class=\"dataframe\">\n",
       "  <thead>\n",
       "    <tr style=\"text-align: right;\">\n",
       "      <th>VB01003</th>\n",
       "      <th>=&lt;11 yo</th>\n",
       "      <th>12 yo</th>\n",
       "      <th>13 yo</th>\n",
       "      <th>14 yo</th>\n",
       "      <th>15 yo</th>\n",
       "      <th>16 yo</th>\n",
       "      <th>17 yo</th>\n",
       "      <th>18 yo</th>\n",
       "      <th>=&gt;19 yo</th>\n",
       "    </tr>\n",
       "    <tr>\n",
       "      <th>REGEOGR</th>\n",
       "      <th></th>\n",
       "      <th></th>\n",
       "      <th></th>\n",
       "      <th></th>\n",
       "      <th></th>\n",
       "      <th></th>\n",
       "      <th></th>\n",
       "      <th></th>\n",
       "      <th></th>\n",
       "    </tr>\n",
       "  </thead>\n",
       "  <tbody>\n",
       "    <tr>\n",
       "      <th>North</th>\n",
       "      <td>9.60</td>\n",
       "      <td>15.43</td>\n",
       "      <td>18.38</td>\n",
       "      <td>14.77</td>\n",
       "      <td>13.71</td>\n",
       "      <td>12.70</td>\n",
       "      <td>7.53</td>\n",
       "      <td>3.29</td>\n",
       "      <td>4.58</td>\n",
       "    </tr>\n",
       "    <tr>\n",
       "      <th>Northeast</th>\n",
       "      <td>12.21</td>\n",
       "      <td>15.70</td>\n",
       "      <td>12.27</td>\n",
       "      <td>11.57</td>\n",
       "      <td>16.39</td>\n",
       "      <td>15.01</td>\n",
       "      <td>10.48</td>\n",
       "      <td>4.01</td>\n",
       "      <td>2.37</td>\n",
       "    </tr>\n",
       "    <tr>\n",
       "      <th>Southeast</th>\n",
       "      <td>11.78</td>\n",
       "      <td>19.47</td>\n",
       "      <td>15.38</td>\n",
       "      <td>9.62</td>\n",
       "      <td>13.64</td>\n",
       "      <td>14.35</td>\n",
       "      <td>10.59</td>\n",
       "      <td>3.54</td>\n",
       "      <td>1.62</td>\n",
       "    </tr>\n",
       "    <tr>\n",
       "      <th>South</th>\n",
       "      <td>14.66</td>\n",
       "      <td>13.31</td>\n",
       "      <td>13.10</td>\n",
       "      <td>12.75</td>\n",
       "      <td>16.81</td>\n",
       "      <td>14.62</td>\n",
       "      <td>9.82</td>\n",
       "      <td>3.40</td>\n",
       "      <td>1.53</td>\n",
       "    </tr>\n",
       "    <tr>\n",
       "      <th>Midwest</th>\n",
       "      <td>14.24</td>\n",
       "      <td>15.58</td>\n",
       "      <td>18.30</td>\n",
       "      <td>15.70</td>\n",
       "      <td>12.69</td>\n",
       "      <td>11.87</td>\n",
       "      <td>7.95</td>\n",
       "      <td>2.75</td>\n",
       "      <td>0.91</td>\n",
       "    </tr>\n",
       "  </tbody>\n",
       "</table>\n",
       "</div>"
      ],
      "text/plain": [
       "VB01003    =<11 yo  12 yo  13 yo  14 yo  15 yo  16 yo  17 yo  18 yo  =>19 yo\n",
       "REGEOGR                                                                     \n",
       "North         9.60  15.43  18.38  14.77  13.71  12.70   7.53   3.29     4.58\n",
       "Northeast    12.21  15.70  12.27  11.57  16.39  15.01  10.48   4.01     2.37\n",
       "Southeast    11.78  19.47  15.38   9.62  13.64  14.35  10.59   3.54     1.62\n",
       "South        14.66  13.31  13.10  12.75  16.81  14.62   9.82   3.40     1.53\n",
       "Midwest      14.24  15.58  18.30  15.70  12.69  11.87   7.95   2.75     0.91"
      ]
     },
     "execution_count": 127,
     "metadata": {},
     "output_type": "execute_result"
    }
   ],
   "source": [
    "cross_frequency_REGEOGR_VB01003 = \\\n",
    "    round(pd.crosstab(pense_2015['REGEOGR'],\n",
    "                      pense_2015['VB01003'],\n",
    "                      normalize='index')*100, 2)\n",
    "\n",
    "VB01003_values = {11: '=<11 yo',\n",
    "                  12: '12 yo',\n",
    "                  13: '13 yo',\n",
    "                  14: '14 yo',\n",
    "                  15: '15 yo',\n",
    "                  16: '16 yo',\n",
    "                  17: '17 yo',\n",
    "                  18: '18 yo',\n",
    "                  19: '=>19 yo'}\n",
    "\n",
    "cross_frequency_REGEOGR_VB01003 \\\n",
    "    .rename(index=REGEOGR_values,\n",
    "            columns=VB01003_values,\n",
    "            inplace=True)\n",
    "\n",
    "\n",
    "print('Region vs Age')\n",
    "cross_frequency_REGEOGR_VB01003"
   ]
  },
  {
   "cell_type": "markdown",
   "metadata": {},
   "source": [
    "- aggfunc\n",
    "\n",
    "- https://medium.com/@yangdustin5/quick-guide-to-pandas-pivot-table-crosstab-40798b33e367"
   ]
  },
  {
   "cell_type": "code",
   "execution_count": 128,
   "metadata": {},
   "outputs": [
    {
     "name": "stdout",
     "output_type": "stream",
     "text": [
      "Region vs Race: Mean Age\n"
     ]
    },
    {
     "data": {
      "text/html": [
       "<div>\n",
       "<style scoped>\n",
       "    .dataframe tbody tr th:only-of-type {\n",
       "        vertical-align: middle;\n",
       "    }\n",
       "\n",
       "    .dataframe tbody tr th {\n",
       "        vertical-align: top;\n",
       "    }\n",
       "\n",
       "    .dataframe thead th {\n",
       "        text-align: right;\n",
       "    }\n",
       "</style>\n",
       "<table border=\"1\" class=\"dataframe\">\n",
       "  <thead>\n",
       "    <tr style=\"text-align: right;\">\n",
       "      <th>VB01002</th>\n",
       "      <th>White</th>\n",
       "      <th>Black</th>\n",
       "      <th>Yellow</th>\n",
       "      <th>Brown</th>\n",
       "      <th>Indigenous</th>\n",
       "      <th>Uninformed</th>\n",
       "    </tr>\n",
       "    <tr>\n",
       "      <th>REGEOGR</th>\n",
       "      <th></th>\n",
       "      <th></th>\n",
       "      <th></th>\n",
       "      <th></th>\n",
       "      <th></th>\n",
       "      <th></th>\n",
       "    </tr>\n",
       "  </thead>\n",
       "  <tbody>\n",
       "    <tr>\n",
       "      <th>North</th>\n",
       "      <td>14.00</td>\n",
       "      <td>14.16</td>\n",
       "      <td>13.97</td>\n",
       "      <td>14.33</td>\n",
       "      <td>14.21</td>\n",
       "      <td>12.00</td>\n",
       "    </tr>\n",
       "    <tr>\n",
       "      <th>Northeast</th>\n",
       "      <td>14.17</td>\n",
       "      <td>14.58</td>\n",
       "      <td>13.89</td>\n",
       "      <td>14.34</td>\n",
       "      <td>13.30</td>\n",
       "      <td>NaN</td>\n",
       "    </tr>\n",
       "    <tr>\n",
       "      <th>Southeast</th>\n",
       "      <td>13.94</td>\n",
       "      <td>14.42</td>\n",
       "      <td>14.16</td>\n",
       "      <td>14.13</td>\n",
       "      <td>13.71</td>\n",
       "      <td>12.33</td>\n",
       "    </tr>\n",
       "    <tr>\n",
       "      <th>South</th>\n",
       "      <td>14.16</td>\n",
       "      <td>14.04</td>\n",
       "      <td>13.89</td>\n",
       "      <td>14.26</td>\n",
       "      <td>13.36</td>\n",
       "      <td>11.50</td>\n",
       "    </tr>\n",
       "    <tr>\n",
       "      <th>Midwest</th>\n",
       "      <td>13.78</td>\n",
       "      <td>13.78</td>\n",
       "      <td>13.91</td>\n",
       "      <td>13.97</td>\n",
       "      <td>12.87</td>\n",
       "      <td>13.33</td>\n",
       "    </tr>\n",
       "  </tbody>\n",
       "</table>\n",
       "</div>"
      ],
      "text/plain": [
       "VB01002    White  Black  Yellow  Brown  Indigenous  Uninformed\n",
       "REGEOGR                                                       \n",
       "North      14.00  14.16   13.97  14.33       14.21       12.00\n",
       "Northeast  14.17  14.58   13.89  14.34       13.30         NaN\n",
       "Southeast  13.94  14.42   14.16  14.13       13.71       12.33\n",
       "South      14.16  14.04   13.89  14.26       13.36       11.50\n",
       "Midwest    13.78  13.78   13.91  13.97       12.87       13.33"
      ]
     },
     "execution_count": 128,
     "metadata": {},
     "output_type": "execute_result"
    }
   ],
   "source": [
    "cross_frequency_REGEOGR_VB01002_agg_VB01003 = \\\n",
    "    pd.crosstab(pense_2015['REGEOGR'],\n",
    "                pense_2015['VB01002'],\n",
    "                values=pense_2015['VB01003'],\n",
    "                aggfunc='mean').round(2)\n",
    "\n",
    "cross_frequency_REGEOGR_VB01002_agg_VB01003 \\\n",
    "    .rename(index=REGEOGR_values,\n",
    "            columns=VB01002_values,\n",
    "            inplace=True)\n",
    "\n",
    "print('Region vs Race: Mean Age')\n",
    "cross_frequency_REGEOGR_VB01002_agg_VB01003"
   ]
  },
  {
   "cell_type": "markdown",
   "metadata": {},
   "source": [
    "- an equivalent code snippet:"
   ]
  },
  {
   "cell_type": "code",
   "execution_count": 129,
   "metadata": {},
   "outputs": [
    {
     "data": {
      "text/html": [
       "<div>\n",
       "<style scoped>\n",
       "    .dataframe tbody tr th:only-of-type {\n",
       "        vertical-align: middle;\n",
       "    }\n",
       "\n",
       "    .dataframe tbody tr th {\n",
       "        vertical-align: top;\n",
       "    }\n",
       "\n",
       "    .dataframe thead th {\n",
       "        text-align: right;\n",
       "    }\n",
       "</style>\n",
       "<table border=\"1\" class=\"dataframe\">\n",
       "  <thead>\n",
       "    <tr style=\"text-align: right;\">\n",
       "      <th>VB01002</th>\n",
       "      <th>White</th>\n",
       "      <th>Black</th>\n",
       "      <th>Yellow</th>\n",
       "      <th>Brown</th>\n",
       "      <th>Indigenous</th>\n",
       "      <th>Uninformed</th>\n",
       "    </tr>\n",
       "    <tr>\n",
       "      <th>REGEOGR</th>\n",
       "      <th></th>\n",
       "      <th></th>\n",
       "      <th></th>\n",
       "      <th></th>\n",
       "      <th></th>\n",
       "      <th></th>\n",
       "    </tr>\n",
       "  </thead>\n",
       "  <tbody>\n",
       "    <tr>\n",
       "      <th>North</th>\n",
       "      <td>14.00</td>\n",
       "      <td>14.16</td>\n",
       "      <td>13.97</td>\n",
       "      <td>14.33</td>\n",
       "      <td>14.21</td>\n",
       "      <td>12.00</td>\n",
       "    </tr>\n",
       "    <tr>\n",
       "      <th>Northeast</th>\n",
       "      <td>14.17</td>\n",
       "      <td>14.58</td>\n",
       "      <td>13.89</td>\n",
       "      <td>14.34</td>\n",
       "      <td>13.30</td>\n",
       "      <td>NaN</td>\n",
       "    </tr>\n",
       "    <tr>\n",
       "      <th>Southeast</th>\n",
       "      <td>13.94</td>\n",
       "      <td>14.42</td>\n",
       "      <td>14.16</td>\n",
       "      <td>14.13</td>\n",
       "      <td>13.71</td>\n",
       "      <td>12.33</td>\n",
       "    </tr>\n",
       "    <tr>\n",
       "      <th>South</th>\n",
       "      <td>14.16</td>\n",
       "      <td>14.04</td>\n",
       "      <td>13.89</td>\n",
       "      <td>14.26</td>\n",
       "      <td>13.36</td>\n",
       "      <td>11.50</td>\n",
       "    </tr>\n",
       "    <tr>\n",
       "      <th>Midwest</th>\n",
       "      <td>13.78</td>\n",
       "      <td>13.78</td>\n",
       "      <td>13.91</td>\n",
       "      <td>13.97</td>\n",
       "      <td>12.87</td>\n",
       "      <td>13.33</td>\n",
       "    </tr>\n",
       "  </tbody>\n",
       "</table>\n",
       "</div>"
      ],
      "text/plain": [
       "VB01002    White  Black  Yellow  Brown  Indigenous  Uninformed\n",
       "REGEOGR                                                       \n",
       "North      14.00  14.16   13.97  14.33       14.21       12.00\n",
       "Northeast  14.17  14.58   13.89  14.34       13.30         NaN\n",
       "Southeast  13.94  14.42   14.16  14.13       13.71       12.33\n",
       "South      14.16  14.04   13.89  14.26       13.36       11.50\n",
       "Midwest    13.78  13.78   13.91  13.97       12.87       13.33"
      ]
     },
     "execution_count": 129,
     "metadata": {},
     "output_type": "execute_result"
    }
   ],
   "source": [
    "pivot_REGEOGR_VB01002_agg_VB01003 = \\\n",
    "    pd.pivot_table(pense_2015, index='REGEOGR',\n",
    "                   columns='VB01002', values='VB01003',\n",
    "                   aggfunc='mean') \\\n",
    "      .round(2)\n",
    "\n",
    "pivot_REGEOGR_VB01002_agg_VB01003 \\\n",
    "      .rename(index=REGEOGR_values,\n",
    "              columns=VB01002_values,\n",
    "              inplace=True)\n",
    "\n",
    "pivot_REGEOGR_VB01002_agg_VB01003"
   ]
  },
  {
   "cell_type": "markdown",
   "metadata": {},
   "source": [
    "# Lesson 4 - Histograms and Boxplot\n",
    "\n",
    "---"
   ]
  },
  {
   "cell_type": "markdown",
   "metadata": {},
   "source": [
    "# Lesson 4 - Part 01 - Histograms and Distributions"
   ]
  },
  {
   "cell_type": "code",
   "execution_count": 51,
   "metadata": {},
   "outputs": [
    {
     "data": {
      "image/png": "[encoded data removed]",
      "text/plain": [
       "<Figure size 648x432 with 1 Axes>"
      ]
     },
     "metadata": {
      "needs_background": "light"
     },
     "output_type": "display_data"
    }
   ],
   "source": [
    "# height distribution\n",
    "ax = sns.histplot(data=pense_2015,\n",
    "                  x='VB17004',\n",
    "                  bins=k)\n",
    "\n",
    "ax.figure.set_size_inches(9,6)\n",
    "ax.set_title('Frequency Distribution of Height')\n",
    "ax.set_xlabel('height')\n",
    "\n",
    "plt.show()"
   ]
  },
  {
   "cell_type": "markdown",
   "metadata": {},
   "source": [
    "- we can see how much the values are varying from the average\n",
    "\n",
    "**Challenge 01: Calculate the standard deviation, mean, mode, and median. Show all this information on the graph.**"
   ]
  },
  {
   "cell_type": "code",
   "execution_count": 52,
   "metadata": {},
   "outputs": [
    {
     "data": {
      "image/png": "[encoded data removed]",
      "text/plain": [
       "<Figure size 648x432 with 1 Axes>"
      ]
     },
     "metadata": {
      "needs_background": "light"
     },
     "output_type": "display_data"
    }
   ],
   "source": [
    "# height distribution\n",
    "ax = sns.histplot(data=pense_2015,\n",
    "                  x='VB17004', kde=True)\n",
    "\n",
    "ax.figure.set_size_inches(9,6)\n",
    "ax.set_title('Frequency Distribution of Height')\n",
    "ax.set_xlabel('height')\n",
    "\n",
    "plt.show()"
   ]
  },
  {
   "cell_type": "markdown",
   "metadata": {},
   "source": [
    "- see about bins parameter: https://numpy.org/doc/stable/reference/generated/numpy.histogram_bin_edges.html#numpy.histogram_bin_edges"
   ]
  },
  {
   "cell_type": "code",
   "execution_count": 88,
   "metadata": {},
   "outputs": [
    {
     "data": {
      "image/png": "[encoded data removed]",
      "text/plain": [
       "<Figure size 648x432 with 1 Axes>"
      ]
     },
     "metadata": {
      "needs_background": "light"
     },
     "output_type": "display_data"
    }
   ],
   "source": [
    "# height distribution men vs women\n",
    "ax = sns.histplot(data=pense_2015,\n",
    "                  x='VB17004', \n",
    "                  kde=True, hue='VB01001')\n",
    "\n",
    "ax.figure.set_size_inches(9,6)\n",
    "ax.set_title('Frequency Distribution of Height: Men vs Women')\n",
    "ax.set_xlabel('height')\n",
    "\n",
    "plt.legend(labels=['women', 'men'])\n",
    "plt.show()"
   ]
  },
  {
   "cell_type": "code",
   "execution_count": 54,
   "metadata": {},
   "outputs": [
    {
     "data": {
      "text/html": [
       "<div>\n",
       "<style scoped>\n",
       "    .dataframe tbody tr th:only-of-type {\n",
       "        vertical-align: middle;\n",
       "    }\n",
       "\n",
       "    .dataframe tbody tr th {\n",
       "        vertical-align: top;\n",
       "    }\n",
       "\n",
       "    .dataframe thead th {\n",
       "        text-align: right;\n",
       "    }\n",
       "</style>\n",
       "<table border=\"1\" class=\"dataframe\">\n",
       "  <thead>\n",
       "    <tr style=\"text-align: right;\">\n",
       "      <th></th>\n",
       "      <th>VARIÁVEL</th>\n",
       "      <th>QUESTIONÁRIO DO ALUNO</th>\n",
       "    </tr>\n",
       "  </thead>\n",
       "  <tbody>\n",
       "    <tr>\n",
       "      <th>11</th>\n",
       "      <td>VB01001</td>\n",
       "      <td>Qual é o seu sexo?</td>\n",
       "    </tr>\n",
       "    <tr>\n",
       "      <th>12</th>\n",
       "      <td>1</td>\n",
       "      <td>Masculino</td>\n",
       "    </tr>\n",
       "    <tr>\n",
       "      <th>13</th>\n",
       "      <td>2</td>\n",
       "      <td>Feminino</td>\n",
       "    </tr>\n",
       "  </tbody>\n",
       "</table>\n",
       "</div>"
      ],
      "text/plain": [
       "   VARIÁVEL QUESTIONÁRIO DO ALUNO\n",
       "11  VB01001    Qual é o seu sexo?\n",
       "12        1             Masculino\n",
       "13        2              Feminino"
      ]
     },
     "execution_count": 54,
     "metadata": {},
     "output_type": "execute_result"
    }
   ],
   "source": [
    "dictionary_for_student_variable('VB01001')"
   ]
  },
  {
   "cell_type": "code",
   "execution_count": 55,
   "metadata": {},
   "outputs": [
    {
     "data": {
      "image/png": "[encoded data removed]",
      "text/plain": [
       "<Figure size 648x432 with 1 Axes>"
      ]
     },
     "metadata": {
      "needs_background": "light"
     },
     "output_type": "display_data"
    }
   ],
   "source": [
    "ax = sns.histplot(data=pense_2015,\n",
    "                  x='VB17004', \n",
    "                  kde=True, hue='VB01003')\n",
    "\n",
    "ax.figure.set_size_inches(9,6)\n",
    "ax.set_title('Frequency Distribution of Height: Age')\n",
    "ax.set_xlabel('height')\n",
    "\n",
    "plt.show()"
   ]
  },
  {
   "cell_type": "markdown",
   "metadata": {},
   "source": [
    "- need improvements! So many classes to analyse in the same plot.\n",
    "\n",
    "**Challenge 02: Create histograms for other variables and analyse them.**"
   ]
  },
  {
   "cell_type": "markdown",
   "metadata": {},
   "source": [
    "### Challenge 01: Calculate the standard deviation, mean, mode, and median. Show all this information on the graph"
   ]
  },
  {
   "cell_type": "code",
   "execution_count": 56,
   "metadata": {},
   "outputs": [
    {
     "data": {
      "image/png": "[encoded data removed]",
      "text/plain": [
       "<Figure size 864x432 with 1 Axes>"
      ]
     },
     "metadata": {
      "needs_background": "light"
     },
     "output_type": "display_data"
    }
   ],
   "source": [
    "ax = sns.histplot(data=pense_2015,\n",
    "                  x='VB17004',\n",
    "                  bins=k)\n",
    "\n",
    "\n",
    "mean_VB17004 = pense_2015['VB17004'].mean()\n",
    "median_VB17004 = pense_2015['VB17004'].median()\n",
    "mode_VB17004 = pense_2015['VB17004'].mode()[0]\n",
    "std_VB17004 = pense_2015['VB17004'].std()\n",
    "\n",
    "ax.axvline(mean_VB17004, color='c', \n",
    "           linestyle='-', linewidth=3.6)\n",
    "ax.axvline(median_VB17004, color='r', \n",
    "           linestyle='-.', linewidth=3.6)\n",
    "ax.axvline(mode_VB17004, color='y', \n",
    "           linestyle='--', linewidth=3.6)\n",
    "ax.axvline(std_VB17004, color='g', \n",
    "           linestyle='-', linewidth=3.6)\n",
    "\n",
    "ax.figure.set_size_inches(12,6)\n",
    "ax.set_title('Frequency Distribution')\n",
    "ax.set_xlabel('height')\n",
    "\n",
    "plt.legend({'Mean': mean_VB17004, 'Median': median_VB17004,\n",
    "            'Mode': mode_VB17004, 'Std': std_VB17004})\n",
    "\n",
    "ax;"
   ]
  },
  {
   "cell_type": "markdown",
   "metadata": {},
   "source": [
    "### Challenge 02: Create histograms for other variables and analyse them"
   ]
  },
  {
   "cell_type": "code",
   "execution_count": 57,
   "metadata": {},
   "outputs": [],
   "source": [
    "def histogram(x_var:str, x_label:str, hue: str):\n",
    "    ax = sns.histplot(data=pense_2015,\n",
    "                      x=x_var,\n",
    "                      bins=k, \n",
    "                      kde=True,\n",
    "                      hue=hue)\n",
    "\n",
    "    ax.figure.set_size_inches(12,6)\n",
    "    ax.set_title(f'Frequency Distribution of {x_label} by {hue}')\n",
    "    ax.set_xlabel(x_label)\n",
    "    \n",
    "    return ax"
   ]
  },
  {
   "cell_type": "code",
   "execution_count": 58,
   "metadata": {},
   "outputs": [
    {
     "data": {
      "image/png": "[encoded data removed]",
      "text/plain": [
       "<Figure size 864x432 with 1 Axes>"
      ]
     },
     "metadata": {
      "needs_background": "light"
     },
     "output_type": "display_data"
    }
   ],
   "source": [
    "histogram(x_var='VB17004', x_label='height', \n",
    "          hue='VB01001');"
   ]
  },
  {
   "cell_type": "code",
   "execution_count": 59,
   "metadata": {},
   "outputs": [
    {
     "data": {
      "image/png": "[encoded data removed]",
      "text/plain": [
       "<Figure size 864x432 with 1 Axes>"
      ]
     },
     "metadata": {
      "needs_background": "light"
     },
     "output_type": "display_data"
    }
   ],
   "source": [
    "histogram('VB17003', 'weight', 'VB01001');"
   ]
  },
  {
   "cell_type": "code",
   "execution_count": 60,
   "metadata": {},
   "outputs": [
    {
     "data": {
      "image/png": "[encoded data removed]",
      "text/plain": [
       "<Figure size 864x432 with 1 Axes>"
      ]
     },
     "metadata": {
      "needs_background": "light"
     },
     "output_type": "display_data"
    }
   ],
   "source": [
    "histogram('BMI', 'BMI', 'VB01001');"
   ]
  },
  {
   "cell_type": "markdown",
   "metadata": {},
   "source": [
    "- men are taller but weigh more when compared to women\n",
    "- the distribution of body mass index is similar between women and men"
   ]
  },
  {
   "cell_type": "markdown",
   "metadata": {},
   "source": [
    "# Lesson 4 - Part 02 - Boxplot and Separatrices\n",
    "\n",
    "---"
   ]
  },
  {
   "cell_type": "code",
   "execution_count": 65,
   "metadata": {},
   "outputs": [
    {
     "data": {
      "image/png": "[encoded data removed]",
      "text/plain": [
       "<Figure size 648x432 with 1 Axes>"
      ]
     },
     "metadata": {
      "needs_background": "light"
     },
     "output_type": "display_data"
    }
   ],
   "source": [
    "ax = sns.boxplot(data=pense_2015, x='VB17004')\n",
    "\n",
    "ax.figure.set_size_inches(9,6)\n",
    "ax.set_title('Height Boxplot')\n",
    "ax.set_xlabel('height')\n",
    "\n",
    "ax;"
   ]
  },
  {
   "cell_type": "code",
   "execution_count": 73,
   "metadata": {},
   "outputs": [
    {
     "name": "stdout",
     "output_type": "stream",
     "text": [
      "25% of the sample is below: \n",
      "153.8\n"
     ]
    }
   ],
   "source": [
    "print('25% of the sample is below: ')\n",
    "print(pense_2015['VB17004'].quantile(0.25))"
   ]
  },
  {
   "cell_type": "code",
   "execution_count": 81,
   "metadata": {},
   "outputs": [
    {
     "name": "stdout",
     "output_type": "stream",
     "text": [
      "50% of the sample is below/over: \n",
      "160.4\n",
      "It represents the median\n"
     ]
    }
   ],
   "source": [
    "print('50% of the sample is below/over: ')\n",
    "print(pense_2015['VB17004'].quantile(0.5))\n",
    "print('It represents the median')"
   ]
  },
  {
   "cell_type": "code",
   "execution_count": 79,
   "metadata": {},
   "outputs": [
    {
     "name": "stdout",
     "output_type": "stream",
     "text": [
      "75% of the sample is below: \n",
      "167.9\n"
     ]
    }
   ],
   "source": [
    "print('75% of the sample is below: ')\n",
    "print(pense_2015['VB17004'].quantile(0.75))"
   ]
  },
  {
   "cell_type": "code",
   "execution_count": 82,
   "metadata": {},
   "outputs": [
    {
     "name": "stdout",
     "output_type": "stream",
     "text": [
      "Minimum value of the sample: \n"
     ]
    },
    {
     "data": {
      "text/plain": [
       "124.1"
      ]
     },
     "execution_count": 82,
     "metadata": {},
     "output_type": "execute_result"
    }
   ],
   "source": [
    "print('Minimum value of the sample: ')\n",
    "pense_2015['VB17004'].min()"
   ]
  },
  {
   "cell_type": "code",
   "execution_count": 83,
   "metadata": {},
   "outputs": [
    {
     "name": "stdout",
     "output_type": "stream",
     "text": [
      "Maximum value of the sample: \n"
     ]
    },
    {
     "data": {
      "text/plain": [
       "195.3"
      ]
     },
     "execution_count": 83,
     "metadata": {},
     "output_type": "execute_result"
    }
   ],
   "source": [
    "print('Maximum value of the sample: ')\n",
    "pense_2015['VB17004'].max()"
   ]
  },
  {
   "cell_type": "markdown",
   "metadata": {},
   "source": [
    "- The minimum and maximum in this case are outliers. They are not the min and max of the boxplot limits.\n",
    "\n",
    "\n",
    "**Challenge 03: Understand how the boxplot determines the outliers, how it creates a range that determines the values that is not outliers.**"
   ]
  },
  {
   "cell_type": "code",
   "execution_count": 94,
   "metadata": {},
   "outputs": [
    {
     "data": {
      "image/png": "[encoded data removed]",
      "text/plain": [
       "<Figure size 648x432 with 1 Axes>"
      ]
     },
     "metadata": {
      "needs_background": "light"
     },
     "output_type": "display_data"
    }
   ],
   "source": [
    "ax = sns.boxplot(data=pense_2015, x='VB17004',\n",
    "                 y='VB01001', orient='h')\n",
    "\n",
    "ax.figure.set_size_inches(9,6)\n",
    "ax.set_title('Height Boxplot: Men vs Women')\n",
    "ax.set_xlabel('height')\n",
    "ax.set_ylabel('gender')\n",
    "ax;"
   ]
  },
  {
   "cell_type": "code",
   "execution_count": 89,
   "metadata": {},
   "outputs": [
    {
     "data": {
      "image/png": "[encoded data removed]",
      "text/plain": [
       "<Figure size 648x432 with 1 Axes>"
      ]
     },
     "metadata": {
      "needs_background": "light"
     },
     "output_type": "display_data"
    }
   ],
   "source": [
    "ax = sns.histplot(data=pense_2015,\n",
    "                  x='VB17004', \n",
    "                  kde=True, hue='VB01001')\n",
    "\n",
    "ax.figure.set_size_inches(9,6)\n",
    "ax.set_title('Frequency Distribution of Height: Men vs Women')\n",
    "ax.set_xlabel('height')\n",
    "\n",
    "plt.legend(labels=['women', 'men'])\n",
    "plt.show()"
   ]
  },
  {
   "cell_type": "code",
   "execution_count": 92,
   "metadata": {},
   "outputs": [
    {
     "data": {
      "image/png": "[encoded data removed]",
      "text/plain": [
       "<Figure size 648x432 with 1 Axes>"
      ]
     },
     "metadata": {
      "needs_background": "light"
     },
     "output_type": "display_data"
    }
   ],
   "source": [
    "ax = sns.boxplot(data=pense_2015, x='VB01003',\n",
    "                 y='VB17004')\n",
    "\n",
    "ax.figure.set_size_inches(9,6)\n",
    "ax.set_title('Height by Age Boxplot')\n",
    "ax.set_ylabel('height')\n",
    "ax.set_xlabel('age')\n",
    "ax;"
   ]
  },
  {
   "cell_type": "code",
   "execution_count": 93,
   "metadata": {},
   "outputs": [
    {
     "data": {
      "image/png": "[encoded data removed]",
      "text/plain": [
       "<Figure size 648x432 with 1 Axes>"
      ]
     },
     "metadata": {
      "needs_background": "light"
     },
     "output_type": "display_data"
    }
   ],
   "source": [
    "ax = sns.boxplot(data=pense_2015, x='VB01003',\n",
    "                 y='VB17004', hue='VB01001')\n",
    "\n",
    "ax.figure.set_size_inches(9,6)\n",
    "ax.set_title('Height by Age Boxplot')\n",
    "ax.set_ylabel('height')\n",
    "ax.set_xlabel('age')\n",
    "ax;"
   ]
  },
  {
   "cell_type": "markdown",
   "metadata": {},
   "source": [
    "- at the age of 13 it seems that female people are 'slowing growth'.\n",
    "- after the age of 15 it seems that the difference between the higher of male and female people increases."
   ]
  },
  {
   "cell_type": "code",
   "execution_count": 99,
   "metadata": {},
   "outputs": [
    {
     "data": {
      "image/png": "[encoded data removed]",
      "text/plain": [
       "<Figure size 648x432 with 1 Axes>"
      ]
     },
     "metadata": {
      "needs_background": "light"
     },
     "output_type": "display_data"
    }
   ],
   "source": [
    "ax = sns.histplot(data=pense_2015,\n",
    "                  x='VB17004', kde=True,\n",
    "                  cumulative=True,\n",
    "                  stat='density',\n",
    "                  bins=5)\n",
    "\n",
    "ax.figure.set_size_inches(9,6)\n",
    "ax.set_title('Accumulated Histogram of Height')\n",
    "ax.set_xlabel('height')\n",
    "\n",
    "plt.show()"
   ]
  },
  {
   "cell_type": "markdown",
   "metadata": {},
   "source": [
    "- if we imagine a line on 0.2 density we can see that 20% of the sample population is up to around 152cm tall.\n",
    "\n",
    "- also we can conclude that 80% of the sample population is up to almost 170cm tall."
   ]
  },
  {
   "cell_type": "code",
   "execution_count": 100,
   "metadata": {},
   "outputs": [
    {
     "name": "stdout",
     "output_type": "stream",
     "text": [
      "20% of the sample is below: \n",
      "152.0\n"
     ]
    }
   ],
   "source": [
    "print('20% of the sample is below: ')\n",
    "print(pense_2015['VB17004'].quantile(0.20))"
   ]
  },
  {
   "cell_type": "code",
   "execution_count": 101,
   "metadata": {},
   "outputs": [
    {
     "name": "stdout",
     "output_type": "stream",
     "text": [
      "80% of the sample is below: \n",
      "169.7\n"
     ]
    }
   ],
   "source": [
    "print('80% of the sample is below: ')\n",
    "print(pense_2015['VB17004'].quantile(0.80))"
   ]
  },
  {
   "cell_type": "markdown",
   "metadata": {},
   "source": [
    "### Challenge 03: Understand how the boxplot determines the outliers, how it creates a range that determines the values that is not outliers\n",
    "\n",
    "Calcule it!"
   ]
  },
  {
   "cell_type": "markdown",
   "metadata": {},
   "source": [
    "The box shows the quartiles of the dataset while the whiskers extend to show the rest of the distribution, except for points that are determined to be “outliers” using a method that is a function of the **inter-quartile range**. <br>\n",
    "\n",
    "Outliers here are defined as observations that fall below Q1 − 1.5 IQR or above Q3 + 1.5 IQR.\n",
    "\n",
    "https://en.wikipedia.org/wiki/Interquartile_range"
   ]
  },
  {
   "cell_type": "code",
   "execution_count": 104,
   "metadata": {},
   "outputs": [
    {
     "name": "stdout",
     "output_type": "stream",
     "text": [
      "It is an outlier if it is lower than\n",
      "132.65000000000003\n",
      "and higher than\n",
      "189.05\n"
     ]
    }
   ],
   "source": [
    "# IQR: interquartile range\n",
    "Q1 = pense_2015['VB17004'].quantile(0.25)\n",
    "Q3 = pense_2015['VB17004'].quantile(0.75)\n",
    "\n",
    "IQR = Q3 - Q1\n",
    "IQR\n",
    "\n",
    "print('It is an outlier if it is lower than')\n",
    "print(Q1 - 1.5 * IQR)\n",
    "print('and higher than')\n",
    "print(Q3 + 1.5 * IQR)"
   ]
  },
  {
   "cell_type": "markdown",
   "metadata": {},
   "source": [
    "# Lesson 5 - Centrality and Dispersion Measures\n",
    "\n",
    "---"
   ]
  },
  {
   "cell_type": "markdown",
   "metadata": {},
   "source": [
    "# Lesson 5 - Part 01 -  Centrality Measures"
   ]
  },
  {
   "cell_type": "code",
   "execution_count": 105,
   "metadata": {},
   "outputs": [
    {
     "data": {
      "text/plain": [
       "160.71311307079006"
      ]
     },
     "execution_count": 105,
     "metadata": {},
     "output_type": "execute_result"
    }
   ],
   "source": [
    "pense_2015['VB17004'].mean()"
   ]
  },
  {
   "cell_type": "code",
   "execution_count": 106,
   "metadata": {},
   "outputs": [
    {
     "data": {
      "text/plain": [
       "VB01001\n",
       "1    163.860758\n",
       "2    157.558617\n",
       "Name: VB17004, dtype: float64"
      ]
     },
     "execution_count": 106,
     "metadata": {},
     "output_type": "execute_result"
    }
   ],
   "source": [
    "pense_2015.groupby('VB01001').mean()['VB17004']"
   ]
  },
  {
   "cell_type": "code",
   "execution_count": 107,
   "metadata": {},
   "outputs": [
    {
     "data": {
      "text/html": [
       "<div>\n",
       "<style scoped>\n",
       "    .dataframe tbody tr th:only-of-type {\n",
       "        vertical-align: middle;\n",
       "    }\n",
       "\n",
       "    .dataframe tbody tr th {\n",
       "        vertical-align: top;\n",
       "    }\n",
       "\n",
       "    .dataframe thead th {\n",
       "        text-align: right;\n",
       "    }\n",
       "</style>\n",
       "<table border=\"1\" class=\"dataframe\">\n",
       "  <thead>\n",
       "    <tr style=\"text-align: right;\">\n",
       "      <th></th>\n",
       "      <th>VARIÁVEL</th>\n",
       "      <th>QUESTIONÁRIO DO ALUNO</th>\n",
       "    </tr>\n",
       "  </thead>\n",
       "  <tbody>\n",
       "    <tr>\n",
       "      <th>11</th>\n",
       "      <td>VB01001</td>\n",
       "      <td>Qual é o seu sexo?</td>\n",
       "    </tr>\n",
       "    <tr>\n",
       "      <th>12</th>\n",
       "      <td>1</td>\n",
       "      <td>Masculino</td>\n",
       "    </tr>\n",
       "    <tr>\n",
       "      <th>13</th>\n",
       "      <td>2</td>\n",
       "      <td>Feminino</td>\n",
       "    </tr>\n",
       "  </tbody>\n",
       "</table>\n",
       "</div>"
      ],
      "text/plain": [
       "   VARIÁVEL QUESTIONÁRIO DO ALUNO\n",
       "11  VB01001    Qual é o seu sexo?\n",
       "12        1             Masculino\n",
       "13        2              Feminino"
      ]
     },
     "execution_count": 107,
     "metadata": {},
     "output_type": "execute_result"
    }
   ],
   "source": [
    "dictionary_for_student_variable('VB01001')"
   ]
  },
  {
   "cell_type": "markdown",
   "metadata": {},
   "source": [
    "**Challenge 01: Plot boxplot, histograms or frequency tables, analyze the mean and median for other variables.**\n",
    "Describe other variables.\n",
    "\n",
    "Qualitative data: frequency tables, percentages <br>\n",
    "Quantitative data: boxplot, histogram and measures of centrality"
   ]
  },
  {
   "cell_type": "code",
   "execution_count": 108,
   "metadata": {},
   "outputs": [
    {
     "data": {
      "text/plain": [
       "0    160.0\n",
       "dtype: float64"
      ]
     },
     "execution_count": 108,
     "metadata": {},
     "output_type": "execute_result"
    }
   ],
   "source": [
    "pense_2015['VB17004'].mode()"
   ]
  },
  {
   "cell_type": "markdown",
   "metadata": {},
   "source": [
    "- multimodal: characterized by several different modes of activity or occurrence."
   ]
  },
  {
   "cell_type": "code",
   "execution_count": 115,
   "metadata": {},
   "outputs": [
    {
     "data": {
      "text/html": [
       "<div>\n",
       "<style scoped>\n",
       "    .dataframe tbody tr th:only-of-type {\n",
       "        vertical-align: middle;\n",
       "    }\n",
       "\n",
       "    .dataframe tbody tr th {\n",
       "        vertical-align: top;\n",
       "    }\n",
       "\n",
       "    .dataframe thead th {\n",
       "        text-align: right;\n",
       "    }\n",
       "</style>\n",
       "<table border=\"1\" class=\"dataframe\">\n",
       "  <thead>\n",
       "    <tr style=\"text-align: right;\">\n",
       "      <th></th>\n",
       "      <th></th>\n",
       "      <th>VB17004</th>\n",
       "    </tr>\n",
       "    <tr>\n",
       "      <th>VB01001</th>\n",
       "      <th>VB01003</th>\n",
       "      <th></th>\n",
       "    </tr>\n",
       "  </thead>\n",
       "  <tbody>\n",
       "    <tr>\n",
       "      <th rowspan=\"9\" valign=\"top\">1</th>\n",
       "      <th>11</th>\n",
       "      <td>147.62</td>\n",
       "    </tr>\n",
       "    <tr>\n",
       "      <th>12</th>\n",
       "      <td>153.70</td>\n",
       "    </tr>\n",
       "    <tr>\n",
       "      <th>13</th>\n",
       "      <td>160.72</td>\n",
       "    </tr>\n",
       "    <tr>\n",
       "      <th>14</th>\n",
       "      <td>166.41</td>\n",
       "    </tr>\n",
       "    <tr>\n",
       "      <th>15</th>\n",
       "      <td>170.34</td>\n",
       "    </tr>\n",
       "    <tr>\n",
       "      <th>16</th>\n",
       "      <td>172.42</td>\n",
       "    </tr>\n",
       "    <tr>\n",
       "      <th>17</th>\n",
       "      <td>173.81</td>\n",
       "    </tr>\n",
       "    <tr>\n",
       "      <th>18</th>\n",
       "      <td>173.02</td>\n",
       "    </tr>\n",
       "    <tr>\n",
       "      <th>19</th>\n",
       "      <td>172.14</td>\n",
       "    </tr>\n",
       "    <tr>\n",
       "      <th rowspan=\"9\" valign=\"top\">2</th>\n",
       "      <th>11</th>\n",
       "      <td>149.52</td>\n",
       "    </tr>\n",
       "    <tr>\n",
       "      <th>12</th>\n",
       "      <td>154.97</td>\n",
       "    </tr>\n",
       "    <tr>\n",
       "      <th>13</th>\n",
       "      <td>157.67</td>\n",
       "    </tr>\n",
       "    <tr>\n",
       "      <th>14</th>\n",
       "      <td>159.34</td>\n",
       "    </tr>\n",
       "    <tr>\n",
       "      <th>15</th>\n",
       "      <td>160.76</td>\n",
       "    </tr>\n",
       "    <tr>\n",
       "      <th>16</th>\n",
       "      <td>160.39</td>\n",
       "    </tr>\n",
       "    <tr>\n",
       "      <th>17</th>\n",
       "      <td>160.91</td>\n",
       "    </tr>\n",
       "    <tr>\n",
       "      <th>18</th>\n",
       "      <td>159.44</td>\n",
       "    </tr>\n",
       "    <tr>\n",
       "      <th>19</th>\n",
       "      <td>158.98</td>\n",
       "    </tr>\n",
       "  </tbody>\n",
       "</table>\n",
       "</div>"
      ],
      "text/plain": [
       "                 VB17004\n",
       "VB01001 VB01003         \n",
       "1       11        147.62\n",
       "        12        153.70\n",
       "        13        160.72\n",
       "        14        166.41\n",
       "        15        170.34\n",
       "        16        172.42\n",
       "        17        173.81\n",
       "        18        173.02\n",
       "        19        172.14\n",
       "2       11        149.52\n",
       "        12        154.97\n",
       "        13        157.67\n",
       "        14        159.34\n",
       "        15        160.76\n",
       "        16        160.39\n",
       "        17        160.91\n",
       "        18        159.44\n",
       "        19        158.98"
      ]
     },
     "execution_count": 115,
     "metadata": {},
     "output_type": "execute_result"
    }
   ],
   "source": [
    "pense_2015.groupby(['VB01001', 'VB01003']) \\\n",
    "          .mean() \\\n",
    "          [['VB17004']] \\\n",
    "          .round(2)"
   ]
  },
  {
   "cell_type": "markdown",
   "metadata": {},
   "source": [
    "**Challenge 02: Use crosstab to average the height of each gender by age.**\n",
    "\n",
    "**Super Challenge 01: Create a dictionary (or other structure) to find through the variable (code) the meaning of that variable and their values.**\n",
    "\n",
    "**Super Challenge 02: Summarize longer questions to make it shorter.** NLP, NLTK, GESIM"
   ]
  },
  {
   "cell_type": "markdown",
   "metadata": {},
   "source": [
    "### Challenge 01: Plot boxplot, histograms or frequency tables, analyze the mean and median for other variables\n",
    "Describe other variables.\n",
    "\n",
    "qualitative data: frequency tables, percentages <br>\n",
    "quantitative data: boxplot, histograms, measures of centrality (median, mean, mode)"
   ]
  },
  {
   "attachments": {},
   "cell_type": "markdown",
   "metadata": {},
   "source": [
    "VB11001\tQuanto ao seu corpo, você se considera: <br>\n",
    "1\tMuito magro(a) <br>\n",
    "2\tMagro(a) <br>\n",
    "3\tNormal <br>\n",
    "4\tGordo(a) <br>\n",
    "5\tMuito Gordo(a) <br>\n",
    "99\tNão informado <br>\n",
    "\n",
    "VB11007\tComo você se sente em relação ao seu corpo? <br>\n",
    "1\tMuito satisfeito(a) <br>\n",
    "2\tSatisfeito(a) <br>\n",
    "3\tIndiferente <br>\n",
    "4\tInsatisfeito(a) <br>\n",
    "5\tMuito insatisfeito(a) <br>\n",
    "99\tNão informado\n"
   ]
  },
  {
   "cell_type": "code",
   "execution_count": 132,
   "metadata": {},
   "outputs": [
    {
     "data": {
      "text/html": [
       "<div>\n",
       "<style scoped>\n",
       "    .dataframe tbody tr th:only-of-type {\n",
       "        vertical-align: middle;\n",
       "    }\n",
       "\n",
       "    .dataframe tbody tr th {\n",
       "        vertical-align: top;\n",
       "    }\n",
       "\n",
       "    .dataframe thead th {\n",
       "        text-align: right;\n",
       "    }\n",
       "</style>\n",
       "<table border=\"1\" class=\"dataframe\">\n",
       "  <thead>\n",
       "    <tr style=\"text-align: right;\">\n",
       "      <th>VB11007</th>\n",
       "      <th>Muito satisfeito(a)</th>\n",
       "      <th>Satisfeito(a)</th>\n",
       "      <th>Indiferente</th>\n",
       "      <th>Insatisfeito(a)</th>\n",
       "      <th>Muito insatisfeito(a)</th>\n",
       "      <th>Não informado</th>\n",
       "    </tr>\n",
       "    <tr>\n",
       "      <th>VB11001</th>\n",
       "      <th></th>\n",
       "      <th></th>\n",
       "      <th></th>\n",
       "      <th></th>\n",
       "      <th></th>\n",
       "      <th></th>\n",
       "    </tr>\n",
       "  </thead>\n",
       "  <tbody>\n",
       "    <tr>\n",
       "      <th>Muito magro(a)</th>\n",
       "      <td>33.93</td>\n",
       "      <td>18.49</td>\n",
       "      <td>14.92</td>\n",
       "      <td>23.21</td>\n",
       "      <td>9.14</td>\n",
       "      <td>0.32</td>\n",
       "    </tr>\n",
       "    <tr>\n",
       "      <th>Magro(a)</th>\n",
       "      <td>23.83</td>\n",
       "      <td>51.58</td>\n",
       "      <td>11.68</td>\n",
       "      <td>10.76</td>\n",
       "      <td>1.99</td>\n",
       "      <td>0.15</td>\n",
       "    </tr>\n",
       "    <tr>\n",
       "      <th>Normal</th>\n",
       "      <td>36.05</td>\n",
       "      <td>48.82</td>\n",
       "      <td>7.84</td>\n",
       "      <td>5.57</td>\n",
       "      <td>1.41</td>\n",
       "      <td>0.32</td>\n",
       "    </tr>\n",
       "    <tr>\n",
       "      <th>Gordo(a)</th>\n",
       "      <td>9.52</td>\n",
       "      <td>24.36</td>\n",
       "      <td>18.47</td>\n",
       "      <td>38.83</td>\n",
       "      <td>8.37</td>\n",
       "      <td>0.44</td>\n",
       "    </tr>\n",
       "    <tr>\n",
       "      <th>Muito Gordo(a)</th>\n",
       "      <td>8.52</td>\n",
       "      <td>6.57</td>\n",
       "      <td>10.46</td>\n",
       "      <td>28.22</td>\n",
       "      <td>45.99</td>\n",
       "      <td>0.24</td>\n",
       "    </tr>\n",
       "    <tr>\n",
       "      <th>Não informado</th>\n",
       "      <td>7.55</td>\n",
       "      <td>5.66</td>\n",
       "      <td>2.52</td>\n",
       "      <td>0.63</td>\n",
       "      <td>1.26</td>\n",
       "      <td>82.39</td>\n",
       "    </tr>\n",
       "  </tbody>\n",
       "</table>\n",
       "</div>"
      ],
      "text/plain": [
       "VB11007         Muito satisfeito(a)  Satisfeito(a)  Indiferente  \\\n",
       "VB11001                                                           \n",
       "Muito magro(a)                33.93          18.49        14.92   \n",
       "Magro(a)                      23.83          51.58        11.68   \n",
       "Normal                        36.05          48.82         7.84   \n",
       "Gordo(a)                       9.52          24.36        18.47   \n",
       "Muito Gordo(a)                 8.52           6.57        10.46   \n",
       "Não informado                  7.55           5.66         2.52   \n",
       "\n",
       "VB11007         Insatisfeito(a)  Muito insatisfeito(a)  Não informado  \n",
       "VB11001                                                                \n",
       "Muito magro(a)            23.21                   9.14           0.32  \n",
       "Magro(a)                  10.76                   1.99           0.15  \n",
       "Normal                     5.57                   1.41           0.32  \n",
       "Gordo(a)                  38.83                   8.37           0.44  \n",
       "Muito Gordo(a)            28.22                  45.99           0.24  \n",
       "Não informado              0.63                   1.26          82.39  "
      ]
     },
     "execution_count": 132,
     "metadata": {},
     "output_type": "execute_result"
    }
   ],
   "source": [
    "cross_frequency_VB11001_VB11007 = \\\n",
    "    round(pd.crosstab(index=pense_2015['VB11001'],\n",
    "                      columns=pense_2015['VB11007'],\n",
    "                      normalize='index')*100, \n",
    "          2)\n",
    "\n",
    "VB1101_values = {1: 'Muito magro(a)',\n",
    "                 2: 'Magro(a)',\n",
    "                 3: 'Normal',\n",
    "                 4: 'Gordo(a)',\n",
    "                 5: 'Muito Gordo(a)',\n",
    "                 99: 'Não informado'}\n",
    "\n",
    "cross_frequency_VB11001_VB11007.rename(columns=VB11007_values, \n",
    "                                       index=VB1101_values, \n",
    "                                       inplace=True)\n",
    "\n",
    "\n",
    "cross_frequency_VB11001_VB11007"
   ]
  },
  {
   "cell_type": "markdown",
   "metadata": {},
   "source": [
    "### Challenge 02: Use crosstab to average the height of each gender by age"
   ]
  },
  {
   "cell_type": "code",
   "execution_count": 113,
   "metadata": {},
   "outputs": [
    {
     "data": {
      "text/html": [
       "<div>\n",
       "<style scoped>\n",
       "    .dataframe tbody tr th:only-of-type {\n",
       "        vertical-align: middle;\n",
       "    }\n",
       "\n",
       "    .dataframe tbody tr th {\n",
       "        vertical-align: top;\n",
       "    }\n",
       "\n",
       "    .dataframe thead th {\n",
       "        text-align: right;\n",
       "    }\n",
       "</style>\n",
       "<table border=\"1\" class=\"dataframe\">\n",
       "  <thead>\n",
       "    <tr style=\"text-align: right;\">\n",
       "      <th>VB01001</th>\n",
       "      <th>1</th>\n",
       "      <th>2</th>\n",
       "    </tr>\n",
       "    <tr>\n",
       "      <th>VB01003</th>\n",
       "      <th></th>\n",
       "      <th></th>\n",
       "    </tr>\n",
       "  </thead>\n",
       "  <tbody>\n",
       "    <tr>\n",
       "      <th>11</th>\n",
       "      <td>147.62</td>\n",
       "      <td>149.52</td>\n",
       "    </tr>\n",
       "    <tr>\n",
       "      <th>12</th>\n",
       "      <td>153.70</td>\n",
       "      <td>154.97</td>\n",
       "    </tr>\n",
       "    <tr>\n",
       "      <th>13</th>\n",
       "      <td>160.72</td>\n",
       "      <td>157.67</td>\n",
       "    </tr>\n",
       "    <tr>\n",
       "      <th>14</th>\n",
       "      <td>166.41</td>\n",
       "      <td>159.34</td>\n",
       "    </tr>\n",
       "    <tr>\n",
       "      <th>15</th>\n",
       "      <td>170.34</td>\n",
       "      <td>160.76</td>\n",
       "    </tr>\n",
       "    <tr>\n",
       "      <th>16</th>\n",
       "      <td>172.42</td>\n",
       "      <td>160.39</td>\n",
       "    </tr>\n",
       "    <tr>\n",
       "      <th>17</th>\n",
       "      <td>173.81</td>\n",
       "      <td>160.91</td>\n",
       "    </tr>\n",
       "    <tr>\n",
       "      <th>18</th>\n",
       "      <td>173.02</td>\n",
       "      <td>159.44</td>\n",
       "    </tr>\n",
       "    <tr>\n",
       "      <th>19</th>\n",
       "      <td>172.14</td>\n",
       "      <td>158.98</td>\n",
       "    </tr>\n",
       "  </tbody>\n",
       "</table>\n",
       "</div>"
      ],
      "text/plain": [
       "VB01001       1       2\n",
       "VB01003                \n",
       "11       147.62  149.52\n",
       "12       153.70  154.97\n",
       "13       160.72  157.67\n",
       "14       166.41  159.34\n",
       "15       170.34  160.76\n",
       "16       172.42  160.39\n",
       "17       173.81  160.91\n",
       "18       173.02  159.44\n",
       "19       172.14  158.98"
      ]
     },
     "execution_count": 113,
     "metadata": {},
     "output_type": "execute_result"
    }
   ],
   "source": [
    "pd.crosstab(pense_2015['VB01003'],\n",
    "            pense_2015['VB01001'],\n",
    "            values=pense_2015['VB17004'],\n",
    "            aggfunc='mean').round(2)"
   ]
  },
  {
   "cell_type": "markdown",
   "metadata": {},
   "source": [
    "# Lesson 5 - Part 02 - Standard deviation"
   ]
  },
  {
   "cell_type": "code",
   "execution_count": 133,
   "metadata": {},
   "outputs": [
    {
     "data": {
      "text/plain": [
       "5000.0"
      ]
     },
     "execution_count": 133,
     "metadata": {},
     "output_type": "execute_result"
    }
   ],
   "source": [
    "thiago_salary = 9000\n",
    "alan_salary = 1000\n",
    "\n",
    "salary_average = (thiago_salary + alan_salary)/2\n",
    "\n",
    "salary_average"
   ]
  },
  {
   "cell_type": "markdown",
   "metadata": {},
   "source": [
    "The salary average is far from any real wage."
   ]
  },
  {
   "cell_type": "code",
   "execution_count": 135,
   "metadata": {},
   "outputs": [
    {
     "data": {
      "text/html": [
       "<div>\n",
       "<style scoped>\n",
       "    .dataframe tbody tr th:only-of-type {\n",
       "        vertical-align: middle;\n",
       "    }\n",
       "\n",
       "    .dataframe tbody tr th {\n",
       "        vertical-align: top;\n",
       "    }\n",
       "\n",
       "    .dataframe thead th {\n",
       "        text-align: right;\n",
       "    }\n",
       "</style>\n",
       "<table border=\"1\" class=\"dataframe\">\n",
       "  <thead>\n",
       "    <tr style=\"text-align: right;\">\n",
       "      <th></th>\n",
       "      <th>VB17004</th>\n",
       "      <th>HEIGHT_AVERAGE</th>\n",
       "    </tr>\n",
       "  </thead>\n",
       "  <tbody>\n",
       "    <tr>\n",
       "      <th>0</th>\n",
       "      <td>157.0</td>\n",
       "      <td>160.713113</td>\n",
       "    </tr>\n",
       "    <tr>\n",
       "      <th>1</th>\n",
       "      <td>152.0</td>\n",
       "      <td>160.713113</td>\n",
       "    </tr>\n",
       "    <tr>\n",
       "      <th>2</th>\n",
       "      <td>161.4</td>\n",
       "      <td>160.713113</td>\n",
       "    </tr>\n",
       "    <tr>\n",
       "      <th>3</th>\n",
       "      <td>172.5</td>\n",
       "      <td>160.713113</td>\n",
       "    </tr>\n",
       "    <tr>\n",
       "      <th>4</th>\n",
       "      <td>167.5</td>\n",
       "      <td>160.713113</td>\n",
       "    </tr>\n",
       "    <tr>\n",
       "      <th>...</th>\n",
       "      <td>...</td>\n",
       "      <td>...</td>\n",
       "    </tr>\n",
       "    <tr>\n",
       "      <th>16551</th>\n",
       "      <td>167.9</td>\n",
       "      <td>160.713113</td>\n",
       "    </tr>\n",
       "    <tr>\n",
       "      <th>16552</th>\n",
       "      <td>185.8</td>\n",
       "      <td>160.713113</td>\n",
       "    </tr>\n",
       "    <tr>\n",
       "      <th>16553</th>\n",
       "      <td>159.4</td>\n",
       "      <td>160.713113</td>\n",
       "    </tr>\n",
       "    <tr>\n",
       "      <th>16554</th>\n",
       "      <td>157.8</td>\n",
       "      <td>160.713113</td>\n",
       "    </tr>\n",
       "    <tr>\n",
       "      <th>16555</th>\n",
       "      <td>163.9</td>\n",
       "      <td>160.713113</td>\n",
       "    </tr>\n",
       "  </tbody>\n",
       "</table>\n",
       "<p>16556 rows × 2 columns</p>\n",
       "</div>"
      ],
      "text/plain": [
       "       VB17004  HEIGHT_AVERAGE\n",
       "0        157.0      160.713113\n",
       "1        152.0      160.713113\n",
       "2        161.4      160.713113\n",
       "3        172.5      160.713113\n",
       "4        167.5      160.713113\n",
       "...        ...             ...\n",
       "16551    167.9      160.713113\n",
       "16552    185.8      160.713113\n",
       "16553    159.4      160.713113\n",
       "16554    157.8      160.713113\n",
       "16555    163.9      160.713113\n",
       "\n",
       "[16556 rows x 2 columns]"
      ]
     },
     "execution_count": 135,
     "metadata": {},
     "output_type": "execute_result"
    }
   ],
   "source": [
    "height_average = pense_2015['VB17004'].mean()\n",
    "pense_2015['HEIGHT_AVERAGE'] = height_average\n",
    "\n",
    "\n",
    "pense_2015[['VB17004', 'HEIGHT_AVERAGE']]"
   ]
  },
  {
   "cell_type": "markdown",
   "metadata": {},
   "source": [
    "- how far are the real values from the average?"
   ]
  },
  {
   "cell_type": "code",
   "execution_count": 142,
   "metadata": {},
   "outputs": [
    {
     "data": {
      "text/html": [
       "<div>\n",
       "<style scoped>\n",
       "    .dataframe tbody tr th:only-of-type {\n",
       "        vertical-align: middle;\n",
       "    }\n",
       "\n",
       "    .dataframe tbody tr th {\n",
       "        vertical-align: top;\n",
       "    }\n",
       "\n",
       "    .dataframe thead th {\n",
       "        text-align: right;\n",
       "    }\n",
       "</style>\n",
       "<table border=\"1\" class=\"dataframe\">\n",
       "  <thead>\n",
       "    <tr style=\"text-align: right;\">\n",
       "      <th></th>\n",
       "      <th>VB17004</th>\n",
       "      <th>HEIGHT_AVERAGE</th>\n",
       "      <th>DIFF_VB17004_HEIGHT_AVG</th>\n",
       "      <th>DIFF_VB17004_HEIGHT_AVG_ABS</th>\n",
       "      <th>DIFF_VB17004_HEIGHT_AVG_SQR</th>\n",
       "    </tr>\n",
       "  </thead>\n",
       "  <tbody>\n",
       "    <tr>\n",
       "      <th>0</th>\n",
       "      <td>157.0</td>\n",
       "      <td>160.713113</td>\n",
       "      <td>-3.713113</td>\n",
       "      <td>3.713113</td>\n",
       "      <td>13.787209</td>\n",
       "    </tr>\n",
       "    <tr>\n",
       "      <th>1</th>\n",
       "      <td>152.0</td>\n",
       "      <td>160.713113</td>\n",
       "      <td>-8.713113</td>\n",
       "      <td>8.713113</td>\n",
       "      <td>75.918339</td>\n",
       "    </tr>\n",
       "    <tr>\n",
       "      <th>2</th>\n",
       "      <td>161.4</td>\n",
       "      <td>160.713113</td>\n",
       "      <td>0.686887</td>\n",
       "      <td>0.686887</td>\n",
       "      <td>0.471814</td>\n",
       "    </tr>\n",
       "    <tr>\n",
       "      <th>3</th>\n",
       "      <td>172.5</td>\n",
       "      <td>160.713113</td>\n",
       "      <td>11.786887</td>\n",
       "      <td>11.786887</td>\n",
       "      <td>138.930703</td>\n",
       "    </tr>\n",
       "    <tr>\n",
       "      <th>4</th>\n",
       "      <td>167.5</td>\n",
       "      <td>160.713113</td>\n",
       "      <td>6.786887</td>\n",
       "      <td>6.786887</td>\n",
       "      <td>46.061834</td>\n",
       "    </tr>\n",
       "    <tr>\n",
       "      <th>...</th>\n",
       "      <td>...</td>\n",
       "      <td>...</td>\n",
       "      <td>...</td>\n",
       "      <td>...</td>\n",
       "      <td>...</td>\n",
       "    </tr>\n",
       "    <tr>\n",
       "      <th>16551</th>\n",
       "      <td>167.9</td>\n",
       "      <td>160.713113</td>\n",
       "      <td>7.186887</td>\n",
       "      <td>7.186887</td>\n",
       "      <td>51.651344</td>\n",
       "    </tr>\n",
       "    <tr>\n",
       "      <th>16552</th>\n",
       "      <td>185.8</td>\n",
       "      <td>160.713113</td>\n",
       "      <td>25.086887</td>\n",
       "      <td>25.086887</td>\n",
       "      <td>629.351896</td>\n",
       "    </tr>\n",
       "    <tr>\n",
       "      <th>16553</th>\n",
       "      <td>159.4</td>\n",
       "      <td>160.713113</td>\n",
       "      <td>-1.313113</td>\n",
       "      <td>1.313113</td>\n",
       "      <td>1.724266</td>\n",
       "    </tr>\n",
       "    <tr>\n",
       "      <th>16554</th>\n",
       "      <td>157.8</td>\n",
       "      <td>160.713113</td>\n",
       "      <td>-2.913113</td>\n",
       "      <td>2.913113</td>\n",
       "      <td>8.486228</td>\n",
       "    </tr>\n",
       "    <tr>\n",
       "      <th>16555</th>\n",
       "      <td>163.9</td>\n",
       "      <td>160.713113</td>\n",
       "      <td>3.186887</td>\n",
       "      <td>3.186887</td>\n",
       "      <td>10.156248</td>\n",
       "    </tr>\n",
       "  </tbody>\n",
       "</table>\n",
       "<p>16556 rows × 5 columns</p>\n",
       "</div>"
      ],
      "text/plain": [
       "       VB17004  HEIGHT_AVERAGE  DIFF_VB17004_HEIGHT_AVG  \\\n",
       "0        157.0      160.713113                -3.713113   \n",
       "1        152.0      160.713113                -8.713113   \n",
       "2        161.4      160.713113                 0.686887   \n",
       "3        172.5      160.713113                11.786887   \n",
       "4        167.5      160.713113                 6.786887   \n",
       "...        ...             ...                      ...   \n",
       "16551    167.9      160.713113                 7.186887   \n",
       "16552    185.8      160.713113                25.086887   \n",
       "16553    159.4      160.713113                -1.313113   \n",
       "16554    157.8      160.713113                -2.913113   \n",
       "16555    163.9      160.713113                 3.186887   \n",
       "\n",
       "       DIFF_VB17004_HEIGHT_AVG_ABS  DIFF_VB17004_HEIGHT_AVG_SQR  \n",
       "0                         3.713113                    13.787209  \n",
       "1                         8.713113                    75.918339  \n",
       "2                         0.686887                     0.471814  \n",
       "3                        11.786887                   138.930703  \n",
       "4                         6.786887                    46.061834  \n",
       "...                            ...                          ...  \n",
       "16551                     7.186887                    51.651344  \n",
       "16552                    25.086887                   629.351896  \n",
       "16553                     1.313113                     1.724266  \n",
       "16554                     2.913113                     8.486228  \n",
       "16555                     3.186887                    10.156248  \n",
       "\n",
       "[16556 rows x 5 columns]"
      ]
     },
     "execution_count": 142,
     "metadata": {},
     "output_type": "execute_result"
    }
   ],
   "source": [
    "diff_height_height_average = \\\n",
    "    (pense_2015['VB17004'] - \n",
    "     pense_2015['HEIGHT_AVERAGE'])\n",
    "\n",
    "pense_2015['DIFF_VB17004_HEIGHT_AVG'] = \\\n",
    "    diff_height_height_average\n",
    "\n",
    "pense_2015['DIFF_VB17004_HEIGHT_AVG_ABS'] = \\\n",
    "    diff_height_height_average.abs()\n",
    "\n",
    "pense_2015['DIFF_VB17004_HEIGHT_AVG_SQR'] = \\\n",
    "    diff_height_height_average**2\n",
    "\n",
    "pense_2015[['VB17004', 'HEIGHT_AVERAGE',\n",
    "            'DIFF_VB17004_HEIGHT_AVG',\n",
    "            'DIFF_VB17004_HEIGHT_AVG_ABS',\n",
    "            'DIFF_VB17004_HEIGHT_AVG_SQR']]"
   ]
  },
  {
   "cell_type": "markdown",
   "metadata": {},
   "source": [
    "search, **remember** about _absolute mean value_ (ml metrics)"
   ]
  },
  {
   "cell_type": "code",
   "execution_count": 144,
   "metadata": {},
   "outputs": [
    {
     "data": {
      "text/plain": [
       "106.91059453686466"
      ]
     },
     "execution_count": 144,
     "metadata": {},
     "output_type": "execute_result"
    }
   ],
   "source": [
    "# the variance\n",
    "pense_2015['DIFF_VB17004_HEIGHT_AVG_SQR'].mean()"
   ]
  },
  {
   "cell_type": "code",
   "execution_count": 148,
   "metadata": {},
   "outputs": [
    {
     "data": {
      "text/plain": [
       "106.91705244049118"
      ]
     },
     "execution_count": 148,
     "metadata": {},
     "output_type": "execute_result"
    }
   ],
   "source": [
    "sample_variance = ((1 / (len(pense_2015)-1)) *\n",
    "                   pense_2015['DIFF_VB17004_HEIGHT_AVG_SQR'].sum())\n",
    "sample_variance"
   ]
  },
  {
   "cell_type": "code",
   "execution_count": 149,
   "metadata": {},
   "outputs": [
    {
     "data": {
      "text/plain": [
       "160.71311307079006"
      ]
     },
     "execution_count": 149,
     "metadata": {},
     "output_type": "execute_result"
    }
   ],
   "source": [
    "pense_2015['VB17004'].mean()"
   ]
  },
  {
   "cell_type": "markdown",
   "metadata": {},
   "source": [
    "The mean is 160.71cm and the sample variance is 106.92cm²\n",
    "\n",
    "They have different measures."
   ]
  },
  {
   "cell_type": "code",
   "execution_count": 151,
   "metadata": {},
   "outputs": [
    {
     "data": {
      "text/plain": [
       "10.340070233827776"
      ]
     },
     "execution_count": 151,
     "metadata": {},
     "output_type": "execute_result"
    }
   ],
   "source": [
    "std = np.sqrt(sample_variance)\n",
    "std"
   ]
  },
  {
   "cell_type": "markdown",
   "metadata": {},
   "source": [
    "The mean is 160.71cm and the standard deviation is 10.34.\n",
    "\n",
    "std shows how far the real values are from the mean.\n",
    "\n",
    "\n",
    "For some specific problems there is a calculated std (in the literature). So if you have a sample, the std should be in an interval defined previous."
   ]
  },
  {
   "cell_type": "markdown",
   "metadata": {},
   "source": [
    "**Challenge 03: Review the dispersion measures: mean, median, mode, variance, absolute mean deviation, and standard deviation. Search about them on pandas methods.** Calcule the measures for other variables.\n",
    "\n",
    "\n",
    "**Challenge 04: How we can see if the measures of the sample can be compare to the reality.**"
   ]
  },
  {
   "cell_type": "markdown",
   "metadata": {},
   "source": [
    "### Challenge 03: Review the dispersion measures: mean, median, mode, variance, absolute mean deviation, and standard deviation. Search about them on pandas methods\n",
    "\n",
    "Calcule the measures for other variables."
   ]
  },
  {
   "cell_type": "code",
   "execution_count": 155,
   "metadata": {},
   "outputs": [
    {
     "data": {
      "text/html": [
       "<div>\n",
       "<style scoped>\n",
       "    .dataframe tbody tr th:only-of-type {\n",
       "        vertical-align: middle;\n",
       "    }\n",
       "\n",
       "    .dataframe tbody tr th {\n",
       "        vertical-align: top;\n",
       "    }\n",
       "\n",
       "    .dataframe thead th {\n",
       "        text-align: right;\n",
       "    }\n",
       "</style>\n",
       "<table border=\"1\" class=\"dataframe\">\n",
       "  <thead>\n",
       "    <tr style=\"text-align: right;\">\n",
       "      <th></th>\n",
       "      <th>TEMPODESLOC</th>\n",
       "      <th>TEMPOEDFIS</th>\n",
       "      <th>TEMPOEXTRA</th>\n",
       "      <th>TEMPOTOTAL</th>\n",
       "      <th>TEMPOEST</th>\n",
       "      <th>VB17003</th>\n",
       "      <th>VB17004</th>\n",
       "      <th>BMI</th>\n",
       "    </tr>\n",
       "  </thead>\n",
       "  <tbody>\n",
       "    <tr>\n",
       "      <th>count</th>\n",
       "      <td>16523.000000</td>\n",
       "      <td>16472.000000</td>\n",
       "      <td>16463.000000</td>\n",
       "      <td>16536.000000</td>\n",
       "      <td>16446.000000</td>\n",
       "      <td>16556.000000</td>\n",
       "      <td>16556.000000</td>\n",
       "      <td>16556.000000</td>\n",
       "    </tr>\n",
       "    <tr>\n",
       "      <th>mean</th>\n",
       "      <td>75.525631</td>\n",
       "      <td>49.499150</td>\n",
       "      <td>117.406001</td>\n",
       "      <td>241.661526</td>\n",
       "      <td>133.137541</td>\n",
       "      <td>54.705581</td>\n",
       "      <td>160.713113</td>\n",
       "      <td>20.958252</td>\n",
       "    </tr>\n",
       "    <tr>\n",
       "      <th>std</th>\n",
       "      <td>113.959934</td>\n",
       "      <td>62.030273</td>\n",
       "      <td>145.572865</td>\n",
       "      <td>210.344466</td>\n",
       "      <td>139.180310</td>\n",
       "      <td>14.547864</td>\n",
       "      <td>10.340070</td>\n",
       "      <td>4.244441</td>\n",
       "    </tr>\n",
       "    <tr>\n",
       "      <th>min</th>\n",
       "      <td>0.000000</td>\n",
       "      <td>0.000000</td>\n",
       "      <td>0.000000</td>\n",
       "      <td>0.000000</td>\n",
       "      <td>0.000000</td>\n",
       "      <td>0.800000</td>\n",
       "      <td>124.100000</td>\n",
       "      <td>0.397867</td>\n",
       "    </tr>\n",
       "    <tr>\n",
       "      <th>25%</th>\n",
       "      <td>0.000000</td>\n",
       "      <td>0.000000</td>\n",
       "      <td>0.000000</td>\n",
       "      <td>75.000000</td>\n",
       "      <td>0.000000</td>\n",
       "      <td>45.000000</td>\n",
       "      <td>153.800000</td>\n",
       "      <td>18.049935</td>\n",
       "    </tr>\n",
       "    <tr>\n",
       "      <th>50%</th>\n",
       "      <td>40.000000</td>\n",
       "      <td>35.000000</td>\n",
       "      <td>50.000000</td>\n",
       "      <td>190.000000</td>\n",
       "      <td>60.000000</td>\n",
       "      <td>52.900000</td>\n",
       "      <td>160.400000</td>\n",
       "      <td>20.190504</td>\n",
       "    </tr>\n",
       "    <tr>\n",
       "      <th>75%</th>\n",
       "      <td>102.500000</td>\n",
       "      <td>70.000000</td>\n",
       "      <td>195.000000</td>\n",
       "      <td>365.000000</td>\n",
       "      <td>240.000000</td>\n",
       "      <td>62.000000</td>\n",
       "      <td>167.900000</td>\n",
       "      <td>22.965745</td>\n",
       "    </tr>\n",
       "    <tr>\n",
       "      <th>max</th>\n",
       "      <td>910.000000</td>\n",
       "      <td>455.000000</td>\n",
       "      <td>455.000000</td>\n",
       "      <td>1820.000000</td>\n",
       "      <td>420.000000</td>\n",
       "      <td>171.500000</td>\n",
       "      <td>195.300000</td>\n",
       "      <td>57.479596</td>\n",
       "    </tr>\n",
       "  </tbody>\n",
       "</table>\n",
       "</div>"
      ],
      "text/plain": [
       "        TEMPODESLOC    TEMPOEDFIS    TEMPOEXTRA    TEMPOTOTAL      TEMPOEST  \\\n",
       "count  16523.000000  16472.000000  16463.000000  16536.000000  16446.000000   \n",
       "mean      75.525631     49.499150    117.406001    241.661526    133.137541   \n",
       "std      113.959934     62.030273    145.572865    210.344466    139.180310   \n",
       "min        0.000000      0.000000      0.000000      0.000000      0.000000   \n",
       "25%        0.000000      0.000000      0.000000     75.000000      0.000000   \n",
       "50%       40.000000     35.000000     50.000000    190.000000     60.000000   \n",
       "75%      102.500000     70.000000    195.000000    365.000000    240.000000   \n",
       "max      910.000000    455.000000    455.000000   1820.000000    420.000000   \n",
       "\n",
       "            VB17003       VB17004           BMI  \n",
       "count  16556.000000  16556.000000  16556.000000  \n",
       "mean      54.705581    160.713113     20.958252  \n",
       "std       14.547864     10.340070      4.244441  \n",
       "min        0.800000    124.100000      0.397867  \n",
       "25%       45.000000    153.800000     18.049935  \n",
       "50%       52.900000    160.400000     20.190504  \n",
       "75%       62.000000    167.900000     22.965745  \n",
       "max      171.500000    195.300000     57.479596  "
      ]
     },
     "execution_count": 155,
     "metadata": {},
     "output_type": "execute_result"
    }
   ],
   "source": [
    "continuous_variables = ['TEMPODESLOC', 'TEMPOEDFIS', 'TEMPOEXTRA',\n",
    "                        'TEMPOTOTAL', 'TEMPOEST', 'VB17003', 'VB17004',\n",
    "                        'BMI']\n",
    "\n",
    "pense_2015[continuous_variables].describe()"
   ]
  },
  {
   "cell_type": "code",
   "execution_count": 158,
   "metadata": {},
   "outputs": [
    {
     "data": {
      "text/plain": [
       "20.958252206631837"
      ]
     },
     "execution_count": 158,
     "metadata": {},
     "output_type": "execute_result"
    }
   ],
   "source": [
    "pense_2015['BMI'].mean()"
   ]
  },
  {
   "cell_type": "code",
   "execution_count": 159,
   "metadata": {},
   "outputs": [
    {
     "data": {
      "text/plain": [
       "0     16.155478\n",
       "1     16.718248\n",
       "2     17.312886\n",
       "3     18.543714\n",
       "4     18.556681\n",
       "5     18.602766\n",
       "6     19.021555\n",
       "7     19.169550\n",
       "8     19.297399\n",
       "9     19.707910\n",
       "10    21.082813\n",
       "dtype: float64"
      ]
     },
     "execution_count": 159,
     "metadata": {},
     "output_type": "execute_result"
    }
   ],
   "source": [
    "pense_2015['BMI'].mode()"
   ]
  },
  {
   "cell_type": "code",
   "execution_count": 160,
   "metadata": {},
   "outputs": [
    {
     "data": {
      "text/plain": [
       "20.190504330368643"
      ]
     },
     "execution_count": 160,
     "metadata": {},
     "output_type": "execute_result"
    }
   ],
   "source": [
    "pense_2015['BMI'].median()"
   ]
  },
  {
   "cell_type": "code",
   "execution_count": 162,
   "metadata": {},
   "outputs": [
    {
     "data": {
      "text/plain": [
       "4.2444414389113305"
      ]
     },
     "execution_count": 162,
     "metadata": {},
     "output_type": "execute_result"
    }
   ],
   "source": [
    "pense_2015['BMI'].std()"
   ]
  },
  {
   "cell_type": "code",
   "execution_count": 163,
   "metadata": {},
   "outputs": [
    {
     "data": {
      "text/plain": [
       "18.015283128347686"
      ]
     },
     "execution_count": 163,
     "metadata": {},
     "output_type": "execute_result"
    }
   ],
   "source": [
    "pense_2015['BMI'].var()"
   ]
  },
  {
   "cell_type": "markdown",
   "metadata": {},
   "source": [
    "**remember to solve:**\n",
    "\n",
    "Super Challenge 01: Create a dictionary (or other structure) to find through the variable (code) the meaning of that variable and their values.\n",
    "\n",
    "Super Challenge 02: Summarize longer questions to make it shorter. NLP, NLTK, GESIM"
   ]
  },
  {
   "cell_type": "code",
   "execution_count": null,
   "metadata": {},
   "outputs": [],
   "source": []
  }
 ],
 "metadata": {
  "kernelspec": {
   "display_name": "Python 3",
   "language": "python",
   "name": "python3"
  },
  "language_info": {
   "codemirror_mode": {
    "name": "ipython",
    "version": 3
   },
   "file_extension": ".py",
   "mimetype": "text/x-python",
   "name": "python",
   "nbconvert_exporter": "python",
   "pygments_lexer": "ipython3",
   "version": "3.6.9"
  }
 },
 "nbformat": 4,
 "nbformat_minor": 4
}
