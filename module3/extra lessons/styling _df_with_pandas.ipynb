{
 "cells": [
  {
   "cell_type": "code",
   "execution_count": 1,
   "metadata": {},
   "outputs": [],
   "source": [
    "import pandas as pd"
   ]
  },
  {
   "cell_type": "code",
   "execution_count": 2,
   "metadata": {},
   "outputs": [],
   "source": [
    "cars = {'Brands': ['Honda Civic','Toyota Corolla','Ford Focus','Audi A4'],\n",
    "        'Prices': [22000,25000,27000,35000]}"
   ]
  },
  {
   "cell_type": "code",
   "execution_count": 3,
   "metadata": {},
   "outputs": [
    {
     "data": {
      "text/html": [
       "<div>\n",
       "<style scoped>\n",
       "    .dataframe tbody tr th:only-of-type {\n",
       "        vertical-align: middle;\n",
       "    }\n",
       "\n",
       "    .dataframe tbody tr th {\n",
       "        vertical-align: top;\n",
       "    }\n",
       "\n",
       "    .dataframe thead th {\n",
       "        text-align: right;\n",
       "    }\n",
       "</style>\n",
       "<table border=\"1\" class=\"dataframe\">\n",
       "  <thead>\n",
       "    <tr style=\"text-align: right;\">\n",
       "      <th></th>\n",
       "      <th>Brands</th>\n",
       "      <th>Prices</th>\n",
       "    </tr>\n",
       "  </thead>\n",
       "  <tbody>\n",
       "    <tr>\n",
       "      <th>0</th>\n",
       "      <td>Honda Civic</td>\n",
       "      <td>22000</td>\n",
       "    </tr>\n",
       "    <tr>\n",
       "      <th>1</th>\n",
       "      <td>Toyota Corolla</td>\n",
       "      <td>25000</td>\n",
       "    </tr>\n",
       "    <tr>\n",
       "      <th>2</th>\n",
       "      <td>Ford Focus</td>\n",
       "      <td>27000</td>\n",
       "    </tr>\n",
       "    <tr>\n",
       "      <th>3</th>\n",
       "      <td>Audi A4</td>\n",
       "      <td>35000</td>\n",
       "    </tr>\n",
       "  </tbody>\n",
       "</table>\n",
       "</div>"
      ],
      "text/plain": [
       "           Brands  Prices\n",
       "0     Honda Civic   22000\n",
       "1  Toyota Corolla   25000\n",
       "2      Ford Focus   27000\n",
       "3         Audi A4   35000"
      ]
     },
     "execution_count": 3,
     "metadata": {},
     "output_type": "execute_result"
    }
   ],
   "source": [
    "df = pd.DataFrame(cars)\n",
    "\n",
    "df"
   ]
  },
  {
   "cell_type": "code",
   "execution_count": 4,
   "metadata": {},
   "outputs": [
    {
     "data": {
      "text/html": [
       "<style  type=\"text/css\" >\n",
       "#T_6d413894_4b01_11eb_8a26_a402b903a8a4row0_col0,#T_6d413894_4b01_11eb_8a26_a402b903a8a4row0_col1,#T_6d413894_4b01_11eb_8a26_a402b903a8a4row1_col0,#T_6d413894_4b01_11eb_8a26_a402b903a8a4row1_col1,#T_6d413894_4b01_11eb_8a26_a402b903a8a4row2_col0,#T_6d413894_4b01_11eb_8a26_a402b903a8a4row2_col1,#T_6d413894_4b01_11eb_8a26_a402b903a8a4row3_col0,#T_6d413894_4b01_11eb_8a26_a402b903a8a4row3_col1{\n",
       "            background-color:  blue;\n",
       "            color:  white;\n",
       "            border-color:  black;\n",
       "        }</style><table id=\"T_6d413894_4b01_11eb_8a26_a402b903a8a4\" ><thead>    <tr>        <th class=\"blank level0\" ></th>        <th class=\"col_heading level0 col0\" >Brands</th>        <th class=\"col_heading level0 col1\" >Prices</th>    </tr></thead><tbody>\n",
       "                <tr>\n",
       "                        <th id=\"T_6d413894_4b01_11eb_8a26_a402b903a8a4level0_row0\" class=\"row_heading level0 row0\" >0</th>\n",
       "                        <td id=\"T_6d413894_4b01_11eb_8a26_a402b903a8a4row0_col0\" class=\"data row0 col0\" >Honda Civic</td>\n",
       "                        <td id=\"T_6d413894_4b01_11eb_8a26_a402b903a8a4row0_col1\" class=\"data row0 col1\" >22000</td>\n",
       "            </tr>\n",
       "            <tr>\n",
       "                        <th id=\"T_6d413894_4b01_11eb_8a26_a402b903a8a4level0_row1\" class=\"row_heading level0 row1\" >1</th>\n",
       "                        <td id=\"T_6d413894_4b01_11eb_8a26_a402b903a8a4row1_col0\" class=\"data row1 col0\" >Toyota Corolla</td>\n",
       "                        <td id=\"T_6d413894_4b01_11eb_8a26_a402b903a8a4row1_col1\" class=\"data row1 col1\" >25000</td>\n",
       "            </tr>\n",
       "            <tr>\n",
       "                        <th id=\"T_6d413894_4b01_11eb_8a26_a402b903a8a4level0_row2\" class=\"row_heading level0 row2\" >2</th>\n",
       "                        <td id=\"T_6d413894_4b01_11eb_8a26_a402b903a8a4row2_col0\" class=\"data row2 col0\" >Ford Focus</td>\n",
       "                        <td id=\"T_6d413894_4b01_11eb_8a26_a402b903a8a4row2_col1\" class=\"data row2 col1\" >27000</td>\n",
       "            </tr>\n",
       "            <tr>\n",
       "                        <th id=\"T_6d413894_4b01_11eb_8a26_a402b903a8a4level0_row3\" class=\"row_heading level0 row3\" >3</th>\n",
       "                        <td id=\"T_6d413894_4b01_11eb_8a26_a402b903a8a4row3_col0\" class=\"data row3 col0\" >Audi A4</td>\n",
       "                        <td id=\"T_6d413894_4b01_11eb_8a26_a402b903a8a4row3_col1\" class=\"data row3 col1\" >35000</td>\n",
       "            </tr>\n",
       "    </tbody></table>"
      ],
      "text/plain": [
       "<pandas.io.formats.style.Styler at 0x7f9a2e95b8d0>"
      ]
     },
     "execution_count": 4,
     "metadata": {},
     "output_type": "execute_result"
    }
   ],
   "source": [
    "# between curly brackets we have css\n",
    "df.style.set_properties(**{'background-color': 'blue',\n",
    "                           'color': 'white',\n",
    "                           'border-color': 'black'})"
   ]
  },
  {
   "cell_type": "code",
   "execution_count": 5,
   "metadata": {},
   "outputs": [],
   "source": [
    "def color_price(val):\n",
    "    if val <= 25000:\n",
    "        color = 'red'\n",
    "    else:\n",
    "        color = 'black'\n",
    "    return 'color: %s' % color"
   ]
  },
  {
   "cell_type": "code",
   "execution_count": 7,
   "metadata": {},
   "outputs": [
    {
     "data": {
      "text/plain": [
       "'color: red'"
      ]
     },
     "execution_count": 7,
     "metadata": {},
     "output_type": "execute_result"
    }
   ],
   "source": [
    "color_price(2)"
   ]
  },
  {
   "cell_type": "code",
   "execution_count": 6,
   "metadata": {},
   "outputs": [
    {
     "data": {
      "text/html": [
       "<style  type=\"text/css\" >\n",
       "#T_bb35aac6_4b01_11eb_8a26_a402b903a8a4row0_col1,#T_bb35aac6_4b01_11eb_8a26_a402b903a8a4row1_col1{\n",
       "            color:  red;\n",
       "        }#T_bb35aac6_4b01_11eb_8a26_a402b903a8a4row2_col1,#T_bb35aac6_4b01_11eb_8a26_a402b903a8a4row3_col1{\n",
       "            color:  black;\n",
       "        }</style><table id=\"T_bb35aac6_4b01_11eb_8a26_a402b903a8a4\" ><thead>    <tr>        <th class=\"blank level0\" ></th>        <th class=\"col_heading level0 col0\" >Brands</th>        <th class=\"col_heading level0 col1\" >Prices</th>    </tr></thead><tbody>\n",
       "                <tr>\n",
       "                        <th id=\"T_bb35aac6_4b01_11eb_8a26_a402b903a8a4level0_row0\" class=\"row_heading level0 row0\" >0</th>\n",
       "                        <td id=\"T_bb35aac6_4b01_11eb_8a26_a402b903a8a4row0_col0\" class=\"data row0 col0\" >Honda Civic</td>\n",
       "                        <td id=\"T_bb35aac6_4b01_11eb_8a26_a402b903a8a4row0_col1\" class=\"data row0 col1\" >22000</td>\n",
       "            </tr>\n",
       "            <tr>\n",
       "                        <th id=\"T_bb35aac6_4b01_11eb_8a26_a402b903a8a4level0_row1\" class=\"row_heading level0 row1\" >1</th>\n",
       "                        <td id=\"T_bb35aac6_4b01_11eb_8a26_a402b903a8a4row1_col0\" class=\"data row1 col0\" >Toyota Corolla</td>\n",
       "                        <td id=\"T_bb35aac6_4b01_11eb_8a26_a402b903a8a4row1_col1\" class=\"data row1 col1\" >25000</td>\n",
       "            </tr>\n",
       "            <tr>\n",
       "                        <th id=\"T_bb35aac6_4b01_11eb_8a26_a402b903a8a4level0_row2\" class=\"row_heading level0 row2\" >2</th>\n",
       "                        <td id=\"T_bb35aac6_4b01_11eb_8a26_a402b903a8a4row2_col0\" class=\"data row2 col0\" >Ford Focus</td>\n",
       "                        <td id=\"T_bb35aac6_4b01_11eb_8a26_a402b903a8a4row2_col1\" class=\"data row2 col1\" >27000</td>\n",
       "            </tr>\n",
       "            <tr>\n",
       "                        <th id=\"T_bb35aac6_4b01_11eb_8a26_a402b903a8a4level0_row3\" class=\"row_heading level0 row3\" >3</th>\n",
       "                        <td id=\"T_bb35aac6_4b01_11eb_8a26_a402b903a8a4row3_col0\" class=\"data row3 col0\" >Audi A4</td>\n",
       "                        <td id=\"T_bb35aac6_4b01_11eb_8a26_a402b903a8a4row3_col1\" class=\"data row3 col1\" >35000</td>\n",
       "            </tr>\n",
       "    </tbody></table>"
      ],
      "text/plain": [
       "<pandas.io.formats.style.Styler at 0x7f9a2e95b860>"
      ]
     },
     "execution_count": 6,
     "metadata": {},
     "output_type": "execute_result"
    }
   ],
   "source": [
    "df.style.applymap(color_price, subset='Prices')"
   ]
  },
  {
   "cell_type": "code",
   "execution_count": 8,
   "metadata": {},
   "outputs": [],
   "source": [
    "df.style.applymap(color_price, subset='Prices') \\\n",
    "  .to_excel('stylized.xlsx', engine='openpyxl')"
   ]
  },
  {
   "cell_type": "code",
   "execution_count": null,
   "metadata": {},
   "outputs": [],
   "source": []
  }
 ],
 "metadata": {
  "kernelspec": {
   "display_name": "Python 3",
   "language": "python",
   "name": "python3"
  },
  "language_info": {
   "codemirror_mode": {
    "name": "ipython",
    "version": 3
   },
   "file_extension": ".py",
   "mimetype": "text/x-python",
   "name": "python",
   "nbconvert_exporter": "python",
   "pygments_lexer": "ipython3",
   "version": "3.6.9"
  }
 },
 "nbformat": 4,
 "nbformat_minor": 4
}
