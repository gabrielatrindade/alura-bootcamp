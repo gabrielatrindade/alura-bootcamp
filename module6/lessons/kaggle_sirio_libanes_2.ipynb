{
 "cells": [
  {
   "cell_type": "markdown",
   "metadata": {},
   "source": [
    "# COVID-19 - Clinical Data to assess diagnosis"
   ]
  },
  {
   "cell_type": "markdown",
   "metadata": {},
   "source": [
    "# Lesson 01 - Workflow and Data Adjustments\n",
    "\n",
    "starting all the previous tasks did before: collecting the data, preprocessing it."
   ]
  },
  {
   "cell_type": "code",
   "execution_count": 1,
   "metadata": {},
   "outputs": [],
   "source": [
    "import pandas as pd\n",
    "import numpy as np"
   ]
  },
  {
   "cell_type": "code",
   "execution_count": 2,
   "metadata": {},
   "outputs": [
    {
     "data": {
      "text/html": [
       "<div>\n",
       "<style scoped>\n",
       "    .dataframe tbody tr th:only-of-type {\n",
       "        vertical-align: middle;\n",
       "    }\n",
       "\n",
       "    .dataframe tbody tr th {\n",
       "        vertical-align: top;\n",
       "    }\n",
       "\n",
       "    .dataframe thead th {\n",
       "        text-align: right;\n",
       "    }\n",
       "</style>\n",
       "<table border=\"1\" class=\"dataframe\">\n",
       "  <thead>\n",
       "    <tr style=\"text-align: right;\">\n",
       "      <th></th>\n",
       "      <th>PATIENT_VISIT_IDENTIFIER</th>\n",
       "      <th>AGE_ABOVE65</th>\n",
       "      <th>AGE_PERCENTIL</th>\n",
       "      <th>GENDER</th>\n",
       "      <th>DISEASE GROUPING 1</th>\n",
       "      <th>DISEASE GROUPING 2</th>\n",
       "      <th>DISEASE GROUPING 3</th>\n",
       "      <th>DISEASE GROUPING 4</th>\n",
       "      <th>DISEASE GROUPING 5</th>\n",
       "      <th>DISEASE GROUPING 6</th>\n",
       "      <th>...</th>\n",
       "      <th>TEMPERATURE_DIFF</th>\n",
       "      <th>OXYGEN_SATURATION_DIFF</th>\n",
       "      <th>BLOODPRESSURE_DIASTOLIC_DIFF_REL</th>\n",
       "      <th>BLOODPRESSURE_SISTOLIC_DIFF_REL</th>\n",
       "      <th>HEART_RATE_DIFF_REL</th>\n",
       "      <th>RESPIRATORY_RATE_DIFF_REL</th>\n",
       "      <th>TEMPERATURE_DIFF_REL</th>\n",
       "      <th>OXYGEN_SATURATION_DIFF_REL</th>\n",
       "      <th>WINDOW</th>\n",
       "      <th>ICU</th>\n",
       "    </tr>\n",
       "  </thead>\n",
       "  <tbody>\n",
       "    <tr>\n",
       "      <th>0</th>\n",
       "      <td>0</td>\n",
       "      <td>1</td>\n",
       "      <td>60th</td>\n",
       "      <td>0</td>\n",
       "      <td>0.0</td>\n",
       "      <td>0.0</td>\n",
       "      <td>0.0</td>\n",
       "      <td>0.0</td>\n",
       "      <td>1.0</td>\n",
       "      <td>1.0</td>\n",
       "      <td>...</td>\n",
       "      <td>-1.000000</td>\n",
       "      <td>-1.000000</td>\n",
       "      <td>-1.000000</td>\n",
       "      <td>-1.000000</td>\n",
       "      <td>-1.000000</td>\n",
       "      <td>-1.000000</td>\n",
       "      <td>-1.000000</td>\n",
       "      <td>-1.000000</td>\n",
       "      <td>0-2</td>\n",
       "      <td>0</td>\n",
       "    </tr>\n",
       "    <tr>\n",
       "      <th>1</th>\n",
       "      <td>0</td>\n",
       "      <td>1</td>\n",
       "      <td>60th</td>\n",
       "      <td>0</td>\n",
       "      <td>0.0</td>\n",
       "      <td>0.0</td>\n",
       "      <td>0.0</td>\n",
       "      <td>0.0</td>\n",
       "      <td>1.0</td>\n",
       "      <td>1.0</td>\n",
       "      <td>...</td>\n",
       "      <td>-1.000000</td>\n",
       "      <td>-1.000000</td>\n",
       "      <td>-1.000000</td>\n",
       "      <td>-1.000000</td>\n",
       "      <td>-1.000000</td>\n",
       "      <td>-1.000000</td>\n",
       "      <td>-1.000000</td>\n",
       "      <td>-1.000000</td>\n",
       "      <td>2-4</td>\n",
       "      <td>0</td>\n",
       "    </tr>\n",
       "    <tr>\n",
       "      <th>2</th>\n",
       "      <td>0</td>\n",
       "      <td>1</td>\n",
       "      <td>60th</td>\n",
       "      <td>0</td>\n",
       "      <td>0.0</td>\n",
       "      <td>0.0</td>\n",
       "      <td>0.0</td>\n",
       "      <td>0.0</td>\n",
       "      <td>1.0</td>\n",
       "      <td>1.0</td>\n",
       "      <td>...</td>\n",
       "      <td>NaN</td>\n",
       "      <td>NaN</td>\n",
       "      <td>NaN</td>\n",
       "      <td>NaN</td>\n",
       "      <td>NaN</td>\n",
       "      <td>NaN</td>\n",
       "      <td>NaN</td>\n",
       "      <td>NaN</td>\n",
       "      <td>4-6</td>\n",
       "      <td>0</td>\n",
       "    </tr>\n",
       "    <tr>\n",
       "      <th>3</th>\n",
       "      <td>0</td>\n",
       "      <td>1</td>\n",
       "      <td>60th</td>\n",
       "      <td>0</td>\n",
       "      <td>0.0</td>\n",
       "      <td>0.0</td>\n",
       "      <td>0.0</td>\n",
       "      <td>0.0</td>\n",
       "      <td>1.0</td>\n",
       "      <td>1.0</td>\n",
       "      <td>...</td>\n",
       "      <td>-1.000000</td>\n",
       "      <td>-1.000000</td>\n",
       "      <td>NaN</td>\n",
       "      <td>NaN</td>\n",
       "      <td>NaN</td>\n",
       "      <td>NaN</td>\n",
       "      <td>-1.000000</td>\n",
       "      <td>-1.000000</td>\n",
       "      <td>6-12</td>\n",
       "      <td>0</td>\n",
       "    </tr>\n",
       "    <tr>\n",
       "      <th>4</th>\n",
       "      <td>0</td>\n",
       "      <td>1</td>\n",
       "      <td>60th</td>\n",
       "      <td>0</td>\n",
       "      <td>0.0</td>\n",
       "      <td>0.0</td>\n",
       "      <td>0.0</td>\n",
       "      <td>0.0</td>\n",
       "      <td>1.0</td>\n",
       "      <td>1.0</td>\n",
       "      <td>...</td>\n",
       "      <td>-0.238095</td>\n",
       "      <td>-0.818182</td>\n",
       "      <td>-0.389967</td>\n",
       "      <td>0.407558</td>\n",
       "      <td>-0.230462</td>\n",
       "      <td>0.096774</td>\n",
       "      <td>-0.242282</td>\n",
       "      <td>-0.814433</td>\n",
       "      <td>ABOVE_12</td>\n",
       "      <td>1</td>\n",
       "    </tr>\n",
       "  </tbody>\n",
       "</table>\n",
       "<p>5 rows × 231 columns</p>\n",
       "</div>"
      ],
      "text/plain": [
       "   PATIENT_VISIT_IDENTIFIER  AGE_ABOVE65 AGE_PERCENTIL  GENDER  \\\n",
       "0                         0            1          60th       0   \n",
       "1                         0            1          60th       0   \n",
       "2                         0            1          60th       0   \n",
       "3                         0            1          60th       0   \n",
       "4                         0            1          60th       0   \n",
       "\n",
       "   DISEASE GROUPING 1  DISEASE GROUPING 2  DISEASE GROUPING 3  \\\n",
       "0                 0.0                 0.0                 0.0   \n",
       "1                 0.0                 0.0                 0.0   \n",
       "2                 0.0                 0.0                 0.0   \n",
       "3                 0.0                 0.0                 0.0   \n",
       "4                 0.0                 0.0                 0.0   \n",
       "\n",
       "   DISEASE GROUPING 4  DISEASE GROUPING 5  DISEASE GROUPING 6  ...  \\\n",
       "0                 0.0                 1.0                 1.0  ...   \n",
       "1                 0.0                 1.0                 1.0  ...   \n",
       "2                 0.0                 1.0                 1.0  ...   \n",
       "3                 0.0                 1.0                 1.0  ...   \n",
       "4                 0.0                 1.0                 1.0  ...   \n",
       "\n",
       "   TEMPERATURE_DIFF  OXYGEN_SATURATION_DIFF  BLOODPRESSURE_DIASTOLIC_DIFF_REL  \\\n",
       "0         -1.000000               -1.000000                         -1.000000   \n",
       "1         -1.000000               -1.000000                         -1.000000   \n",
       "2               NaN                     NaN                               NaN   \n",
       "3         -1.000000               -1.000000                               NaN   \n",
       "4         -0.238095               -0.818182                         -0.389967   \n",
       "\n",
       "   BLOODPRESSURE_SISTOLIC_DIFF_REL  HEART_RATE_DIFF_REL  \\\n",
       "0                        -1.000000            -1.000000   \n",
       "1                        -1.000000            -1.000000   \n",
       "2                              NaN                  NaN   \n",
       "3                              NaN                  NaN   \n",
       "4                         0.407558            -0.230462   \n",
       "\n",
       "   RESPIRATORY_RATE_DIFF_REL  TEMPERATURE_DIFF_REL  \\\n",
       "0                  -1.000000             -1.000000   \n",
       "1                  -1.000000             -1.000000   \n",
       "2                        NaN                   NaN   \n",
       "3                        NaN             -1.000000   \n",
       "4                   0.096774             -0.242282   \n",
       "\n",
       "   OXYGEN_SATURATION_DIFF_REL    WINDOW  ICU  \n",
       "0                   -1.000000       0-2    0  \n",
       "1                   -1.000000       2-4    0  \n",
       "2                         NaN       4-6    0  \n",
       "3                   -1.000000      6-12    0  \n",
       "4                   -0.814433  ABOVE_12    1  \n",
       "\n",
       "[5 rows x 231 columns]"
      ]
     },
     "execution_count": 2,
     "metadata": {},
     "output_type": "execute_result"
    }
   ],
   "source": [
    "url = 'https://github.com/alura-cursos/covid-19-clinical/blob/main/Kaggle_Sirio_Libanes_ICU_Prediction.xlsx?raw=true'\n",
    "patients = pd.read_excel(url)\n",
    "\n",
    "patients.head()"
   ]
  },
  {
   "cell_type": "code",
   "execution_count": 3,
   "metadata": {},
   "outputs": [],
   "source": [
    "def fill_df_continuous_vars(df: pd.DataFrame):\n",
    "    \n",
    "    continuous_features_cols = df.iloc[:, 13:-2].columns\n",
    "\n",
    "    # it has a mistake: when I group and do fillna, I need to group it again to apply fillna again\n",
    "    # in the way made below some data from different patients are leaking in the ffill, because it's\n",
    "    # not grouped anymore.\n",
    "    filled_continuous_features = (df.groupby('PATIENT_VISIT_IDENTIFIER')\n",
    "                                  [continuous_features_cols]\n",
    "                                  .fillna(method='bfill')\n",
    "                                  .fillna(method='ffill')\n",
    "                                  .reset_index())\n",
    "    \n",
    "    categorical_features = df.iloc[:, :13]\n",
    "    \n",
    "    output = df.iloc[:, -2:]\n",
    "    \n",
    "    return pd.concat([categorical_features, filled_continuous_features, output], axis=1)"
   ]
  },
  {
   "cell_type": "code",
   "execution_count": 4,
   "metadata": {},
   "outputs": [
    {
     "data": {
      "text/html": [
       "<div>\n",
       "<style scoped>\n",
       "    .dataframe tbody tr th:only-of-type {\n",
       "        vertical-align: middle;\n",
       "    }\n",
       "\n",
       "    .dataframe tbody tr th {\n",
       "        vertical-align: top;\n",
       "    }\n",
       "\n",
       "    .dataframe thead th {\n",
       "        text-align: right;\n",
       "    }\n",
       "</style>\n",
       "<table border=\"1\" class=\"dataframe\">\n",
       "  <thead>\n",
       "    <tr style=\"text-align: right;\">\n",
       "      <th></th>\n",
       "      <th>PATIENT_VISIT_IDENTIFIER</th>\n",
       "      <th>AGE_ABOVE65</th>\n",
       "      <th>GENDER</th>\n",
       "      <th>DISEASE GROUPING 1</th>\n",
       "      <th>DISEASE GROUPING 2</th>\n",
       "      <th>DISEASE GROUPING 3</th>\n",
       "      <th>DISEASE GROUPING 4</th>\n",
       "      <th>DISEASE GROUPING 5</th>\n",
       "      <th>DISEASE GROUPING 6</th>\n",
       "      <th>HTN</th>\n",
       "      <th>...</th>\n",
       "      <th>RESPIRATORY_RATE_DIFF</th>\n",
       "      <th>TEMPERATURE_DIFF</th>\n",
       "      <th>OXYGEN_SATURATION_DIFF</th>\n",
       "      <th>BLOODPRESSURE_DIASTOLIC_DIFF_REL</th>\n",
       "      <th>BLOODPRESSURE_SISTOLIC_DIFF_REL</th>\n",
       "      <th>HEART_RATE_DIFF_REL</th>\n",
       "      <th>RESPIRATORY_RATE_DIFF_REL</th>\n",
       "      <th>TEMPERATURE_DIFF_REL</th>\n",
       "      <th>OXYGEN_SATURATION_DIFF_REL</th>\n",
       "      <th>ICU</th>\n",
       "    </tr>\n",
       "  </thead>\n",
       "  <tbody>\n",
       "    <tr>\n",
       "      <th>count</th>\n",
       "      <td>1760.000000</td>\n",
       "      <td>1760.000000</td>\n",
       "      <td>1760.000000</td>\n",
       "      <td>1760.00000</td>\n",
       "      <td>1760.000000</td>\n",
       "      <td>1760.000000</td>\n",
       "      <td>1760.000000</td>\n",
       "      <td>1760.000000</td>\n",
       "      <td>1760.000000</td>\n",
       "      <td>1760.000000</td>\n",
       "      <td>...</td>\n",
       "      <td>1760.000000</td>\n",
       "      <td>1760.000000</td>\n",
       "      <td>1760.000000</td>\n",
       "      <td>1760.000000</td>\n",
       "      <td>1760.000000</td>\n",
       "      <td>1760.000000</td>\n",
       "      <td>1760.000000</td>\n",
       "      <td>1760.000000</td>\n",
       "      <td>1760.000000</td>\n",
       "      <td>1760.000000</td>\n",
       "    </tr>\n",
       "    <tr>\n",
       "      <th>mean</th>\n",
       "      <td>192.818182</td>\n",
       "      <td>0.457386</td>\n",
       "      <td>0.380682</td>\n",
       "      <td>0.11250</td>\n",
       "      <td>0.026136</td>\n",
       "      <td>0.101705</td>\n",
       "      <td>0.021591</td>\n",
       "      <td>0.132955</td>\n",
       "      <td>0.049432</td>\n",
       "      <td>0.212500</td>\n",
       "      <td>...</td>\n",
       "      <td>-0.778209</td>\n",
       "      <td>-0.823458</td>\n",
       "      <td>-0.915593</td>\n",
       "      <td>-0.828593</td>\n",
       "      <td>-0.774857</td>\n",
       "      <td>-0.854690</td>\n",
       "      <td>-0.788155</td>\n",
       "      <td>-0.824412</td>\n",
       "      <td>-0.915552</td>\n",
       "      <td>0.201705</td>\n",
       "    </tr>\n",
       "    <tr>\n",
       "      <th>std</th>\n",
       "      <td>110.637724</td>\n",
       "      <td>0.498322</td>\n",
       "      <td>0.485692</td>\n",
       "      <td>0.31607</td>\n",
       "      <td>0.159586</td>\n",
       "      <td>0.302345</td>\n",
       "      <td>0.145385</td>\n",
       "      <td>0.339622</td>\n",
       "      <td>0.216829</td>\n",
       "      <td>0.409193</td>\n",
       "      <td>...</td>\n",
       "      <td>0.411909</td>\n",
       "      <td>0.276279</td>\n",
       "      <td>0.247695</td>\n",
       "      <td>0.287696</td>\n",
       "      <td>0.368311</td>\n",
       "      <td>0.240338</td>\n",
       "      <td>0.384405</td>\n",
       "      <td>0.274953</td>\n",
       "      <td>0.248093</td>\n",
       "      <td>0.401387</td>\n",
       "    </tr>\n",
       "    <tr>\n",
       "      <th>min</th>\n",
       "      <td>0.000000</td>\n",
       "      <td>0.000000</td>\n",
       "      <td>0.000000</td>\n",
       "      <td>0.00000</td>\n",
       "      <td>0.000000</td>\n",
       "      <td>0.000000</td>\n",
       "      <td>0.000000</td>\n",
       "      <td>0.000000</td>\n",
       "      <td>0.000000</td>\n",
       "      <td>0.000000</td>\n",
       "      <td>...</td>\n",
       "      <td>-1.000000</td>\n",
       "      <td>-1.000000</td>\n",
       "      <td>-1.000000</td>\n",
       "      <td>-1.000000</td>\n",
       "      <td>-1.000000</td>\n",
       "      <td>-1.000000</td>\n",
       "      <td>-1.000000</td>\n",
       "      <td>-1.000000</td>\n",
       "      <td>-1.000000</td>\n",
       "      <td>0.000000</td>\n",
       "    </tr>\n",
       "    <tr>\n",
       "      <th>25%</th>\n",
       "      <td>97.750000</td>\n",
       "      <td>0.000000</td>\n",
       "      <td>0.000000</td>\n",
       "      <td>0.00000</td>\n",
       "      <td>0.000000</td>\n",
       "      <td>0.000000</td>\n",
       "      <td>0.000000</td>\n",
       "      <td>0.000000</td>\n",
       "      <td>0.000000</td>\n",
       "      <td>0.000000</td>\n",
       "      <td>...</td>\n",
       "      <td>-1.000000</td>\n",
       "      <td>-1.000000</td>\n",
       "      <td>-1.000000</td>\n",
       "      <td>-1.000000</td>\n",
       "      <td>-1.000000</td>\n",
       "      <td>-1.000000</td>\n",
       "      <td>-1.000000</td>\n",
       "      <td>-1.000000</td>\n",
       "      <td>-1.000000</td>\n",
       "      <td>0.000000</td>\n",
       "    </tr>\n",
       "    <tr>\n",
       "      <th>50%</th>\n",
       "      <td>191.500000</td>\n",
       "      <td>0.000000</td>\n",
       "      <td>0.000000</td>\n",
       "      <td>0.00000</td>\n",
       "      <td>0.000000</td>\n",
       "      <td>0.000000</td>\n",
       "      <td>0.000000</td>\n",
       "      <td>0.000000</td>\n",
       "      <td>0.000000</td>\n",
       "      <td>0.000000</td>\n",
       "      <td>...</td>\n",
       "      <td>-1.000000</td>\n",
       "      <td>-1.000000</td>\n",
       "      <td>-1.000000</td>\n",
       "      <td>-1.000000</td>\n",
       "      <td>-1.000000</td>\n",
       "      <td>-1.000000</td>\n",
       "      <td>-1.000000</td>\n",
       "      <td>-1.000000</td>\n",
       "      <td>-1.000000</td>\n",
       "      <td>0.000000</td>\n",
       "    </tr>\n",
       "    <tr>\n",
       "      <th>75%</th>\n",
       "      <td>289.250000</td>\n",
       "      <td>1.000000</td>\n",
       "      <td>1.000000</td>\n",
       "      <td>0.00000</td>\n",
       "      <td>0.000000</td>\n",
       "      <td>0.000000</td>\n",
       "      <td>0.000000</td>\n",
       "      <td>0.000000</td>\n",
       "      <td>0.000000</td>\n",
       "      <td>0.000000</td>\n",
       "      <td>...</td>\n",
       "      <td>-0.764706</td>\n",
       "      <td>-0.738095</td>\n",
       "      <td>-0.919192</td>\n",
       "      <td>-0.726087</td>\n",
       "      <td>-0.651942</td>\n",
       "      <td>-0.771625</td>\n",
       "      <td>-0.756272</td>\n",
       "      <td>-0.736640</td>\n",
       "      <td>-0.920103</td>\n",
       "      <td>0.000000</td>\n",
       "    </tr>\n",
       "    <tr>\n",
       "      <th>max</th>\n",
       "      <td>384.000000</td>\n",
       "      <td>1.000000</td>\n",
       "      <td>1.000000</td>\n",
       "      <td>1.00000</td>\n",
       "      <td>1.000000</td>\n",
       "      <td>1.000000</td>\n",
       "      <td>1.000000</td>\n",
       "      <td>1.000000</td>\n",
       "      <td>1.000000</td>\n",
       "      <td>1.000000</td>\n",
       "      <td>...</td>\n",
       "      <td>1.000000</td>\n",
       "      <td>0.333333</td>\n",
       "      <td>1.000000</td>\n",
       "      <td>1.000000</td>\n",
       "      <td>1.000000</td>\n",
       "      <td>1.000000</td>\n",
       "      <td>1.000000</td>\n",
       "      <td>0.329660</td>\n",
       "      <td>1.000000</td>\n",
       "      <td>1.000000</td>\n",
       "    </tr>\n",
       "  </tbody>\n",
       "</table>\n",
       "<p>8 rows × 230 columns</p>\n",
       "</div>"
      ],
      "text/plain": [
       "       PATIENT_VISIT_IDENTIFIER  AGE_ABOVE65       GENDER  DISEASE GROUPING 1  \\\n",
       "count               1760.000000  1760.000000  1760.000000          1760.00000   \n",
       "mean                 192.818182     0.457386     0.380682             0.11250   \n",
       "std                  110.637724     0.498322     0.485692             0.31607   \n",
       "min                    0.000000     0.000000     0.000000             0.00000   \n",
       "25%                   97.750000     0.000000     0.000000             0.00000   \n",
       "50%                  191.500000     0.000000     0.000000             0.00000   \n",
       "75%                  289.250000     1.000000     1.000000             0.00000   \n",
       "max                  384.000000     1.000000     1.000000             1.00000   \n",
       "\n",
       "       DISEASE GROUPING 2  DISEASE GROUPING 3  DISEASE GROUPING 4  \\\n",
       "count         1760.000000         1760.000000         1760.000000   \n",
       "mean             0.026136            0.101705            0.021591   \n",
       "std              0.159586            0.302345            0.145385   \n",
       "min              0.000000            0.000000            0.000000   \n",
       "25%              0.000000            0.000000            0.000000   \n",
       "50%              0.000000            0.000000            0.000000   \n",
       "75%              0.000000            0.000000            0.000000   \n",
       "max              1.000000            1.000000            1.000000   \n",
       "\n",
       "       DISEASE GROUPING 5  DISEASE GROUPING 6          HTN  ...  \\\n",
       "count         1760.000000         1760.000000  1760.000000  ...   \n",
       "mean             0.132955            0.049432     0.212500  ...   \n",
       "std              0.339622            0.216829     0.409193  ...   \n",
       "min              0.000000            0.000000     0.000000  ...   \n",
       "25%              0.000000            0.000000     0.000000  ...   \n",
       "50%              0.000000            0.000000     0.000000  ...   \n",
       "75%              0.000000            0.000000     0.000000  ...   \n",
       "max              1.000000            1.000000     1.000000  ...   \n",
       "\n",
       "       RESPIRATORY_RATE_DIFF  TEMPERATURE_DIFF  OXYGEN_SATURATION_DIFF  \\\n",
       "count            1760.000000       1760.000000             1760.000000   \n",
       "mean               -0.778209         -0.823458               -0.915593   \n",
       "std                 0.411909          0.276279                0.247695   \n",
       "min                -1.000000         -1.000000               -1.000000   \n",
       "25%                -1.000000         -1.000000               -1.000000   \n",
       "50%                -1.000000         -1.000000               -1.000000   \n",
       "75%                -0.764706         -0.738095               -0.919192   \n",
       "max                 1.000000          0.333333                1.000000   \n",
       "\n",
       "       BLOODPRESSURE_DIASTOLIC_DIFF_REL  BLOODPRESSURE_SISTOLIC_DIFF_REL  \\\n",
       "count                       1760.000000                      1760.000000   \n",
       "mean                          -0.828593                        -0.774857   \n",
       "std                            0.287696                         0.368311   \n",
       "min                           -1.000000                        -1.000000   \n",
       "25%                           -1.000000                        -1.000000   \n",
       "50%                           -1.000000                        -1.000000   \n",
       "75%                           -0.726087                        -0.651942   \n",
       "max                            1.000000                         1.000000   \n",
       "\n",
       "       HEART_RATE_DIFF_REL  RESPIRATORY_RATE_DIFF_REL  TEMPERATURE_DIFF_REL  \\\n",
       "count          1760.000000                1760.000000           1760.000000   \n",
       "mean             -0.854690                  -0.788155             -0.824412   \n",
       "std               0.240338                   0.384405              0.274953   \n",
       "min              -1.000000                  -1.000000             -1.000000   \n",
       "25%              -1.000000                  -1.000000             -1.000000   \n",
       "50%              -1.000000                  -1.000000             -1.000000   \n",
       "75%              -0.771625                  -0.756272             -0.736640   \n",
       "max               1.000000                   1.000000              0.329660   \n",
       "\n",
       "       OXYGEN_SATURATION_DIFF_REL          ICU  \n",
       "count                 1760.000000  1760.000000  \n",
       "mean                    -0.915552     0.201705  \n",
       "std                      0.248093     0.401387  \n",
       "min                     -1.000000     0.000000  \n",
       "25%                     -1.000000     0.000000  \n",
       "50%                     -1.000000     0.000000  \n",
       "75%                     -0.920103     0.000000  \n",
       "max                      1.000000     1.000000  \n",
       "\n",
       "[8 rows x 230 columns]"
      ]
     },
     "execution_count": 4,
     "metadata": {},
     "output_type": "execute_result"
    }
   ],
   "source": [
    "patients_filled = fill_df_continuous_vars(patients)\n",
    "\n",
    "patients_cannot_be_used = (patients_filled\n",
    "                               .query(\"WINDOW == '0-2' & ICU == 1\")\n",
    "                               ['PATIENT_VISIT_IDENTIFIER']\n",
    "                               .values)\n",
    "\n",
    "patients_cleaned = patients_filled.query('PATIENT_VISIT_IDENTIFIER not in @patients_cannot_be_used')\n",
    "\n",
    "patients_cleaned = patients_cleaned.dropna()\n",
    "\n",
    "patients_cleaned.describe()"
   ]
  },
  {
   "cell_type": "code",
   "execution_count": 5,
   "metadata": {},
   "outputs": [],
   "source": [
    "def window_prepare(rows):\n",
    "    # check if that patient went to UCI, if yes\n",
    "    if(np.any(rows['ICU'])):\n",
    "        # attribute 1 for ICU in the row which the window is 0-2\n",
    "        rows.loc[rows.WINDOW == '0-2', 'ICU'] = 1\n",
    "        \n",
    "    return rows.loc[rows.WINDOW == '0-2']"
   ]
  },
  {
   "cell_type": "code",
   "execution_count": 6,
   "metadata": {},
   "outputs": [
    {
     "data": {
      "text/html": [
       "<div>\n",
       "<style scoped>\n",
       "    .dataframe tbody tr th:only-of-type {\n",
       "        vertical-align: middle;\n",
       "    }\n",
       "\n",
       "    .dataframe tbody tr th {\n",
       "        vertical-align: top;\n",
       "    }\n",
       "\n",
       "    .dataframe thead th {\n",
       "        text-align: right;\n",
       "    }\n",
       "</style>\n",
       "<table border=\"1\" class=\"dataframe\">\n",
       "  <thead>\n",
       "    <tr style=\"text-align: right;\">\n",
       "      <th></th>\n",
       "      <th></th>\n",
       "      <th>PATIENT_VISIT_IDENTIFIER</th>\n",
       "      <th>AGE_ABOVE65</th>\n",
       "      <th>AGE_PERCENTIL</th>\n",
       "      <th>GENDER</th>\n",
       "      <th>DISEASE GROUPING 1</th>\n",
       "      <th>DISEASE GROUPING 2</th>\n",
       "      <th>DISEASE GROUPING 3</th>\n",
       "      <th>DISEASE GROUPING 4</th>\n",
       "      <th>DISEASE GROUPING 5</th>\n",
       "      <th>DISEASE GROUPING 6</th>\n",
       "      <th>...</th>\n",
       "      <th>TEMPERATURE_DIFF</th>\n",
       "      <th>OXYGEN_SATURATION_DIFF</th>\n",
       "      <th>BLOODPRESSURE_DIASTOLIC_DIFF_REL</th>\n",
       "      <th>BLOODPRESSURE_SISTOLIC_DIFF_REL</th>\n",
       "      <th>HEART_RATE_DIFF_REL</th>\n",
       "      <th>RESPIRATORY_RATE_DIFF_REL</th>\n",
       "      <th>TEMPERATURE_DIFF_REL</th>\n",
       "      <th>OXYGEN_SATURATION_DIFF_REL</th>\n",
       "      <th>WINDOW</th>\n",
       "      <th>ICU</th>\n",
       "    </tr>\n",
       "    <tr>\n",
       "      <th>PATIENT_VISIT_IDENTIFIER</th>\n",
       "      <th></th>\n",
       "      <th></th>\n",
       "      <th></th>\n",
       "      <th></th>\n",
       "      <th></th>\n",
       "      <th></th>\n",
       "      <th></th>\n",
       "      <th></th>\n",
       "      <th></th>\n",
       "      <th></th>\n",
       "      <th></th>\n",
       "      <th></th>\n",
       "      <th></th>\n",
       "      <th></th>\n",
       "      <th></th>\n",
       "      <th></th>\n",
       "      <th></th>\n",
       "      <th></th>\n",
       "      <th></th>\n",
       "      <th></th>\n",
       "      <th></th>\n",
       "      <th></th>\n",
       "    </tr>\n",
       "  </thead>\n",
       "  <tbody>\n",
       "    <tr>\n",
       "      <th>0</th>\n",
       "      <th>0</th>\n",
       "      <td>0</td>\n",
       "      <td>1</td>\n",
       "      <td>60th</td>\n",
       "      <td>0</td>\n",
       "      <td>0.0</td>\n",
       "      <td>0.0</td>\n",
       "      <td>0.0</td>\n",
       "      <td>0.0</td>\n",
       "      <td>1.0</td>\n",
       "      <td>1.0</td>\n",
       "      <td>...</td>\n",
       "      <td>-1.000000</td>\n",
       "      <td>-1.000000</td>\n",
       "      <td>-1.000000</td>\n",
       "      <td>-1.000000</td>\n",
       "      <td>-1.000000</td>\n",
       "      <td>-1.000000</td>\n",
       "      <td>-1.000000</td>\n",
       "      <td>-1.000000</td>\n",
       "      <td>0-2</td>\n",
       "      <td>1</td>\n",
       "    </tr>\n",
       "    <tr>\n",
       "      <th>2</th>\n",
       "      <th>10</th>\n",
       "      <td>2</td>\n",
       "      <td>0</td>\n",
       "      <td>10th</td>\n",
       "      <td>0</td>\n",
       "      <td>0.0</td>\n",
       "      <td>0.0</td>\n",
       "      <td>0.0</td>\n",
       "      <td>0.0</td>\n",
       "      <td>0.0</td>\n",
       "      <td>0.0</td>\n",
       "      <td>...</td>\n",
       "      <td>-1.000000</td>\n",
       "      <td>-0.959596</td>\n",
       "      <td>-0.515528</td>\n",
       "      <td>-0.351328</td>\n",
       "      <td>-0.747001</td>\n",
       "      <td>-0.756272</td>\n",
       "      <td>-1.000000</td>\n",
       "      <td>-0.961262</td>\n",
       "      <td>0-2</td>\n",
       "      <td>1</td>\n",
       "    </tr>\n",
       "    <tr>\n",
       "      <th>3</th>\n",
       "      <th>15</th>\n",
       "      <td>3</td>\n",
       "      <td>0</td>\n",
       "      <td>40th</td>\n",
       "      <td>1</td>\n",
       "      <td>0.0</td>\n",
       "      <td>0.0</td>\n",
       "      <td>0.0</td>\n",
       "      <td>0.0</td>\n",
       "      <td>0.0</td>\n",
       "      <td>0.0</td>\n",
       "      <td>...</td>\n",
       "      <td>-1.000000</td>\n",
       "      <td>-1.000000</td>\n",
       "      <td>-1.000000</td>\n",
       "      <td>-1.000000</td>\n",
       "      <td>-1.000000</td>\n",
       "      <td>-1.000000</td>\n",
       "      <td>-1.000000</td>\n",
       "      <td>-1.000000</td>\n",
       "      <td>0-2</td>\n",
       "      <td>0</td>\n",
       "    </tr>\n",
       "    <tr>\n",
       "      <th>4</th>\n",
       "      <th>20</th>\n",
       "      <td>4</td>\n",
       "      <td>0</td>\n",
       "      <td>10th</td>\n",
       "      <td>0</td>\n",
       "      <td>0.0</td>\n",
       "      <td>0.0</td>\n",
       "      <td>0.0</td>\n",
       "      <td>0.0</td>\n",
       "      <td>0.0</td>\n",
       "      <td>0.0</td>\n",
       "      <td>...</td>\n",
       "      <td>-0.952381</td>\n",
       "      <td>-0.979798</td>\n",
       "      <td>-1.000000</td>\n",
       "      <td>-0.883669</td>\n",
       "      <td>-0.956805</td>\n",
       "      <td>-0.870968</td>\n",
       "      <td>-0.953536</td>\n",
       "      <td>-0.980333</td>\n",
       "      <td>0-2</td>\n",
       "      <td>0</td>\n",
       "    </tr>\n",
       "    <tr>\n",
       "      <th>5</th>\n",
       "      <th>25</th>\n",
       "      <td>5</td>\n",
       "      <td>0</td>\n",
       "      <td>10th</td>\n",
       "      <td>0</td>\n",
       "      <td>0.0</td>\n",
       "      <td>0.0</td>\n",
       "      <td>0.0</td>\n",
       "      <td>0.0</td>\n",
       "      <td>0.0</td>\n",
       "      <td>0.0</td>\n",
       "      <td>...</td>\n",
       "      <td>-0.976190</td>\n",
       "      <td>-0.979798</td>\n",
       "      <td>-0.860870</td>\n",
       "      <td>-0.714460</td>\n",
       "      <td>-0.986481</td>\n",
       "      <td>-1.000000</td>\n",
       "      <td>-0.975891</td>\n",
       "      <td>-0.980129</td>\n",
       "      <td>0-2</td>\n",
       "      <td>0</td>\n",
       "    </tr>\n",
       "  </tbody>\n",
       "</table>\n",
       "<p>5 rows × 232 columns</p>\n",
       "</div>"
      ],
      "text/plain": [
       "                             PATIENT_VISIT_IDENTIFIER  AGE_ABOVE65  \\\n",
       "PATIENT_VISIT_IDENTIFIER                                             \n",
       "0                        0                          0            1   \n",
       "2                        10                         2            0   \n",
       "3                        15                         3            0   \n",
       "4                        20                         4            0   \n",
       "5                        25                         5            0   \n",
       "\n",
       "                            AGE_PERCENTIL  GENDER  DISEASE GROUPING 1  \\\n",
       "PATIENT_VISIT_IDENTIFIER                                                \n",
       "0                        0           60th       0                 0.0   \n",
       "2                        10          10th       0                 0.0   \n",
       "3                        15          40th       1                 0.0   \n",
       "4                        20          10th       0                 0.0   \n",
       "5                        25          10th       0                 0.0   \n",
       "\n",
       "                             DISEASE GROUPING 2  DISEASE GROUPING 3  \\\n",
       "PATIENT_VISIT_IDENTIFIER                                              \n",
       "0                        0                  0.0                 0.0   \n",
       "2                        10                 0.0                 0.0   \n",
       "3                        15                 0.0                 0.0   \n",
       "4                        20                 0.0                 0.0   \n",
       "5                        25                 0.0                 0.0   \n",
       "\n",
       "                             DISEASE GROUPING 4  DISEASE GROUPING 5  \\\n",
       "PATIENT_VISIT_IDENTIFIER                                              \n",
       "0                        0                  0.0                 1.0   \n",
       "2                        10                 0.0                 0.0   \n",
       "3                        15                 0.0                 0.0   \n",
       "4                        20                 0.0                 0.0   \n",
       "5                        25                 0.0                 0.0   \n",
       "\n",
       "                             DISEASE GROUPING 6  ...  TEMPERATURE_DIFF  \\\n",
       "PATIENT_VISIT_IDENTIFIER                         ...                     \n",
       "0                        0                  1.0  ...         -1.000000   \n",
       "2                        10                 0.0  ...         -1.000000   \n",
       "3                        15                 0.0  ...         -1.000000   \n",
       "4                        20                 0.0  ...         -0.952381   \n",
       "5                        25                 0.0  ...         -0.976190   \n",
       "\n",
       "                             OXYGEN_SATURATION_DIFF  \\\n",
       "PATIENT_VISIT_IDENTIFIER                              \n",
       "0                        0                -1.000000   \n",
       "2                        10               -0.959596   \n",
       "3                        15               -1.000000   \n",
       "4                        20               -0.979798   \n",
       "5                        25               -0.979798   \n",
       "\n",
       "                             BLOODPRESSURE_DIASTOLIC_DIFF_REL  \\\n",
       "PATIENT_VISIT_IDENTIFIER                                        \n",
       "0                        0                          -1.000000   \n",
       "2                        10                         -0.515528   \n",
       "3                        15                         -1.000000   \n",
       "4                        20                         -1.000000   \n",
       "5                        25                         -0.860870   \n",
       "\n",
       "                             BLOODPRESSURE_SISTOLIC_DIFF_REL  \\\n",
       "PATIENT_VISIT_IDENTIFIER                                       \n",
       "0                        0                         -1.000000   \n",
       "2                        10                        -0.351328   \n",
       "3                        15                        -1.000000   \n",
       "4                        20                        -0.883669   \n",
       "5                        25                        -0.714460   \n",
       "\n",
       "                             HEART_RATE_DIFF_REL  RESPIRATORY_RATE_DIFF_REL  \\\n",
       "PATIENT_VISIT_IDENTIFIER                                                      \n",
       "0                        0             -1.000000                  -1.000000   \n",
       "2                        10            -0.747001                  -0.756272   \n",
       "3                        15            -1.000000                  -1.000000   \n",
       "4                        20            -0.956805                  -0.870968   \n",
       "5                        25            -0.986481                  -1.000000   \n",
       "\n",
       "                             TEMPERATURE_DIFF_REL  OXYGEN_SATURATION_DIFF_REL  \\\n",
       "PATIENT_VISIT_IDENTIFIER                                                        \n",
       "0                        0              -1.000000                   -1.000000   \n",
       "2                        10             -1.000000                   -0.961262   \n",
       "3                        15             -1.000000                   -1.000000   \n",
       "4                        20             -0.953536                   -0.980333   \n",
       "5                        25             -0.975891                   -0.980129   \n",
       "\n",
       "                             WINDOW  ICU  \n",
       "PATIENT_VISIT_IDENTIFIER                  \n",
       "0                        0      0-2    1  \n",
       "2                        10     0-2    1  \n",
       "3                        15     0-2    0  \n",
       "4                        20     0-2    0  \n",
       "5                        25     0-2    0  \n",
       "\n",
       "[5 rows x 232 columns]"
      ]
     },
     "execution_count": 6,
     "metadata": {},
     "output_type": "execute_result"
    }
   ],
   "source": [
    "patients_cleaned = \\\n",
    "    (patients_cleaned\n",
    "        .groupby('PATIENT_VISIT_IDENTIFIER')\n",
    "        .apply(window_prepare))\n",
    "\n",
    "patients_cleaned.head()"
   ]
  },
  {
   "cell_type": "code",
   "execution_count": 7,
   "metadata": {},
   "outputs": [],
   "source": [
    "from sklearn.linear_model import LogisticRegression\n",
    "from sklearn.dummy import DummyClassifier\n",
    "from sklearn.metrics import accuracy_score\n",
    "from sklearn.model_selection import train_test_split\n",
    "\n",
    "np.random.seed(73246)"
   ]
  },
  {
   "cell_type": "code",
   "execution_count": 8,
   "metadata": {},
   "outputs": [],
   "source": [
    "x_columns = patients_cleaned.describe().columns\n",
    "\n",
    "y = patients_cleaned['ICU']\n",
    "x = patients_cleaned[x_columns].drop('ICU', axis=1)"
   ]
  },
  {
   "cell_type": "code",
   "execution_count": 9,
   "metadata": {},
   "outputs": [],
   "source": [
    "x_train, x_test, y_train, y_test = train_test_split(x, y, stratify=y)"
   ]
  },
  {
   "cell_type": "code",
   "execution_count": 10,
   "metadata": {},
   "outputs": [
    {
     "name": "stderr",
     "output_type": "stream",
     "text": [
      "/home/gabriela/.local/lib/python3.6/site-packages/sklearn/dummy.py:132: FutureWarning: The default value of strategy will change from stratified to prior in 0.24.\n",
      "  \"stratified to prior in 0.24.\", FutureWarning)\n"
     ]
    },
    {
     "data": {
      "text/plain": [
       "0.48863636363636365"
      ]
     },
     "execution_count": 10,
     "metadata": {},
     "output_type": "execute_result"
    }
   ],
   "source": [
    "dummy_model = DummyClassifier()\n",
    "dummy_model.fit(x_train, y_train)\n",
    "\n",
    "y_prediction_d = dummy_model.predict(x_test)\n",
    "accuracy_score(y_test, y_prediction_d)"
   ]
  },
  {
   "cell_type": "code",
   "execution_count": 11,
   "metadata": {},
   "outputs": [
    {
     "data": {
      "text/plain": [
       "0.7045454545454546"
      ]
     },
     "execution_count": 11,
     "metadata": {},
     "output_type": "execute_result"
    }
   ],
   "source": [
    "LR_model = LogisticRegression(max_iter=10000)\n",
    "LR_model.fit(x_train, y_train)\n",
    "\n",
    "y_prediction_LR = LR_model.predict(x_test)\n",
    "accuracy_score(y_test, y_prediction_LR)"
   ]
  },
  {
   "cell_type": "markdown",
   "metadata": {},
   "source": [
    "### A fail in module 5 was the use pf `.describe().columns` to filter the columns for the `x` variable. It may have disregarded some columns.\n",
    "\n",
    "Below I check which columns were disregarded."
   ]
  },
  {
   "cell_type": "code",
   "execution_count": 12,
   "metadata": {},
   "outputs": [
    {
     "name": "stdout",
     "output_type": "stream",
     "text": [
      "AGE_PERCENTIL\n",
      "WINDOW\n"
     ]
    }
   ],
   "source": [
    "for column in patients.columns:    \n",
    "    if column not in x_columns:\n",
    "        print(column)"
   ]
  },
  {
   "cell_type": "code",
   "execution_count": 13,
   "metadata": {},
   "outputs": [
    {
     "data": {
      "text/html": [
       "<div>\n",
       "<style scoped>\n",
       "    .dataframe tbody tr th:only-of-type {\n",
       "        vertical-align: middle;\n",
       "    }\n",
       "\n",
       "    .dataframe tbody tr th {\n",
       "        vertical-align: top;\n",
       "    }\n",
       "\n",
       "    .dataframe thead th {\n",
       "        text-align: right;\n",
       "    }\n",
       "</style>\n",
       "<table border=\"1\" class=\"dataframe\">\n",
       "  <thead>\n",
       "    <tr style=\"text-align: right;\">\n",
       "      <th></th>\n",
       "      <th>AGE_PERCENTIL</th>\n",
       "      <th>WINDOW</th>\n",
       "    </tr>\n",
       "  </thead>\n",
       "  <tbody>\n",
       "    <tr>\n",
       "      <th>0</th>\n",
       "      <td>60th</td>\n",
       "      <td>0-2</td>\n",
       "    </tr>\n",
       "    <tr>\n",
       "      <th>1</th>\n",
       "      <td>60th</td>\n",
       "      <td>2-4</td>\n",
       "    </tr>\n",
       "    <tr>\n",
       "      <th>2</th>\n",
       "      <td>60th</td>\n",
       "      <td>4-6</td>\n",
       "    </tr>\n",
       "    <tr>\n",
       "      <th>3</th>\n",
       "      <td>60th</td>\n",
       "      <td>6-12</td>\n",
       "    </tr>\n",
       "    <tr>\n",
       "      <th>4</th>\n",
       "      <td>60th</td>\n",
       "      <td>ABOVE_12</td>\n",
       "    </tr>\n",
       "  </tbody>\n",
       "</table>\n",
       "</div>"
      ],
      "text/plain": [
       "  AGE_PERCENTIL    WINDOW\n",
       "0          60th       0-2\n",
       "1          60th       2-4\n",
       "2          60th       4-6\n",
       "3          60th      6-12\n",
       "4          60th  ABOVE_12"
      ]
     },
     "execution_count": 13,
     "metadata": {},
     "output_type": "execute_result"
    }
   ],
   "source": [
    "patients[['AGE_PERCENTIL', 'WINDOW']].head()"
   ]
  },
  {
   "cell_type": "markdown",
   "metadata": {},
   "source": [
    "- `AGE_PERCENTIL` can be an important variable for the model training.\n",
    "- On the other hand `WINDOW` is not important because we selected a specific window."
   ]
  },
  {
   "cell_type": "markdown",
   "metadata": {},
   "source": [
    "### Converting `AGE_PERCENTIL` to float or int\n",
    "\n",
    "Logistic Regression model will not work if this variable is a string."
   ]
  },
  {
   "cell_type": "code",
   "execution_count": 14,
   "metadata": {
    "scrolled": true
   },
   "outputs": [
    {
     "data": {
      "text/plain": [
       "PATIENT_VISIT_IDENTIFIER      \n",
       "0                         0             60th\n",
       "2                         10            10th\n",
       "3                         15            40th\n",
       "4                         20            10th\n",
       "5                         25            10th\n",
       "                                     ...    \n",
       "380                       1900          40th\n",
       "381                       1905    Above 90th\n",
       "382                       1910          50th\n",
       "383                       1915          40th\n",
       "384                       1920          50th\n",
       "Name: AGE_PERCENTIL, Length: 352, dtype: object"
      ]
     },
     "execution_count": 14,
     "metadata": {},
     "output_type": "execute_result"
    }
   ],
   "source": [
    "patients_cleaned.AGE_PERCENTIL"
   ]
  },
  {
   "cell_type": "code",
   "execution_count": 15,
   "metadata": {
    "scrolled": true
   },
   "outputs": [
    {
     "data": {
      "text/plain": [
       "PATIENT_VISIT_IDENTIFIER      \n",
       "0                         0       5\n",
       "2                         10      0\n",
       "3                         15      3\n",
       "4                         20      0\n",
       "5                         25      0\n",
       "                                 ..\n",
       "380                       1900    3\n",
       "381                       1905    9\n",
       "382                       1910    4\n",
       "383                       1915    3\n",
       "384                       1920    4\n",
       "Length: 352, dtype: int8"
      ]
     },
     "execution_count": 15,
     "metadata": {},
     "output_type": "execute_result"
    }
   ],
   "source": [
    "patients_cleaned.AGE_PERCENTIL.astype('category').cat.codes"
   ]
  },
  {
   "cell_type": "code",
   "execution_count": 16,
   "metadata": {},
   "outputs": [],
   "source": [
    "patients_usable = patients_cleaned.copy()\n",
    "\n",
    "patients_usable['AGE_PERCENTIL'] = \\\n",
    "    patients_usable.AGE_PERCENTIL.astype('category').cat.codes"
   ]
  },
  {
   "cell_type": "code",
   "execution_count": 17,
   "metadata": {},
   "outputs": [
    {
     "data": {
      "text/html": [
       "<div>\n",
       "<style scoped>\n",
       "    .dataframe tbody tr th:only-of-type {\n",
       "        vertical-align: middle;\n",
       "    }\n",
       "\n",
       "    .dataframe tbody tr th {\n",
       "        vertical-align: top;\n",
       "    }\n",
       "\n",
       "    .dataframe thead th {\n",
       "        text-align: right;\n",
       "    }\n",
       "</style>\n",
       "<table border=\"1\" class=\"dataframe\">\n",
       "  <thead>\n",
       "    <tr style=\"text-align: right;\">\n",
       "      <th></th>\n",
       "      <th></th>\n",
       "      <th>PATIENT_VISIT_IDENTIFIER</th>\n",
       "      <th>AGE_ABOVE65</th>\n",
       "      <th>AGE_PERCENTIL</th>\n",
       "      <th>GENDER</th>\n",
       "      <th>DISEASE GROUPING 1</th>\n",
       "      <th>DISEASE GROUPING 2</th>\n",
       "      <th>DISEASE GROUPING 3</th>\n",
       "      <th>DISEASE GROUPING 4</th>\n",
       "      <th>DISEASE GROUPING 5</th>\n",
       "      <th>DISEASE GROUPING 6</th>\n",
       "      <th>...</th>\n",
       "      <th>TEMPERATURE_DIFF</th>\n",
       "      <th>OXYGEN_SATURATION_DIFF</th>\n",
       "      <th>BLOODPRESSURE_DIASTOLIC_DIFF_REL</th>\n",
       "      <th>BLOODPRESSURE_SISTOLIC_DIFF_REL</th>\n",
       "      <th>HEART_RATE_DIFF_REL</th>\n",
       "      <th>RESPIRATORY_RATE_DIFF_REL</th>\n",
       "      <th>TEMPERATURE_DIFF_REL</th>\n",
       "      <th>OXYGEN_SATURATION_DIFF_REL</th>\n",
       "      <th>WINDOW</th>\n",
       "      <th>ICU</th>\n",
       "    </tr>\n",
       "    <tr>\n",
       "      <th>PATIENT_VISIT_IDENTIFIER</th>\n",
       "      <th></th>\n",
       "      <th></th>\n",
       "      <th></th>\n",
       "      <th></th>\n",
       "      <th></th>\n",
       "      <th></th>\n",
       "      <th></th>\n",
       "      <th></th>\n",
       "      <th></th>\n",
       "      <th></th>\n",
       "      <th></th>\n",
       "      <th></th>\n",
       "      <th></th>\n",
       "      <th></th>\n",
       "      <th></th>\n",
       "      <th></th>\n",
       "      <th></th>\n",
       "      <th></th>\n",
       "      <th></th>\n",
       "      <th></th>\n",
       "      <th></th>\n",
       "      <th></th>\n",
       "    </tr>\n",
       "  </thead>\n",
       "  <tbody>\n",
       "    <tr>\n",
       "      <th>0</th>\n",
       "      <th>0</th>\n",
       "      <td>0</td>\n",
       "      <td>1</td>\n",
       "      <td>5</td>\n",
       "      <td>0</td>\n",
       "      <td>0.0</td>\n",
       "      <td>0.0</td>\n",
       "      <td>0.0</td>\n",
       "      <td>0.0</td>\n",
       "      <td>1.0</td>\n",
       "      <td>1.0</td>\n",
       "      <td>...</td>\n",
       "      <td>-1.000000</td>\n",
       "      <td>-1.000000</td>\n",
       "      <td>-1.000000</td>\n",
       "      <td>-1.000000</td>\n",
       "      <td>-1.000000</td>\n",
       "      <td>-1.000000</td>\n",
       "      <td>-1.000000</td>\n",
       "      <td>-1.000000</td>\n",
       "      <td>0-2</td>\n",
       "      <td>1</td>\n",
       "    </tr>\n",
       "    <tr>\n",
       "      <th>2</th>\n",
       "      <th>10</th>\n",
       "      <td>2</td>\n",
       "      <td>0</td>\n",
       "      <td>0</td>\n",
       "      <td>0</td>\n",
       "      <td>0.0</td>\n",
       "      <td>0.0</td>\n",
       "      <td>0.0</td>\n",
       "      <td>0.0</td>\n",
       "      <td>0.0</td>\n",
       "      <td>0.0</td>\n",
       "      <td>...</td>\n",
       "      <td>-1.000000</td>\n",
       "      <td>-0.959596</td>\n",
       "      <td>-0.515528</td>\n",
       "      <td>-0.351328</td>\n",
       "      <td>-0.747001</td>\n",
       "      <td>-0.756272</td>\n",
       "      <td>-1.000000</td>\n",
       "      <td>-0.961262</td>\n",
       "      <td>0-2</td>\n",
       "      <td>1</td>\n",
       "    </tr>\n",
       "    <tr>\n",
       "      <th>3</th>\n",
       "      <th>15</th>\n",
       "      <td>3</td>\n",
       "      <td>0</td>\n",
       "      <td>3</td>\n",
       "      <td>1</td>\n",
       "      <td>0.0</td>\n",
       "      <td>0.0</td>\n",
       "      <td>0.0</td>\n",
       "      <td>0.0</td>\n",
       "      <td>0.0</td>\n",
       "      <td>0.0</td>\n",
       "      <td>...</td>\n",
       "      <td>-1.000000</td>\n",
       "      <td>-1.000000</td>\n",
       "      <td>-1.000000</td>\n",
       "      <td>-1.000000</td>\n",
       "      <td>-1.000000</td>\n",
       "      <td>-1.000000</td>\n",
       "      <td>-1.000000</td>\n",
       "      <td>-1.000000</td>\n",
       "      <td>0-2</td>\n",
       "      <td>0</td>\n",
       "    </tr>\n",
       "    <tr>\n",
       "      <th>4</th>\n",
       "      <th>20</th>\n",
       "      <td>4</td>\n",
       "      <td>0</td>\n",
       "      <td>0</td>\n",
       "      <td>0</td>\n",
       "      <td>0.0</td>\n",
       "      <td>0.0</td>\n",
       "      <td>0.0</td>\n",
       "      <td>0.0</td>\n",
       "      <td>0.0</td>\n",
       "      <td>0.0</td>\n",
       "      <td>...</td>\n",
       "      <td>-0.952381</td>\n",
       "      <td>-0.979798</td>\n",
       "      <td>-1.000000</td>\n",
       "      <td>-0.883669</td>\n",
       "      <td>-0.956805</td>\n",
       "      <td>-0.870968</td>\n",
       "      <td>-0.953536</td>\n",
       "      <td>-0.980333</td>\n",
       "      <td>0-2</td>\n",
       "      <td>0</td>\n",
       "    </tr>\n",
       "    <tr>\n",
       "      <th>5</th>\n",
       "      <th>25</th>\n",
       "      <td>5</td>\n",
       "      <td>0</td>\n",
       "      <td>0</td>\n",
       "      <td>0</td>\n",
       "      <td>0.0</td>\n",
       "      <td>0.0</td>\n",
       "      <td>0.0</td>\n",
       "      <td>0.0</td>\n",
       "      <td>0.0</td>\n",
       "      <td>0.0</td>\n",
       "      <td>...</td>\n",
       "      <td>-0.976190</td>\n",
       "      <td>-0.979798</td>\n",
       "      <td>-0.860870</td>\n",
       "      <td>-0.714460</td>\n",
       "      <td>-0.986481</td>\n",
       "      <td>-1.000000</td>\n",
       "      <td>-0.975891</td>\n",
       "      <td>-0.980129</td>\n",
       "      <td>0-2</td>\n",
       "      <td>0</td>\n",
       "    </tr>\n",
       "  </tbody>\n",
       "</table>\n",
       "<p>5 rows × 232 columns</p>\n",
       "</div>"
      ],
      "text/plain": [
       "                             PATIENT_VISIT_IDENTIFIER  AGE_ABOVE65  \\\n",
       "PATIENT_VISIT_IDENTIFIER                                             \n",
       "0                        0                          0            1   \n",
       "2                        10                         2            0   \n",
       "3                        15                         3            0   \n",
       "4                        20                         4            0   \n",
       "5                        25                         5            0   \n",
       "\n",
       "                             AGE_PERCENTIL  GENDER  DISEASE GROUPING 1  \\\n",
       "PATIENT_VISIT_IDENTIFIER                                                 \n",
       "0                        0               5       0                 0.0   \n",
       "2                        10              0       0                 0.0   \n",
       "3                        15              3       1                 0.0   \n",
       "4                        20              0       0                 0.0   \n",
       "5                        25              0       0                 0.0   \n",
       "\n",
       "                             DISEASE GROUPING 2  DISEASE GROUPING 3  \\\n",
       "PATIENT_VISIT_IDENTIFIER                                              \n",
       "0                        0                  0.0                 0.0   \n",
       "2                        10                 0.0                 0.0   \n",
       "3                        15                 0.0                 0.0   \n",
       "4                        20                 0.0                 0.0   \n",
       "5                        25                 0.0                 0.0   \n",
       "\n",
       "                             DISEASE GROUPING 4  DISEASE GROUPING 5  \\\n",
       "PATIENT_VISIT_IDENTIFIER                                              \n",
       "0                        0                  0.0                 1.0   \n",
       "2                        10                 0.0                 0.0   \n",
       "3                        15                 0.0                 0.0   \n",
       "4                        20                 0.0                 0.0   \n",
       "5                        25                 0.0                 0.0   \n",
       "\n",
       "                             DISEASE GROUPING 6  ...  TEMPERATURE_DIFF  \\\n",
       "PATIENT_VISIT_IDENTIFIER                         ...                     \n",
       "0                        0                  1.0  ...         -1.000000   \n",
       "2                        10                 0.0  ...         -1.000000   \n",
       "3                        15                 0.0  ...         -1.000000   \n",
       "4                        20                 0.0  ...         -0.952381   \n",
       "5                        25                 0.0  ...         -0.976190   \n",
       "\n",
       "                             OXYGEN_SATURATION_DIFF  \\\n",
       "PATIENT_VISIT_IDENTIFIER                              \n",
       "0                        0                -1.000000   \n",
       "2                        10               -0.959596   \n",
       "3                        15               -1.000000   \n",
       "4                        20               -0.979798   \n",
       "5                        25               -0.979798   \n",
       "\n",
       "                             BLOODPRESSURE_DIASTOLIC_DIFF_REL  \\\n",
       "PATIENT_VISIT_IDENTIFIER                                        \n",
       "0                        0                          -1.000000   \n",
       "2                        10                         -0.515528   \n",
       "3                        15                         -1.000000   \n",
       "4                        20                         -1.000000   \n",
       "5                        25                         -0.860870   \n",
       "\n",
       "                             BLOODPRESSURE_SISTOLIC_DIFF_REL  \\\n",
       "PATIENT_VISIT_IDENTIFIER                                       \n",
       "0                        0                         -1.000000   \n",
       "2                        10                        -0.351328   \n",
       "3                        15                        -1.000000   \n",
       "4                        20                        -0.883669   \n",
       "5                        25                        -0.714460   \n",
       "\n",
       "                             HEART_RATE_DIFF_REL  RESPIRATORY_RATE_DIFF_REL  \\\n",
       "PATIENT_VISIT_IDENTIFIER                                                      \n",
       "0                        0             -1.000000                  -1.000000   \n",
       "2                        10            -0.747001                  -0.756272   \n",
       "3                        15            -1.000000                  -1.000000   \n",
       "4                        20            -0.956805                  -0.870968   \n",
       "5                        25            -0.986481                  -1.000000   \n",
       "\n",
       "                             TEMPERATURE_DIFF_REL  OXYGEN_SATURATION_DIFF_REL  \\\n",
       "PATIENT_VISIT_IDENTIFIER                                                        \n",
       "0                        0              -1.000000                   -1.000000   \n",
       "2                        10             -1.000000                   -0.961262   \n",
       "3                        15             -1.000000                   -1.000000   \n",
       "4                        20             -0.953536                   -0.980333   \n",
       "5                        25             -0.975891                   -0.980129   \n",
       "\n",
       "                             WINDOW  ICU  \n",
       "PATIENT_VISIT_IDENTIFIER                  \n",
       "0                        0      0-2    1  \n",
       "2                        10     0-2    1  \n",
       "3                        15     0-2    0  \n",
       "4                        20     0-2    0  \n",
       "5                        25     0-2    0  \n",
       "\n",
       "[5 rows x 232 columns]"
      ]
     },
     "execution_count": 17,
     "metadata": {},
     "output_type": "execute_result"
    }
   ],
   "source": [
    "patients_usable.head()"
   ]
  },
  {
   "cell_type": "markdown",
   "metadata": {},
   "source": [
    "### Redefining `x_columns`"
   ]
  },
  {
   "cell_type": "code",
   "execution_count": 18,
   "metadata": {},
   "outputs": [],
   "source": [
    "x_columns = patients_usable.columns\n",
    "\n",
    "y = patients_usable['ICU']\n",
    "x = patients_usable[x_columns].drop(['ICU', 'WINDOW'], axis=1)\n",
    "\n",
    "x_train, x_test, y_train, y_test = train_test_split(x, y, stratify=y)"
   ]
  },
  {
   "cell_type": "markdown",
   "metadata": {},
   "source": [
    "### Training models again"
   ]
  },
  {
   "cell_type": "code",
   "execution_count": 19,
   "metadata": {},
   "outputs": [
    {
     "name": "stderr",
     "output_type": "stream",
     "text": [
      "/home/gabriela/.local/lib/python3.6/site-packages/sklearn/dummy.py:132: FutureWarning: The default value of strategy will change from stratified to prior in 0.24.\n",
      "  \"stratified to prior in 0.24.\", FutureWarning)\n"
     ]
    },
    {
     "data": {
      "text/plain": [
       "0.5795454545454546"
      ]
     },
     "execution_count": 19,
     "metadata": {},
     "output_type": "execute_result"
    }
   ],
   "source": [
    "dummy_model = DummyClassifier()\n",
    "dummy_model.fit(x_train, y_train)\n",
    "\n",
    "y_prediction_d = dummy_model.predict(x_test)\n",
    "accuracy_score(y_test, y_prediction_d)"
   ]
  },
  {
   "cell_type": "code",
   "execution_count": 20,
   "metadata": {},
   "outputs": [
    {
     "data": {
      "text/plain": [
       "0.6590909090909091"
      ]
     },
     "execution_count": 20,
     "metadata": {},
     "output_type": "execute_result"
    }
   ],
   "source": [
    "LR_model = LogisticRegression(max_iter=10000)\n",
    "LR_model.fit(x_train, y_train)\n",
    "\n",
    "y_prediction_LR = LR_model.predict(x_test)\n",
    "accuracy_score(y_test, y_prediction_LR)"
   ]
  },
  {
   "cell_type": "markdown",
   "metadata": {},
   "source": [
    "### Challenge 01: Convert `AGE_PERCENTIL` column into categorical data, use a different way than we already did to do that.\n",
    "\n",
    "see scikit learn library method that can do that."
   ]
  },
  {
   "cell_type": "code",
   "execution_count": 21,
   "metadata": {},
   "outputs": [
    {
     "data": {
      "text/html": [
       "<div>\n",
       "<style scoped>\n",
       "    .dataframe tbody tr th:only-of-type {\n",
       "        vertical-align: middle;\n",
       "    }\n",
       "\n",
       "    .dataframe tbody tr th {\n",
       "        vertical-align: top;\n",
       "    }\n",
       "\n",
       "    .dataframe thead th {\n",
       "        text-align: right;\n",
       "    }\n",
       "</style>\n",
       "<table border=\"1\" class=\"dataframe\">\n",
       "  <thead>\n",
       "    <tr style=\"text-align: right;\">\n",
       "      <th></th>\n",
       "      <th>AGE_PERCENTIL</th>\n",
       "    </tr>\n",
       "  </thead>\n",
       "  <tbody>\n",
       "    <tr>\n",
       "      <th>0</th>\n",
       "      <td>60th</td>\n",
       "    </tr>\n",
       "    <tr>\n",
       "      <th>1</th>\n",
       "      <td>60th</td>\n",
       "    </tr>\n",
       "    <tr>\n",
       "      <th>2</th>\n",
       "      <td>60th</td>\n",
       "    </tr>\n",
       "    <tr>\n",
       "      <th>3</th>\n",
       "      <td>60th</td>\n",
       "    </tr>\n",
       "    <tr>\n",
       "      <th>4</th>\n",
       "      <td>60th</td>\n",
       "    </tr>\n",
       "    <tr>\n",
       "      <th>...</th>\n",
       "      <td>...</td>\n",
       "    </tr>\n",
       "    <tr>\n",
       "      <th>1920</th>\n",
       "      <td>50th</td>\n",
       "    </tr>\n",
       "    <tr>\n",
       "      <th>1921</th>\n",
       "      <td>50th</td>\n",
       "    </tr>\n",
       "    <tr>\n",
       "      <th>1922</th>\n",
       "      <td>50th</td>\n",
       "    </tr>\n",
       "    <tr>\n",
       "      <th>1923</th>\n",
       "      <td>50th</td>\n",
       "    </tr>\n",
       "    <tr>\n",
       "      <th>1924</th>\n",
       "      <td>50th</td>\n",
       "    </tr>\n",
       "  </tbody>\n",
       "</table>\n",
       "<p>1925 rows × 1 columns</p>\n",
       "</div>"
      ],
      "text/plain": [
       "     AGE_PERCENTIL\n",
       "0             60th\n",
       "1             60th\n",
       "2             60th\n",
       "3             60th\n",
       "4             60th\n",
       "...            ...\n",
       "1920          50th\n",
       "1921          50th\n",
       "1922          50th\n",
       "1923          50th\n",
       "1924          50th\n",
       "\n",
       "[1925 rows x 1 columns]"
      ]
     },
     "execution_count": 21,
     "metadata": {},
     "output_type": "execute_result"
    }
   ],
   "source": [
    "patients[['AGE_PERCENTIL']]"
   ]
  },
  {
   "cell_type": "code",
   "execution_count": 22,
   "metadata": {},
   "outputs": [
    {
     "data": {
      "text/plain": [
       "0       5.0\n",
       "1       5.0\n",
       "2       5.0\n",
       "3       5.0\n",
       "4       5.0\n",
       "       ... \n",
       "1920    4.0\n",
       "1921    4.0\n",
       "1922    4.0\n",
       "1923    4.0\n",
       "1924    4.0\n",
       "Name: AGE_PERCENTIL_ENCODED, Length: 1925, dtype: float64"
      ]
     },
     "execution_count": 22,
     "metadata": {},
     "output_type": "execute_result"
    }
   ],
   "source": [
    "from sklearn.preprocessing import OrdinalEncoder\n",
    "\n",
    "\n",
    "enc = OrdinalEncoder()\n",
    "patients['AGE_PERCENTIL_ENCODED'] = enc.fit_transform(patients[['AGE_PERCENTIL']])\n",
    "\n",
    "patients['AGE_PERCENTIL_ENCODED']"
   ]
  },
  {
   "cell_type": "code",
   "execution_count": 23,
   "metadata": {},
   "outputs": [
    {
     "data": {
      "text/plain": [
       "array([5., 8., 0., 3., 6., 1., 4., 7., 2., 9.])"
      ]
     },
     "execution_count": 23,
     "metadata": {},
     "output_type": "execute_result"
    }
   ],
   "source": [
    "patients['AGE_PERCENTIL_ENCODED'].unique()"
   ]
  },
  {
   "cell_type": "markdown",
   "metadata": {},
   "source": [
    "# Lesson 02 - Evaluation Metrics"
   ]
  },
  {
   "cell_type": "markdown",
   "metadata": {},
   "source": [
    "## Lesson 02 - Part 01 - Confusion Matrix"
   ]
  },
  {
   "cell_type": "markdown",
   "metadata": {},
   "source": [
    "Recap last challenge: The categories created can impact on the model. \n",
    "\n",
    "All the dataset values are normalized between 0 and 1. However the `AGE_PERCENTIL` values are not following this.\n",
    "\n",
    "It can affects our model.\n",
    "\n",
    "**Challenge 01: Check the impact of using different categories for `AGE_PERCENTIL` on the model results.**"
   ]
  },
  {
   "cell_type": "code",
   "execution_count": 24,
   "metadata": {},
   "outputs": [],
   "source": [
    "from sklearn.tree import DecisionTreeClassifier\n",
    "from sklearn.metrics import plot_confusion_matrix\n",
    "import matplotlib.pyplot as plt"
   ]
  },
  {
   "cell_type": "code",
   "execution_count": 25,
   "metadata": {},
   "outputs": [
    {
     "data": {
      "text/plain": [
       "0.6931818181818182"
      ]
     },
     "execution_count": 25,
     "metadata": {},
     "output_type": "execute_result"
    }
   ],
   "source": [
    "DTC_model = DecisionTreeClassifier()\n",
    "DTC_model.fit(x_train, y_train)\n",
    "\n",
    "y_prediction_DTC = DTC_model.predict(x_test)\n",
    "accuracy_score(y_test, y_prediction_DTC)"
   ]
  },
  {
   "cell_type": "code",
   "execution_count": 26,
   "metadata": {},
   "outputs": [
    {
     "data": {
      "text/plain": [
       "<sklearn.metrics._plot.confusion_matrix.ConfusionMatrixDisplay at 0x7fbf84ad0358>"
      ]
     },
     "execution_count": 26,
     "metadata": {},
     "output_type": "execute_result"
    },
    {
     "data": {
      "image/png": "[encoded data removed]",
      "text/plain": [
       "<Figure size 432x288 with 2 Axes>"
      ]
     },
     "metadata": {
      "needs_background": "light"
     },
     "output_type": "display_data"
    }
   ],
   "source": [
    "plot_confusion_matrix(DTC_model, x_test, y_test)"
   ]
  },
  {
   "cell_type": "markdown",
   "metadata": {},
   "source": [
    "- For True Label equals 1 - when the patient needs ICU, the model predicted 16 wrongly and 25 correctly.\n",
    "\n",
    "- What is the impact of wrong answers for this problem? What if the model predicts that the patient needs ICU bed and it's wrong? Or, what if the model predicts that the patient doesn't need ICU bed and it's wrong?\n",
    "\n",
    "### For this problem is really important to make sure that for patients who need ICU the model gives the right answer.\n",
    "\n",
    "\n",
    "- Confusion Matrix:\n",
    "    - True Positive: label and prediction are true. Ex: 25\n",
    "    - True Negative: label and prediction are false. Ex: 36\n",
    "    - False Positive: label is false, prediction is true. Ex: 11\n",
    "    - False Negative: label is true, prediction is false. Ex: 16"
   ]
  },
  {
   "cell_type": "code",
   "execution_count": 27,
   "metadata": {},
   "outputs": [],
   "source": [
    "from sklearn.metrics import classification_report"
   ]
  },
  {
   "cell_type": "code",
   "execution_count": 28,
   "metadata": {},
   "outputs": [
    {
     "name": "stdout",
     "output_type": "stream",
     "text": [
      "              precision    recall  f1-score   support\n",
      "\n",
      "           0       0.70      0.74      0.72        47\n",
      "           1       0.68      0.63      0.66        41\n",
      "\n",
      "    accuracy                           0.69        88\n",
      "   macro avg       0.69      0.69      0.69        88\n",
      "weighted avg       0.69      0.69      0.69        88\n",
      "\n"
     ]
    }
   ],
   "source": [
    "print(classification_report(y_test, y_prediction_DTC))"
   ]
  },
  {
   "cell_type": "markdown",
   "metadata": {},
   "source": [
    "- F1: The F1 score is a measure of a test’s accuracy. F1 Score is the harmonic mean between precision and recall. \\\n",
    "    The range for F1 Score is [0, 1]. 1 = (perfect precision and recall).\\\n",
    "    It tells how precise your classifier is (how many instances it classifies correctly), as well as how robust it is (it does not miss a significant number of instances).\\\n",
    "    The greater the F1 Score, the better is the performance of our model.\n",
    "    \n",
    "    \n",
    "- Precision : **TP/(TP+FP)**. It's (the number of correct positive results) / (the number of positive results predicted). \\\n",
    "    attempts to answer “What proportion of positive identifications was actually correct?”. \\\n",
    "precision_score(y_true, y_pred, average=None)\n",
    "\n",
    "\n",
    "- Recall : **TP/(TP+FN)**. It's (the number of correct positive results) / (the number of all relevant samples (all samples that should have been identified as positive)). \\\n",
    "    attempts to answer “What proportion of actual positives was identified correctly?”. \\\n",
    "recall_score(y_true, y_pred, average=None)\n"
   ]
  },
  {
   "cell_type": "code",
   "execution_count": 29,
   "metadata": {},
   "outputs": [
    {
     "data": {
      "text/plain": [
       "0.6944444444444444"
      ]
     },
     "execution_count": 29,
     "metadata": {},
     "output_type": "execute_result"
    }
   ],
   "source": [
    "# precision\n",
    "# dos que eu to marcando como verdadeiro, faz sentido? \n",
    "# pense em um caso de investimento\n",
    "\n",
    "25 / (25+11)"
   ]
  },
  {
   "cell_type": "code",
   "execution_count": 30,
   "metadata": {},
   "outputs": [
    {
     "data": {
      "text/plain": [
       "0.6097560975609756"
      ]
     },
     "execution_count": 30,
     "metadata": {},
     "output_type": "execute_result"
    }
   ],
   "source": [
    "# recall\n",
    "# no caso de saúde o falso negativo pode ser muito ruim\n",
    "# de todas as classes positivas, quantas estão corretas?\n",
    "\n",
    "25 / (25+16)"
   ]
  },
  {
   "cell_type": "code",
   "execution_count": 31,
   "metadata": {},
   "outputs": [
    {
     "name": "stdout",
     "output_type": "stream",
     "text": [
      "0.5\n"
     ]
    }
   ],
   "source": [
    "p = 0.5\n",
    "r = 0.5\n",
    "\n",
    "f1 = 2*p*r / (p+r)\n",
    "\n",
    "print(f1)"
   ]
  },
  {
   "cell_type": "code",
   "execution_count": 32,
   "metadata": {},
   "outputs": [
    {
     "name": "stdout",
     "output_type": "stream",
     "text": [
      "0.33333333333333337\n"
     ]
    }
   ],
   "source": [
    "p = 1.0\n",
    "r = 0.2\n",
    "\n",
    "f1 = 2*p*r / (p+r)\n",
    "\n",
    "print(f1)"
   ]
  },
  {
   "cell_type": "markdown",
   "metadata": {},
   "source": [
    "- F1 is closer to the lower value.\n",
    "\n",
    "- Through F1 Score we can see if precision or recall is low. If the mean is not harmonic we cannot notice when precision or recall is low.\n",
    "\n",
    "\n",
    "**Challenge 02: Search about F-Score.**\n",
    "\n",
    "**Challenge 03: Plot the Decision Tree.**"
   ]
  },
  {
   "cell_type": "markdown",
   "metadata": {},
   "source": [
    "### Challenge 01: Check the impact of using different categories for `AGE_PERCENTIL` on the model results."
   ]
  },
  {
   "cell_type": "code",
   "execution_count": 33,
   "metadata": {},
   "outputs": [],
   "source": [
    "patients_cleaned_enconded = patients_cleaned.copy()\n",
    "\n",
    "patients_cleaned_enconded['AGE_PERCENTIL'] = \\\n",
    "    enc.fit_transform(patients_cleaned[['AGE_PERCENTIL']])"
   ]
  },
  {
   "cell_type": "code",
   "execution_count": 34,
   "metadata": {},
   "outputs": [],
   "source": [
    "x_columns = patients_cleaned_enconded.columns\n",
    "\n",
    "x_age_percentil_encoded = \\\n",
    "    patients_cleaned_enconded[x_columns].drop(['ICU', 'WINDOW'], \n",
    "                                              axis=1)\n",
    "\n",
    "x_train_2, x_test_2, y_train, y_test = train_test_split(x_age_percentil_encoded, \n",
    "                                                        y, stratify=y)"
   ]
  },
  {
   "cell_type": "code",
   "execution_count": 35,
   "metadata": {},
   "outputs": [
    {
     "data": {
      "text/html": [
       "<div>\n",
       "<style scoped>\n",
       "    .dataframe tbody tr th:only-of-type {\n",
       "        vertical-align: middle;\n",
       "    }\n",
       "\n",
       "    .dataframe tbody tr th {\n",
       "        vertical-align: top;\n",
       "    }\n",
       "\n",
       "    .dataframe thead th {\n",
       "        text-align: right;\n",
       "    }\n",
       "</style>\n",
       "<table border=\"1\" class=\"dataframe\">\n",
       "  <thead>\n",
       "    <tr style=\"text-align: right;\">\n",
       "      <th></th>\n",
       "      <th></th>\n",
       "      <th>PATIENT_VISIT_IDENTIFIER</th>\n",
       "      <th>AGE_ABOVE65</th>\n",
       "      <th>AGE_PERCENTIL</th>\n",
       "      <th>GENDER</th>\n",
       "      <th>DISEASE GROUPING 1</th>\n",
       "      <th>DISEASE GROUPING 2</th>\n",
       "      <th>DISEASE GROUPING 3</th>\n",
       "      <th>DISEASE GROUPING 4</th>\n",
       "      <th>DISEASE GROUPING 5</th>\n",
       "      <th>DISEASE GROUPING 6</th>\n",
       "      <th>...</th>\n",
       "      <th>HEART_RATE_DIFF</th>\n",
       "      <th>RESPIRATORY_RATE_DIFF</th>\n",
       "      <th>TEMPERATURE_DIFF</th>\n",
       "      <th>OXYGEN_SATURATION_DIFF</th>\n",
       "      <th>BLOODPRESSURE_DIASTOLIC_DIFF_REL</th>\n",
       "      <th>BLOODPRESSURE_SISTOLIC_DIFF_REL</th>\n",
       "      <th>HEART_RATE_DIFF_REL</th>\n",
       "      <th>RESPIRATORY_RATE_DIFF_REL</th>\n",
       "      <th>TEMPERATURE_DIFF_REL</th>\n",
       "      <th>OXYGEN_SATURATION_DIFF_REL</th>\n",
       "    </tr>\n",
       "    <tr>\n",
       "      <th>PATIENT_VISIT_IDENTIFIER</th>\n",
       "      <th></th>\n",
       "      <th></th>\n",
       "      <th></th>\n",
       "      <th></th>\n",
       "      <th></th>\n",
       "      <th></th>\n",
       "      <th></th>\n",
       "      <th></th>\n",
       "      <th></th>\n",
       "      <th></th>\n",
       "      <th></th>\n",
       "      <th></th>\n",
       "      <th></th>\n",
       "      <th></th>\n",
       "      <th></th>\n",
       "      <th></th>\n",
       "      <th></th>\n",
       "      <th></th>\n",
       "      <th></th>\n",
       "      <th></th>\n",
       "      <th></th>\n",
       "      <th></th>\n",
       "    </tr>\n",
       "  </thead>\n",
       "  <tbody>\n",
       "    <tr>\n",
       "      <th>57</th>\n",
       "      <th>285</th>\n",
       "      <td>57</td>\n",
       "      <td>1</td>\n",
       "      <td>7.0</td>\n",
       "      <td>0</td>\n",
       "      <td>0.0</td>\n",
       "      <td>0.0</td>\n",
       "      <td>0.0</td>\n",
       "      <td>0.0</td>\n",
       "      <td>0.0</td>\n",
       "      <td>0.0</td>\n",
       "      <td>...</td>\n",
       "      <td>-0.893130</td>\n",
       "      <td>-1.000000</td>\n",
       "      <td>-0.976190</td>\n",
       "      <td>-1.000000</td>\n",
       "      <td>-0.860870</td>\n",
       "      <td>-1.000000</td>\n",
       "      <td>-0.877258</td>\n",
       "      <td>-1.000000</td>\n",
       "      <td>-0.975823</td>\n",
       "      <td>-1.000000</td>\n",
       "    </tr>\n",
       "    <tr>\n",
       "      <th>75</th>\n",
       "      <th>375</th>\n",
       "      <td>75</td>\n",
       "      <td>1</td>\n",
       "      <td>5.0</td>\n",
       "      <td>0</td>\n",
       "      <td>0.0</td>\n",
       "      <td>0.0</td>\n",
       "      <td>0.0</td>\n",
       "      <td>0.0</td>\n",
       "      <td>0.0</td>\n",
       "      <td>0.0</td>\n",
       "      <td>...</td>\n",
       "      <td>-1.000000</td>\n",
       "      <td>-1.000000</td>\n",
       "      <td>-1.000000</td>\n",
       "      <td>-1.000000</td>\n",
       "      <td>-1.000000</td>\n",
       "      <td>-1.000000</td>\n",
       "      <td>-1.000000</td>\n",
       "      <td>-1.000000</td>\n",
       "      <td>-1.000000</td>\n",
       "      <td>-1.000000</td>\n",
       "    </tr>\n",
       "    <tr>\n",
       "      <th>327</th>\n",
       "      <th>1635</th>\n",
       "      <td>327</td>\n",
       "      <td>1</td>\n",
       "      <td>7.0</td>\n",
       "      <td>1</td>\n",
       "      <td>0.0</td>\n",
       "      <td>0.0</td>\n",
       "      <td>0.0</td>\n",
       "      <td>0.0</td>\n",
       "      <td>1.0</td>\n",
       "      <td>0.0</td>\n",
       "      <td>...</td>\n",
       "      <td>-1.000000</td>\n",
       "      <td>-1.000000</td>\n",
       "      <td>-1.000000</td>\n",
       "      <td>-1.000000</td>\n",
       "      <td>-1.000000</td>\n",
       "      <td>-1.000000</td>\n",
       "      <td>-1.000000</td>\n",
       "      <td>-1.000000</td>\n",
       "      <td>-1.000000</td>\n",
       "      <td>-1.000000</td>\n",
       "    </tr>\n",
       "    <tr>\n",
       "      <th>275</th>\n",
       "      <th>1375</th>\n",
       "      <td>275</td>\n",
       "      <td>1</td>\n",
       "      <td>7.0</td>\n",
       "      <td>0</td>\n",
       "      <td>0.0</td>\n",
       "      <td>0.0</td>\n",
       "      <td>0.0</td>\n",
       "      <td>0.0</td>\n",
       "      <td>0.0</td>\n",
       "      <td>0.0</td>\n",
       "      <td>...</td>\n",
       "      <td>-1.000000</td>\n",
       "      <td>-1.000000</td>\n",
       "      <td>-1.000000</td>\n",
       "      <td>-1.000000</td>\n",
       "      <td>-1.000000</td>\n",
       "      <td>-1.000000</td>\n",
       "      <td>-1.000000</td>\n",
       "      <td>-1.000000</td>\n",
       "      <td>-1.000000</td>\n",
       "      <td>-1.000000</td>\n",
       "    </tr>\n",
       "    <tr>\n",
       "      <th>263</th>\n",
       "      <th>1315</th>\n",
       "      <td>263</td>\n",
       "      <td>1</td>\n",
       "      <td>9.0</td>\n",
       "      <td>1</td>\n",
       "      <td>0.0</td>\n",
       "      <td>0.0</td>\n",
       "      <td>0.0</td>\n",
       "      <td>0.0</td>\n",
       "      <td>0.0</td>\n",
       "      <td>0.0</td>\n",
       "      <td>...</td>\n",
       "      <td>-0.816794</td>\n",
       "      <td>-0.823529</td>\n",
       "      <td>-0.928571</td>\n",
       "      <td>-0.979798</td>\n",
       "      <td>-0.922128</td>\n",
       "      <td>-0.718121</td>\n",
       "      <td>-0.836524</td>\n",
       "      <td>-0.794355</td>\n",
       "      <td>-0.928175</td>\n",
       "      <td>-0.980232</td>\n",
       "    </tr>\n",
       "  </tbody>\n",
       "</table>\n",
       "<p>5 rows × 230 columns</p>\n",
       "</div>"
      ],
      "text/plain": [
       "                               PATIENT_VISIT_IDENTIFIER  AGE_ABOVE65  \\\n",
       "PATIENT_VISIT_IDENTIFIER                                               \n",
       "57                       285                         57            1   \n",
       "75                       375                         75            1   \n",
       "327                      1635                       327            1   \n",
       "275                      1375                       275            1   \n",
       "263                      1315                       263            1   \n",
       "\n",
       "                               AGE_PERCENTIL  GENDER  DISEASE GROUPING 1  \\\n",
       "PATIENT_VISIT_IDENTIFIER                                                   \n",
       "57                       285             7.0       0                 0.0   \n",
       "75                       375             5.0       0                 0.0   \n",
       "327                      1635            7.0       1                 0.0   \n",
       "275                      1375            7.0       0                 0.0   \n",
       "263                      1315            9.0       1                 0.0   \n",
       "\n",
       "                               DISEASE GROUPING 2  DISEASE GROUPING 3  \\\n",
       "PATIENT_VISIT_IDENTIFIER                                                \n",
       "57                       285                  0.0                 0.0   \n",
       "75                       375                  0.0                 0.0   \n",
       "327                      1635                 0.0                 0.0   \n",
       "275                      1375                 0.0                 0.0   \n",
       "263                      1315                 0.0                 0.0   \n",
       "\n",
       "                               DISEASE GROUPING 4  DISEASE GROUPING 5  \\\n",
       "PATIENT_VISIT_IDENTIFIER                                                \n",
       "57                       285                  0.0                 0.0   \n",
       "75                       375                  0.0                 0.0   \n",
       "327                      1635                 0.0                 1.0   \n",
       "275                      1375                 0.0                 0.0   \n",
       "263                      1315                 0.0                 0.0   \n",
       "\n",
       "                               DISEASE GROUPING 6  ...  HEART_RATE_DIFF  \\\n",
       "PATIENT_VISIT_IDENTIFIER                           ...                    \n",
       "57                       285                  0.0  ...        -0.893130   \n",
       "75                       375                  0.0  ...        -1.000000   \n",
       "327                      1635                 0.0  ...        -1.000000   \n",
       "275                      1375                 0.0  ...        -1.000000   \n",
       "263                      1315                 0.0  ...        -0.816794   \n",
       "\n",
       "                               RESPIRATORY_RATE_DIFF  TEMPERATURE_DIFF  \\\n",
       "PATIENT_VISIT_IDENTIFIER                                                 \n",
       "57                       285               -1.000000         -0.976190   \n",
       "75                       375               -1.000000         -1.000000   \n",
       "327                      1635              -1.000000         -1.000000   \n",
       "275                      1375              -1.000000         -1.000000   \n",
       "263                      1315              -0.823529         -0.928571   \n",
       "\n",
       "                               OXYGEN_SATURATION_DIFF  \\\n",
       "PATIENT_VISIT_IDENTIFIER                                \n",
       "57                       285                -1.000000   \n",
       "75                       375                -1.000000   \n",
       "327                      1635               -1.000000   \n",
       "275                      1375               -1.000000   \n",
       "263                      1315               -0.979798   \n",
       "\n",
       "                               BLOODPRESSURE_DIASTOLIC_DIFF_REL  \\\n",
       "PATIENT_VISIT_IDENTIFIER                                          \n",
       "57                       285                          -0.860870   \n",
       "75                       375                          -1.000000   \n",
       "327                      1635                         -1.000000   \n",
       "275                      1375                         -1.000000   \n",
       "263                      1315                         -0.922128   \n",
       "\n",
       "                               BLOODPRESSURE_SISTOLIC_DIFF_REL  \\\n",
       "PATIENT_VISIT_IDENTIFIER                                         \n",
       "57                       285                         -1.000000   \n",
       "75                       375                         -1.000000   \n",
       "327                      1635                        -1.000000   \n",
       "275                      1375                        -1.000000   \n",
       "263                      1315                        -0.718121   \n",
       "\n",
       "                               HEART_RATE_DIFF_REL  RESPIRATORY_RATE_DIFF_REL  \\\n",
       "PATIENT_VISIT_IDENTIFIER                                                        \n",
       "57                       285             -0.877258                  -1.000000   \n",
       "75                       375             -1.000000                  -1.000000   \n",
       "327                      1635            -1.000000                  -1.000000   \n",
       "275                      1375            -1.000000                  -1.000000   \n",
       "263                      1315            -0.836524                  -0.794355   \n",
       "\n",
       "                               TEMPERATURE_DIFF_REL  \\\n",
       "PATIENT_VISIT_IDENTIFIER                              \n",
       "57                       285              -0.975823   \n",
       "75                       375              -1.000000   \n",
       "327                      1635             -1.000000   \n",
       "275                      1375             -1.000000   \n",
       "263                      1315             -0.928175   \n",
       "\n",
       "                               OXYGEN_SATURATION_DIFF_REL  \n",
       "PATIENT_VISIT_IDENTIFIER                                   \n",
       "57                       285                    -1.000000  \n",
       "75                       375                    -1.000000  \n",
       "327                      1635                   -1.000000  \n",
       "275                      1375                   -1.000000  \n",
       "263                      1315                   -0.980232  \n",
       "\n",
       "[5 rows x 230 columns]"
      ]
     },
     "execution_count": 35,
     "metadata": {},
     "output_type": "execute_result"
    }
   ],
   "source": [
    "x_test_2.head()"
   ]
  },
  {
   "cell_type": "code",
   "execution_count": 36,
   "metadata": {},
   "outputs": [
    {
     "data": {
      "text/html": [
       "<div>\n",
       "<style scoped>\n",
       "    .dataframe tbody tr th:only-of-type {\n",
       "        vertical-align: middle;\n",
       "    }\n",
       "\n",
       "    .dataframe tbody tr th {\n",
       "        vertical-align: top;\n",
       "    }\n",
       "\n",
       "    .dataframe thead th {\n",
       "        text-align: right;\n",
       "    }\n",
       "</style>\n",
       "<table border=\"1\" class=\"dataframe\">\n",
       "  <thead>\n",
       "    <tr style=\"text-align: right;\">\n",
       "      <th></th>\n",
       "      <th></th>\n",
       "      <th>PATIENT_VISIT_IDENTIFIER</th>\n",
       "      <th>AGE_ABOVE65</th>\n",
       "      <th>AGE_PERCENTIL</th>\n",
       "      <th>GENDER</th>\n",
       "      <th>DISEASE GROUPING 1</th>\n",
       "      <th>DISEASE GROUPING 2</th>\n",
       "      <th>DISEASE GROUPING 3</th>\n",
       "      <th>DISEASE GROUPING 4</th>\n",
       "      <th>DISEASE GROUPING 5</th>\n",
       "      <th>DISEASE GROUPING 6</th>\n",
       "      <th>...</th>\n",
       "      <th>HEART_RATE_DIFF</th>\n",
       "      <th>RESPIRATORY_RATE_DIFF</th>\n",
       "      <th>TEMPERATURE_DIFF</th>\n",
       "      <th>OXYGEN_SATURATION_DIFF</th>\n",
       "      <th>BLOODPRESSURE_DIASTOLIC_DIFF_REL</th>\n",
       "      <th>BLOODPRESSURE_SISTOLIC_DIFF_REL</th>\n",
       "      <th>HEART_RATE_DIFF_REL</th>\n",
       "      <th>RESPIRATORY_RATE_DIFF_REL</th>\n",
       "      <th>TEMPERATURE_DIFF_REL</th>\n",
       "      <th>OXYGEN_SATURATION_DIFF_REL</th>\n",
       "    </tr>\n",
       "    <tr>\n",
       "      <th>PATIENT_VISIT_IDENTIFIER</th>\n",
       "      <th></th>\n",
       "      <th></th>\n",
       "      <th></th>\n",
       "      <th></th>\n",
       "      <th></th>\n",
       "      <th></th>\n",
       "      <th></th>\n",
       "      <th></th>\n",
       "      <th></th>\n",
       "      <th></th>\n",
       "      <th></th>\n",
       "      <th></th>\n",
       "      <th></th>\n",
       "      <th></th>\n",
       "      <th></th>\n",
       "      <th></th>\n",
       "      <th></th>\n",
       "      <th></th>\n",
       "      <th></th>\n",
       "      <th></th>\n",
       "      <th></th>\n",
       "      <th></th>\n",
       "    </tr>\n",
       "  </thead>\n",
       "  <tbody>\n",
       "    <tr>\n",
       "      <th>103</th>\n",
       "      <th>515</th>\n",
       "      <td>103</td>\n",
       "      <td>1</td>\n",
       "      <td>9</td>\n",
       "      <td>0</td>\n",
       "      <td>0.0</td>\n",
       "      <td>0.0</td>\n",
       "      <td>0.0</td>\n",
       "      <td>0.0</td>\n",
       "      <td>1.0</td>\n",
       "      <td>0.0</td>\n",
       "      <td>...</td>\n",
       "      <td>-1.000000</td>\n",
       "      <td>-1.000000</td>\n",
       "      <td>-1.000000</td>\n",
       "      <td>-1.000000</td>\n",
       "      <td>-1.000000</td>\n",
       "      <td>-1.000000</td>\n",
       "      <td>-1.000000</td>\n",
       "      <td>-1.000000</td>\n",
       "      <td>-1.000000</td>\n",
       "      <td>-1.000000</td>\n",
       "    </tr>\n",
       "    <tr>\n",
       "      <th>321</th>\n",
       "      <th>1605</th>\n",
       "      <td>321</td>\n",
       "      <td>1</td>\n",
       "      <td>5</td>\n",
       "      <td>1</td>\n",
       "      <td>0.0</td>\n",
       "      <td>0.0</td>\n",
       "      <td>0.0</td>\n",
       "      <td>0.0</td>\n",
       "      <td>0.0</td>\n",
       "      <td>0.0</td>\n",
       "      <td>...</td>\n",
       "      <td>-0.938931</td>\n",
       "      <td>-0.647059</td>\n",
       "      <td>-0.904762</td>\n",
       "      <td>-0.878788</td>\n",
       "      <td>-0.735456</td>\n",
       "      <td>-0.986967</td>\n",
       "      <td>-0.948667</td>\n",
       "      <td>-0.686636</td>\n",
       "      <td>-0.905024</td>\n",
       "      <td>-0.881390</td>\n",
       "    </tr>\n",
       "    <tr>\n",
       "      <th>276</th>\n",
       "      <th>1380</th>\n",
       "      <td>276</td>\n",
       "      <td>0</td>\n",
       "      <td>4</td>\n",
       "      <td>0</td>\n",
       "      <td>0.0</td>\n",
       "      <td>0.0</td>\n",
       "      <td>0.0</td>\n",
       "      <td>0.0</td>\n",
       "      <td>0.0</td>\n",
       "      <td>0.0</td>\n",
       "      <td>...</td>\n",
       "      <td>-1.000000</td>\n",
       "      <td>-1.000000</td>\n",
       "      <td>-1.000000</td>\n",
       "      <td>-0.939394</td>\n",
       "      <td>-1.000000</td>\n",
       "      <td>-1.000000</td>\n",
       "      <td>-1.000000</td>\n",
       "      <td>-1.000000</td>\n",
       "      <td>-1.000000</td>\n",
       "      <td>-0.936785</td>\n",
       "    </tr>\n",
       "    <tr>\n",
       "      <th>345</th>\n",
       "      <th>1725</th>\n",
       "      <td>345</td>\n",
       "      <td>1</td>\n",
       "      <td>9</td>\n",
       "      <td>1</td>\n",
       "      <td>0.0</td>\n",
       "      <td>0.0</td>\n",
       "      <td>0.0</td>\n",
       "      <td>0.0</td>\n",
       "      <td>1.0</td>\n",
       "      <td>0.0</td>\n",
       "      <td>...</td>\n",
       "      <td>-1.000000</td>\n",
       "      <td>-1.000000</td>\n",
       "      <td>-1.000000</td>\n",
       "      <td>-0.959596</td>\n",
       "      <td>-1.000000</td>\n",
       "      <td>-1.000000</td>\n",
       "      <td>-1.000000</td>\n",
       "      <td>-1.000000</td>\n",
       "      <td>-1.000000</td>\n",
       "      <td>-0.960463</td>\n",
       "    </tr>\n",
       "    <tr>\n",
       "      <th>365</th>\n",
       "      <th>1825</th>\n",
       "      <td>365</td>\n",
       "      <td>1</td>\n",
       "      <td>6</td>\n",
       "      <td>1</td>\n",
       "      <td>0.0</td>\n",
       "      <td>0.0</td>\n",
       "      <td>0.0</td>\n",
       "      <td>0.0</td>\n",
       "      <td>0.0</td>\n",
       "      <td>0.0</td>\n",
       "      <td>...</td>\n",
       "      <td>-1.000000</td>\n",
       "      <td>-1.000000</td>\n",
       "      <td>-1.000000</td>\n",
       "      <td>-1.000000</td>\n",
       "      <td>-1.000000</td>\n",
       "      <td>-1.000000</td>\n",
       "      <td>-1.000000</td>\n",
       "      <td>-1.000000</td>\n",
       "      <td>-1.000000</td>\n",
       "      <td>-1.000000</td>\n",
       "    </tr>\n",
       "  </tbody>\n",
       "</table>\n",
       "<p>5 rows × 230 columns</p>\n",
       "</div>"
      ],
      "text/plain": [
       "                               PATIENT_VISIT_IDENTIFIER  AGE_ABOVE65  \\\n",
       "PATIENT_VISIT_IDENTIFIER                                               \n",
       "103                      515                        103            1   \n",
       "321                      1605                       321            1   \n",
       "276                      1380                       276            0   \n",
       "345                      1725                       345            1   \n",
       "365                      1825                       365            1   \n",
       "\n",
       "                               AGE_PERCENTIL  GENDER  DISEASE GROUPING 1  \\\n",
       "PATIENT_VISIT_IDENTIFIER                                                   \n",
       "103                      515               9       0                 0.0   \n",
       "321                      1605              5       1                 0.0   \n",
       "276                      1380              4       0                 0.0   \n",
       "345                      1725              9       1                 0.0   \n",
       "365                      1825              6       1                 0.0   \n",
       "\n",
       "                               DISEASE GROUPING 2  DISEASE GROUPING 3  \\\n",
       "PATIENT_VISIT_IDENTIFIER                                                \n",
       "103                      515                  0.0                 0.0   \n",
       "321                      1605                 0.0                 0.0   \n",
       "276                      1380                 0.0                 0.0   \n",
       "345                      1725                 0.0                 0.0   \n",
       "365                      1825                 0.0                 0.0   \n",
       "\n",
       "                               DISEASE GROUPING 4  DISEASE GROUPING 5  \\\n",
       "PATIENT_VISIT_IDENTIFIER                                                \n",
       "103                      515                  0.0                 1.0   \n",
       "321                      1605                 0.0                 0.0   \n",
       "276                      1380                 0.0                 0.0   \n",
       "345                      1725                 0.0                 1.0   \n",
       "365                      1825                 0.0                 0.0   \n",
       "\n",
       "                               DISEASE GROUPING 6  ...  HEART_RATE_DIFF  \\\n",
       "PATIENT_VISIT_IDENTIFIER                           ...                    \n",
       "103                      515                  0.0  ...        -1.000000   \n",
       "321                      1605                 0.0  ...        -0.938931   \n",
       "276                      1380                 0.0  ...        -1.000000   \n",
       "345                      1725                 0.0  ...        -1.000000   \n",
       "365                      1825                 0.0  ...        -1.000000   \n",
       "\n",
       "                               RESPIRATORY_RATE_DIFF  TEMPERATURE_DIFF  \\\n",
       "PATIENT_VISIT_IDENTIFIER                                                 \n",
       "103                      515               -1.000000         -1.000000   \n",
       "321                      1605              -0.647059         -0.904762   \n",
       "276                      1380              -1.000000         -1.000000   \n",
       "345                      1725              -1.000000         -1.000000   \n",
       "365                      1825              -1.000000         -1.000000   \n",
       "\n",
       "                               OXYGEN_SATURATION_DIFF  \\\n",
       "PATIENT_VISIT_IDENTIFIER                                \n",
       "103                      515                -1.000000   \n",
       "321                      1605               -0.878788   \n",
       "276                      1380               -0.939394   \n",
       "345                      1725               -0.959596   \n",
       "365                      1825               -1.000000   \n",
       "\n",
       "                               BLOODPRESSURE_DIASTOLIC_DIFF_REL  \\\n",
       "PATIENT_VISIT_IDENTIFIER                                          \n",
       "103                      515                          -1.000000   \n",
       "321                      1605                         -0.735456   \n",
       "276                      1380                         -1.000000   \n",
       "345                      1725                         -1.000000   \n",
       "365                      1825                         -1.000000   \n",
       "\n",
       "                               BLOODPRESSURE_SISTOLIC_DIFF_REL  \\\n",
       "PATIENT_VISIT_IDENTIFIER                                         \n",
       "103                      515                         -1.000000   \n",
       "321                      1605                        -0.986967   \n",
       "276                      1380                        -1.000000   \n",
       "345                      1725                        -1.000000   \n",
       "365                      1825                        -1.000000   \n",
       "\n",
       "                               HEART_RATE_DIFF_REL  RESPIRATORY_RATE_DIFF_REL  \\\n",
       "PATIENT_VISIT_IDENTIFIER                                                        \n",
       "103                      515             -1.000000                  -1.000000   \n",
       "321                      1605            -0.948667                  -0.686636   \n",
       "276                      1380            -1.000000                  -1.000000   \n",
       "345                      1725            -1.000000                  -1.000000   \n",
       "365                      1825            -1.000000                  -1.000000   \n",
       "\n",
       "                               TEMPERATURE_DIFF_REL  \\\n",
       "PATIENT_VISIT_IDENTIFIER                              \n",
       "103                      515              -1.000000   \n",
       "321                      1605             -0.905024   \n",
       "276                      1380             -1.000000   \n",
       "345                      1725             -1.000000   \n",
       "365                      1825             -1.000000   \n",
       "\n",
       "                               OXYGEN_SATURATION_DIFF_REL  \n",
       "PATIENT_VISIT_IDENTIFIER                                   \n",
       "103                      515                    -1.000000  \n",
       "321                      1605                   -0.881390  \n",
       "276                      1380                   -0.936785  \n",
       "345                      1725                   -0.960463  \n",
       "365                      1825                   -1.000000  \n",
       "\n",
       "[5 rows x 230 columns]"
      ]
     },
     "execution_count": 36,
     "metadata": {},
     "output_type": "execute_result"
    }
   ],
   "source": [
    "x_train.head()"
   ]
  },
  {
   "cell_type": "code",
   "execution_count": 37,
   "metadata": {},
   "outputs": [
    {
     "data": {
      "text/plain": [
       "0.7386363636363636"
      ]
     },
     "execution_count": 37,
     "metadata": {},
     "output_type": "execute_result"
    }
   ],
   "source": [
    "# using age_percentil_encoded variable\n",
    "\n",
    "LR_model_2 = LogisticRegression(max_iter=10000)\n",
    "LR_model_2.fit(x_train_2, y_train)\n",
    "\n",
    "y_prediction_LR_2 = LR_model_2.predict(x_test_2)\n",
    "accuracy_score(y_test, y_prediction_LR_2)"
   ]
  },
  {
   "cell_type": "code",
   "execution_count": 38,
   "metadata": {},
   "outputs": [
    {
     "data": {
      "text/plain": [
       "0.42045454545454547"
      ]
     },
     "execution_count": 38,
     "metadata": {},
     "output_type": "execute_result"
    }
   ],
   "source": [
    "LR_model = LogisticRegression(max_iter=10000)\n",
    "LR_model.fit(x_train, y_train)\n",
    "\n",
    "y_prediction_LR = LR_model.predict(x_test)\n",
    "accuracy_score(y_test, y_prediction_LR)"
   ]
  },
  {
   "cell_type": "code",
   "execution_count": 39,
   "metadata": {},
   "outputs": [
    {
     "data": {
      "text/plain": [
       "0.5681818181818182"
      ]
     },
     "execution_count": 39,
     "metadata": {},
     "output_type": "execute_result"
    }
   ],
   "source": [
    "# using age_percentil_encoded variable\n",
    "\n",
    "DTC_model_2 = DecisionTreeClassifier()\n",
    "DTC_model_2.fit(x_train_2, y_train)\n",
    "\n",
    "y_prediction_DTC_2 = DTC_model_2.predict(x_test_2)\n",
    "accuracy_score(y_test, y_prediction_DTC_2)"
   ]
  },
  {
   "cell_type": "code",
   "execution_count": 40,
   "metadata": {},
   "outputs": [
    {
     "data": {
      "text/plain": [
       "0.42045454545454547"
      ]
     },
     "execution_count": 40,
     "metadata": {},
     "output_type": "execute_result"
    }
   ],
   "source": [
    "DTC_model = DecisionTreeClassifier()\n",
    "DTC_model.fit(x_train, y_train)\n",
    "\n",
    "y_prediction_DTC = DTC_model.predict(x_test)\n",
    "accuracy_score(y_test, y_prediction_DTC)"
   ]
  },
  {
   "cell_type": "markdown",
   "metadata": {},
   "source": [
    "- It seems that using `AGE_PERCENTIL` ENCODED - coded through OrdinalEncoder Scikit Learn - the results are better."
   ]
  },
  {
   "cell_type": "markdown",
   "metadata": {},
   "source": [
    "### Challenge 02: Search about F-Score.\n",
    "\n",
    "From wikipedia https://en.wikipedia.org/wiki/F-score:\n",
    "\n",
    "Just to keep in mind:\n",
    "![](https://upload.wikimedia.org/wikipedia/commons/thumb/2/26/Precisionrecall.svg/350px-Precisionrecall.svg.png)\n",
    "\n",
    "The **traditional F-measure or balanced F-score (F1 score)** is the _harmonic mean_ of precision and recall:\n",
    "![](https://wikimedia.org/api/rest_v1/media/math/render/svg/9c94f59b68f5ae0dc92185906c7ec4214fd04e1e)\n",
    "\n",
    "$F_\\beta$ \\\n",
    "A more general F score, $F_\\beta$, that uses a positive real factor β, where β is chosen such that recall is considered β times as important as precision, is:\n",
    "![](https://wikimedia.org/api/rest_v1/media/math/render/svg/136f45612c08805f4254f63d2f2524bc25075fff)\n",
    "\n",
    "In terms of Type I (False Positive) and type II (False Negative) errors this becomes:\n",
    "![](https://wikimedia.org/api/rest_v1/media/math/render/svg/6fbeb471033fdd63a2c2ca7830afc7abdf8b8134)\n",
    "\n",
    "Two commonly used values for β are 2, which weighs recall higher than precision, and 0.5, which weighs recall lower than precision.\n",
    "\n",
    "The F-measure was derived so that $F_\\beta$ \"measures the effectiveness of retrieval with respect to a user who attaches β times as much importance to recall as precision\"."
   ]
  },
  {
   "cell_type": "markdown",
   "metadata": {},
   "source": [
    "### Challenge 03: Plot the Decision Tree."
   ]
  },
  {
   "cell_type": "code",
   "execution_count": 41,
   "metadata": {},
   "outputs": [],
   "source": [
    "from sklearn.tree import plot_tree"
   ]
  },
  {
   "cell_type": "code",
   "execution_count": 42,
   "metadata": {},
   "outputs": [
    {
     "data": {
      "image/png": "[encoded data removed]",
      "text/plain": [
       "<Figure size 1872x648 with 1 Axes>"
      ]
     },
     "metadata": {
      "needs_background": "light"
     },
     "output_type": "display_data"
    }
   ],
   "source": [
    "plt.figure(figsize=(26,9))\n",
    "\n",
    "feature_names = x_train.columns\n",
    "\n",
    "plot_tree(DTC_model, filled=True, impurity=False, fontsize=7,\n",
    "          feature_names=feature_names, label='root');"
   ]
  },
  {
   "cell_type": "markdown",
   "metadata": {},
   "source": [
    "parameters explanation:\n",
    "\n",
    "filled: When set to True, paint nodes to indicate majority class for classification, extremity of values for regression, or purity of node for multi-output.\n",
    "\n",
    "impurity: When set to True, show the impurity at each node.\n",
    "\n",
    "label: Whether to show informative labels for impurity, etc. Options include ‘all’ to show at every node, ‘root’ to show only at the top root node, or ‘none’ to not show at any node."
   ]
  },
  {
   "cell_type": "markdown",
   "metadata": {},
   "source": [
    "## Lesson 02 - Part 02 - ROC and AUC curves"
   ]
  },
  {
   "cell_type": "markdown",
   "metadata": {},
   "source": [
    "Recap:\n",
    "\n",
    "- Precision: de todas as minhas predições positivas, quantas realmente estão certas?\n",
    "\n",
    "- Recall: de todas as classes que devem ser positivas, quantas eu realmente classifiquei, previ corretamente? \\\n",
    "Recall == 1 quer dizer que todas as pessoas que estavam doentes eu consegui classificar como doentes."
   ]
  },
  {
   "cell_type": "markdown",
   "metadata": {},
   "source": [
    "- Through ROC we can compare **visually** with model performed better.\n",
    "\n",
    "- The AUC (area under curve) represents the ROC metric through a number.\n",
    "\n",
    "\n",
    "**Challenge 04: Plot ROC.**"
   ]
  },
  {
   "cell_type": "code",
   "execution_count": 43,
   "metadata": {},
   "outputs": [],
   "source": [
    "from sklearn.metrics import roc_auc_score"
   ]
  },
  {
   "cell_type": "code",
   "execution_count": 44,
   "metadata": {},
   "outputs": [
    {
     "data": {
      "text/plain": [
       "array([[1., 0.],\n",
       "       [0., 1.],\n",
       "       [1., 0.],\n",
       "       [1., 0.],\n",
       "       [0., 1.],\n",
       "       [1., 0.],\n",
       "       [1., 0.],\n",
       "       [0., 1.],\n",
       "       [0., 1.],\n",
       "       [1., 0.],\n",
       "       [1., 0.],\n",
       "       [0., 1.],\n",
       "       [0., 1.],\n",
       "       [0., 1.],\n",
       "       [0., 1.],\n",
       "       [1., 0.],\n",
       "       [0., 1.],\n",
       "       [1., 0.],\n",
       "       [0., 1.],\n",
       "       [0., 1.],\n",
       "       [0., 1.],\n",
       "       [1., 0.],\n",
       "       [1., 0.],\n",
       "       [0., 1.],\n",
       "       [1., 0.],\n",
       "       [1., 0.],\n",
       "       [0., 1.],\n",
       "       [0., 1.],\n",
       "       [0., 1.],\n",
       "       [1., 0.],\n",
       "       [1., 0.],\n",
       "       [0., 1.],\n",
       "       [1., 0.],\n",
       "       [1., 0.],\n",
       "       [1., 0.],\n",
       "       [1., 0.],\n",
       "       [0., 1.],\n",
       "       [0., 1.],\n",
       "       [1., 0.],\n",
       "       [0., 1.],\n",
       "       [0., 1.],\n",
       "       [1., 0.],\n",
       "       [1., 0.],\n",
       "       [0., 1.],\n",
       "       [1., 0.],\n",
       "       [0., 1.],\n",
       "       [0., 1.],\n",
       "       [1., 0.],\n",
       "       [1., 0.],\n",
       "       [1., 0.],\n",
       "       [0., 1.],\n",
       "       [1., 0.],\n",
       "       [0., 1.],\n",
       "       [1., 0.],\n",
       "       [0., 1.],\n",
       "       [1., 0.],\n",
       "       [0., 1.],\n",
       "       [1., 0.],\n",
       "       [0., 1.],\n",
       "       [1., 0.],\n",
       "       [1., 0.],\n",
       "       [0., 1.],\n",
       "       [0., 1.],\n",
       "       [0., 1.],\n",
       "       [1., 0.],\n",
       "       [1., 0.],\n",
       "       [1., 0.],\n",
       "       [1., 0.],\n",
       "       [0., 1.],\n",
       "       [0., 1.],\n",
       "       [1., 0.],\n",
       "       [1., 0.],\n",
       "       [0., 1.],\n",
       "       [0., 1.],\n",
       "       [1., 0.],\n",
       "       [0., 1.],\n",
       "       [0., 1.],\n",
       "       [1., 0.],\n",
       "       [1., 0.],\n",
       "       [1., 0.],\n",
       "       [1., 0.],\n",
       "       [1., 0.],\n",
       "       [1., 0.],\n",
       "       [0., 1.],\n",
       "       [1., 0.],\n",
       "       [1., 0.],\n",
       "       [1., 0.],\n",
       "       [0., 1.]])"
      ]
     },
     "execution_count": 44,
     "metadata": {},
     "output_type": "execute_result"
    }
   ],
   "source": [
    "DTC_model.predict_proba(x_test)\n",
    "\n",
    "# first column is the chance of the class be classified as 0\n",
    "# second column is the chance of the class be classified as 1"
   ]
  },
  {
   "cell_type": "code",
   "execution_count": 45,
   "metadata": {},
   "outputs": [
    {
     "data": {
      "text/plain": [
       "array([0, 1])"
      ]
     },
     "execution_count": 45,
     "metadata": {},
     "output_type": "execute_result"
    }
   ],
   "source": [
    "# just to check the order \n",
    "\n",
    "DTC_model.classes_\n",
    "\n",
    "# first column is about class 0\n",
    "# second column is about class 1"
   ]
  },
  {
   "cell_type": "code",
   "execution_count": 46,
   "metadata": {},
   "outputs": [
    {
     "data": {
      "text/plain": [
       "0.416969382459782"
      ]
     },
     "execution_count": 46,
     "metadata": {},
     "output_type": "execute_result"
    }
   ],
   "source": [
    "proba_DTC = DTC_model.predict_proba(x_test)\n",
    "roc_auc_score(y_test, proba_DTC[:, 1])"
   ]
  },
  {
   "cell_type": "code",
   "execution_count": 47,
   "metadata": {},
   "outputs": [
    {
     "data": {
      "text/plain": [
       "0.4187856772184743"
      ]
     },
     "execution_count": 47,
     "metadata": {},
     "output_type": "execute_result"
    }
   ],
   "source": [
    "proba_LR = LR_model.predict_proba(x_test)\n",
    "roc_auc_score(y_test, proba_LR[:, 1])"
   ]
  },
  {
   "cell_type": "code",
   "execution_count": 48,
   "metadata": {},
   "outputs": [],
   "source": [
    "def run_model(model, data):\n",
    "    \n",
    "    x_columns = data.columns\n",
    "\n",
    "    x = data[x_columns].drop(['ICU', 'WINDOW'], \n",
    "                             axis=1)\n",
    "    y = data['ICU']\n",
    "    \n",
    "    x_train, x_test, y_train, y_test = \\\n",
    "        train_test_split(x, y, stratify=y)\n",
    "    \n",
    "    model.fit(x_train, y_train)\n",
    "    prediction = model.predict(x_test)\n",
    "    proba_predict = model.predict_proba(x_test)\n",
    "    \n",
    "    auc = roc_auc_score(y_test, proba_predict[:, 1])\n",
    "    print(f\"AUC: {auc}\")\n",
    "\n",
    "    print(\"\\nClassification report\")\n",
    "    print(classification_report(y_test, prediction))"
   ]
  },
  {
   "cell_type": "code",
   "execution_count": 49,
   "metadata": {},
   "outputs": [
    {
     "name": "stdout",
     "output_type": "stream",
     "text": [
      "AUC: 0.5677218474312403\n",
      "\n",
      "Classification report\n",
      "              precision    recall  f1-score   support\n",
      "\n",
      "           0       0.60      0.57      0.59        47\n",
      "           1       0.53      0.56      0.55        41\n",
      "\n",
      "    accuracy                           0.57        88\n",
      "   macro avg       0.57      0.57      0.57        88\n",
      "weighted avg       0.57      0.57      0.57        88\n",
      "\n"
     ]
    }
   ],
   "source": [
    "run_model(DTC_model, patients_usable)"
   ]
  },
  {
   "cell_type": "markdown",
   "metadata": {},
   "source": [
    "- Each time we run, it returns a different result. It happens because the train test split can split differently each time.\n",
    "\n",
    "- **We need to reduce the effect of randomness!**"
   ]
  },
  {
   "cell_type": "code",
   "execution_count": 50,
   "metadata": {},
   "outputs": [
    {
     "name": "stdout",
     "output_type": "stream",
     "text": [
      "AUC: 0.7638816813700052\n",
      "\n",
      "Classification report\n",
      "              precision    recall  f1-score   support\n",
      "\n",
      "           0       0.71      0.77      0.73        47\n",
      "           1       0.70      0.63      0.67        41\n",
      "\n",
      "    accuracy                           0.70        88\n",
      "   macro avg       0.70      0.70      0.70        88\n",
      "weighted avg       0.70      0.70      0.70        88\n",
      "\n"
     ]
    }
   ],
   "source": [
    "run_model(LR_model, patients_usable)"
   ]
  },
  {
   "cell_type": "markdown",
   "metadata": {},
   "source": [
    "### Challenge 04: Create a function to plot ROC for different models."
   ]
  },
  {
   "cell_type": "code",
   "execution_count": 51,
   "metadata": {},
   "outputs": [],
   "source": [
    "from sklearn.metrics import roc_curve"
   ]
  },
  {
   "cell_type": "code",
   "execution_count": 52,
   "metadata": {},
   "outputs": [
    {
     "data": {
      "text/plain": [
       "Text(0.5, 0, 'False Positive Rate')"
      ]
     },
     "execution_count": 52,
     "metadata": {},
     "output_type": "execute_result"
    },
    {
     "data": {
      "image/png": "[encoded data removed]",
      "text/plain": [
       "<Figure size 648x504 with 1 Axes>"
      ]
     },
     "metadata": {
      "needs_background": "light"
     },
     "output_type": "display_data"
    }
   ],
   "source": [
    "# TPR = Recall = TP / (TP + FN)\n",
    "# FPR = FP / (FP + TN)\n",
    "\n",
    "plt.figure(figsize=(9,7))\n",
    "plt.title('Receiver Operating Characteristic - ROC', pad=20, fontsize=16)\n",
    "\n",
    "proba_DTC = DTC_model.predict_proba(x_test)\n",
    "fpr_DTC, tpr_DTC, _ = roc_curve(y_test, proba_DTC[:,1])\n",
    "\n",
    "auc = roc_auc_score(y_test, proba_DTC[:,1])\n",
    "\n",
    "plt.plot(fpr_DTC, tpr_DTC, label='DT = %0.2f' % auc)\n",
    "plt.legend(loc = 'lower right')\n",
    "\n",
    "plt.plot([0,1], [0,1], linestyle='--', color='blue')\n",
    "plt.ylabel('True Positive Rate')\n",
    "plt.xlabel('False Positive Rate')"
   ]
  },
  {
   "cell_type": "code",
   "execution_count": 53,
   "metadata": {},
   "outputs": [
    {
     "data": {
      "text/plain": [
       "(array([0.        , 0.46808511, 1.        ]),\n",
       " array([0.        , 0.46341463, 1.        ]),\n",
       " array([2., 1., 0.]))"
      ]
     },
     "execution_count": 53,
     "metadata": {},
     "output_type": "execute_result"
    }
   ],
   "source": [
    "roc_curve(y_test, proba_DTC[:,1])"
   ]
  },
  {
   "cell_type": "code",
   "execution_count": 54,
   "metadata": {},
   "outputs": [],
   "source": [
    "def plot_roc(models: list, x_test, y_test):\n",
    "    \n",
    "    plt.figure(figsize=(9,7))\n",
    "    plt.title('Receiver Operating Characteristic - ROC', pad=20, fontsize=16)\n",
    "\n",
    "    for model in models:\n",
    "        \n",
    "        proba = model.predict_proba(x_test)\n",
    "        fpr, tpr, _ = roc_curve(y_test, proba[:,1])\n",
    "\n",
    "        auc = roc_auc_score(y_test, proba[:,1])\n",
    "\n",
    "        plt.plot(fpr, tpr, label= str(model)+' = %0.2f' % auc)\n",
    "        plt.legend(loc = 'lower right')\n",
    "\n",
    "    plt.plot([0,1], [0,1], linestyle='--', color='gray')\n",
    "    plt.ylabel('True Positive Rate')\n",
    "    plt.xlabel('False Positive Rate')"
   ]
  },
  {
   "cell_type": "code",
   "execution_count": 55,
   "metadata": {},
   "outputs": [
    {
     "data": {
      "image/png": "[encoded data removed]",
      "text/plain": [
       "<Figure size 648x504 with 1 Axes>"
      ]
     },
     "metadata": {
      "needs_background": "light"
     },
     "output_type": "display_data"
    }
   ],
   "source": [
    "models = [DTC_model, LR_model, DTC_model_2, LR_model_2]\n",
    "\n",
    "plot_roc(models, x_test, y_test)"
   ]
  },
  {
   "cell_type": "markdown",
   "metadata": {},
   "source": [
    "### Challenge 05: How to reduce randomness? Don't search. Think about it.\n",
    "\n",
    "Forcibly separating the train test.\n",
    "\n",
    "Are there any parameters in the `train test split` method that can reduce randomness?"
   ]
  },
  {
   "cell_type": "markdown",
   "metadata": {},
   "source": [
    "# Lesson 03 - Model Randomness"
   ]
  },
  {
   "cell_type": "code",
   "execution_count": 56,
   "metadata": {},
   "outputs": [],
   "source": [
    "def run_n_models(model, data, n):\n",
    "    \n",
    "    x_columns = data.columns\n",
    "    x = data[x_columns].drop(['ICU', 'WINDOW'], \n",
    "                             axis=1)\n",
    "    y = data['ICU']\n",
    "    \n",
    "    auc_list = []\n",
    "    \n",
    "    for _ in range(n):\n",
    "        \n",
    "        x_train, x_test, y_train, y_test = \\\n",
    "            train_test_split(x, y, stratify=y)\n",
    "    \n",
    "        model.fit(x_train, y_train)\n",
    "        proba_predict = model.predict_proba(x_test)\n",
    "    \n",
    "        auc = roc_auc_score(y_test, proba_predict[:, 1])\n",
    "        auc_list.append(auc)\n",
    "    \n",
    "    auc_mean = np.mean(auc_list)\n",
    "    auc_std = np.std(auc_list)\n",
    "    print(f\"AUC: {auc_mean}\")\n",
    "    print(f\"Confidence Interval: {auc_mean - 2 * auc_std} - \"+\n",
    "                               f\"{auc_mean + 2 * auc_std}\")"
   ]
  },
  {
   "cell_type": "code",
   "execution_count": 57,
   "metadata": {},
   "outputs": [
    {
     "name": "stdout",
     "output_type": "stream",
     "text": [
      "AUC: 0.6283809029579658\n",
      "Confidence Interval: 0.5334660153006514 - 0.7232957906152802\n"
     ]
    }
   ],
   "source": [
    "run_n_models(DTC_model, patients_usable, 50)"
   ]
  },
  {
   "cell_type": "code",
   "execution_count": 58,
   "metadata": {},
   "outputs": [
    {
     "name": "stdout",
     "output_type": "stream",
     "text": [
      "AUC: 0.6244732745199792\n",
      "Confidence Interval: 0.5383567710312117 - 0.7105897780087468\n"
     ]
    }
   ],
   "source": [
    "run_n_models(DTC_model, patients_usable, 50)"
   ]
  },
  {
   "cell_type": "markdown",
   "metadata": {},
   "source": [
    "- If we run again and again, I can notice that the variation now becomes smaller, since we are averaging the metrics obtained in N models."
   ]
  },
  {
   "cell_type": "code",
   "execution_count": 59,
   "metadata": {},
   "outputs": [
    {
     "name": "stdout",
     "output_type": "stream",
     "text": [
      "AUC: 0.7535962636222105\n",
      "Confidence Interval: 0.6710273109730382 - 0.8361652162713828\n"
     ]
    }
   ],
   "source": [
    "run_n_models(LR_model, patients_usable, 50)"
   ]
  },
  {
   "cell_type": "code",
   "execution_count": 60,
   "metadata": {},
   "outputs": [
    {
     "name": "stdout",
     "output_type": "stream",
     "text": [
      "AUC: 0.7585988583290089\n",
      "Confidence Interval: 0.6676839600451796 - 0.8495137566128381\n"
     ]
    }
   ],
   "source": [
    "run_n_models(LR_model, patients_usable, 50)"
   ]
  },
  {
   "cell_type": "markdown",
   "metadata": {},
   "source": [
    "### Challenge 01: Study scikit learn documentation. Test others models."
   ]
  },
  {
   "cell_type": "code",
   "execution_count": 61,
   "metadata": {},
   "outputs": [],
   "source": [
    "from sklearn.neighbors import KNeighborsClassifier\n",
    "from sklearn.ensemble import RandomForestClassifier\n",
    "from sklearn.naive_bayes import GaussianNB\n",
    "from sklearn.svm import SVC\n",
    "from sklearn.linear_model import SGDClassifier"
   ]
  },
  {
   "cell_type": "code",
   "execution_count": 62,
   "metadata": {},
   "outputs": [
    {
     "name": "stdout",
     "output_type": "stream",
     "text": [
      "AUC: 0.5137363777893098\n",
      "Confidence Interval: 0.41561734703033676 - 0.6118554085482828\n"
     ]
    }
   ],
   "source": [
    "KNN_model = KNeighborsClassifier()\n",
    "\n",
    "run_n_models(KNN_model, patients_usable, 50)"
   ]
  },
  {
   "cell_type": "code",
   "execution_count": 63,
   "metadata": {},
   "outputs": [
    {
     "name": "stdout",
     "output_type": "stream",
     "text": [
      "AUC: 0.787991696938246\n",
      "Confidence Interval: 0.7249607760492065 - 0.8510226178272855\n"
     ]
    }
   ],
   "source": [
    "RF_model = RandomForestClassifier()\n",
    "\n",
    "run_n_models(RF_model, patients_usable, 50)"
   ]
  },
  {
   "cell_type": "code",
   "execution_count": 64,
   "metadata": {},
   "outputs": [
    {
     "name": "stdout",
     "output_type": "stream",
     "text": [
      "AUC: 0.7449766476388169\n",
      "Confidence Interval: 0.6566695377714213 - 0.8332837575062124\n"
     ]
    }
   ],
   "source": [
    "GNB_model = GaussianNB()\n",
    "\n",
    "run_n_models(GNB_model, patients_usable, 50)"
   ]
  },
  {
   "cell_type": "code",
   "execution_count": 65,
   "metadata": {},
   "outputs": [
    {
     "name": "stdout",
     "output_type": "stream",
     "text": [
      "AUC: 0.45352361183186296\n",
      "Confidence Interval: 0.2780980771729333 - 0.6289491464907926\n"
     ]
    }
   ],
   "source": [
    "SVM_model = SVC(probability=True)\n",
    "\n",
    "run_n_models(SVM_model, patients_usable, 50)"
   ]
  },
  {
   "cell_type": "code",
   "execution_count": 66,
   "metadata": {},
   "outputs": [
    {
     "name": "stdout",
     "output_type": "stream",
     "text": [
      "AUC: 0.49769590036325895\n",
      "Confidence Interval: 0.47492255863332977 - 0.5204692420931881\n"
     ]
    }
   ],
   "source": [
    "SGD_model = SGDClassifier(loss='log')\n",
    "\n",
    "run_n_models(SGD_model, patients_usable, 50)"
   ]
  },
  {
   "cell_type": "markdown",
   "metadata": {},
   "source": [
    "# Lesson 04 - Cross-validation\n",
    "\n",
    "Cross-validation makes use of the entire dataset for training and testing, unlike train_test_split does not guarantee the use of all data for training and also for testing."
   ]
  },
  {
   "cell_type": "code",
   "execution_count": 67,
   "metadata": {},
   "outputs": [],
   "source": [
    "from sklearn.model_selection import cross_validate"
   ]
  },
  {
   "cell_type": "code",
   "execution_count": 68,
   "metadata": {},
   "outputs": [
    {
     "data": {
      "text/plain": [
       "{'fit_time': array([0.48136473, 0.38987017, 0.43000054]),\n",
       " 'score_time': array([0.00913143, 0.00878692, 0.00925326]),\n",
       " 'test_score': array([0.70338983, 0.73504274, 0.70940171])}"
      ]
     },
     "execution_count": 68,
     "metadata": {},
     "output_type": "execute_result"
    }
   ],
   "source": [
    "cross_validate(LR_model, x, y, cv=3)"
   ]
  },
  {
   "cell_type": "markdown",
   "metadata": {},
   "source": [
    "https://scikit-learn.org/stable/modules/cross_validation.html#cross-validation"
   ]
  },
  {
   "cell_type": "code",
   "execution_count": 69,
   "metadata": {},
   "outputs": [
    {
     "data": {
      "text/plain": [
       "{'fit_time': array([0.68282795, 0.50467682, 0.43074226, 0.4657979 , 0.2437849 ]),\n",
       " 'score_time': array([0.00919843, 0.0089221 , 0.00864506, 0.00872922, 0.02462697]),\n",
       " 'test_score': array([0.70422535, 0.76056338, 0.77142857, 0.72857143, 0.71428571])}"
      ]
     },
     "execution_count": 69,
     "metadata": {},
     "output_type": "execute_result"
    }
   ],
   "source": [
    "cross_validate(LR_model, x, y, cv=5)"
   ]
  },
  {
   "cell_type": "markdown",
   "metadata": {},
   "source": [
    "- As the cross-validation divides the data per block, if the data is being sorted in some way, this can generate some bias or we cannot have a good split with all labels represented in the training and testing. So, it's important to shuffle the data before using cross-validation.\n",
    "\n",
    "- cross-validation generator will help to deal with that I explained above.\n",
    "\n",
    "\n",
    "https://scikit-learn.org/stable/modules/classes.html#module-sklearn.model_selection\n",
    "\n",
    "\n",
    "https://scikit-learn.org/stable/modules/generated/sklearn.model_selection.cross_validate.html\n",
    "\n",
    "\n",
    "StratifiedKFold ensures that the training and testing will have the same proportion of different labels. It's good for unbalanced data. \\\n",
    "\"The folds are made by preserving the percentage of samples for each class.\"\n",
    "\n",
    "## StratifiedKFold"
   ]
  },
  {
   "cell_type": "code",
   "execution_count": 70,
   "metadata": {},
   "outputs": [],
   "source": [
    "from sklearn.model_selection import StratifiedKFold"
   ]
  },
  {
   "cell_type": "code",
   "execution_count": 71,
   "metadata": {},
   "outputs": [
    {
     "data": {
      "text/plain": [
       "{'fit_time': array([0.45799518, 0.35877585, 0.50900054, 0.40861154, 0.39070106]),\n",
       " 'score_time': array([0.0086391 , 0.00880909, 0.00864077, 0.01052475, 0.00873923]),\n",
       " 'test_score': array([0.64788732, 0.69014085, 0.71428571, 0.7       , 0.75714286])}"
      ]
     },
     "execution_count": 71,
     "metadata": {},
     "output_type": "execute_result"
    }
   ],
   "source": [
    "cv = StratifiedKFold(n_splits=5, shuffle=True)\n",
    "\n",
    "cross_validate(LR_model, x, y, cv=cv)"
   ]
  },
  {
   "cell_type": "markdown",
   "metadata": {},
   "source": [
    "**Challenge 01: Try a different method of model selection - splitter classes. Discuss about the differences between StratifiedKFold and the method you choose.**"
   ]
  },
  {
   "cell_type": "code",
   "execution_count": 72,
   "metadata": {},
   "outputs": [],
   "source": [
    "from sklearn.model_selection import RepeatedStratifiedKFold"
   ]
  },
  {
   "cell_type": "markdown",
   "metadata": {},
   "source": [
    "RepeatedStratifiedKFold will work as `run_n_models`. We can define how many times we want the model to run.\n",
    "\n",
    "## RepeatedStratifiedKFold"
   ]
  },
  {
   "cell_type": "code",
   "execution_count": 73,
   "metadata": {},
   "outputs": [
    {
     "data": {
      "text/plain": [
       "{'fit_time': array([0.34911489, 0.37106371, 0.36008477, 0.3197453 , 0.25780916,\n",
       "        0.34368443, 0.45769048, 0.52156758, 0.44732356, 0.45817256,\n",
       "        0.39962339, 0.51698565, 0.26219964, 0.56039453, 0.43437147,\n",
       "        0.24296737, 0.37762237, 0.27000737, 0.44412947, 0.38637614,\n",
       "        0.24864936, 0.44440746, 0.28043842, 0.39710784, 0.74136806,\n",
       "        0.47995901, 0.4123199 , 0.52696204, 0.25674939, 0.19263697,\n",
       "        0.3473053 , 0.32725668, 0.38696837, 0.40734577, 0.45368981,\n",
       "        0.41689754, 0.49408269, 0.37102365, 0.58563733, 0.3419528 ,\n",
       "        0.49296784, 0.33555794, 0.34474206, 0.38805771, 0.50779891,\n",
       "        0.30526829, 0.1639843 , 0.45430565, 0.53285813, 0.29572511]),\n",
       " 'score_time': array([0.00889945, 0.00868487, 0.00876951, 0.00879216, 0.00883222,\n",
       "        0.00872278, 0.00929093, 0.00866961, 0.00866699, 0.00869799,\n",
       "        0.00865602, 0.0088768 , 0.00899029, 0.0086534 , 0.00862122,\n",
       "        0.00868392, 0.00870633, 0.00930285, 0.0086329 , 0.00868917,\n",
       "        0.00873017, 0.00866818, 0.00857115, 0.00870872, 0.01202512,\n",
       "        0.00871229, 0.00874996, 0.00857544, 0.00878143, 0.00868416,\n",
       "        0.00854445, 0.0086062 , 0.00865626, 0.02114367, 0.0087502 ,\n",
       "        0.0087595 , 0.00860262, 0.00868225, 0.00884175, 0.00865364,\n",
       "        0.00861812, 0.00864935, 0.00873828, 0.00866771, 0.00895023,\n",
       "        0.00870657, 0.00896239, 0.00866747, 0.00875115, 0.00861502]),\n",
       " 'test_score': array([0.66197183, 0.69014085, 0.71428571, 0.68571429, 0.77142857,\n",
       "        0.74647887, 0.71830986, 0.68571429, 0.62857143, 0.77142857,\n",
       "        0.71830986, 0.70422535, 0.71428571, 0.71428571, 0.7       ,\n",
       "        0.71830986, 0.67605634, 0.78571429, 0.7       , 0.7       ,\n",
       "        0.64788732, 0.67605634, 0.78571429, 0.71428571, 0.64285714,\n",
       "        0.73239437, 0.64788732, 0.75714286, 0.7       , 0.71428571,\n",
       "        0.77464789, 0.69014085, 0.68571429, 0.61428571, 0.8       ,\n",
       "        0.73239437, 0.74647887, 0.71428571, 0.68571429, 0.67142857,\n",
       "        0.71830986, 0.71830986, 0.6       , 0.72857143, 0.77142857,\n",
       "        0.64788732, 0.77464789, 0.65714286, 0.67142857, 0.71428571])}"
      ]
     },
     "execution_count": 73,
     "metadata": {},
     "output_type": "execute_result"
    }
   ],
   "source": [
    "cv = RepeatedStratifiedKFold(n_splits=5, n_repeats=10)\n",
    "\n",
    "cross_validate(LR_model, x, y, cv=cv)"
   ]
  },
  {
   "cell_type": "code",
   "execution_count": 74,
   "metadata": {},
   "outputs": [],
   "source": [
    "def run_model_cv(model, data, n_splits, n_repeats):\n",
    "    \n",
    "    np.random.seed(1231234)\n",
    "    \n",
    "    data = data.sample(frac=1).reset_index(drop=True)\n",
    "    \n",
    "    x_columns = data.columns\n",
    "    x = data[x_columns].drop(['ICU', 'WINDOW'], \n",
    "                             axis=1)\n",
    "    y = data['ICU']\n",
    "    \n",
    "    cv = RepeatedStratifiedKFold(n_splits=n_splits, \n",
    "                                 n_repeats=n_repeats)\n",
    "    results = cross_validate(model, x, y, cv=cv, scoring='roc_auc')\n",
    "    \n",
    "    auc_mean = np.mean(results['test_score'])\n",
    "    auc_std = np.std(results['test_score'])\n",
    "    \n",
    "    print(f\"AUC mean: {auc_mean}\")\n",
    "    print(f\"Confidence Interval: {auc_mean - 2 * auc_std} - \"+\n",
    "                               f\"{auc_mean + 2 * auc_std}\")"
   ]
  },
  {
   "cell_type": "markdown",
   "metadata": {},
   "source": [
    "- As RepeatedStratifiedKFold has no shuffle parameter, I shuffled the data at the function beginning.\n",
    "\n",
    "- To guarantee reproducibility I defined a random.seed"
   ]
  },
  {
   "cell_type": "code",
   "execution_count": 75,
   "metadata": {},
   "outputs": [
    {
     "name": "stdout",
     "output_type": "stream",
     "text": [
      "AUC mean: 0.7553545680848311\n",
      "Confidence Interval: 0.6346393675837266 - 0.8760697685859357\n"
     ]
    }
   ],
   "source": [
    "run_model_cv(LR_model, patients_usable, 5, 10)"
   ]
  },
  {
   "cell_type": "code",
   "execution_count": 76,
   "metadata": {},
   "outputs": [
    {
     "name": "stdout",
     "output_type": "stream",
     "text": [
      "AUC: 0.7584327970939286\n",
      "Confidence Interval: 0.6519737004503365 - 0.8648918937375207\n"
     ]
    }
   ],
   "source": [
    "# using train_test_split\n",
    "run_n_models(LR_model, patients_usable, 50)"
   ]
  },
  {
   "cell_type": "markdown",
   "metadata": {},
   "source": [
    "### Challenge 01: Try a different method of model selection - splitter classes. Discuss about the differences between StratifiedKFold and the method you choose."
   ]
  },
  {
   "cell_type": "code",
   "execution_count": 77,
   "metadata": {},
   "outputs": [],
   "source": [
    "from sklearn.model_selection import StratifiedShuffleSplit, KFold"
   ]
  },
  {
   "cell_type": "code",
   "execution_count": 78,
   "metadata": {},
   "outputs": [
    {
     "name": "stdout",
     "output_type": "stream",
     "text": [
      "AUC mean: 0.7470588235294118\n",
      "Confidence Interval: 0.5671754689363062 - 0.9269421781225173\n"
     ]
    }
   ],
   "source": [
    "np.random.seed(1231234)\n",
    "\n",
    "data = patients_usable.sample(frac=1).reset_index(drop=True)\n",
    "\n",
    "x_shuffled = data[x_columns].drop(['ICU', 'WINDOW'], \n",
    "                         axis=1)\n",
    "y_shuffled = data['ICU']\n",
    "\n",
    "cv = StratifiedShuffleSplit(n_splits=50)\n",
    "results = cross_validate(LR_model, x_shuffled, y_shuffled, \n",
    "                         cv=cv, scoring='roc_auc')\n",
    "\n",
    "auc_mean = np.mean(results['test_score'])\n",
    "auc_std = np.std(results['test_score'])\n",
    "\n",
    "print(f\"AUC mean: {auc_mean}\")\n",
    "print(f\"Confidence Interval: {auc_mean - 2 * auc_std} - \"+\n",
    "                           f\"{auc_mean + 2 * auc_std}\")"
   ]
  },
  {
   "cell_type": "code",
   "execution_count": 79,
   "metadata": {
    "scrolled": false
   },
   "outputs": [],
   "source": [
    "# KFold does not work because the data is unbalaced\n",
    "\n",
    "# cv = KFold(n_splits=50, shuffle=True)\n",
    "# results = cross_validate(LR_model, x, y, \n",
    "#                          cv=cv, scoring='roc_auc')\n",
    "\n",
    "# auc_mean = np.mean(results['test_score'])\n",
    "# auc_std = np.std(results['test_score'])\n",
    "\n",
    "# print(f\"AUC mean: {auc_mean}\")\n",
    "# print(f\"Confidence Interval: {auc_mean - 2 * auc_std} - \"+\n",
    "#                            f\"{auc_mean + 2 * auc_std}\")"
   ]
  },
  {
   "cell_type": "markdown",
   "metadata": {},
   "source": [
    "# Lesson 05 - Machine Learning Challenges: Overfit and Random Forest"
   ]
  },
  {
   "cell_type": "code",
   "execution_count": 80,
   "metadata": {},
   "outputs": [
    {
     "name": "stdout",
     "output_type": "stream",
     "text": [
      "AUC mean: 0.6192183391525498\n",
      "Confidence Interval: 0.4868125021338965 - 0.751624176171203\n"
     ]
    }
   ],
   "source": [
    "run_model_cv(DTC_model, patients_usable, 5, 10)"
   ]
  },
  {
   "cell_type": "code",
   "execution_count": 81,
   "metadata": {},
   "outputs": [
    {
     "name": "stdout",
     "output_type": "stream",
     "text": [
      "AUC mean: 0.7553545680848311\n",
      "Confidence Interval: 0.6346393675837266 - 0.8760697685859357\n"
     ]
    }
   ],
   "source": [
    "run_model_cv(LR_model, patients_usable, 5, 10)"
   ]
  },
  {
   "cell_type": "markdown",
   "metadata": {},
   "source": [
    "## Hyperparameters\n",
    "\n",
    "- The deeper the tree, the better it can be."
   ]
  },
  {
   "cell_type": "code",
   "execution_count": 82,
   "metadata": {},
   "outputs": [
    {
     "name": "stdout",
     "output_type": "stream",
     "text": [
      "AUC mean: 0.6425430648950387\n",
      "Confidence Interval: 0.4937239811527778 - 0.7913621486372995\n"
     ]
    }
   ],
   "source": [
    "DT_model_v2 = DecisionTreeClassifier(max_depth=5)\n",
    "\n",
    "run_model_cv(DT_model_v2, patients_usable, 5, 10)"
   ]
  },
  {
   "cell_type": "code",
   "execution_count": 83,
   "metadata": {},
   "outputs": [],
   "source": [
    "def run_model_cv(model, data, n_splits, n_repeats):\n",
    "    \n",
    "    np.random.seed(1231234)\n",
    "    \n",
    "    data = data.sample(frac=1).reset_index(drop=True)\n",
    "    \n",
    "    x_columns = data.columns\n",
    "    x = data[x_columns].drop(['ICU', 'WINDOW'], \n",
    "                             axis=1)\n",
    "    y = data['ICU']\n",
    "    \n",
    "    cv = RepeatedStratifiedKFold(n_splits=n_splits, \n",
    "                                 n_repeats=n_repeats)\n",
    "    results = cross_validate(model, x, y, cv=cv, \n",
    "                             scoring='roc_auc', return_train_score = True)\n",
    "    \n",
    "    auc_mean = np.mean(results['test_score'])\n",
    "    training_auc_mean = np.mean(results['train_score'])\n",
    "    \n",
    "    auc_std = np.std(results['test_score'])\n",
    "    \n",
    "    print(f\"AUC {auc_mean, training_auc_mean}\")\n",
    "    # print(f\"Testing AUC mean: {auc_mean} \\n\" +\n",
    "    #       f\"Training AUC mean: {training_auc_mean} \\n\")\n",
    "    \n",
    "    # print(f\"AUC mean: {auc_mean}\")\n",
    "    # print(f\"Testing Confidence Interval: {auc_mean - 2 * auc_std} - \"+\n",
    "    #                                   f\"{auc_mean + 2 * auc_std}\")\n",
    "    \n",
    "    return auc_mean, training_auc_mean"
   ]
  },
  {
   "cell_type": "code",
   "execution_count": 84,
   "metadata": {
    "scrolled": false
   },
   "outputs": [
    {
     "name": "stdout",
     "output_type": "stream",
     "text": [
      "Testing AUC, Training AUC\n",
      "AUC (0.5755830262080263, 0.6445982993536308)\n",
      "AUC (0.6561723767727058, 0.7540818674506083)\n",
      "AUC (0.6664033538622356, 0.8244138820591551)\n",
      "AUC (0.6635528201646623, 0.8830444498841259)\n",
      "AUC (0.6425430648950387, 0.9276580882526007)\n",
      "AUC (0.6214155513168671, 0.9567147106463548)\n",
      "AUC (0.6108149664317427, 0.9744507631080574)\n",
      "AUC (0.5898785036531748, 0.985537864259389)\n",
      "AUC (0.5787839656342946, 0.9911006359719903)\n",
      "AUC (0.5993486451463425, 0.9945530916777581)\n",
      "AUC (0.6007481868830553, 0.9970188147768674)\n",
      "AUC (0.6157757608086556, 0.9986601611277086)\n",
      "AUC (0.6141540246885642, 0.9995126786592542)\n",
      "AUC (0.6193962697745592, 0.9998735966525766)\n",
      "AUC (0.6186509049420235, 0.9999888782164703)\n"
     ]
    }
   ],
   "source": [
    "print('Testing AUC, Training AUC')\n",
    "\n",
    "testing_auc_list, training_auc_list = [], []\n",
    "\n",
    "for i in range(1,16):\n",
    "\n",
    "    # print(f'MAX DEPTH: {i}')\n",
    "    \n",
    "    DT_model_v2 = DecisionTreeClassifier(max_depth=i)\n",
    "    \n",
    "    testing_auc, training_auc = \\\n",
    "        run_model_cv(DT_model_v2, patients_usable, 5, 10)\n",
    "    \n",
    "    testing_auc_list.append(testing_auc)\n",
    "    training_auc_list.append(training_auc)"
   ]
  },
  {
   "cell_type": "markdown",
   "metadata": {},
   "source": [
    "- After 4th iteration the Testing AUC starts to decrease and Training AUC keeps increase.\n",
    "\n",
    "- After 10th iteration the Testing AUC increased a little bit."
   ]
  },
  {
   "cell_type": "code",
   "execution_count": 85,
   "metadata": {},
   "outputs": [
    {
     "data": {
      "image/png": "[encoded data removed]",
      "text/plain": [
       "<Figure size 432x288 with 1 Axes>"
      ]
     },
     "metadata": {
      "needs_background": "light"
     },
     "output_type": "display_data"
    }
   ],
   "source": [
    "x = range(1,16)\n",
    "\n",
    "plt.plot(x, testing_auc_list, label='testing_auc')\n",
    "plt.plot(x, training_auc_list, label='training_auc')\n",
    "plt.legend();"
   ]
  },
  {
   "cell_type": "markdown",
   "metadata": {},
   "source": [
    "- When the metrics of training increase and the metrics of testing decrease it means that we have an overfitting.\n",
    "\n",
    "- Overfitting happens when the model fits really well with training data, however it cannot generalize for the testing data.\n",
    "\n",
    "\n",
    "**Challenge 01: Improve the graph above.**\n",
    "\n",
    "**Challenge 02: Use another data to plot the graph above to analyse overfitting. You can use Titanic dataset.** \\\n",
    "Criar um sobreajuste com outra base de dados.\n",
    "\n",
    "**Challenge 03: Plot the same graph for the LR model.**\n",
    "\n",
    "**Challenge 04: Study about overfitting and underfitting.**\n",
    "\n",
    "- To reduce the overfitting we can adjust the hyperparameters or try another model."
   ]
  },
  {
   "cell_type": "markdown",
   "metadata": {},
   "source": [
    "## Random Forest\n",
    "reduce the overfitting. Each tree is created based on a subset of the data."
   ]
  },
  {
   "cell_type": "code",
   "execution_count": 86,
   "metadata": {},
   "outputs": [],
   "source": [
    "from sklearn.ensemble import RandomForestClassifier"
   ]
  },
  {
   "cell_type": "code",
   "execution_count": 87,
   "metadata": {},
   "outputs": [
    {
     "name": "stdout",
     "output_type": "stream",
     "text": [
      "AUC (0.7769123399715505, 0.854219699689331)\n",
      "AUC (0.7868814523255311, 0.8981345407822948)\n",
      "AUC (0.7926099454717876, 0.93861018097561)\n",
      "AUC (0.7928831927022716, 0.9704349443716389)\n",
      "AUC (0.7963116675287726, 0.987761809271032)\n",
      "AUC (0.7940733840898315, 0.995763051517354)\n",
      "AUC (0.7958578090650458, 0.9990859888962276)\n",
      "AUC (0.7946987747316696, 0.9998235564553316)\n",
      "AUC (0.7925300390103022, 0.9999777121729906)\n",
      "AUC (0.793729982973404, 1.0)\n",
      "AUC (0.7934146474524765, 1.0)\n",
      "AUC (0.7930300875037716, 1.0)\n",
      "AUC (0.7935585518233546, 1.0)\n",
      "AUC (0.7927470001400923, 1.0)\n",
      "AUC (0.7917215316392947, 1.0)\n"
     ]
    }
   ],
   "source": [
    "testing_auc_list, training_auc_list = [], []\n",
    "\n",
    "for i in range(1,16):\n",
    "\n",
    "    # print(f'MAX DEPTH: {i}')\n",
    "    \n",
    "    RF_model = RandomForestClassifier(max_depth=i)\n",
    "    \n",
    "    testing_auc, training_auc = \\\n",
    "        run_model_cv(RF_model, patients_usable, 5, 10)\n",
    "    \n",
    "    testing_auc_list.append(testing_auc)\n",
    "    training_auc_list.append(training_auc)"
   ]
  },
  {
   "cell_type": "code",
   "execution_count": 88,
   "metadata": {},
   "outputs": [
    {
     "data": {
      "image/png": "[encoded data removed]",
      "text/plain": [
       "<Figure size 432x288 with 1 Axes>"
      ]
     },
     "metadata": {
      "needs_background": "light"
     },
     "output_type": "display_data"
    }
   ],
   "source": [
    "x = range(1,16)\n",
    "\n",
    "plt.plot(x, testing_auc_list, label='testing_auc')\n",
    "plt.plot(x, training_auc_list, label='training_auc')\n",
    "plt.legend();"
   ]
  },
  {
   "cell_type": "markdown",
   "metadata": {},
   "source": [
    "- RandomForestClassifier: n_estimators: the number of tree in the forest.\n",
    "\n",
    "- The greater the number of trees, the less chance of overfitting."
   ]
  },
  {
   "cell_type": "code",
   "execution_count": 89,
   "metadata": {},
   "outputs": [
    {
     "name": "stdout",
     "output_type": "stream",
     "text": [
      "AUC (0.7498860268761586, 0.9993319379339394)\n"
     ]
    }
   ],
   "source": [
    "RF_model = RandomForestClassifier(n_estimators=10)\n",
    "\n",
    "testing_auc, training_auc = \\\n",
    "    run_model_cv(RF_model, patients_usable, 5, 10)"
   ]
  },
  {
   "cell_type": "code",
   "execution_count": 90,
   "metadata": {},
   "outputs": [
    {
     "name": "stdout",
     "output_type": "stream",
     "text": [
      "AUC (0.7921226938661148, 1.0)\n"
     ]
    }
   ],
   "source": [
    "RF_model = RandomForestClassifier(n_estimators=100)\n",
    "\n",
    "testing_auc, training_auc = \\\n",
    "    run_model_cv(RF_model, patients_usable, 5, 10)"
   ]
  },
  {
   "cell_type": "code",
   "execution_count": 91,
   "metadata": {},
   "outputs": [
    {
     "name": "stdout",
     "output_type": "stream",
     "text": [
      "AUC (0.7912053119207725, 1.0)\n"
     ]
    }
   ],
   "source": [
    "RF_model = RandomForestClassifier(n_estimators=200)\n",
    "\n",
    "testing_auc, training_auc = \\\n",
    "    run_model_cv(RF_model, patients_usable, 5, 10)"
   ]
  },
  {
   "cell_type": "markdown",
   "metadata": {},
   "source": [
    "**Challenge 05: Choose a machine learning model, study its hyperparameters and test them.**\n",
    "\n",
    "**Challenge 06: How to save a trained model? Search about it.**"
   ]
  },
  {
   "cell_type": "markdown",
   "metadata": {},
   "source": [
    "### Challenge 01: Improve the graph above."
   ]
  },
  {
   "cell_type": "code",
   "execution_count": 92,
   "metadata": {},
   "outputs": [
    {
     "data": {
      "image/png": "[encoded data removed]",
      "text/plain": [
       "<Figure size 864x432 with 1 Axes>"
      ]
     },
     "metadata": {
      "needs_background": "light"
     },
     "output_type": "display_data"
    }
   ],
   "source": [
    "x = range(1,16)\n",
    "\n",
    "plt.figure(figsize=(12,6))\n",
    "\n",
    "plt.plot(x, testing_auc_list, label='testing_auc')\n",
    "plt.plot(x, training_auc_list, label='training_auc')\n",
    "plt.legend(fontsize=12)\n",
    "\n",
    "plt.xticks(range(1,16))\n",
    "plt.ylabel(\"AUC Score\", fontsize=16)\n",
    "plt.xlabel('iteration',fontsize=16)\n",
    "plt.title(\"AUC Score for Tranning and Testing data over each iteration\", \n",
    "          fontsize=19, pad=20);"
   ]
  },
  {
   "cell_type": "markdown",
   "metadata": {},
   "source": [
    "### Challenge 02: Use another data to plot the graph above to analyse overfitting. You can use Titanic dataset.\n",
    "Criar um sobreajuste com outra base de dados.\n",
    "\n",
    "\n",
    "As I already worked with Titanic dataset, I'll choose an easier data to create the AUC plot. Titanic dataset requires a lot of cleaning before to train the model."
   ]
  },
  {
   "cell_type": "code",
   "execution_count": 93,
   "metadata": {},
   "outputs": [
    {
     "data": {
      "text/html": [
       "<div>\n",
       "<style scoped>\n",
       "    .dataframe tbody tr th:only-of-type {\n",
       "        vertical-align: middle;\n",
       "    }\n",
       "\n",
       "    .dataframe tbody tr th {\n",
       "        vertical-align: top;\n",
       "    }\n",
       "\n",
       "    .dataframe thead th {\n",
       "        text-align: right;\n",
       "    }\n",
       "</style>\n",
       "<table border=\"1\" class=\"dataframe\">\n",
       "  <thead>\n",
       "    <tr style=\"text-align: right;\">\n",
       "      <th></th>\n",
       "      <th>sepal length (cm)</th>\n",
       "      <th>sepal width (cm)</th>\n",
       "      <th>petal length (cm)</th>\n",
       "      <th>petal width (cm)</th>\n",
       "    </tr>\n",
       "  </thead>\n",
       "  <tbody>\n",
       "    <tr>\n",
       "      <th>148</th>\n",
       "      <td>6.2</td>\n",
       "      <td>3.4</td>\n",
       "      <td>5.4</td>\n",
       "      <td>2.3</td>\n",
       "    </tr>\n",
       "    <tr>\n",
       "      <th>149</th>\n",
       "      <td>5.9</td>\n",
       "      <td>3.0</td>\n",
       "      <td>5.1</td>\n",
       "      <td>1.8</td>\n",
       "    </tr>\n",
       "  </tbody>\n",
       "</table>\n",
       "</div>"
      ],
      "text/plain": [
       "     sepal length (cm)  sepal width (cm)  petal length (cm)  petal width (cm)\n",
       "148                6.2               3.4                5.4               2.3\n",
       "149                5.9               3.0                5.1               1.8"
      ]
     },
     "execution_count": 93,
     "metadata": {},
     "output_type": "execute_result"
    }
   ],
   "source": [
    "from sklearn.datasets import load_iris\n",
    "\n",
    "iris = load_iris()\n",
    "\n",
    "iris_df = pd.DataFrame(iris['data'], columns=iris['feature_names'])\n",
    "iris_df.tail(2)"
   ]
  },
  {
   "cell_type": "code",
   "execution_count": 94,
   "metadata": {},
   "outputs": [
    {
     "data": {
      "text/plain": [
       "array([0, 1, 2])"
      ]
     },
     "execution_count": 94,
     "metadata": {},
     "output_type": "execute_result"
    }
   ],
   "source": [
    "iris_df['target'] = pd.Series(iris['target'])\n",
    "iris_df['target'].unique()"
   ]
  },
  {
   "cell_type": "code",
   "execution_count": 95,
   "metadata": {},
   "outputs": [
    {
     "data": {
      "text/plain": [
       "array([0, 1])"
      ]
     },
     "execution_count": 95,
     "metadata": {},
     "output_type": "execute_result"
    }
   ],
   "source": [
    "# getting just targets equals 0 or 1 to have a binary problem\n",
    "iris_df = iris_df[(iris_df.target == 0) | (iris_df.target == 1)]\n",
    "iris_df['target'].unique()"
   ]
  },
  {
   "cell_type": "code",
   "execution_count": 96,
   "metadata": {},
   "outputs": [
    {
     "name": "stdout",
     "output_type": "stream",
     "text": [
      "[1.0, 1.0, 1.0, 1.0, 1.0, 1.0, 1.0, 1.0, 1.0, 1.0, 1.0, 1.0, 1.0, 1.0, 1.0]\n",
      "[1.0, 1.0, 1.0, 1.0, 1.0, 1.0, 1.0, 1.0, 1.0, 1.0, 1.0, 1.0, 1.0, 1.0, 1.0]\n"
     ]
    }
   ],
   "source": [
    "testing_auc_list_iris, training_auc_list_iris = [], []\n",
    "\n",
    "\n",
    "for i in range(1,16):\n",
    "\n",
    "    DT_model_iris = DecisionTreeClassifier(max_depth=i)\n",
    "\n",
    "    np.random.seed(1231234)\n",
    "\n",
    "    iris_sample = iris_df.sample(frac=1).reset_index(drop=True)\n",
    "\n",
    "    x_iris = iris_sample.drop(['target'], axis=1)\n",
    "    y_iris = iris_sample['target']\n",
    "\n",
    "    cv = RepeatedStratifiedKFold(n_splits=5,\n",
    "                                 n_repeats=10)\n",
    "\n",
    "    results_iris = cross_validate(DT_model_iris, x_iris, y_iris, cv=cv, \n",
    "                                  scoring='roc_auc', return_train_score=True)\n",
    "    \n",
    "    auc_mean_iris = np.mean(results_iris['test_score'])\n",
    "    training_auc_mean_iris = np.mean(results_iris['train_score'])\n",
    "    \n",
    "    testing_auc_list_iris.append(auc_mean_iris)\n",
    "    training_auc_list_iris.append(training_auc_mean_iris)\n",
    "\n",
    "    \n",
    "print(testing_auc_list_iris)\n",
    "print(training_auc_list_iris)"
   ]
  },
  {
   "cell_type": "markdown",
   "metadata": {},
   "source": [
    "#### There is something wrong. the model is always hitting.\n",
    "I need to check it after"
   ]
  },
  {
   "cell_type": "code",
   "execution_count": 97,
   "metadata": {},
   "outputs": [
    {
     "data": {
      "image/png": "[encoded data removed]",
      "text/plain": [
       "<Figure size 864x432 with 1 Axes>"
      ]
     },
     "metadata": {
      "needs_background": "light"
     },
     "output_type": "display_data"
    }
   ],
   "source": [
    "x = range(1,16)\n",
    "\n",
    "plt.figure(figsize=(12,6))\n",
    "\n",
    "plt.plot(x, testing_auc_list_iris, label='testing_auc')\n",
    "plt.plot(x, training_auc_list_iris, label='training_auc')\n",
    "plt.legend(fontsize=12)\n",
    "\n",
    "plt.xticks(range(1,16))\n",
    "plt.ylabel(\"AUC Score\", fontsize=16)\n",
    "plt.xlabel('iteration',fontsize=16)\n",
    "plt.title(\"AUC Score for Tranning and Testing data over each iteration\", \n",
    "          fontsize=19, pad=20);"
   ]
  },
  {
   "cell_type": "markdown",
   "metadata": {},
   "source": [
    "### Challenge 03: Plot the same graph for the LR model."
   ]
  },
  {
   "cell_type": "code",
   "execution_count": 98,
   "metadata": {},
   "outputs": [
    {
     "name": "stdout",
     "output_type": "stream",
     "text": [
      "Testing AUC, Training AUC\n",
      "AUC (0.7553545680848311, 0.8636510503065244)\n",
      "AUC (0.7553545680848311, 0.8636510503065244)\n",
      "AUC (0.7553545680848311, 0.8636510503065244)\n",
      "AUC (0.7553545680848311, 0.8636510503065244)\n"
     ]
    }
   ],
   "source": [
    "print('Testing AUC, Training AUC')\n",
    "\n",
    "LR_testing_auc_list, LR_training_auc_list = [], []\n",
    "\n",
    "for i in range(2,6):\n",
    "\n",
    "    LR_model_v2 = LogisticRegression(max_iter=100**i)\n",
    "\n",
    "    testing_auc, training_auc = \\\n",
    "        run_model_cv(LR_model_v2, patients_usable, 5, 10)\n",
    "        \n",
    "    LR_testing_auc_list.append(testing_auc)\n",
    "    LR_training_auc_list.append(training_auc)"
   ]
  },
  {
   "cell_type": "code",
   "execution_count": 99,
   "metadata": {},
   "outputs": [
    {
     "name": "stdout",
     "output_type": "stream",
     "text": [
      "100\n",
      "10000\n",
      "1000000\n",
      "100000000\n",
      "10000000000\n"
     ]
    }
   ],
   "source": [
    "for i in range(1,6):\n",
    "    print(100**i)"
   ]
  },
  {
   "cell_type": "markdown",
   "metadata": {},
   "source": [
    "#### Does the max_iter not affect the AUC results?"
   ]
  },
  {
   "cell_type": "code",
   "execution_count": 100,
   "metadata": {},
   "outputs": [
    {
     "data": {
      "image/png": "[encoded data removed]",
      "text/plain": [
       "<Figure size 864x432 with 1 Axes>"
      ]
     },
     "metadata": {
      "needs_background": "light"
     },
     "output_type": "display_data"
    }
   ],
   "source": [
    "x = []\n",
    "for i in range(2,6):\n",
    "    x.append(100*i)\n",
    "    \n",
    "plt.figure(figsize=(12,6))\n",
    "\n",
    "plt.plot(x, LR_testing_auc_list, label='testing_auc')\n",
    "plt.plot(x, LR_training_auc_list, label='training_auc')\n",
    "plt.legend(fontsize=12)\n",
    "\n",
    "plt.xticks(x)\n",
    "plt.ylabel(\"AUC Score\", fontsize=16)\n",
    "plt.xlabel('iteration',fontsize=16)\n",
    "plt.title(\"AUC Score for Tranning and Testing data over each iteration\", \n",
    "          fontsize=19, pad=20);"
   ]
  },
  {
   "cell_type": "markdown",
   "metadata": {},
   "source": [
    "### Challenge 04: Study about overfitting and underfitting.\n",
    "\n",
    "To reduce the overfitting we can adjust the hyperparameters or try another model.\n",
    "\n",
    "\n",
    "8 Simple Techniques to Prevent Overfitting\n",
    "https://towardsdatascience.com/8-simple-techniques-to-prevent-overfitting-4d443da2ef7d#98ac\n",
    "\n",
    "\n",
    "Prevent Underfitting and Overfitting for your model | Machine Learning Basics Explained\n",
    "https://www.youtube.com/watch?v=ZcLbw2YaSXA&t=27s\n",
    "\n",
    "Underfitting and Overfitting in Machine Learning\n",
    "https://www.geeksforgeeks.org/underfitting-and-overfitting-in-machine-learning/\n",
    "\n",
    "\n",
    "What is the difference between Bagging and Boosting?\n",
    "https://quantdare.com/what-is-the-difference-between-bagging-and-boosting/"
   ]
  },
  {
   "cell_type": "markdown",
   "metadata": {},
   "source": [
    "### Challenge 05: Choose a machine learning model, study its hyperparameters and test them.\n",
    "\n",
    "Very good article on how to set the best hyperparameters for a Random Forest model.\n",
    "https://towardsdatascience.com/hyperparameter-tuning-the-random-forest-in-python-using-scikit-learn-28d2aa77dd74"
   ]
  },
  {
   "cell_type": "markdown",
   "metadata": {},
   "source": [
    "### Challenge 06: How to save a trained model? Search about it.\n",
    "\n",
    "See more about Sagemaker.\n",
    "\n",
    "https://machinelearningmastery.com/save-load-machine-learning-models-python-scikit-learn/"
   ]
  }
 ],
 "metadata": {
  "kernelspec": {
   "display_name": "Python 3",
   "language": "python",
   "name": "python3"
  },
  "language_info": {
   "codemirror_mode": {
    "name": "ipython",
    "version": 3
   },
   "file_extension": ".py",
   "mimetype": "text/x-python",
   "name": "python",
   "nbconvert_exporter": "python",
   "pygments_lexer": "ipython3",
   "version": "3.6.9"
  }
 },
 "nbformat": 4,
 "nbformat_minor": 4
}
