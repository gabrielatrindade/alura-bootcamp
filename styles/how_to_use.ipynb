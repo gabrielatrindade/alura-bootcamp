{
 "cells": [
  {
   "cell_type": "code",
   "execution_count": 3,
   "metadata": {},
   "outputs": [
    {
     "data": {
      "text/html": [
       "<style>\n",
       "\n",
       "div.introduction {\n",
       "\tbackground-color: #e0e0d1; \n",
       "\tpadding: 10px;\n",
       "\t}\n",
       "\n",
       "div.decision {\n",
       "\tbackground-color: #ccddff; \n",
       "\tpadding: 10px;\n",
       "\t}\n",
       "\n",
       "div.insight {\n",
       "\tbackground-color: #ffffb3;\n",
       "\tpadding: 10px;\n",
       "\t}\n",
       "\n",
       "div.hypothesis {\n",
       "\tbackground-color: #ffcccc;\n",
       "\tpadding: 10px;\n",
       "\t}\n",
       "\n",
       "div.hypothesisConclusion {\n",
       "\tbackground-color: #cfc; \n",
       "\tpadding: 10px;\n",
       "\t}\n",
       "\n",
       "</style>\n"
      ],
      "text/plain": [
       "<IPython.core.display.HTML object>"
      ]
     },
     "execution_count": 3,
     "metadata": {},
     "output_type": "execute_result"
    }
   ],
   "source": [
    "from IPython.core.display import HTML\n",
    "def css_styling():\n",
    "    styles = open(\"/home/gabriela/Data Science/bootcamp-alura/styles/custom.css\", \"r\").read()\n",
    "    return HTML(styles)\n",
    "css_styling()"
   ]
  },
  {
   "cell_type": "markdown",
   "metadata": {},
   "source": [
    "<div class=introduction>\n",
    "Testing\n",
    "</div>"
   ]
  },
  {
   "cell_type": "code",
   "execution_count": null,
   "metadata": {},
   "outputs": [],
   "source": []
  }
 ],
 "metadata": {
  "kernelspec": {
   "display_name": "Python 3",
   "language": "python",
   "name": "python3"
  },
  "language_info": {
   "codemirror_mode": {
    "name": "ipython",
    "version": 3
   },
   "file_extension": ".py",
   "mimetype": "text/x-python",
   "name": "python",
   "nbconvert_exporter": "python",
   "pygments_lexer": "ipython3",
   "version": "3.6.9"
  }
 },
 "nbformat": 4,
 "nbformat_minor": 2
}
