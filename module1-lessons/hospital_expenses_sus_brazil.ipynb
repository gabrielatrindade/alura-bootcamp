{
 "cells": [
  {
   "cell_type": "markdown",
   "metadata": {},
   "source": [
    "<h1 style=\"font-size:260%;\"><center>Exploration of data DATASUS hospital expenses from 2008/Jan until 2020/Aug.</center></h1>"
   ]
  },
  {
   "cell_type": "markdown",
   "metadata": {},
   "source": [
    "# Aula 01: Aquisição e leitura de dados reais\n",
    "\n",
    "---"
   ]
  },
  {
   "cell_type": "markdown",
   "metadata": {},
   "source": [
    "## 01. Importing Libraries"
   ]
  },
  {
   "cell_type": "code",
   "execution_count": 29,
   "metadata": {},
   "outputs": [],
   "source": [
    "import pandas as pd\n",
    "import matplotlib.pyplot as plt\n",
    "import matplotlib.ticker as ticker"
   ]
  },
  {
   "cell_type": "markdown",
   "metadata": {},
   "source": [
    "## 02. Getting the dataset"
   ]
  },
  {
   "cell_type": "code",
   "execution_count": 30,
   "metadata": {},
   "outputs": [],
   "source": [
    "url = 'https://raw.githubusercontent.com/alura-cursos/agendamento-hospitalar/main/dados/A151346189_28_143_208.csv'\n",
    "\n",
    "datasus_expenses = pd.read_csv(url, encoding='ISO-8859-1',\n",
    "                               skiprows=3, sep=';', skipfooter=12,\n",
    "                               engine='python')\n",
    "# engine ='python' avoid warning message."
   ]
  },
  {
   "cell_type": "code",
   "execution_count": 31,
   "metadata": {},
   "outputs": [
    {
     "data": {
      "text/html": [
       "<div>\n",
       "<style scoped>\n",
       "    .dataframe tbody tr th:only-of-type {\n",
       "        vertical-align: middle;\n",
       "    }\n",
       "\n",
       "    .dataframe tbody tr th {\n",
       "        vertical-align: top;\n",
       "    }\n",
       "\n",
       "    .dataframe thead th {\n",
       "        text-align: right;\n",
       "    }\n",
       "</style>\n",
       "<table border=\"1\" class=\"dataframe\">\n",
       "  <thead>\n",
       "    <tr style=\"text-align: right;\">\n",
       "      <th></th>\n",
       "      <th>Unidade da Federação</th>\n",
       "      <th>2008/Jan</th>\n",
       "      <th>2008/Fev</th>\n",
       "      <th>2008/Mar</th>\n",
       "      <th>2008/Abr</th>\n",
       "      <th>2008/Mai</th>\n",
       "      <th>2008/Jun</th>\n",
       "      <th>2008/Jul</th>\n",
       "      <th>2008/Ago</th>\n",
       "      <th>2008/Set</th>\n",
       "      <th>...</th>\n",
       "      <th>2019/Dez</th>\n",
       "      <th>2020/Jan</th>\n",
       "      <th>2020/Fev</th>\n",
       "      <th>2020/Mar</th>\n",
       "      <th>2020/Abr</th>\n",
       "      <th>2020/Mai</th>\n",
       "      <th>2020/Jun</th>\n",
       "      <th>2020/Jul</th>\n",
       "      <th>2020/Ago</th>\n",
       "      <th>Total</th>\n",
       "    </tr>\n",
       "  </thead>\n",
       "  <tbody>\n",
       "    <tr>\n",
       "      <th>22</th>\n",
       "      <td>43 Rio Grande do Sul</td>\n",
       "      <td>30931325,46</td>\n",
       "      <td>57363420,01</td>\n",
       "      <td>51547794,07</td>\n",
       "      <td>56673338,49</td>\n",
       "      <td>48397733,07</td>\n",
       "      <td>52413429,62</td>\n",
       "      <td>56636376,98</td>\n",
       "      <td>56113054,70</td>\n",
       "      <td>55356224,30</td>\n",
       "      <td>...</td>\n",
       "      <td>90775418,13</td>\n",
       "      <td>94908336,74</td>\n",
       "      <td>91437940,91</td>\n",
       "      <td>102876132,83</td>\n",
       "      <td>83000318,02</td>\n",
       "      <td>82381774,95</td>\n",
       "      <td>86051002,13</td>\n",
       "      <td>100531035,83</td>\n",
       "      <td>101374341,51</td>\n",
       "      <td>11958647088,33</td>\n",
       "    </tr>\n",
       "    <tr>\n",
       "      <th>23</th>\n",
       "      <td>50 Mato Grosso do Sul</td>\n",
       "      <td>5377392,11</td>\n",
       "      <td>7002472,61</td>\n",
       "      <td>8423933,19</td>\n",
       "      <td>8797487,68</td>\n",
       "      <td>9770421,80</td>\n",
       "      <td>10905392,18</td>\n",
       "      <td>10249299,82</td>\n",
       "      <td>9671553,45</td>\n",
       "      <td>10218511,05</td>\n",
       "      <td>...</td>\n",
       "      <td>17895244,76</td>\n",
       "      <td>18115134,64</td>\n",
       "      <td>19542439,88</td>\n",
       "      <td>19032785,73</td>\n",
       "      <td>17410262,53</td>\n",
       "      <td>17913161,92</td>\n",
       "      <td>17331445,92</td>\n",
       "      <td>18755557,92</td>\n",
       "      <td>19241624,02</td>\n",
       "      <td>2172157981,36</td>\n",
       "    </tr>\n",
       "    <tr>\n",
       "      <th>24</th>\n",
       "      <td>51 Mato Grosso</td>\n",
       "      <td>4795299,01</td>\n",
       "      <td>8684882,23</td>\n",
       "      <td>7886243,14</td>\n",
       "      <td>8794109,79</td>\n",
       "      <td>9231645,40</td>\n",
       "      <td>10221763,77</td>\n",
       "      <td>9163314,28</td>\n",
       "      <td>9243148,81</td>\n",
       "      <td>9052354,89</td>\n",
       "      <td>...</td>\n",
       "      <td>15029205,51</td>\n",
       "      <td>15249241,20</td>\n",
       "      <td>15046851,63</td>\n",
       "      <td>14886817,29</td>\n",
       "      <td>12546999,04</td>\n",
       "      <td>13604225,34</td>\n",
       "      <td>13151005,63</td>\n",
       "      <td>16371639,49</td>\n",
       "      <td>17790649,87</td>\n",
       "      <td>2036923784,59</td>\n",
       "    </tr>\n",
       "    <tr>\n",
       "      <th>25</th>\n",
       "      <td>52 Goiás</td>\n",
       "      <td>15310637,29</td>\n",
       "      <td>22258668,68</td>\n",
       "      <td>21442515,75</td>\n",
       "      <td>20921212,45</td>\n",
       "      <td>21615970,67</td>\n",
       "      <td>18270043,87</td>\n",
       "      <td>20540517,13</td>\n",
       "      <td>20650730,67</td>\n",
       "      <td>20868443,56</td>\n",
       "      <td>...</td>\n",
       "      <td>34873099,14</td>\n",
       "      <td>35775375,69</td>\n",
       "      <td>35005746,36</td>\n",
       "      <td>34793993,14</td>\n",
       "      <td>30896577,34</td>\n",
       "      <td>34305180,56</td>\n",
       "      <td>35701473,15</td>\n",
       "      <td>39405050,36</td>\n",
       "      <td>43984702,05</td>\n",
       "      <td>4657350310,70</td>\n",
       "    </tr>\n",
       "    <tr>\n",
       "      <th>26</th>\n",
       "      <td>53 Distrito Federal</td>\n",
       "      <td>4745919,19</td>\n",
       "      <td>7632480,67</td>\n",
       "      <td>9647203,26</td>\n",
       "      <td>11098732,99</td>\n",
       "      <td>12891719,72</td>\n",
       "      <td>12850125,67</td>\n",
       "      <td>12565646,74</td>\n",
       "      <td>13710857,89</td>\n",
       "      <td>13165106,20</td>\n",
       "      <td>...</td>\n",
       "      <td>18769437,77</td>\n",
       "      <td>22341629,09</td>\n",
       "      <td>20643441,06</td>\n",
       "      <td>22947163,99</td>\n",
       "      <td>21536505,16</td>\n",
       "      <td>19058243,91</td>\n",
       "      <td>22704335,27</td>\n",
       "      <td>25269773,34</td>\n",
       "      <td>26526196,39</td>\n",
       "      <td>2429933198,76</td>\n",
       "    </tr>\n",
       "  </tbody>\n",
       "</table>\n",
       "<p>5 rows × 154 columns</p>\n",
       "</div>"
      ],
      "text/plain": [
       "     Unidade da Federação     2008/Jan     2008/Fev     2008/Mar     2008/Abr  \\\n",
       "22   43 Rio Grande do Sul  30931325,46  57363420,01  51547794,07  56673338,49   \n",
       "23  50 Mato Grosso do Sul   5377392,11   7002472,61   8423933,19   8797487,68   \n",
       "24         51 Mato Grosso   4795299,01   8684882,23   7886243,14   8794109,79   \n",
       "25               52 Goiás  15310637,29  22258668,68  21442515,75  20921212,45   \n",
       "26    53 Distrito Federal   4745919,19   7632480,67   9647203,26  11098732,99   \n",
       "\n",
       "       2008/Mai     2008/Jun     2008/Jul     2008/Ago     2008/Set  ...  \\\n",
       "22  48397733,07  52413429,62  56636376,98  56113054,70  55356224,30  ...   \n",
       "23   9770421,80  10905392,18  10249299,82   9671553,45  10218511,05  ...   \n",
       "24   9231645,40  10221763,77   9163314,28   9243148,81   9052354,89  ...   \n",
       "25  21615970,67  18270043,87  20540517,13  20650730,67  20868443,56  ...   \n",
       "26  12891719,72  12850125,67  12565646,74  13710857,89  13165106,20  ...   \n",
       "\n",
       "       2019/Dez     2020/Jan     2020/Fev      2020/Mar     2020/Abr  \\\n",
       "22  90775418,13  94908336,74  91437940,91  102876132,83  83000318,02   \n",
       "23  17895244,76  18115134,64  19542439,88   19032785,73  17410262,53   \n",
       "24  15029205,51  15249241,20  15046851,63   14886817,29  12546999,04   \n",
       "25  34873099,14  35775375,69  35005746,36   34793993,14  30896577,34   \n",
       "26  18769437,77  22341629,09  20643441,06   22947163,99  21536505,16   \n",
       "\n",
       "       2020/Mai     2020/Jun      2020/Jul      2020/Ago           Total  \n",
       "22  82381774,95  86051002,13  100531035,83  101374341,51  11958647088,33  \n",
       "23  17913161,92  17331445,92   18755557,92   19241624,02   2172157981,36  \n",
       "24  13604225,34  13151005,63   16371639,49   17790649,87   2036923784,59  \n",
       "25  34305180,56  35701473,15   39405050,36   43984702,05   4657350310,70  \n",
       "26  19058243,91  22704335,27   25269773,34   26526196,39   2429933198,76  \n",
       "\n",
       "[5 rows x 154 columns]"
      ]
     },
     "execution_count": 31,
     "metadata": {},
     "output_type": "execute_result"
    }
   ],
   "source": [
    "datasus_expenses.tail()"
   ]
  },
  {
   "cell_type": "code",
   "execution_count": 32,
   "metadata": {},
   "outputs": [
    {
     "data": {
      "text/plain": [
       "Series([], dtype: float64)"
      ]
     },
     "execution_count": 32,
     "metadata": {},
     "output_type": "execute_result"
    }
   ],
   "source": [
    "datasus_expenses.mean()"
   ]
  },
  {
   "cell_type": "code",
   "execution_count": 33,
   "metadata": {},
   "outputs": [
    {
     "name": "stdout",
     "output_type": "stream",
     "text": [
      "<class 'pandas.core.frame.DataFrame'>\n",
      "RangeIndex: 27 entries, 0 to 26\n",
      "Columns: 154 entries, Unidade da Federação to Total\n",
      "dtypes: object(154)\n",
      "memory usage: 32.6+ KB\n"
     ]
    }
   ],
   "source": [
    "datasus_expenses.info()"
   ]
  },
  {
   "cell_type": "markdown",
   "metadata": {},
   "source": [
    "- The data type in each column is an object (not float!). That's why `datasus_expenses.mean()` does not work.\n",
    "\n",
    "<code style=\"background:yellow;color:black\">I can correct it with the parameters `thousands` and `decimal` in `read_csv` method.</code>"
   ]
  },
  {
   "cell_type": "code",
   "execution_count": 34,
   "metadata": {},
   "outputs": [
    {
     "data": {
      "text/html": [
       "<div>\n",
       "<style scoped>\n",
       "    .dataframe tbody tr th:only-of-type {\n",
       "        vertical-align: middle;\n",
       "    }\n",
       "\n",
       "    .dataframe tbody tr th {\n",
       "        vertical-align: top;\n",
       "    }\n",
       "\n",
       "    .dataframe thead th {\n",
       "        text-align: right;\n",
       "    }\n",
       "</style>\n",
       "<table border=\"1\" class=\"dataframe\">\n",
       "  <thead>\n",
       "    <tr style=\"text-align: right;\">\n",
       "      <th></th>\n",
       "      <th>Unidade da Federação</th>\n",
       "      <th>2008/Jan</th>\n",
       "      <th>2008/Fev</th>\n",
       "      <th>2008/Mar</th>\n",
       "      <th>2008/Abr</th>\n",
       "      <th>2008/Mai</th>\n",
       "      <th>2008/Jun</th>\n",
       "      <th>2008/Jul</th>\n",
       "      <th>2008/Ago</th>\n",
       "      <th>2008/Set</th>\n",
       "      <th>...</th>\n",
       "      <th>2019/Dez</th>\n",
       "      <th>2020/Jan</th>\n",
       "      <th>2020/Fev</th>\n",
       "      <th>2020/Mar</th>\n",
       "      <th>2020/Abr</th>\n",
       "      <th>2020/Mai</th>\n",
       "      <th>2020/Jun</th>\n",
       "      <th>2020/Jul</th>\n",
       "      <th>2020/Ago</th>\n",
       "      <th>Total</th>\n",
       "    </tr>\n",
       "  </thead>\n",
       "  <tbody>\n",
       "    <tr>\n",
       "      <th>22</th>\n",
       "      <td>43 Rio Grande do Sul</td>\n",
       "      <td>30931325.46</td>\n",
       "      <td>57363420.01</td>\n",
       "      <td>51547794.07</td>\n",
       "      <td>56673338.49</td>\n",
       "      <td>48397733.07</td>\n",
       "      <td>52413429.62</td>\n",
       "      <td>56636376.98</td>\n",
       "      <td>56113054.70</td>\n",
       "      <td>55356224.30</td>\n",
       "      <td>...</td>\n",
       "      <td>90775418.13</td>\n",
       "      <td>94908336.74</td>\n",
       "      <td>91437940.91</td>\n",
       "      <td>102876132.83</td>\n",
       "      <td>83000318.02</td>\n",
       "      <td>82381774.95</td>\n",
       "      <td>86051002.13</td>\n",
       "      <td>100531035.83</td>\n",
       "      <td>101374341.51</td>\n",
       "      <td>11958647088.33</td>\n",
       "    </tr>\n",
       "    <tr>\n",
       "      <th>23</th>\n",
       "      <td>50 Mato Grosso do Sul</td>\n",
       "      <td>5377392.11</td>\n",
       "      <td>7002472.61</td>\n",
       "      <td>8423933.19</td>\n",
       "      <td>8797487.68</td>\n",
       "      <td>9770421.80</td>\n",
       "      <td>10905392.18</td>\n",
       "      <td>10249299.82</td>\n",
       "      <td>9671553.45</td>\n",
       "      <td>10218511.05</td>\n",
       "      <td>...</td>\n",
       "      <td>17895244.76</td>\n",
       "      <td>18115134.64</td>\n",
       "      <td>19542439.88</td>\n",
       "      <td>19032785.73</td>\n",
       "      <td>17410262.53</td>\n",
       "      <td>17913161.92</td>\n",
       "      <td>17331445.92</td>\n",
       "      <td>18755557.92</td>\n",
       "      <td>19241624.02</td>\n",
       "      <td>2172157981.36</td>\n",
       "    </tr>\n",
       "    <tr>\n",
       "      <th>24</th>\n",
       "      <td>51 Mato Grosso</td>\n",
       "      <td>4795299.01</td>\n",
       "      <td>8684882.23</td>\n",
       "      <td>7886243.14</td>\n",
       "      <td>8794109.79</td>\n",
       "      <td>9231645.40</td>\n",
       "      <td>10221763.77</td>\n",
       "      <td>9163314.28</td>\n",
       "      <td>9243148.81</td>\n",
       "      <td>9052354.89</td>\n",
       "      <td>...</td>\n",
       "      <td>15029205.51</td>\n",
       "      <td>15249241.20</td>\n",
       "      <td>15046851.63</td>\n",
       "      <td>14886817.29</td>\n",
       "      <td>12546999.04</td>\n",
       "      <td>13604225.34</td>\n",
       "      <td>13151005.63</td>\n",
       "      <td>16371639.49</td>\n",
       "      <td>17790649.87</td>\n",
       "      <td>2036923784.59</td>\n",
       "    </tr>\n",
       "    <tr>\n",
       "      <th>25</th>\n",
       "      <td>52 Goiás</td>\n",
       "      <td>15310637.29</td>\n",
       "      <td>22258668.68</td>\n",
       "      <td>21442515.75</td>\n",
       "      <td>20921212.45</td>\n",
       "      <td>21615970.67</td>\n",
       "      <td>18270043.87</td>\n",
       "      <td>20540517.13</td>\n",
       "      <td>20650730.67</td>\n",
       "      <td>20868443.56</td>\n",
       "      <td>...</td>\n",
       "      <td>34873099.14</td>\n",
       "      <td>35775375.69</td>\n",
       "      <td>35005746.36</td>\n",
       "      <td>34793993.14</td>\n",
       "      <td>30896577.34</td>\n",
       "      <td>34305180.56</td>\n",
       "      <td>35701473.15</td>\n",
       "      <td>39405050.36</td>\n",
       "      <td>43984702.05</td>\n",
       "      <td>4657350310.70</td>\n",
       "    </tr>\n",
       "    <tr>\n",
       "      <th>26</th>\n",
       "      <td>53 Distrito Federal</td>\n",
       "      <td>4745919.19</td>\n",
       "      <td>7632480.67</td>\n",
       "      <td>9647203.26</td>\n",
       "      <td>11098732.99</td>\n",
       "      <td>12891719.72</td>\n",
       "      <td>12850125.67</td>\n",
       "      <td>12565646.74</td>\n",
       "      <td>13710857.89</td>\n",
       "      <td>13165106.20</td>\n",
       "      <td>...</td>\n",
       "      <td>18769437.77</td>\n",
       "      <td>22341629.09</td>\n",
       "      <td>20643441.06</td>\n",
       "      <td>22947163.99</td>\n",
       "      <td>21536505.16</td>\n",
       "      <td>19058243.91</td>\n",
       "      <td>22704335.27</td>\n",
       "      <td>25269773.34</td>\n",
       "      <td>26526196.39</td>\n",
       "      <td>2429933198.76</td>\n",
       "    </tr>\n",
       "  </tbody>\n",
       "</table>\n",
       "<p>5 rows × 154 columns</p>\n",
       "</div>"
      ],
      "text/plain": [
       "     Unidade da Federação    2008/Jan    2008/Fev    2008/Mar    2008/Abr  \\\n",
       "22   43 Rio Grande do Sul 30931325.46 57363420.01 51547794.07 56673338.49   \n",
       "23  50 Mato Grosso do Sul  5377392.11  7002472.61  8423933.19  8797487.68   \n",
       "24         51 Mato Grosso  4795299.01  8684882.23  7886243.14  8794109.79   \n",
       "25               52 Goiás 15310637.29 22258668.68 21442515.75 20921212.45   \n",
       "26    53 Distrito Federal  4745919.19  7632480.67  9647203.26 11098732.99   \n",
       "\n",
       "      2008/Mai    2008/Jun    2008/Jul    2008/Ago    2008/Set  ...  \\\n",
       "22 48397733.07 52413429.62 56636376.98 56113054.70 55356224.30  ...   \n",
       "23  9770421.80 10905392.18 10249299.82  9671553.45 10218511.05  ...   \n",
       "24  9231645.40 10221763.77  9163314.28  9243148.81  9052354.89  ...   \n",
       "25 21615970.67 18270043.87 20540517.13 20650730.67 20868443.56  ...   \n",
       "26 12891719.72 12850125.67 12565646.74 13710857.89 13165106.20  ...   \n",
       "\n",
       "      2019/Dez    2020/Jan    2020/Fev     2020/Mar    2020/Abr    2020/Mai  \\\n",
       "22 90775418.13 94908336.74 91437940.91 102876132.83 83000318.02 82381774.95   \n",
       "23 17895244.76 18115134.64 19542439.88  19032785.73 17410262.53 17913161.92   \n",
       "24 15029205.51 15249241.20 15046851.63  14886817.29 12546999.04 13604225.34   \n",
       "25 34873099.14 35775375.69 35005746.36  34793993.14 30896577.34 34305180.56   \n",
       "26 18769437.77 22341629.09 20643441.06  22947163.99 21536505.16 19058243.91   \n",
       "\n",
       "      2020/Jun     2020/Jul      2020/Ago          Total  \n",
       "22 86051002.13 100531035.83  101374341.51 11958647088.33  \n",
       "23 17331445.92  18755557.92   19241624.02  2172157981.36  \n",
       "24 13151005.63  16371639.49   17790649.87  2036923784.59  \n",
       "25 35701473.15  39405050.36   43984702.05  4657350310.70  \n",
       "26 22704335.27  25269773.34   26526196.39  2429933198.76  \n",
       "\n",
       "[5 rows x 154 columns]"
      ]
     },
     "execution_count": 34,
     "metadata": {},
     "output_type": "execute_result"
    }
   ],
   "source": [
    "datasus_expenses = pd.read_csv(url, encoding='ISO-8859-1',\n",
    "                               skiprows=3, sep=';', skipfooter=12,\n",
    "                               engine='python', thousands='.',\n",
    "                               decimal=',')\n",
    "\n",
    "datasus_expenses.tail()"
   ]
  },
  {
   "cell_type": "code",
   "execution_count": 35,
   "metadata": {},
   "outputs": [
    {
     "data": {
      "text/plain": [
       "2008/Jan     15126846.64\n",
       "2008/Fev     22710158.12\n",
       "2008/Mar     24594187.35\n",
       "2008/Abr     25431957.83\n",
       "2008/Mai     26511245.91\n",
       "                ...     \n",
       "2020/Abr     41013660.39\n",
       "2020/Mai     44193633.75\n",
       "2020/Jun     47329994.46\n",
       "2020/Jul     54495511.57\n",
       "Total      5993731798.30\n",
       "Length: 151, dtype: float64"
      ]
     },
     "execution_count": 35,
     "metadata": {},
     "output_type": "execute_result"
    }
   ],
   "source": [
    "datasus_expenses.mean()"
   ]
  },
  {
   "cell_type": "code",
   "execution_count": 36,
   "metadata": {},
   "outputs": [
    {
     "name": "stdout",
     "output_type": "stream",
     "text": [
      "<class 'pandas.core.frame.DataFrame'>\n",
      "RangeIndex: 27 entries, 0 to 26\n",
      "Columns: 154 entries, Unidade da Federação to Total\n",
      "dtypes: float64(151), object(3)\n",
      "memory usage: 32.6+ KB\n"
     ]
    }
   ],
   "source": [
    "datasus_expenses.info()"
   ]
  },
  {
   "cell_type": "markdown",
   "metadata": {},
   "source": [
    "<code style=\"background:yellow;color:black\">Correcting the way to display high numeric values.</code>"
   ]
  },
  {
   "cell_type": "code",
   "execution_count": 37,
   "metadata": {},
   "outputs": [],
   "source": [
    "pd.options.display.float_format = '{:.2f}'.format"
   ]
  },
  {
   "cell_type": "code",
   "execution_count": 38,
   "metadata": {},
   "outputs": [
    {
     "data": {
      "text/plain": [
       "2008/Jan     15126846.64\n",
       "2008/Fev     22710158.12\n",
       "2008/Mar     24594187.35\n",
       "2008/Abr     25431957.83\n",
       "2008/Mai     26511245.91\n",
       "                ...     \n",
       "2020/Abr     41013660.39\n",
       "2020/Mai     44193633.75\n",
       "2020/Jun     47329994.46\n",
       "2020/Jul     54495511.57\n",
       "Total      5993731798.30\n",
       "Length: 151, dtype: float64"
      ]
     },
     "execution_count": 38,
     "metadata": {},
     "output_type": "execute_result"
    }
   ],
   "source": [
    "datasus_expenses.mean()"
   ]
  },
  {
   "cell_type": "code",
   "execution_count": 39,
   "metadata": {},
   "outputs": [
    {
     "data": {
      "text/plain": [
       "0     1388528.39\n",
       "1      902416.00\n",
       "2     4735529.42\n",
       "3      657889.53\n",
       "4    18864744.11\n",
       "5     1120973.34\n",
       "6     3441592.69\n",
       "7    10723506.39\n",
       "8     7985142.43\n",
       "9    15539821.90\n",
       "10    5947814.08\n",
       "11   10723002.45\n",
       "12   14393949.89\n",
       "13    6243726.32\n",
       "14    2780750.11\n",
       "15   21211522.47\n",
       "16   45671659.76\n",
       "17    5456723.98\n",
       "18   23025258.52\n",
       "19   91678473.48\n",
       "20   38266347.46\n",
       "21   16504913.45\n",
       "22   30931325.46\n",
       "23    5377392.11\n",
       "24    4795299.01\n",
       "25   15310637.29\n",
       "26    4745919.19\n",
       "Name: 2008/Jan, dtype: float64"
      ]
     },
     "execution_count": 39,
     "metadata": {},
     "output_type": "execute_result"
    }
   ],
   "source": [
    "datasus_expenses['2008/Jan']"
   ]
  },
  {
   "cell_type": "code",
   "execution_count": 40,
   "metadata": {},
   "outputs": [
    {
     "data": {
      "text/plain": [
       "27800320.306666665"
      ]
     },
     "execution_count": 40,
     "metadata": {},
     "output_type": "execute_result"
    }
   ],
   "source": [
    "datasus_expenses['2008/Ago'].mean()"
   ]
  },
  {
   "cell_type": "code",
   "execution_count": 41,
   "metadata": {},
   "outputs": [
    {
     "data": {
      "text/plain": [
       "<matplotlib.axes._subplots.AxesSubplot at 0x7fb2982be358>"
      ]
     },
     "execution_count": 41,
     "metadata": {},
     "output_type": "execute_result"
    },
    {
     "data": {
      "image/png": "[encoded data removed]",
      "text/plain": [
       "<Figure size 432x288 with 1 Axes>"
      ]
     },
     "metadata": {
      "needs_background": "light"
     },
     "output_type": "display_data"
    }
   ],
   "source": [
    "datasus_expenses.plot(x='Unidade da Federação',\n",
    "                      y='2008/Ago')"
   ]
  },
  {
   "cell_type": "markdown",
   "metadata": {},
   "source": [
    "- This graph is about the expenses in 2008/Ago for each State.\n",
    "- This graph does not make sense because the line is continuous, however there is no continuous idea between the States."
   ]
  },
  {
   "cell_type": "code",
   "execution_count": 42,
   "metadata": {},
   "outputs": [
    {
     "data": {
      "image/png": "[encoded data removed]",
      "text/plain": [
       "<Figure size 720x432 with 1 Axes>"
      ]
     },
     "metadata": {
      "needs_background": "light"
     },
     "output_type": "display_data"
    }
   ],
   "source": [
    "datasus_expenses.plot(kind='bar',\n",
    "                      x='Unidade da Federação',\n",
    "                      y='2008/Ago',\n",
    "                      figsize=(10,6))\n",
    "\n",
    "plt.show()"
   ]
  },
  {
   "cell_type": "markdown",
   "metadata": {},
   "source": [
    "- Let's modify some more aspects to make this graph better."
   ]
  },
  {
   "cell_type": "code",
   "execution_count": 43,
   "metadata": {},
   "outputs": [
    {
     "data": {
      "image/png": "[encoded data removed]",
      "text/plain": [
       "<Figure size 720x432 with 1 Axes>"
      ]
     },
     "metadata": {
      "needs_background": "light"
     },
     "output_type": "display_data"
    }
   ],
   "source": [
    "ax = datasus_expenses.plot(kind='bar',\n",
    "                             x='Unidade da Federação',\n",
    "                             y='2008/Ago',\n",
    "                             figsize=(10,6))\n",
    "\n",
    "ax.yaxis.set_major_formatter(ticker.FormatStrFormatter('%d'))\n",
    "plt.title(\"State Hostipal Expenses\", fontdict = {'fontsize' : 16})\n",
    "plt.show()"
   ]
  },
  {
   "cell_type": "markdown",
   "metadata": {},
   "source": [
    "- It's not easy to read the numbers in the graph above."
   ]
  },
  {
   "cell_type": "code",
   "execution_count": 44,
   "metadata": {},
   "outputs": [
    {
     "data": {
      "image/png": "[encoded data removed]",
      "text/plain": [
       "<Figure size 720x432 with 1 Axes>"
      ]
     },
     "metadata": {
      "needs_background": "light"
     },
     "output_type": "display_data"
    }
   ],
   "source": [
    "ax = datasus_expenses.plot(kind='bar',\n",
    "                           x='Unidade da Federação',\n",
    "                           y='2008/Ago',\n",
    "                           figsize=(10,6))\n",
    "\n",
    "ax.yaxis.set_major_formatter(ticker.StrMethodFormatter('{x:,.2f}'))\n",
    "plt.xlabel('States')\n",
    "plt.title(\"State Hostipal Expenses\", fontdict = {'fontsize' : 16})\n",
    "plt.show()"
   ]
  },
  {
   "cell_type": "markdown",
   "metadata": {},
   "source": [
    "- It's easier to read the number by separating decimal places. "
   ]
  },
  {
   "cell_type": "markdown",
   "metadata": {},
   "source": [
    "### Challenge 1 and 2: Change Title and Plot the same graph for the most recent month.\n",
    "\n",
    "Before doing the second challenge, I need to fill the '-' with 0 values (as the document on DATASUS sugests). <br>\n",
    "After that, I need to convert all the columns with expenses to data type float. I noticed that the last data type of column is object."
   ]
  },
  {
   "cell_type": "code",
   "execution_count": 45,
   "metadata": {},
   "outputs": [
    {
     "data": {
      "text/plain": [
       "dtype('O')"
      ]
     },
     "execution_count": 45,
     "metadata": {},
     "output_type": "execute_result"
    }
   ],
   "source": [
    "datasus_expenses.iloc[0:,-2].dtype"
   ]
  },
  {
   "cell_type": "code",
   "execution_count": 46,
   "metadata": {},
   "outputs": [],
   "source": [
    "datasus_expenses.iloc[0:,1:] = datasus_expenses \\\n",
    "                                    .iloc[0:,1:] \\\n",
    "                                    .replace('-',0) \\\n",
    "                                    .astype(float)\n",
    "\n",
    "#datasus_expenses.head()"
   ]
  },
  {
   "cell_type": "code",
   "execution_count": 92,
   "metadata": {
    "scrolled": false
   },
   "outputs": [
    {
     "data": {
      "image/png": "[encoded data removed]",
      "text/plain": [
       "<Figure size 720x432 with 1 Axes>"
      ]
     },
     "metadata": {
      "needs_background": "light"
     },
     "output_type": "display_data"
    }
   ],
   "source": [
    "recent_month = datasus_expenses.columns[-2]\n",
    "\n",
    "ax = datasus_expenses.sort_values(recent_month, ascending=False) \\\n",
    "                     .plot(kind='bar',\n",
    "                           x='Unidade da Federação',\n",
    "                           y=recent_month,\n",
    "                           figsize=(10,6))\n",
    "\n",
    "ax.yaxis.set_major_formatter(ticker.StrMethodFormatter('{x:,.2f}'))\n",
    "plt.xlabel('States')\n",
    "plt.title(\"State Hostipal Expenses\", fontdict = {'fontsize' : 16})\n",
    "plt.show()"
   ]
  },
  {
   "cell_type": "code",
   "execution_count": null,
   "metadata": {},
   "outputs": [],
   "source": []
  },
  {
   "cell_type": "markdown",
   "metadata": {},
   "source": [
    "# Aula 02: Primeiras Visualizações de Dados\n",
    "\n",
    "---\n",
    "\n",
    "[EXPLAIN THE DIFFERENCE BETWEEN THE DATASETS]"
   ]
  },
  {
   "cell_type": "code",
   "execution_count": 27,
   "metadata": {},
   "outputs": [],
   "source": [
    "url_2 = 'https://raw.githubusercontent.com/alura-cursos/agendamento-hospitalar/main/dados/A160324189_28_143_208.csv'\n",
    "\n",
    "datasus_expenses_2 = pd.read_csv(url_2, encoding='ISO-8859-1',\n",
    "                                 skiprows=3, sep=';', skipfooter=12,\n",
    "                                 engine='python')"
   ]
  },
  {
   "cell_type": "code",
   "execution_count": 28,
   "metadata": {},
   "outputs": [
    {
     "data": {
      "text/html": [
       "<div>\n",
       "<style scoped>\n",
       "    .dataframe tbody tr th:only-of-type {\n",
       "        vertical-align: middle;\n",
       "    }\n",
       "\n",
       "    .dataframe tbody tr th {\n",
       "        vertical-align: top;\n",
       "    }\n",
       "\n",
       "    .dataframe thead th {\n",
       "        text-align: right;\n",
       "    }\n",
       "</style>\n",
       "<table border=\"1\" class=\"dataframe\">\n",
       "  <thead>\n",
       "    <tr style=\"text-align: right;\">\n",
       "      <th></th>\n",
       "      <th>Unidade da Federação</th>\n",
       "      <th>1992/Mar</th>\n",
       "      <th>1992/Abr</th>\n",
       "      <th>1993/Mai</th>\n",
       "      <th>1993/Dez</th>\n",
       "      <th>1994/Jan</th>\n",
       "      <th>1994/Fev</th>\n",
       "      <th>1994/Mai</th>\n",
       "      <th>1994/Ago</th>\n",
       "      <th>1994/Nov</th>\n",
       "      <th>...</th>\n",
       "      <th>2019/Dez</th>\n",
       "      <th>2020/Jan</th>\n",
       "      <th>2020/Fev</th>\n",
       "      <th>2020/Mar</th>\n",
       "      <th>2020/Abr</th>\n",
       "      <th>2020/Mai</th>\n",
       "      <th>2020/Jun</th>\n",
       "      <th>2020/Jul</th>\n",
       "      <th>2020/Ago</th>\n",
       "      <th>Total</th>\n",
       "    </tr>\n",
       "  </thead>\n",
       "  <tbody>\n",
       "    <tr>\n",
       "      <th>22</th>\n",
       "      <td>43 Rio Grande do Sul</td>\n",
       "      <td>-</td>\n",
       "      <td>-</td>\n",
       "      <td>-</td>\n",
       "      <td>-</td>\n",
       "      <td>-</td>\n",
       "      <td>-</td>\n",
       "      <td>-</td>\n",
       "      <td>-</td>\n",
       "      <td>-</td>\n",
       "      <td>...</td>\n",
       "      <td>88720873,59</td>\n",
       "      <td>97474362,62</td>\n",
       "      <td>85451646,35</td>\n",
       "      <td>84651396,59</td>\n",
       "      <td>76294596,96</td>\n",
       "      <td>86076113,42</td>\n",
       "      <td>89019478,82</td>\n",
       "      <td>78929703,81</td>\n",
       "      <td>28349257,38</td>\n",
       "      <td>11958647088,33</td>\n",
       "    </tr>\n",
       "    <tr>\n",
       "      <th>23</th>\n",
       "      <td>50 Mato Grosso do Sul</td>\n",
       "      <td>-</td>\n",
       "      <td>-</td>\n",
       "      <td>-</td>\n",
       "      <td>-</td>\n",
       "      <td>-</td>\n",
       "      <td>-</td>\n",
       "      <td>-</td>\n",
       "      <td>-</td>\n",
       "      <td>-</td>\n",
       "      <td>...</td>\n",
       "      <td>17844511,04</td>\n",
       "      <td>18653296,92</td>\n",
       "      <td>17769247,00</td>\n",
       "      <td>17357008,80</td>\n",
       "      <td>15652772,51</td>\n",
       "      <td>16703851,10</td>\n",
       "      <td>15838659,34</td>\n",
       "      <td>12508717,35</td>\n",
       "      <td>4059220,22</td>\n",
       "      <td>2172157981,36</td>\n",
       "    </tr>\n",
       "    <tr>\n",
       "      <th>24</th>\n",
       "      <td>51 Mato Grosso</td>\n",
       "      <td>-</td>\n",
       "      <td>-</td>\n",
       "      <td>-</td>\n",
       "      <td>-</td>\n",
       "      <td>-</td>\n",
       "      <td>-</td>\n",
       "      <td>-</td>\n",
       "      <td>-</td>\n",
       "      <td>-</td>\n",
       "      <td>...</td>\n",
       "      <td>13827706,20</td>\n",
       "      <td>15445693,74</td>\n",
       "      <td>14431171,87</td>\n",
       "      <td>14444207,60</td>\n",
       "      <td>11943713,53</td>\n",
       "      <td>13981483,29</td>\n",
       "      <td>14585009,42</td>\n",
       "      <td>13083151,70</td>\n",
       "      <td>6174224,99</td>\n",
       "      <td>2036923784,59</td>\n",
       "    </tr>\n",
       "    <tr>\n",
       "      <th>25</th>\n",
       "      <td>52 Goiás</td>\n",
       "      <td>-</td>\n",
       "      <td>-</td>\n",
       "      <td>-</td>\n",
       "      <td>-</td>\n",
       "      <td>-</td>\n",
       "      <td>-</td>\n",
       "      <td>-</td>\n",
       "      <td>-</td>\n",
       "      <td>-</td>\n",
       "      <td>...</td>\n",
       "      <td>34050298,55</td>\n",
       "      <td>36312121,02</td>\n",
       "      <td>34158023,81</td>\n",
       "      <td>34558308,52</td>\n",
       "      <td>27499307,93</td>\n",
       "      <td>31870107,62</td>\n",
       "      <td>34437633,20</td>\n",
       "      <td>33499284,38</td>\n",
       "      <td>20242641,73</td>\n",
       "      <td>4657348958,66</td>\n",
       "    </tr>\n",
       "    <tr>\n",
       "      <th>26</th>\n",
       "      <td>53 Distrito Federal</td>\n",
       "      <td>-</td>\n",
       "      <td>-</td>\n",
       "      <td>-</td>\n",
       "      <td>-</td>\n",
       "      <td>-</td>\n",
       "      <td>-</td>\n",
       "      <td>-</td>\n",
       "      <td>-</td>\n",
       "      <td>-</td>\n",
       "      <td>...</td>\n",
       "      <td>19207148,01</td>\n",
       "      <td>20429067,27</td>\n",
       "      <td>18219172,96</td>\n",
       "      <td>19405446,88</td>\n",
       "      <td>18123899,78</td>\n",
       "      <td>21437430,22</td>\n",
       "      <td>23479773,03</td>\n",
       "      <td>22233542,26</td>\n",
       "      <td>12044848,02</td>\n",
       "      <td>2429933198,76</td>\n",
       "    </tr>\n",
       "  </tbody>\n",
       "</table>\n",
       "<p>5 rows × 280 columns</p>\n",
       "</div>"
      ],
      "text/plain": [
       "     Unidade da Federação 1992/Mar 1992/Abr 1993/Mai 1993/Dez 1994/Jan  \\\n",
       "22   43 Rio Grande do Sul        -        -        -        -        -   \n",
       "23  50 Mato Grosso do Sul        -        -        -        -        -   \n",
       "24         51 Mato Grosso        -        -        -        -        -   \n",
       "25               52 Goiás        -        -        -        -        -   \n",
       "26    53 Distrito Federal        -        -        -        -        -   \n",
       "\n",
       "   1994/Fev 1994/Mai 1994/Ago 1994/Nov  ...     2019/Dez     2020/Jan  \\\n",
       "22        -        -        -        -  ...  88720873,59  97474362,62   \n",
       "23        -        -        -        -  ...  17844511,04  18653296,92   \n",
       "24        -        -        -        -  ...  13827706,20  15445693,74   \n",
       "25        -        -        -        -  ...  34050298,55  36312121,02   \n",
       "26        -        -        -        -  ...  19207148,01  20429067,27   \n",
       "\n",
       "       2020/Fev     2020/Mar     2020/Abr     2020/Mai     2020/Jun  \\\n",
       "22  85451646,35  84651396,59  76294596,96  86076113,42  89019478,82   \n",
       "23  17769247,00  17357008,80  15652772,51  16703851,10  15838659,34   \n",
       "24  14431171,87  14444207,60  11943713,53  13981483,29  14585009,42   \n",
       "25  34158023,81  34558308,52  27499307,93  31870107,62  34437633,20   \n",
       "26  18219172,96  19405446,88  18123899,78  21437430,22  23479773,03   \n",
       "\n",
       "       2020/Jul     2020/Ago           Total  \n",
       "22  78929703,81  28349257,38  11958647088,33  \n",
       "23  12508717,35   4059220,22   2172157981,36  \n",
       "24  13083151,70   6174224,99   2036923784,59  \n",
       "25  33499284,38  20242641,73   4657348958,66  \n",
       "26  22233542,26  12044848,02   2429933198,76  \n",
       "\n",
       "[5 rows x 280 columns]"
      ]
     },
     "execution_count": 28,
     "metadata": {},
     "output_type": "execute_result"
    }
   ],
   "source": [
    "datasus_expenses_2.tail()"
   ]
  },
  {
   "cell_type": "code",
   "execution_count": null,
   "metadata": {},
   "outputs": [],
   "source": []
  }
 ],
 "metadata": {
  "kernelspec": {
   "display_name": "Python 3",
   "language": "python",
   "name": "python3"
  },
  "language_info": {
   "codemirror_mode": {
    "name": "ipython",
    "version": 3
   },
   "file_extension": ".py",
   "mimetype": "text/x-python",
   "name": "python",
   "nbconvert_exporter": "python",
   "pygments_lexer": "ipython3",
   "version": "3.6.9"
  }
 },
 "nbformat": 4,
 "nbformat_minor": 2
}
