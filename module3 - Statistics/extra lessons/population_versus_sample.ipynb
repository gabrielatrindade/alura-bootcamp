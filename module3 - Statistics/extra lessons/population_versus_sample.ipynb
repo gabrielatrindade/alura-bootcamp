{
 "cells": [
  {
   "cell_type": "code",
   "execution_count": 1,
   "metadata": {},
   "outputs": [],
   "source": [
    "from scipy.stats import norm"
   ]
  },
  {
   "cell_type": "markdown",
   "metadata": {},
   "source": [
    "# Calculating the size that the sample should be\n",
    "\n",
    "Let's assume that we want a maximum error of 0.0001, a 95% confidence level and the population standard deviation is 0.0019."
   ]
  },
  {
   "cell_type": "markdown",
   "metadata": {},
   "source": [
    "\\begin{equation}\n",
    "e = z \\frac{\\sigma}{\\sqrt{n}}\n",
    "\\end{equation}\n",
    "\n",
    "\n",
    "known standard deviation:\n",
    "\\begin{equation}\n",
    "n = \\left( z \\frac{\\sigma}{e} \\right)^2\n",
    "\\end{equation}\n",
    "\n",
    "\n",
    "unknown standard deviation:\n",
    "\\begin{equation}\n",
    "n = \\left( z \\frac{s}{e} \\right)^2\n",
    "\\end{equation}"
   ]
  },
  {
   "cell_type": "code",
   "execution_count": 5,
   "metadata": {},
   "outputs": [
    {
     "data": {
      "text/plain": [
       "0.975"
      ]
     },
     "execution_count": 5,
     "metadata": {},
     "output_type": "execute_result"
    }
   ],
   "source": [
    "#area under the curve\n",
    "\n",
    "0.95 + 0.025"
   ]
  },
  {
   "cell_type": "code",
   "execution_count": 6,
   "metadata": {},
   "outputs": [
    {
     "data": {
      "text/plain": [
       "1.959963984540054"
      ]
     },
     "execution_count": 6,
     "metadata": {},
     "output_type": "execute_result"
    }
   ],
   "source": [
    "# getting z value\n",
    "z = norm.ppf(0.975)\n",
    "\n",
    "z"
   ]
  },
  {
   "cell_type": "code",
   "execution_count": 7,
   "metadata": {},
   "outputs": [],
   "source": [
    "sigma = 0.0019\n",
    "error = 0.0001"
   ]
  },
  {
   "cell_type": "code",
   "execution_count": 8,
   "metadata": {},
   "outputs": [
    {
     "data": {
      "text/plain": [
       "1386.766634270579"
      ]
     },
     "execution_count": 8,
     "metadata": {},
     "output_type": "execute_result"
    }
   ],
   "source": [
    "n = (z * sigma / error)**2\n",
    "\n",
    "n"
   ]
  },
  {
   "cell_type": "markdown",
   "metadata": {},
   "source": [
    "- The sample size should be 1386.766634270579\n",
    "\n",
    "What If my population is less than 1386?"
   ]
  },
  {
   "cell_type": "markdown",
   "metadata": {},
   "source": [
    "## Finite Population\n",
    "\n",
    "\\begin{equation}\n",
    "n = \\frac{z^2 \\sigma^2 N}{z^2 \\sigma^2 + e^2(N-1)}\n",
    "\\end{equation}"
   ]
  },
  {
   "cell_type": "code",
   "execution_count": 10,
   "metadata": {},
   "outputs": [],
   "source": [
    "# N is the maximum number of the population\n",
    "\n",
    "N = 1500"
   ]
  },
  {
   "cell_type": "code",
   "execution_count": 11,
   "metadata": {},
   "outputs": [
    {
     "data": {
      "text/plain": [
       "720.8309662682263"
      ]
     },
     "execution_count": 11,
     "metadata": {},
     "output_type": "execute_result"
    }
   ],
   "source": [
    "((z**2) * (sigma**2) * N) / ((z**2) * (sigma**2) + (error**2) * (N-1))"
   ]
  },
  {
   "cell_type": "markdown",
   "metadata": {},
   "source": [
    "- In this case, that my the size of the population is 1500, the sample size should be 720.8309662682263."
   ]
  }
 ],
 "metadata": {
  "kernelspec": {
   "display_name": "Python 3",
   "language": "python",
   "name": "python3"
  },
  "language_info": {
   "codemirror_mode": {
    "name": "ipython",
    "version": 3
   },
   "file_extension": ".py",
   "mimetype": "text/x-python",
   "name": "python",
   "nbconvert_exporter": "python",
   "pygments_lexer": "ipython3",
   "version": "3.6.9"
  }
 },
 "nbformat": 4,
 "nbformat_minor": 4
}
