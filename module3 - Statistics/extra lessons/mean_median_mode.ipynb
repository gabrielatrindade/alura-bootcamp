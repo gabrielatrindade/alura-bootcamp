{
 "cells": [
  {
   "cell_type": "markdown",
   "metadata": {},
   "source": [
    "# MEAN MEDIAN MODE"
   ]
  },
  {
   "cell_type": "code",
   "execution_count": 2,
   "metadata": {},
   "outputs": [],
   "source": [
    "import pandas as pd\n",
    "from zipfile import ZipFile"
   ]
  },
  {
   "cell_type": "code",
   "execution_count": 5,
   "metadata": {},
   "outputs": [
    {
     "data": {
      "text/html": [
       "<div>\n",
       "<style scoped>\n",
       "    .dataframe tbody tr th:only-of-type {\n",
       "        vertical-align: middle;\n",
       "    }\n",
       "\n",
       "    .dataframe tbody tr th {\n",
       "        vertical-align: top;\n",
       "    }\n",
       "\n",
       "    .dataframe thead th {\n",
       "        text-align: right;\n",
       "    }\n",
       "</style>\n",
       "<table border=\"1\" class=\"dataframe\">\n",
       "  <thead>\n",
       "    <tr style=\"text-align: right;\">\n",
       "      <th></th>\n",
       "      <th>ANOPESQ</th>\n",
       "      <th>PAIS</th>\n",
       "      <th>REGEOGR</th>\n",
       "      <th>VB00004</th>\n",
       "      <th>VB01001</th>\n",
       "      <th>VB01002</th>\n",
       "      <th>VB01003</th>\n",
       "      <th>VB01004</th>\n",
       "      <th>VB01005</th>\n",
       "      <th>VB01006</th>\n",
       "      <th>...</th>\n",
       "      <th>ESTRATO_EXP</th>\n",
       "      <th>ESTRATOGEOREG</th>\n",
       "      <th>PESO</th>\n",
       "      <th>V0006</th>\n",
       "      <th>V0007</th>\n",
       "      <th>V0008</th>\n",
       "      <th>V0041</th>\n",
       "      <th>aluno</th>\n",
       "      <th>escola</th>\n",
       "      <th>turma</th>\n",
       "    </tr>\n",
       "  </thead>\n",
       "  <tbody>\n",
       "    <tr>\n",
       "      <th>0</th>\n",
       "      <td>2015</td>\n",
       "      <td>76</td>\n",
       "      <td>1</td>\n",
       "      <td>1</td>\n",
       "      <td>2</td>\n",
       "      <td>1</td>\n",
       "      <td>13</td>\n",
       "      <td>7</td>\n",
       "      <td>7</td>\n",
       "      <td>1</td>\n",
       "      <td>...</td>\n",
       "      <td>1223</td>\n",
       "      <td>1</td>\n",
       "      <td>299.735235</td>\n",
       "      <td>1</td>\n",
       "      <td>2</td>\n",
       "      <td>4</td>\n",
       "      <td>1</td>\n",
       "      <td>1</td>\n",
       "      <td>1</td>\n",
       "      <td>296</td>\n",
       "    </tr>\n",
       "    <tr>\n",
       "      <th>1</th>\n",
       "      <td>2015</td>\n",
       "      <td>76</td>\n",
       "      <td>1</td>\n",
       "      <td>1</td>\n",
       "      <td>2</td>\n",
       "      <td>1</td>\n",
       "      <td>14</td>\n",
       "      <td>4</td>\n",
       "      <td>7</td>\n",
       "      <td>1</td>\n",
       "      <td>...</td>\n",
       "      <td>1223</td>\n",
       "      <td>1</td>\n",
       "      <td>355.170081</td>\n",
       "      <td>1</td>\n",
       "      <td>2</td>\n",
       "      <td>4</td>\n",
       "      <td>1</td>\n",
       "      <td>2</td>\n",
       "      <td>1</td>\n",
       "      <td>296</td>\n",
       "    </tr>\n",
       "    <tr>\n",
       "      <th>2</th>\n",
       "      <td>2015</td>\n",
       "      <td>76</td>\n",
       "      <td>1</td>\n",
       "      <td>1</td>\n",
       "      <td>1</td>\n",
       "      <td>4</td>\n",
       "      <td>13</td>\n",
       "      <td>6</td>\n",
       "      <td>7</td>\n",
       "      <td>1</td>\n",
       "      <td>...</td>\n",
       "      <td>1223</td>\n",
       "      <td>1</td>\n",
       "      <td>299.735235</td>\n",
       "      <td>1</td>\n",
       "      <td>2</td>\n",
       "      <td>4</td>\n",
       "      <td>1</td>\n",
       "      <td>3</td>\n",
       "      <td>1</td>\n",
       "      <td>296</td>\n",
       "    </tr>\n",
       "    <tr>\n",
       "      <th>3</th>\n",
       "      <td>2015</td>\n",
       "      <td>76</td>\n",
       "      <td>1</td>\n",
       "      <td>1</td>\n",
       "      <td>1</td>\n",
       "      <td>1</td>\n",
       "      <td>14</td>\n",
       "      <td>6</td>\n",
       "      <td>7</td>\n",
       "      <td>1</td>\n",
       "      <td>...</td>\n",
       "      <td>1223</td>\n",
       "      <td>1</td>\n",
       "      <td>355.170081</td>\n",
       "      <td>1</td>\n",
       "      <td>2</td>\n",
       "      <td>4</td>\n",
       "      <td>1</td>\n",
       "      <td>4</td>\n",
       "      <td>1</td>\n",
       "      <td>296</td>\n",
       "    </tr>\n",
       "    <tr>\n",
       "      <th>4</th>\n",
       "      <td>2015</td>\n",
       "      <td>76</td>\n",
       "      <td>1</td>\n",
       "      <td>1</td>\n",
       "      <td>1</td>\n",
       "      <td>1</td>\n",
       "      <td>13</td>\n",
       "      <td>9</td>\n",
       "      <td>7</td>\n",
       "      <td>1</td>\n",
       "      <td>...</td>\n",
       "      <td>1223</td>\n",
       "      <td>1</td>\n",
       "      <td>299.735235</td>\n",
       "      <td>1</td>\n",
       "      <td>2</td>\n",
       "      <td>4</td>\n",
       "      <td>1</td>\n",
       "      <td>5</td>\n",
       "      <td>1</td>\n",
       "      <td>296</td>\n",
       "    </tr>\n",
       "  </tbody>\n",
       "</table>\n",
       "<p>5 rows × 181 columns</p>\n",
       "</div>"
      ],
      "text/plain": [
       "   ANOPESQ  PAIS  REGEOGR  VB00004  VB01001  VB01002  VB01003  VB01004  \\\n",
       "0     2015    76        1        1        2        1       13        7   \n",
       "1     2015    76        1        1        2        1       14        4   \n",
       "2     2015    76        1        1        1        4       13        6   \n",
       "3     2015    76        1        1        1        1       14        6   \n",
       "4     2015    76        1        1        1        1       13        9   \n",
       "\n",
       "   VB01005  VB01006  ...  ESTRATO_EXP  ESTRATOGEOREG        PESO  V0006  \\\n",
       "0        7        1  ...         1223              1  299.735235      1   \n",
       "1        7        1  ...         1223              1  355.170081      1   \n",
       "2        7        1  ...         1223              1  299.735235      1   \n",
       "3        7        1  ...         1223              1  355.170081      1   \n",
       "4        7        1  ...         1223              1  299.735235      1   \n",
       "\n",
       "   V0007  V0008  V0041  aluno  escola  turma  \n",
       "0      2      4      1      1       1    296  \n",
       "1      2      4      1      2       1    296  \n",
       "2      2      4      1      3       1    296  \n",
       "3      2      4      1      4       1    296  \n",
       "4      2      4      1      5       1    296  \n",
       "\n",
       "[5 rows x 181 columns]"
      ]
     },
     "execution_count": 5,
     "metadata": {},
     "output_type": "execute_result"
    }
   ],
   "source": [
    "path = '/home/gabriela/Data Science/bootcamp-alura/module3/dataset/PeNSE_2015_AMOSTRA2.zip'\n",
    "zip_ = ZipFile(path)\n",
    "file = zip_.namelist()[1]\n",
    "\n",
    "pense_2015 = pd.read_csv(zip_.open(file), \n",
    "                         sep=';', thousands='.',\n",
    "                         decimal=',')\n",
    "\n",
    "pense_2015.head()"
   ]
  },
  {
   "cell_type": "code",
   "execution_count": 7,
   "metadata": {},
   "outputs": [
    {
     "data": {
      "text/plain": [
       "0        15.051321\n",
       "1        21.727839\n",
       "2        18.502907\n",
       "3        23.322831\n",
       "4        28.122076\n",
       "           ...    \n",
       "16551    20.113223\n",
       "16552    17.930782\n",
       "16553    23.968489\n",
       "16554    18.995343\n",
       "16555    23.303246\n",
       "Name: BMI, Length: 16556, dtype: float64"
      ]
     },
     "execution_count": 7,
     "metadata": {},
     "output_type": "execute_result"
    }
   ],
   "source": [
    "pense_2015['BMI'] = (pense_2015['VB17003'] / \n",
    "                    ((pense_2015['VB17004']/100)**2))\n",
    "\n",
    "\n",
    "pense_2015['BMI']"
   ]
  },
  {
   "cell_type": "markdown",
   "metadata": {},
   "source": [
    "# <font color=green> 1. Arithmetic Average (Mean) </font>\n",
    "---\n",
    "\n",
    "It's represented by $\\mu$ when referring to the population and by $\\bar{X}$ when referring to the sample\n",
    "\n",
    "# $$\\mu = \\frac 1n\\sum_{i=1}^{n}X_i$$\n",
    "\n",
    "where \n",
    "\n",
    "$n$ = number of observations (records)\n",
    "\n",
    "$X_i$ = value of the i-th observation (record)"
   ]
  },
  {
   "cell_type": "code",
   "execution_count": 8,
   "metadata": {},
   "outputs": [
    {
     "data": {
      "text/plain": [
       "20.958252206631837"
      ]
     },
     "execution_count": 8,
     "metadata": {},
     "output_type": "execute_result"
    }
   ],
   "source": [
    "mean = pense_2015['BMI'].mean()\n",
    "\n",
    "mean"
   ]
  },
  {
   "cell_type": "markdown",
   "metadata": {},
   "source": [
    "# <font color='green'> 2. Median </font>\n",
    "\n",
    "---\n",
    "To get the median of a dataset, we must to follow the steps below:\n",
    "1. Sort the dataset; \n",
    "2. Get the number of dataset records (the dataset length)($n$);\n",
    "3. Get the position of middle element/record:\n",
    "\n",
    "> If $n$ is odd, the position of the middle element will be obtain by:\n",
    "\n",
    "# $$Element_{Md} = \\frac{n+1}2$$\n",
    "\n",
    "> If $n$ is even, the position of the middle element will be obtain by:\n",
    "\n",
    "# $$Element_{Md} = \\frac{n}2$$\n",
    "\n",
    "4. Getting the median:\n",
    "\n",
    "> if $n$ is odd:\n",
    "\n",
    "# $$Md = X_{Element_{Md}}$$\n",
    "\n",
    "> If $n$ is even:\n",
    "\n",
    "# $$Md = \\frac{X_{Element_{Md}} + X_{Element_{Md}+1}}2$$"
   ]
  },
  {
   "cell_type": "markdown",
   "metadata": {},
   "source": [
    "### Example 1 - n odd\n",
    "\n",
    "<img src='https://caelum-online-public.s3.amazonaws.com/1177-estatistica-parte1/01/img002.png' width='40%' style=\"float:left\">"
   ]
  },
  {
   "cell_type": "markdown",
   "metadata": {},
   "source": [
    "### Example 2 - n even\n",
    "\n",
    "<img src='https://caelum-online-public.s3.amazonaws.com/1177-estatistica-parte1/01/img003.png' width='50%' style=\"float:left\">"
   ]
  },
  {
   "cell_type": "code",
   "execution_count": 9,
   "metadata": {},
   "outputs": [
    {
     "data": {
      "text/plain": [
       "20.190504330368643"
      ]
     },
     "execution_count": 9,
     "metadata": {},
     "output_type": "execute_result"
    }
   ],
   "source": [
    "median = pense_2015['BMI'].median()\n",
    "\n",
    "median"
   ]
  },
  {
   "cell_type": "markdown",
   "metadata": {},
   "source": [
    "# <font color='green'> 3. Mode </font>\n",
    "\n",
    "---\n",
    "Mode is the value that happen more frequently in the dataset. The mode is widely used for **qualitative data**."
   ]
  },
  {
   "cell_type": "code",
   "execution_count": 11,
   "metadata": {},
   "outputs": [
    {
     "data": {
      "text/plain": [
       "0     16.155478\n",
       "1     16.718248\n",
       "2     17.312886\n",
       "3     18.543714\n",
       "4     18.556681\n",
       "5     18.602766\n",
       "6     19.021555\n",
       "7     19.169550\n",
       "8     19.297399\n",
       "9     19.707910\n",
       "10    21.082813\n",
       "dtype: float64"
      ]
     },
     "execution_count": 11,
     "metadata": {},
     "output_type": "execute_result"
    }
   ],
   "source": [
    "mode = pense_2015['BMI'].mode()\n",
    "\n",
    "mode"
   ]
  },
  {
   "cell_type": "markdown",
   "metadata": {},
   "source": [
    "These 11 elements are the most frequent ones. This is an example of multimodal, because we have more than one value as mode."
   ]
  },
  {
   "cell_type": "markdown",
   "metadata": {},
   "source": [
    "# <font color='green'> 4. Relationship between median, mean, and mode </font>\n",
    "\n",
    "---\n",
    "It implies in the curve symmetry of the data distribution."
   ]
  },
  {
   "cell_type": "markdown",
   "metadata": {},
   "source": [
    "<img src='https://caelum-online-public.s3.amazonaws.com/1177-estatistica-parte1/01/img004.png' width='80%'>"
   ]
  },
  {
   "cell_type": "code",
   "execution_count": 14,
   "metadata": {},
   "outputs": [
    {
     "data": {
      "image/png": "[encoded data removed]",
      "text/plain": [
       "<Figure size 864x432 with 1 Axes>"
      ]
     },
     "metadata": {
      "needs_background": "light"
     },
     "output_type": "display_data"
    }
   ],
   "source": [
    "import seaborn as sns\n",
    "\n",
    "ax = sns.histplot(data=pense_2015, x='BMI', kde=True)\n",
    "ax.figure.set_size_inches(12,6)\n",
    "ax.axvline(pense_2015.BMI.mean(), color='r', linestyle='--')\n",
    "ax.axvline(pense_2015.BMI.median(), color='g', linestyle='-')\n",
    "\n",
    "ax.set_title('Frequency Distribution')\n",
    "ax.set_xlabel('BMI')\n",
    "ax;"
   ]
  },
  {
   "cell_type": "markdown",
   "metadata": {},
   "source": [
    "- Through the graph is possible to see the mode (most frequent). In the graph is divided/split by classes, it's the why of one peak (and not 10).\n",
    "\n",
    "\n",
    "- The distribution above right asymmetric."
   ]
  },
  {
   "cell_type": "code",
   "execution_count": 15,
   "metadata": {},
   "outputs": [
    {
     "data": {
      "image/png": "[encoded data removed]",
      "text/plain": [
       "<Figure size 864x432 with 1 Axes>"
      ]
     },
     "metadata": {
      "needs_background": "light"
     },
     "output_type": "display_data"
    }
   ],
   "source": [
    "ax = sns.boxplot(data=pense_2015, x='BMI')\n",
    "ax.figure.set_size_inches(12,6)\n",
    "\n",
    "ax.set_title('Boxplot BMI')\n",
    "ax.set_xlabel('BMI')\n",
    "ax;"
   ]
  },
  {
   "cell_type": "markdown",
   "metadata": {},
   "source": [
    "- We can see that the right side of the box is bigger than the left one. So, the tail on the right is bigger."
   ]
  },
  {
   "cell_type": "markdown",
   "metadata": {},
   "source": [
    "<img src='https://caelum-online-public.s3.amazonaws.com/1177-estatistica-parte1/01/img006.png' width='80%'>"
   ]
  },
  {
   "cell_type": "code",
   "execution_count": null,
   "metadata": {},
   "outputs": [],
   "source": []
  }
 ],
 "metadata": {
  "kernelspec": {
   "display_name": "Python 3",
   "language": "python",
   "name": "python3"
  },
  "language_info": {
   "codemirror_mode": {
    "name": "ipython",
    "version": 3
   },
   "file_extension": ".py",
   "mimetype": "text/x-python",
   "name": "python",
   "nbconvert_exporter": "python",
   "pygments_lexer": "ipython3",
   "version": "3.6.9"
  }
 },
 "nbformat": 4,
 "nbformat_minor": 4
}
