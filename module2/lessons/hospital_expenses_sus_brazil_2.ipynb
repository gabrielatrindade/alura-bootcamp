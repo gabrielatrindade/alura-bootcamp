{
 "cells": [
  {
   "cell_type": "markdown",
   "metadata": {},
   "source": [
    "<h1 style=\"font-size:260%;\"><center>Exploration of data DATASUS hospital expenses from 2008/Jan until 2020/Aug.</center></h1>"
   ]
  },
  {
   "cell_type": "markdown",
   "metadata": {},
   "source": [
    "# Table of Contents:\n",
    "\n",
    "- [Lesson 1 - Using alternative data sources](#Lesson-1---Using-alternative-data-sources)\n",
    "    - [Part 01](#Lesson-1---Part-01)\n",
    "        - [Challenge 1 - Read a table from Wikipedia](#Challenge-1:-Read-a-table-from-Wikipedia)\n",
    "        - [Challenge 2 - Clean the dataframe](#Challenge-2:-Clean-the-dataframe)\n",
    "    - [Part 02](#Lesson-1---Part-02)\n",
    "        - [Challenge 3 - Study and Lean about strings and its methods](#Challenge-3:-Study-and-learn-about-strings-and-its-methods)\n",
    "        - [Challenge 4 - Create a function to clean population_data_df dataframe and to merge population and recent_month](#Challenge-4:-Create-a-function-to-clean-population_data_df-dataframe-and-to-merge-population-and-recent_month)"
   ]
  },
  {
   "cell_type": "markdown",
   "metadata": {},
   "source": [
    "# Lesson 1 - Using alternative data sources\n",
    "Aula 01: Usando fontes alternativas de dados\n",
    "\n",
    "---"
   ]
  },
  {
   "cell_type": "markdown",
   "metadata": {},
   "source": [
    "# Lesson 1 - Part 01"
   ]
  },
  {
   "cell_type": "markdown",
   "metadata": {},
   "source": [
    "## 01. Importing Libraries"
   ]
  },
  {
   "cell_type": "code",
   "execution_count": 1,
   "metadata": {},
   "outputs": [],
   "source": [
    "import pandas as pd\n",
    "import matplotlib.pyplot as plt\n",
    "from io import StringIO"
   ]
  },
  {
   "cell_type": "markdown",
   "metadata": {},
   "source": [
    "## 02. Getting the dataset"
   ]
  },
  {
   "cell_type": "code",
   "execution_count": 2,
   "metadata": {},
   "outputs": [
    {
     "data": {
      "text/html": [
       "<div>\n",
       "<style scoped>\n",
       "    .dataframe tbody tr th:only-of-type {\n",
       "        vertical-align: middle;\n",
       "    }\n",
       "\n",
       "    .dataframe tbody tr th {\n",
       "        vertical-align: top;\n",
       "    }\n",
       "\n",
       "    .dataframe thead th {\n",
       "        text-align: right;\n",
       "    }\n",
       "</style>\n",
       "<table border=\"1\" class=\"dataframe\">\n",
       "  <thead>\n",
       "    <tr style=\"text-align: right;\">\n",
       "      <th></th>\n",
       "      <th>Unidade da Federação</th>\n",
       "      <th>1992/Mar</th>\n",
       "      <th>1992/Abr</th>\n",
       "      <th>1993/Mai</th>\n",
       "      <th>1993/Dez</th>\n",
       "      <th>1994/Jan</th>\n",
       "      <th>1994/Fev</th>\n",
       "      <th>1994/Mai</th>\n",
       "      <th>1994/Ago</th>\n",
       "      <th>1994/Nov</th>\n",
       "      <th>...</th>\n",
       "      <th>2019/Dez</th>\n",
       "      <th>2020/Jan</th>\n",
       "      <th>2020/Fev</th>\n",
       "      <th>2020/Mar</th>\n",
       "      <th>2020/Abr</th>\n",
       "      <th>2020/Mai</th>\n",
       "      <th>2020/Jun</th>\n",
       "      <th>2020/Jul</th>\n",
       "      <th>2020/Ago</th>\n",
       "      <th>Total</th>\n",
       "    </tr>\n",
       "  </thead>\n",
       "  <tbody>\n",
       "    <tr>\n",
       "      <th>0</th>\n",
       "      <td>11 Rondônia</td>\n",
       "      <td>-</td>\n",
       "      <td>-</td>\n",
       "      <td>-</td>\n",
       "      <td>-</td>\n",
       "      <td>-</td>\n",
       "      <td>-</td>\n",
       "      <td>-</td>\n",
       "      <td>-</td>\n",
       "      <td>-</td>\n",
       "      <td>...</td>\n",
       "      <td>8660753.05</td>\n",
       "      <td>8326416.32</td>\n",
       "      <td>8413784.42</td>\n",
       "      <td>7174312.31</td>\n",
       "      <td>7423678.64</td>\n",
       "      <td>8581195.13</td>\n",
       "      <td>9193593.76</td>\n",
       "      <td>7407388.24</td>\n",
       "      <td>3556381.57</td>\n",
       "      <td>9.291297e+08</td>\n",
       "    </tr>\n",
       "    <tr>\n",
       "      <th>1</th>\n",
       "      <td>12 Acre</td>\n",
       "      <td>-</td>\n",
       "      <td>-</td>\n",
       "      <td>-</td>\n",
       "      <td>-</td>\n",
       "      <td>-</td>\n",
       "      <td>-</td>\n",
       "      <td>-</td>\n",
       "      <td>-</td>\n",
       "      <td>-</td>\n",
       "      <td>...</td>\n",
       "      <td>2959569.09</td>\n",
       "      <td>3261123.88</td>\n",
       "      <td>2981264.22</td>\n",
       "      <td>2859102.06</td>\n",
       "      <td>2472063.08</td>\n",
       "      <td>2383895.48</td>\n",
       "      <td>2199920.70</td>\n",
       "      <td>1163813.08</td>\n",
       "      <td>-</td>\n",
       "      <td>4.206680e+08</td>\n",
       "    </tr>\n",
       "    <tr>\n",
       "      <th>2</th>\n",
       "      <td>13 Amazonas</td>\n",
       "      <td>-</td>\n",
       "      <td>-</td>\n",
       "      <td>-</td>\n",
       "      <td>-</td>\n",
       "      <td>-</td>\n",
       "      <td>-</td>\n",
       "      <td>-</td>\n",
       "      <td>-</td>\n",
       "      <td>-</td>\n",
       "      <td>...</td>\n",
       "      <td>14923380.22</td>\n",
       "      <td>15939561.23</td>\n",
       "      <td>15138110.70</td>\n",
       "      <td>14773739.41</td>\n",
       "      <td>16330913.81</td>\n",
       "      <td>19441150.53</td>\n",
       "      <td>17509334.66</td>\n",
       "      <td>13358514.02</td>\n",
       "      <td>4726485.73</td>\n",
       "      <td>1.771655e+09</td>\n",
       "    </tr>\n",
       "    <tr>\n",
       "      <th>3</th>\n",
       "      <td>14 Roraima</td>\n",
       "      <td>-</td>\n",
       "      <td>-</td>\n",
       "      <td>-</td>\n",
       "      <td>-</td>\n",
       "      <td>-</td>\n",
       "      <td>-</td>\n",
       "      <td>-</td>\n",
       "      <td>-</td>\n",
       "      <td>-</td>\n",
       "      <td>...</td>\n",
       "      <td>2889969.87</td>\n",
       "      <td>3084561.08</td>\n",
       "      <td>2967159.04</td>\n",
       "      <td>2813954.05</td>\n",
       "      <td>2304961.42</td>\n",
       "      <td>2910776.44</td>\n",
       "      <td>3216466.51</td>\n",
       "      <td>2739498.41</td>\n",
       "      <td>1524478.04</td>\n",
       "      <td>3.050109e+08</td>\n",
       "    </tr>\n",
       "    <tr>\n",
       "      <th>4</th>\n",
       "      <td>15 Pará</td>\n",
       "      <td>-</td>\n",
       "      <td>-</td>\n",
       "      <td>-</td>\n",
       "      <td>-</td>\n",
       "      <td>-</td>\n",
       "      <td>-</td>\n",
       "      <td>-</td>\n",
       "      <td>-</td>\n",
       "      <td>-</td>\n",
       "      <td>...</td>\n",
       "      <td>35222625.80</td>\n",
       "      <td>37009819.17</td>\n",
       "      <td>34635702.52</td>\n",
       "      <td>34749098.46</td>\n",
       "      <td>28714969.96</td>\n",
       "      <td>41248502.78</td>\n",
       "      <td>35396030.78</td>\n",
       "      <td>27618727.51</td>\n",
       "      <td>11559714.54</td>\n",
       "      <td>4.437116e+09</td>\n",
       "    </tr>\n",
       "  </tbody>\n",
       "</table>\n",
       "<p>5 rows × 280 columns</p>\n",
       "</div>"
      ],
      "text/plain": [
       "  Unidade da Federação 1992/Mar 1992/Abr 1993/Mai 1993/Dez 1994/Jan 1994/Fev  \\\n",
       "0          11 Rondônia        -        -        -        -        -        -   \n",
       "1              12 Acre        -        -        -        -        -        -   \n",
       "2          13 Amazonas        -        -        -        -        -        -   \n",
       "3           14 Roraima        -        -        -        -        -        -   \n",
       "4              15 Pará        -        -        -        -        -        -   \n",
       "\n",
       "  1994/Mai 1994/Ago 1994/Nov  ...     2019/Dez     2020/Jan     2020/Fev  \\\n",
       "0        -        -        -  ...   8660753.05   8326416.32   8413784.42   \n",
       "1        -        -        -  ...   2959569.09   3261123.88   2981264.22   \n",
       "2        -        -        -  ...  14923380.22  15939561.23  15138110.70   \n",
       "3        -        -        -  ...   2889969.87   3084561.08   2967159.04   \n",
       "4        -        -        -  ...  35222625.80  37009819.17  34635702.52   \n",
       "\n",
       "      2020/Mar     2020/Abr     2020/Mai     2020/Jun     2020/Jul  \\\n",
       "0   7174312.31   7423678.64   8581195.13   9193593.76   7407388.24   \n",
       "1   2859102.06   2472063.08   2383895.48   2199920.70   1163813.08   \n",
       "2  14773739.41  16330913.81  19441150.53  17509334.66  13358514.02   \n",
       "3   2813954.05   2304961.42   2910776.44   3216466.51   2739498.41   \n",
       "4  34749098.46  28714969.96  41248502.78  35396030.78  27618727.51   \n",
       "\n",
       "      2020/Ago         Total  \n",
       "0   3556381.57  9.291297e+08  \n",
       "1            -  4.206680e+08  \n",
       "2   4726485.73  1.771655e+09  \n",
       "3   1524478.04  3.050109e+08  \n",
       "4  11559714.54  4.437116e+09  \n",
       "\n",
       "[5 rows x 280 columns]"
      ]
     },
     "execution_count": 2,
     "metadata": {},
     "output_type": "execute_result"
    }
   ],
   "source": [
    "url='https://raw.githubusercontent.com/alura-cursos/agendamento-hospitalar/main/dados/A160324189_28_143_208.csv'\n",
    "\n",
    "hospital_expenses = pd.read_csv(url, encoding='ISO-8859-1',\n",
    "                                skiprows=3, sep=';', skipfooter=12,\n",
    "                                thousands='.', decimal=',',\n",
    "                                engine='python')\n",
    "\n",
    "hospital_expenses.head()"
   ]
  },
  {
   "cell_type": "markdown",
   "metadata": {},
   "source": [
    "## 03. Recap module 1: Cleaning the data"
   ]
  },
  {
   "cell_type": "code",
   "execution_count": 3,
   "metadata": {},
   "outputs": [],
   "source": [
    "columns_without_null_values = hospital_expenses \\\n",
    "                                    .mean() \\\n",
    "                                    .index \\\n",
    "                                    .tolist()\n",
    "\n",
    "columns_without_null_values.insert(0, 'Unidade da Federação')\n",
    "\n",
    "hospital_expenses_cleaned_null = \\\n",
    "    hospital_expenses[columns_without_null_values] \\\n",
    "        .set_index('Unidade da Federação')\n",
    "\n",
    "hospital_expenses_cleaned = \\\n",
    "    hospital_expenses_cleaned_null.drop(\"Total\", axis=1)"
   ]
  },
  {
   "cell_type": "code",
   "execution_count": 4,
   "metadata": {},
   "outputs": [],
   "source": [
    "state_region = {'1': 'Norte',\n",
    "                '2': 'Nordeste',\n",
    "                '3': 'Sudeste',\n",
    "                '4': 'Sul',\n",
    "                '5': 'Centro-Oeste'}\n",
    "\n",
    "hospital_expenses_region = hospital_expenses_cleaned.copy()\n",
    "\n",
    "hospital_expenses_region['Região'] = \\\n",
    "        hospital_expenses_region \\\n",
    "            .index.str[0] \\\n",
    "            .map(state_region)"
   ]
  },
  {
   "cell_type": "code",
   "execution_count": 5,
   "metadata": {},
   "outputs": [],
   "source": [
    "hospital_expenses_from_2008fev_region = \\\n",
    "    hospital_expenses_region.iloc[:,6:]"
   ]
  },
  {
   "cell_type": "code",
   "execution_count": 6,
   "metadata": {},
   "outputs": [],
   "source": [
    "recent_month_2 = hospital_expenses_from_2008fev_region.columns[-2]\n",
    "\n",
    "recent_month_hospital_expenses = hospital_expenses_cleaned[recent_month_2] \\\n",
    "                                            .sort_values(ascending=False)"
   ]
  },
  {
   "cell_type": "markdown",
   "metadata": {},
   "source": [
    "## 04. Let's start!"
   ]
  },
  {
   "cell_type": "code",
   "execution_count": 7,
   "metadata": {},
   "outputs": [
    {
     "data": {
      "image/png": "[encoded data removed]",
      "text/plain": [
       "<Figure size 432x288 with 1 Axes>"
      ]
     },
     "metadata": {
      "needs_background": "light"
     },
     "output_type": "display_data"
    }
   ],
   "source": [
    "recent_month_hospital_expenses.plot(kind='bar')\n",
    "plt.show()"
   ]
  },
  {
   "cell_type": "code",
   "execution_count": 8,
   "metadata": {},
   "outputs": [
    {
     "data": {
      "text/plain": [
       "Unidade da Federação\n",
       "35 São Paulo            2.827096e+08\n",
       "31 Minas Gerais         1.204672e+08\n",
       "41 Paraná               8.032085e+07\n",
       "43 Rio Grande do Sul    7.892970e+07\n",
       "33 Rio de Janeiro       7.154023e+07\n",
       "Name: 2020/Jul, dtype: float64"
      ]
     },
     "execution_count": 8,
     "metadata": {},
     "output_type": "execute_result"
    }
   ],
   "source": [
    "recent_month_hospital_expenses.head()"
   ]
  },
  {
   "cell_type": "code",
   "execution_count": 9,
   "metadata": {},
   "outputs": [
    {
     "data": {
      "text/plain": [
       "Unidade da Federação\n",
       "35 São Paulo              0.257158\n",
       "31 Minas Gerais           0.109579\n",
       "41 Paraná                 0.073061\n",
       "43 Rio Grande do Sul      0.071796\n",
       "33 Rio de Janeiro         0.065074\n",
       "26 Pernambuco             0.056692\n",
       "29 Bahia                  0.053575\n",
       "42 Santa Catarina         0.047086\n",
       "52 Goiás                  0.030472\n",
       "23 Ceará                  0.028025\n",
       "15 Pará                   0.025123\n",
       "32 Espírito Santo         0.024979\n",
       "21 Maranhão               0.022171\n",
       "53 Distrito Federal       0.020224\n",
       "24 Rio Grande do Norte    0.017822\n",
       "22 Piauí                  0.016391\n",
       "25 Paraíba                0.014091\n",
       "13 Amazonas               0.012151\n",
       "27 Alagoas                0.011905\n",
       "51 Mato Grosso            0.011901\n",
       "50 Mato Grosso do Sul     0.011378\n",
       "11 Rondônia               0.006738\n",
       "17 Tocantins              0.004084\n",
       "28 Sergipe                0.003013\n",
       "14 Roraima                0.002492\n",
       "16 Amapá                  0.001960\n",
       "12 Acre                   0.001059\n",
       "Name: 2020/Jul, dtype: float64"
      ]
     },
     "execution_count": 9,
     "metadata": {},
     "output_type": "execute_result"
    }
   ],
   "source": [
    "recent_month_hospital_expenses_by_state_prop = \\\n",
    "    (recent_month_hospital_expenses / \n",
    "     recent_month_hospital_expenses.sum())\n",
    "\n",
    "recent_month_hospital_expenses_by_state_prop"
   ]
  },
  {
   "cell_type": "markdown",
   "metadata": {},
   "source": [
    "- Observing the data proportionally.\n",
    "- 25.7% of total hospital expenses ocurred in São Paulo.\n",
    "- São Paulo has 26% of the population of Brazil?\n",
    "- Also think about the age group, which one spends more in hospital? how is the age group distributed in the states?"
   ]
  },
  {
   "cell_type": "code",
   "execution_count": 10,
   "metadata": {},
   "outputs": [
    {
     "data": {
      "image/png": "[encoded data removed]",
      "text/plain": [
       "<Figure size 432x288 with 1 Axes>"
      ]
     },
     "metadata": {
      "needs_background": "light"
     },
     "output_type": "display_data"
    }
   ],
   "source": [
    "recent_month_hospital_expenses_by_state_prop \\\n",
    "    .plot(kind='bar')\n",
    "plt.show()"
   ]
  },
  {
   "cell_type": "markdown",
   "metadata": {},
   "source": [
    "- The proportion of the bars is the same as in the previous graph."
   ]
  },
  {
   "cell_type": "markdown",
   "metadata": {},
   "source": [
    "### Other ways to read data\n",
    "\n",
    "- through excel file:"
   ]
  },
  {
   "cell_type": "code",
   "execution_count": 11,
   "metadata": {},
   "outputs": [
    {
     "data": {
      "text/html": [
       "<div>\n",
       "<style scoped>\n",
       "    .dataframe tbody tr th:only-of-type {\n",
       "        vertical-align: middle;\n",
       "    }\n",
       "\n",
       "    .dataframe tbody tr th {\n",
       "        vertical-align: top;\n",
       "    }\n",
       "\n",
       "    .dataframe thead th {\n",
       "        text-align: right;\n",
       "    }\n",
       "</style>\n",
       "<table border=\"1\" class=\"dataframe\">\n",
       "  <thead>\n",
       "    <tr style=\"text-align: right;\">\n",
       "      <th></th>\n",
       "      <th>Brasil</th>\n",
       "      <th>Unnamed: 1</th>\n",
       "      <th>211755692</th>\n",
       "    </tr>\n",
       "  </thead>\n",
       "  <tbody>\n",
       "    <tr>\n",
       "      <th>0</th>\n",
       "      <td>Região Norte</td>\n",
       "      <td>NaN</td>\n",
       "      <td>18672591</td>\n",
       "    </tr>\n",
       "    <tr>\n",
       "      <th>1</th>\n",
       "      <td>Rondônia</td>\n",
       "      <td>NaN</td>\n",
       "      <td>1796460</td>\n",
       "    </tr>\n",
       "    <tr>\n",
       "      <th>2</th>\n",
       "      <td>Acre</td>\n",
       "      <td>NaN</td>\n",
       "      <td>894470</td>\n",
       "    </tr>\n",
       "    <tr>\n",
       "      <th>3</th>\n",
       "      <td>Amazonas</td>\n",
       "      <td>NaN</td>\n",
       "      <td>4207714</td>\n",
       "    </tr>\n",
       "    <tr>\n",
       "      <th>4</th>\n",
       "      <td>Roraima</td>\n",
       "      <td>NaN</td>\n",
       "      <td>631181</td>\n",
       "    </tr>\n",
       "  </tbody>\n",
       "</table>\n",
       "</div>"
      ],
      "text/plain": [
       "         Brasil  Unnamed: 1 211755692\n",
       "0  Região Norte         NaN  18672591\n",
       "1      Rondônia         NaN   1796460\n",
       "2          Acre         NaN    894470\n",
       "3      Amazonas         NaN   4207714\n",
       "4       Roraima         NaN    631181"
      ]
     },
     "execution_count": 11,
     "metadata": {},
     "output_type": "execute_result"
    }
   ],
   "source": [
    "url_population = 'https://github.com/alura-cursos/agendamento-hospitalar/blob/main/dados/estimativa_dou_2020.xls?raw=true'\n",
    "\n",
    "population_estimate_ibge = pd.read_excel(url_population, skiprows=2)\n",
    "population_estimate_ibge.head()"
   ]
  },
  {
   "cell_type": "markdown",
   "metadata": {},
   "source": [
    "- copy and paste:"
   ]
  },
  {
   "cell_type": "code",
   "execution_count": 12,
   "metadata": {},
   "outputs": [],
   "source": [
    "population_data = \"\"\"Posição\tUnidade federativa\tPopulação\t% da pop. total\tPaís comparável\n",
    "(habitantes)\n",
    "\n",
    "1\t São Paulo\t46 289 333\t21,9%\tFlag of Spain.svg Espanha (46 439 864)\n",
    "2\t Minas Gerais\t21 331 292\t10,1%\t Sri Lanka (20 675 000)\n",
    "3\t Rio de Janeiro\t17 366 189\t8,2%\t Países Baixos (16 922 900)\n",
    "4\tBahia Bahia\t14 930 634\t7,1%\t Chade (14 037 000)\n",
    "5\t Paraná\t11 516 840\t5,4%\t Bolívia (11 410 651)\n",
    "6\t Rio Grande do Sul\t11 422 973\t5,4%\t Bélgica (11 250 659)\n",
    "7\t Pernambuco\t9 616 621\t4,5%\t Bielorrússia (9 485 300)\n",
    "8\t Ceará\t9 187 103\t4,3%\t Emirados Árabes Unidos (9 157 000)\n",
    "9\tPará Pará\t8 690 745\t4,1%\t Áustria (8 602 112)\n",
    "10\t Santa Catarina\t7 279 638\t3,4%\t Sérvia (7 114 393)\n",
    "12\t Goiás\t7 142 070\t3,4%\t Paraguai (7 003 406)\n",
    "11\t Maranhão\t7 127 460\t3,4%\t Paraguai (7 003 406)\n",
    "13\t Amazonas\t4 228 381\t2,0%\t Líbano (4 168 000)\n",
    "14\t Espírito Santo\t4 064 052\t1,9%\t Líbano (4 168 000)\n",
    "15\t Paraíba\t4 039 277\t1,9%\t Líbano (4 168 000)\n",
    "16\t Rio Grande do Norte\t3 534 165\t1,7%\t Uruguai (3 415 866)\n",
    "17\t Mato Grosso\t3 526 220\t1,7%\t Uruguai (3 415 866)\n",
    "18\t Alagoas\t3 351 543\t1,6%\t Uruguai (3 415 866)\n",
    "19\t Piauí\t3 281 480\t1,6%\t Kuwait (3 268 431)\n",
    "20\t Distrito Federal\t3 055 149\t1,4%\t Lituânia (2 900 787)\n",
    "21\t Mato Grosso do Sul\t2 809 394\t1,3%\t Jamaica (2 717 991)\n",
    "22\t Sergipe\t2 318 822\t1,1%\t Namíbia (2 280 700)\n",
    "23\t Rondônia\t1 796 460\t0,8%\t Gabão (1 725 000)\n",
    "24\t Tocantins\t1 590 248\t0,7%\t Bahrein (1 359 800)\n",
    "25\t Acre\t894 470\t0,4%\t Fiji (859 178)\n",
    "26\t Amapá\t861 773\t0,4%\t Fiji (859 178)\n",
    "27\t Roraima\t631 181\t0,3%\t Luxemburgo (562 958)\n",
    "\"\"\"\n",
    "\n",
    "# fonte: https://pt.wikipedia.org/wiki/Lista_de_unidades_federativas_do_Brasil_por_popula%C3%A7%C3%A3o"
   ]
  },
  {
   "cell_type": "code",
   "execution_count": 13,
   "metadata": {},
   "outputs": [
    {
     "data": {
      "text/html": [
       "<div>\n",
       "<style scoped>\n",
       "    .dataframe tbody tr th:only-of-type {\n",
       "        vertical-align: middle;\n",
       "    }\n",
       "\n",
       "    .dataframe tbody tr th {\n",
       "        vertical-align: top;\n",
       "    }\n",
       "\n",
       "    .dataframe thead th {\n",
       "        text-align: right;\n",
       "    }\n",
       "</style>\n",
       "<table border=\"1\" class=\"dataframe\">\n",
       "  <thead>\n",
       "    <tr style=\"text-align: right;\">\n",
       "      <th></th>\n",
       "      <th>Posição</th>\n",
       "      <th>Unidade federativa</th>\n",
       "      <th>População</th>\n",
       "      <th>% da pop. total</th>\n",
       "      <th>País comparável</th>\n",
       "    </tr>\n",
       "  </thead>\n",
       "  <tbody>\n",
       "    <tr>\n",
       "      <th>0</th>\n",
       "      <td>(habitantes)</td>\n",
       "      <td>NaN</td>\n",
       "      <td>NaN</td>\n",
       "      <td>NaN</td>\n",
       "      <td>NaN</td>\n",
       "    </tr>\n",
       "    <tr>\n",
       "      <th>1</th>\n",
       "      <td>1</td>\n",
       "      <td>São Paulo</td>\n",
       "      <td>46 289 333</td>\n",
       "      <td>21,9%</td>\n",
       "      <td>Flag of Spain.svg Espanha (46 439 864)</td>\n",
       "    </tr>\n",
       "    <tr>\n",
       "      <th>2</th>\n",
       "      <td>2</td>\n",
       "      <td>Minas Gerais</td>\n",
       "      <td>21 331 292</td>\n",
       "      <td>10,1%</td>\n",
       "      <td>Sri Lanka (20 675 000)</td>\n",
       "    </tr>\n",
       "    <tr>\n",
       "      <th>3</th>\n",
       "      <td>3</td>\n",
       "      <td>Rio de Janeiro</td>\n",
       "      <td>17 366 189</td>\n",
       "      <td>8,2%</td>\n",
       "      <td>Países Baixos (16 922 900)</td>\n",
       "    </tr>\n",
       "    <tr>\n",
       "      <th>4</th>\n",
       "      <td>4</td>\n",
       "      <td>Bahia Bahia</td>\n",
       "      <td>14 930 634</td>\n",
       "      <td>7,1%</td>\n",
       "      <td>Chade (14 037 000)</td>\n",
       "    </tr>\n",
       "  </tbody>\n",
       "</table>\n",
       "</div>"
      ],
      "text/plain": [
       "        Posição Unidade federativa   População % da pop. total  \\\n",
       "0  (habitantes)                NaN         NaN             NaN   \n",
       "1             1          São Paulo  46 289 333           21,9%   \n",
       "2             2       Minas Gerais  21 331 292           10,1%   \n",
       "3             3     Rio de Janeiro  17 366 189            8,2%   \n",
       "4             4        Bahia Bahia  14 930 634            7,1%   \n",
       "\n",
       "                          País comparável  \n",
       "0                                     NaN  \n",
       "1  Flag of Spain.svg Espanha (46 439 864)  \n",
       "2                  Sri Lanka (20 675 000)  \n",
       "3              Países Baixos (16 922 900)  \n",
       "4                      Chade (14 037 000)  "
      ]
     },
     "execution_count": 13,
     "metadata": {},
     "output_type": "execute_result"
    }
   ],
   "source": [
    "population_data_io = StringIO(population_data)\n",
    "\n",
    "population_data_df = pd.read_csv(population_data_io, \n",
    "                                 sep='\\t')\n",
    "\n",
    "population_data_df.head()"
   ]
  },
  {
   "cell_type": "markdown",
   "metadata": {},
   "source": [
    "## Challenge 1: Read a table from Wikipedia"
   ]
  },
  {
   "cell_type": "markdown",
   "metadata": {},
   "source": [
    "- html:"
   ]
  },
  {
   "cell_type": "code",
   "execution_count": 14,
   "metadata": {
    "scrolled": false
   },
   "outputs": [
    {
     "data": {
      "text/html": [
       "<div>\n",
       "<style scoped>\n",
       "    .dataframe tbody tr th:only-of-type {\n",
       "        vertical-align: middle;\n",
       "    }\n",
       "\n",
       "    .dataframe tbody tr th {\n",
       "        vertical-align: top;\n",
       "    }\n",
       "\n",
       "    .dataframe thead th {\n",
       "        text-align: right;\n",
       "    }\n",
       "</style>\n",
       "<table border=\"1\" class=\"dataframe\">\n",
       "  <thead>\n",
       "    <tr style=\"text-align: right;\">\n",
       "      <th></th>\n",
       "      <th>Unidade federativa</th>\n",
       "      <th>População</th>\n",
       "      <th>% da pop. total</th>\n",
       "      <th>País comparável (habitantes)</th>\n",
       "    </tr>\n",
       "    <tr>\n",
       "      <th>Posição</th>\n",
       "      <th></th>\n",
       "      <th></th>\n",
       "      <th></th>\n",
       "      <th></th>\n",
       "    </tr>\n",
       "  </thead>\n",
       "  <tbody>\n",
       "    <tr>\n",
       "      <th>1</th>\n",
       "      <td>São Paulo</td>\n",
       "      <td>46289333</td>\n",
       "      <td>21,9%</td>\n",
       "      <td>Espanha (46 439 864)</td>\n",
       "    </tr>\n",
       "    <tr>\n",
       "      <th>2</th>\n",
       "      <td>Minas Gerais</td>\n",
       "      <td>21331292</td>\n",
       "      <td>10,1%</td>\n",
       "      <td>Sri Lanka (20 675 000)</td>\n",
       "    </tr>\n",
       "    <tr>\n",
       "      <th>3</th>\n",
       "      <td>Rio de Janeiro</td>\n",
       "      <td>17366189</td>\n",
       "      <td>8,2%</td>\n",
       "      <td>Países Baixos (16 922 900)</td>\n",
       "    </tr>\n",
       "    <tr>\n",
       "      <th>4</th>\n",
       "      <td>Bahia</td>\n",
       "      <td>14930634</td>\n",
       "      <td>7,1%</td>\n",
       "      <td>Chade (14 037 000)</td>\n",
       "    </tr>\n",
       "    <tr>\n",
       "      <th>5</th>\n",
       "      <td>Paraná</td>\n",
       "      <td>11516840</td>\n",
       "      <td>5,4%</td>\n",
       "      <td>Bolívia (11 410 651)</td>\n",
       "    </tr>\n",
       "  </tbody>\n",
       "</table>\n",
       "</div>"
      ],
      "text/plain": [
       "        Unidade federativa  População % da pop. total  \\\n",
       "Posição                                                 \n",
       "1                São Paulo   46289333           21,9%   \n",
       "2             Minas Gerais   21331292           10,1%   \n",
       "3           Rio de Janeiro   17366189            8,2%   \n",
       "4                    Bahia   14930634            7,1%   \n",
       "5                   Paraná   11516840            5,4%   \n",
       "\n",
       "        País comparável (habitantes)  \n",
       "Posição                               \n",
       "1               Espanha (46 439 864)  \n",
       "2             Sri Lanka (20 675 000)  \n",
       "3         Países Baixos (16 922 900)  \n",
       "4                 Chade (14 037 000)  \n",
       "5               Bolívia (11 410 651)  "
      ]
     },
     "execution_count": 14,
     "metadata": {},
     "output_type": "execute_result"
    }
   ],
   "source": [
    "url_population_wiki = 'https://pt.wikipedia.org/wiki/Lista_de_unidades_federativas_do_Brasil_por_popula%C3%A7%C3%A3o'\n",
    "population_estimate_wiki = pd.read_html(url_population_wiki, \n",
    "                                        thousands=' ', index_col=0)[0]\n",
    "\n",
    "population_estimate_wiki.head()"
   ]
  },
  {
   "cell_type": "markdown",
   "metadata": {},
   "source": [
    "## Challenge 2: Clean the dataframe \n",
    "For example: change column names and values for population column"
   ]
  },
  {
   "cell_type": "code",
   "execution_count": 15,
   "metadata": {},
   "outputs": [
    {
     "data": {
      "text/html": [
       "<div>\n",
       "<style scoped>\n",
       "    .dataframe tbody tr th:only-of-type {\n",
       "        vertical-align: middle;\n",
       "    }\n",
       "\n",
       "    .dataframe tbody tr th {\n",
       "        vertical-align: top;\n",
       "    }\n",
       "\n",
       "    .dataframe thead th {\n",
       "        text-align: right;\n",
       "    }\n",
       "</style>\n",
       "<table border=\"1\" class=\"dataframe\">\n",
       "  <thead>\n",
       "    <tr style=\"text-align: right;\">\n",
       "      <th></th>\n",
       "      <th>Posição</th>\n",
       "      <th>populacao</th>\n",
       "      <th>%_da_pop._total</th>\n",
       "      <th>pais_comparavel_(habitantes)</th>\n",
       "    </tr>\n",
       "    <tr>\n",
       "      <th>uf</th>\n",
       "      <th></th>\n",
       "      <th></th>\n",
       "      <th></th>\n",
       "      <th></th>\n",
       "    </tr>\n",
       "  </thead>\n",
       "  <tbody>\n",
       "    <tr>\n",
       "      <th>São Paulo</th>\n",
       "      <td>1</td>\n",
       "      <td>46289333</td>\n",
       "      <td>21,9%</td>\n",
       "      <td>Espanha (46 439 864)</td>\n",
       "    </tr>\n",
       "    <tr>\n",
       "      <th>Minas Gerais</th>\n",
       "      <td>2</td>\n",
       "      <td>21331292</td>\n",
       "      <td>10,1%</td>\n",
       "      <td>Sri Lanka (20 675 000)</td>\n",
       "    </tr>\n",
       "    <tr>\n",
       "      <th>Rio de Janeiro</th>\n",
       "      <td>3</td>\n",
       "      <td>17366189</td>\n",
       "      <td>8,2%</td>\n",
       "      <td>Países Baixos (16 922 900)</td>\n",
       "    </tr>\n",
       "    <tr>\n",
       "      <th>Bahia</th>\n",
       "      <td>4</td>\n",
       "      <td>14930634</td>\n",
       "      <td>7,1%</td>\n",
       "      <td>Chade (14 037 000)</td>\n",
       "    </tr>\n",
       "    <tr>\n",
       "      <th>Paraná</th>\n",
       "      <td>5</td>\n",
       "      <td>11516840</td>\n",
       "      <td>5,4%</td>\n",
       "      <td>Bolívia (11 410 651)</td>\n",
       "    </tr>\n",
       "  </tbody>\n",
       "</table>\n",
       "</div>"
      ],
      "text/plain": [
       "                Posição  populacao %_da_pop._total  \\\n",
       "uf                                                   \n",
       "São Paulo             1   46289333           21,9%   \n",
       "Minas Gerais          2   21331292           10,1%   \n",
       "Rio de Janeiro        3   17366189            8,2%   \n",
       "Bahia                 4   14930634            7,1%   \n",
       "Paraná                5   11516840            5,4%   \n",
       "\n",
       "               pais_comparavel_(habitantes)  \n",
       "uf                                           \n",
       "São Paulo              Espanha (46 439 864)  \n",
       "Minas Gerais         Sri Lanka (20 675 000)  \n",
       "Rio de Janeiro   Países Baixos (16 922 900)  \n",
       "Bahia                    Chade (14 037 000)  \n",
       "Paraná                 Bolívia (11 410 651)  "
      ]
     },
     "execution_count": 15,
     "metadata": {},
     "output_type": "execute_result"
    }
   ],
   "source": [
    "population_estimate_wiki = \\\n",
    "    population_estimate_wiki \\\n",
    "        .rename(columns={'Unidade federativa': 'uf'})\n",
    "\n",
    "population_estimate_wiki.columns = \\\n",
    "    population_estimate_wiki.columns.str.lower() \\\n",
    "                                    .str.replace(' ', '_') \\\n",
    "                                    .str.normalize('NFKD') \\\n",
    "                                    .str.encode('ascii', errors='ignore') \\\n",
    "                                    .str.decode('utf-8')\n",
    "\n",
    "population_estimate_wiki = \\\n",
    "    population_estimate_wiki \\\n",
    "        .reset_index() \\\n",
    "        .set_index('uf')\n",
    "\n",
    "population_estimate_wiki.head()"
   ]
  },
  {
   "cell_type": "markdown",
   "metadata": {},
   "source": [
    "# Lesson 1 - Part 02"
   ]
  },
  {
   "cell_type": "code",
   "execution_count": 16,
   "metadata": {},
   "outputs": [
    {
     "data": {
      "text/html": [
       "<div>\n",
       "<style scoped>\n",
       "    .dataframe tbody tr th:only-of-type {\n",
       "        vertical-align: middle;\n",
       "    }\n",
       "\n",
       "    .dataframe tbody tr th {\n",
       "        vertical-align: top;\n",
       "    }\n",
       "\n",
       "    .dataframe thead th {\n",
       "        text-align: right;\n",
       "    }\n",
       "</style>\n",
       "<table border=\"1\" class=\"dataframe\">\n",
       "  <thead>\n",
       "    <tr style=\"text-align: right;\">\n",
       "      <th></th>\n",
       "      <th>populacao</th>\n",
       "    </tr>\n",
       "    <tr>\n",
       "      <th>uf</th>\n",
       "      <th></th>\n",
       "    </tr>\n",
       "  </thead>\n",
       "  <tbody>\n",
       "    <tr>\n",
       "      <th>São Paulo</th>\n",
       "      <td>46289333</td>\n",
       "    </tr>\n",
       "    <tr>\n",
       "      <th>Minas Gerais</th>\n",
       "      <td>21331292</td>\n",
       "    </tr>\n",
       "    <tr>\n",
       "      <th>Rio de Janeiro</th>\n",
       "      <td>17366189</td>\n",
       "    </tr>\n",
       "    <tr>\n",
       "      <th>Bahia</th>\n",
       "      <td>14930634</td>\n",
       "    </tr>\n",
       "    <tr>\n",
       "      <th>Paraná</th>\n",
       "      <td>11516840</td>\n",
       "    </tr>\n",
       "  </tbody>\n",
       "</table>\n",
       "</div>"
      ],
      "text/plain": [
       "                populacao\n",
       "uf                       \n",
       "São Paulo        46289333\n",
       "Minas Gerais     21331292\n",
       "Rio de Janeiro   17366189\n",
       "Bahia            14930634\n",
       "Paraná           11516840"
      ]
     },
     "execution_count": 16,
     "metadata": {},
     "output_type": "execute_result"
    }
   ],
   "source": [
    "population_estimate_2020 = \\\n",
    "    population_estimate_wiki[['populacao']]\n",
    "\n",
    "population_estimate_2020.head()"
   ]
  },
  {
   "cell_type": "code",
   "execution_count": 17,
   "metadata": {},
   "outputs": [
    {
     "data": {
      "text/plain": [
       "Index(['São', 'Min', 'Rio', 'Bah', 'Par', 'Rio', 'Per', 'Cea', 'Par', 'San',\n",
       "       'Goi', 'Mar', 'Ama', 'Esp', 'Par', 'Rio', 'Mat', 'Ala', 'Pia', 'Dis',\n",
       "       'Mat', 'Ser', 'Ron', 'Toc', 'Acr', 'Ama', 'Ror'],\n",
       "      dtype='object', name='uf')"
      ]
     },
     "execution_count": 17,
     "metadata": {},
     "output_type": "execute_result"
    }
   ],
   "source": [
    "population_estimate_2020.index.str[:3]"
   ]
  },
  {
   "cell_type": "code",
   "execution_count": 18,
   "metadata": {},
   "outputs": [
    {
     "data": {
      "text/plain": [
       "Unidade da Federação\n",
       "35 São Paulo            2.827096e+08\n",
       "31 Minas Gerais         1.204672e+08\n",
       "41 Paraná               8.032085e+07\n",
       "43 Rio Grande do Sul    7.892970e+07\n",
       "33 Rio de Janeiro       7.154023e+07\n",
       "Name: 2020/Jul, dtype: float64"
      ]
     },
     "execution_count": 18,
     "metadata": {},
     "output_type": "execute_result"
    }
   ],
   "source": [
    "# pd.options.display.float_format = '{x:,.2f}'.format\n",
    "\n",
    "recent_month_hospital_expenses.head()"
   ]
  },
  {
   "cell_type": "code",
   "execution_count": 19,
   "metadata": {},
   "outputs": [
    {
     "data": {
      "text/plain": [
       "Unidade da Federação\n",
       "São Paulo            2.827096e+08\n",
       "Minas Gerais         1.204672e+08\n",
       "Paraná               8.032085e+07\n",
       "Rio Grande do Sul    7.892970e+07\n",
       "Rio de Janeiro       7.154023e+07\n",
       "Name: 2020/Jul, dtype: float64"
      ]
     },
     "execution_count": 19,
     "metadata": {},
     "output_type": "execute_result"
    }
   ],
   "source": [
    "# removing the numbers at the beginning of each state\n",
    "recent_month_hospital_expenses.index = \\\n",
    "    recent_month_hospital_expenses.index.str[3:]\n",
    "\n",
    "recent_month_hospital_expenses.head()"
   ]
  },
  {
   "cell_type": "code",
   "execution_count": 20,
   "metadata": {},
   "outputs": [
    {
     "data": {
      "text/plain": [
       "Index(['São Paulo', 'Minas Gerais', 'Rio de Janeiro', 'Bahia', 'Paraná',\n",
       "       'Rio Grande do Sul', 'Pernambuco', 'Ceará', 'Pará', 'Santa Catarina',\n",
       "       'Goiás', 'Maranhão', 'Amazonas', 'Espírito Santo', 'Paraíba',\n",
       "       'Rio Grande do Norte', 'Mato Grosso', 'Alagoas', 'Piauí',\n",
       "       'Distrito Federal', 'Mato Grosso do Sul', 'Sergipe', 'Rondônia',\n",
       "       'Tocantins', 'Acre', 'Amapá', 'Roraima'],\n",
       "      dtype='object', name='uf')"
      ]
     },
     "execution_count": 20,
     "metadata": {},
     "output_type": "execute_result"
    }
   ],
   "source": [
    "# how to remove spaces from the beginning and end of the string\n",
    "# there is no space in my indexes, this code snippet is just to show how to do that\n",
    "population_estimate_2020.index.str.strip()"
   ]
  },
  {
   "cell_type": "markdown",
   "metadata": {},
   "source": [
    "**Challenge 3: Learn about strings and its methods.**"
   ]
  },
  {
   "cell_type": "code",
   "execution_count": 21,
   "metadata": {},
   "outputs": [
    {
     "data": {
      "text/html": [
       "<div>\n",
       "<style scoped>\n",
       "    .dataframe tbody tr th:only-of-type {\n",
       "        vertical-align: middle;\n",
       "    }\n",
       "\n",
       "    .dataframe tbody tr th {\n",
       "        vertical-align: top;\n",
       "    }\n",
       "\n",
       "    .dataframe thead th {\n",
       "        text-align: right;\n",
       "    }\n",
       "</style>\n",
       "<table border=\"1\" class=\"dataframe\">\n",
       "  <thead>\n",
       "    <tr style=\"text-align: right;\">\n",
       "      <th></th>\n",
       "      <th>populacao</th>\n",
       "      <th>2020/Jul</th>\n",
       "    </tr>\n",
       "    <tr>\n",
       "      <th>uf</th>\n",
       "      <th></th>\n",
       "      <th></th>\n",
       "    </tr>\n",
       "  </thead>\n",
       "  <tbody>\n",
       "    <tr>\n",
       "      <th>São Paulo</th>\n",
       "      <td>46289333</td>\n",
       "      <td>2.827096e+08</td>\n",
       "    </tr>\n",
       "    <tr>\n",
       "      <th>Minas Gerais</th>\n",
       "      <td>21331292</td>\n",
       "      <td>1.204672e+08</td>\n",
       "    </tr>\n",
       "    <tr>\n",
       "      <th>Rio de Janeiro</th>\n",
       "      <td>17366189</td>\n",
       "      <td>7.154023e+07</td>\n",
       "    </tr>\n",
       "    <tr>\n",
       "      <th>Bahia</th>\n",
       "      <td>14930634</td>\n",
       "      <td>5.889810e+07</td>\n",
       "    </tr>\n",
       "    <tr>\n",
       "      <th>Paraná</th>\n",
       "      <td>11516840</td>\n",
       "      <td>8.032085e+07</td>\n",
       "    </tr>\n",
       "    <tr>\n",
       "      <th>Rio Grande do Sul</th>\n",
       "      <td>11422973</td>\n",
       "      <td>7.892970e+07</td>\n",
       "    </tr>\n",
       "    <tr>\n",
       "      <th>Pernambuco</th>\n",
       "      <td>9616621</td>\n",
       "      <td>6.232544e+07</td>\n",
       "    </tr>\n",
       "    <tr>\n",
       "      <th>Ceará</th>\n",
       "      <td>9187103</td>\n",
       "      <td>3.080922e+07</td>\n",
       "    </tr>\n",
       "    <tr>\n",
       "      <th>Pará</th>\n",
       "      <td>8690745</td>\n",
       "      <td>2.761873e+07</td>\n",
       "    </tr>\n",
       "    <tr>\n",
       "      <th>Santa Catarina</th>\n",
       "      <td>7279638</td>\n",
       "      <td>5.176453e+07</td>\n",
       "    </tr>\n",
       "    <tr>\n",
       "      <th>Goiás</th>\n",
       "      <td>7142070</td>\n",
       "      <td>3.349928e+07</td>\n",
       "    </tr>\n",
       "    <tr>\n",
       "      <th>Maranhão</th>\n",
       "      <td>7127460</td>\n",
       "      <td>2.437421e+07</td>\n",
       "    </tr>\n",
       "    <tr>\n",
       "      <th>Amazonas</th>\n",
       "      <td>4228381</td>\n",
       "      <td>1.335851e+07</td>\n",
       "    </tr>\n",
       "    <tr>\n",
       "      <th>Espírito Santo</th>\n",
       "      <td>4064052</td>\n",
       "      <td>2.746048e+07</td>\n",
       "    </tr>\n",
       "    <tr>\n",
       "      <th>Paraíba</th>\n",
       "      <td>4039277</td>\n",
       "      <td>1.549147e+07</td>\n",
       "    </tr>\n",
       "    <tr>\n",
       "      <th>Rio Grande do Norte</th>\n",
       "      <td>3534165</td>\n",
       "      <td>1.959306e+07</td>\n",
       "    </tr>\n",
       "    <tr>\n",
       "      <th>Mato Grosso</th>\n",
       "      <td>3526220</td>\n",
       "      <td>1.308315e+07</td>\n",
       "    </tr>\n",
       "    <tr>\n",
       "      <th>Alagoas</th>\n",
       "      <td>3351543</td>\n",
       "      <td>1.308785e+07</td>\n",
       "    </tr>\n",
       "    <tr>\n",
       "      <th>Piauí</th>\n",
       "      <td>3281480</td>\n",
       "      <td>1.801921e+07</td>\n",
       "    </tr>\n",
       "    <tr>\n",
       "      <th>Distrito Federal</th>\n",
       "      <td>3055149</td>\n",
       "      <td>2.223354e+07</td>\n",
       "    </tr>\n",
       "    <tr>\n",
       "      <th>Mato Grosso do Sul</th>\n",
       "      <td>2809394</td>\n",
       "      <td>1.250872e+07</td>\n",
       "    </tr>\n",
       "    <tr>\n",
       "      <th>Sergipe</th>\n",
       "      <td>2318822</td>\n",
       "      <td>3.312766e+06</td>\n",
       "    </tr>\n",
       "    <tr>\n",
       "      <th>Rondônia</th>\n",
       "      <td>1796460</td>\n",
       "      <td>7.407388e+06</td>\n",
       "    </tr>\n",
       "    <tr>\n",
       "      <th>Tocantins</th>\n",
       "      <td>1590248</td>\n",
       "      <td>4.489666e+06</td>\n",
       "    </tr>\n",
       "    <tr>\n",
       "      <th>Acre</th>\n",
       "      <td>894470</td>\n",
       "      <td>1.163813e+06</td>\n",
       "    </tr>\n",
       "    <tr>\n",
       "      <th>Amapá</th>\n",
       "      <td>861773</td>\n",
       "      <td>2.155083e+06</td>\n",
       "    </tr>\n",
       "    <tr>\n",
       "      <th>Roraima</th>\n",
       "      <td>631181</td>\n",
       "      <td>2.739498e+06</td>\n",
       "    </tr>\n",
       "  </tbody>\n",
       "</table>\n",
       "</div>"
      ],
      "text/plain": [
       "                     populacao      2020/Jul\n",
       "uf                                          \n",
       "São Paulo             46289333  2.827096e+08\n",
       "Minas Gerais          21331292  1.204672e+08\n",
       "Rio de Janeiro        17366189  7.154023e+07\n",
       "Bahia                 14930634  5.889810e+07\n",
       "Paraná                11516840  8.032085e+07\n",
       "Rio Grande do Sul     11422973  7.892970e+07\n",
       "Pernambuco             9616621  6.232544e+07\n",
       "Ceará                  9187103  3.080922e+07\n",
       "Pará                   8690745  2.761873e+07\n",
       "Santa Catarina         7279638  5.176453e+07\n",
       "Goiás                  7142070  3.349928e+07\n",
       "Maranhão               7127460  2.437421e+07\n",
       "Amazonas               4228381  1.335851e+07\n",
       "Espírito Santo         4064052  2.746048e+07\n",
       "Paraíba                4039277  1.549147e+07\n",
       "Rio Grande do Norte    3534165  1.959306e+07\n",
       "Mato Grosso            3526220  1.308315e+07\n",
       "Alagoas                3351543  1.308785e+07\n",
       "Piauí                  3281480  1.801921e+07\n",
       "Distrito Federal       3055149  2.223354e+07\n",
       "Mato Grosso do Sul     2809394  1.250872e+07\n",
       "Sergipe                2318822  3.312766e+06\n",
       "Rondônia               1796460  7.407388e+06\n",
       "Tocantins              1590248  4.489666e+06\n",
       "Acre                    894470  1.163813e+06\n",
       "Amapá                   861773  2.155083e+06\n",
       "Roraima                 631181  2.739498e+06"
      ]
     },
     "execution_count": 21,
     "metadata": {},
     "output_type": "execute_result"
    }
   ],
   "source": [
    "population_estimate_2020 \\\n",
    "    .join(recent_month_hospital_expenses)"
   ]
  },
  {
   "cell_type": "code",
   "execution_count": 22,
   "metadata": {},
   "outputs": [
    {
     "data": {
      "text/plain": [
       "Index([                   nan,           ' São Paulo',        ' Minas Gerais',\n",
       "            ' Rio de Janeiro',                'Bahia',              ' Paraná',\n",
       "         ' Rio Grande do Sul',          ' Pernambuco',               ' Ceará',\n",
       "                       'Pará',      ' Santa Catarina',               ' Goiás',\n",
       "                  ' Maranhão',            ' Amazonas',      ' Espírito Santo',\n",
       "                   ' Paraíba', ' Rio Grande do Norte',         ' Mato Grosso',\n",
       "                   ' Alagoas',               ' Piauí',    ' Distrito Federal',\n",
       "        ' Mato Grosso do Sul',             ' Sergipe',            ' Rondônia',\n",
       "                 ' Tocantins',                ' Acre',               ' Amapá',\n",
       "                   ' Roraima'],\n",
       "      dtype='object', name='Unidade federativa')"
      ]
     },
     "execution_count": 22,
     "metadata": {},
     "output_type": "execute_result"
    }
   ],
   "source": [
    "# population_data_df has duplicate state indexes\n",
    "# i'm not using this variable, but just to learn how to correct it\n",
    "\n",
    "population_data_df = population_data_df \\\n",
    "                        .set_index('Unidade federativa')\n",
    "\n",
    "for state in recent_month_hospital_expenses.index:\n",
    "    #print(f'{state} {state} => {state}')\n",
    "    population_data_df.index = \\\n",
    "        population_data_df.index.str.replace(f'{state} {state}', state)\n",
    "    \n",
    "population_data_df.index"
   ]
  },
  {
   "cell_type": "markdown",
   "metadata": {},
   "source": [
    "**Challenge 4: Create a function to clean population_data_df dataframe.**"
   ]
  },
  {
   "cell_type": "markdown",
   "metadata": {},
   "source": [
    "## Challenge 3: Study and learn about strings and its methods\n",
    "\n",
    "See: https://docs.python.org/3/library/string.html"
   ]
  },
  {
   "cell_type": "markdown",
   "metadata": {},
   "source": [
    "## Challenge 4: Create a function to clean population_data_df dataframe and to merge population and recent_month"
   ]
  },
  {
   "cell_type": "code",
   "execution_count": 23,
   "metadata": {},
   "outputs": [],
   "source": [
    "def clean_population_data_df(df2: pd.DataFrame, population=population_data_df) -> pd.DataFrame:\n",
    "    '''\n",
    "    Return population_data_df with population column and uf as its index.\n",
    "    \n",
    "    Clean dataframe columns: in lower case, with underscore instead of spaced, and normalized. \n",
    "    It also renames a unidade_federativa column to uf. \n",
    "    \n",
    "    Setting uf as an index.\n",
    "    \n",
    "    Clean values: clean index values and population values. \n",
    "    (It uses another df (df2) to clean the uf values)\n",
    "    '''\n",
    "    \n",
    "    # cleaning columns\n",
    "    population.columns = population.columns.str.lower() \\\n",
    "                                   .str.replace(' ', '_') \\\n",
    "                                   .str.normalize('NFKD') \\\n",
    "                                   .str.encode('ascii', errors='ignore') \\\n",
    "                                   .str.decode('utf-8')\n",
    "    \n",
    "    population = population.rename(columns={'unidade_federativa': 'uf'})\n",
    "    \n",
    "    # setting uf index\n",
    "    population = population.reset_index().set_index('uf')\n",
    "    \n",
    "    # cleaning values\n",
    "    population['populacao'] = population['populacao'].str.replace(' ', '')\n",
    "    \n",
    "    population.index = population.index.str.strip()\n",
    "    \n",
    "    for state in df2.index:\n",
    "        population.index = population.index.str.replace(f'{state} {state}', state)\n",
    "    \n",
    "    return population[['populacao']]\n",
    "\n",
    "\n",
    "\n",
    "def join_population_hospital_expenses(population=population_data_df, he=population_data_df) -> pd.DataFrame:\n",
    "    '''\n",
    "    Return population_data_df joined with recent_month_hospital_expenses.\n",
    "    population_data_df should have 'uf' as index.\n",
    "    '''\n",
    "    return population.join(he)"
   ]
  },
  {
   "cell_type": "code",
   "execution_count": 24,
   "metadata": {},
   "outputs": [
    {
     "data": {
      "text/html": [
       "<div>\n",
       "<style scoped>\n",
       "    .dataframe tbody tr th:only-of-type {\n",
       "        vertical-align: middle;\n",
       "    }\n",
       "\n",
       "    .dataframe tbody tr th {\n",
       "        vertical-align: top;\n",
       "    }\n",
       "\n",
       "    .dataframe thead th {\n",
       "        text-align: right;\n",
       "    }\n",
       "</style>\n",
       "<table border=\"1\" class=\"dataframe\">\n",
       "  <thead>\n",
       "    <tr style=\"text-align: right;\">\n",
       "      <th></th>\n",
       "      <th>Posição</th>\n",
       "      <th>Unidade federativa</th>\n",
       "      <th>População</th>\n",
       "      <th>% da pop. total</th>\n",
       "      <th>País comparável</th>\n",
       "    </tr>\n",
       "  </thead>\n",
       "  <tbody>\n",
       "    <tr>\n",
       "      <th>1</th>\n",
       "      <td>1</td>\n",
       "      <td>São Paulo</td>\n",
       "      <td>46 289 333</td>\n",
       "      <td>21,9%</td>\n",
       "      <td>Flag of Spain.svg Espanha (46 439 864)</td>\n",
       "    </tr>\n",
       "    <tr>\n",
       "      <th>2</th>\n",
       "      <td>2</td>\n",
       "      <td>Minas Gerais</td>\n",
       "      <td>21 331 292</td>\n",
       "      <td>10,1%</td>\n",
       "      <td>Sri Lanka (20 675 000)</td>\n",
       "    </tr>\n",
       "    <tr>\n",
       "      <th>3</th>\n",
       "      <td>3</td>\n",
       "      <td>Rio de Janeiro</td>\n",
       "      <td>17 366 189</td>\n",
       "      <td>8,2%</td>\n",
       "      <td>Países Baixos (16 922 900)</td>\n",
       "    </tr>\n",
       "    <tr>\n",
       "      <th>4</th>\n",
       "      <td>4</td>\n",
       "      <td>Bahia Bahia</td>\n",
       "      <td>14 930 634</td>\n",
       "      <td>7,1%</td>\n",
       "      <td>Chade (14 037 000)</td>\n",
       "    </tr>\n",
       "    <tr>\n",
       "      <th>5</th>\n",
       "      <td>5</td>\n",
       "      <td>Paraná</td>\n",
       "      <td>11 516 840</td>\n",
       "      <td>5,4%</td>\n",
       "      <td>Bolívia (11 410 651)</td>\n",
       "    </tr>\n",
       "  </tbody>\n",
       "</table>\n",
       "</div>"
      ],
      "text/plain": [
       "  Posição Unidade federativa   População % da pop. total  \\\n",
       "1       1          São Paulo  46 289 333           21,9%   \n",
       "2       2       Minas Gerais  21 331 292           10,1%   \n",
       "3       3     Rio de Janeiro  17 366 189            8,2%   \n",
       "4       4        Bahia Bahia  14 930 634            7,1%   \n",
       "5       5             Paraná  11 516 840            5,4%   \n",
       "\n",
       "                          País comparável  \n",
       "1  Flag of Spain.svg Espanha (46 439 864)  \n",
       "2                  Sri Lanka (20 675 000)  \n",
       "3              Países Baixos (16 922 900)  \n",
       "4                      Chade (14 037 000)  \n",
       "5                    Bolívia (11 410 651)  "
      ]
     },
     "execution_count": 24,
     "metadata": {},
     "output_type": "execute_result"
    }
   ],
   "source": [
    "population_data_io = StringIO(population_data)\n",
    "\n",
    "population_data_df = pd.read_csv(population_data_io, \n",
    "                                 sep='\\t')[1:]\n",
    "\n",
    "population_data_df.head()"
   ]
  },
  {
   "cell_type": "code",
   "execution_count": 25,
   "metadata": {},
   "outputs": [
    {
     "data": {
      "text/plain": [
       "Unidade da Federação\n",
       "São Paulo            2.827096e+08\n",
       "Minas Gerais         1.204672e+08\n",
       "Paraná               8.032085e+07\n",
       "Rio Grande do Sul    7.892970e+07\n",
       "Rio de Janeiro       7.154023e+07\n",
       "Name: 2020/Jul, dtype: float64"
      ]
     },
     "execution_count": 25,
     "metadata": {},
     "output_type": "execute_result"
    }
   ],
   "source": [
    "recent_month_hospital_expenses.head()"
   ]
  },
  {
   "cell_type": "code",
   "execution_count": 27,
   "metadata": {},
   "outputs": [
    {
     "data": {
      "text/html": [
       "<div>\n",
       "<style scoped>\n",
       "    .dataframe tbody tr th:only-of-type {\n",
       "        vertical-align: middle;\n",
       "    }\n",
       "\n",
       "    .dataframe tbody tr th {\n",
       "        vertical-align: top;\n",
       "    }\n",
       "\n",
       "    .dataframe thead th {\n",
       "        text-align: right;\n",
       "    }\n",
       "</style>\n",
       "<table border=\"1\" class=\"dataframe\">\n",
       "  <thead>\n",
       "    <tr style=\"text-align: right;\">\n",
       "      <th></th>\n",
       "      <th>populacao</th>\n",
       "      <th>2020/Jul</th>\n",
       "    </tr>\n",
       "    <tr>\n",
       "      <th>uf</th>\n",
       "      <th></th>\n",
       "      <th></th>\n",
       "    </tr>\n",
       "  </thead>\n",
       "  <tbody>\n",
       "    <tr>\n",
       "      <th>São Paulo</th>\n",
       "      <td>46289333</td>\n",
       "      <td>2.827096e+08</td>\n",
       "    </tr>\n",
       "    <tr>\n",
       "      <th>Minas Gerais</th>\n",
       "      <td>21331292</td>\n",
       "      <td>1.204672e+08</td>\n",
       "    </tr>\n",
       "    <tr>\n",
       "      <th>Rio de Janeiro</th>\n",
       "      <td>17366189</td>\n",
       "      <td>7.154023e+07</td>\n",
       "    </tr>\n",
       "    <tr>\n",
       "      <th>Bahia</th>\n",
       "      <td>14930634</td>\n",
       "      <td>5.889810e+07</td>\n",
       "    </tr>\n",
       "    <tr>\n",
       "      <th>Paraná</th>\n",
       "      <td>11516840</td>\n",
       "      <td>8.032085e+07</td>\n",
       "    </tr>\n",
       "  </tbody>\n",
       "</table>\n",
       "</div>"
      ],
      "text/plain": [
       "               populacao      2020/Jul\n",
       "uf                                    \n",
       "São Paulo       46289333  2.827096e+08\n",
       "Minas Gerais    21331292  1.204672e+08\n",
       "Rio de Janeiro  17366189  7.154023e+07\n",
       "Bahia           14930634  5.889810e+07\n",
       "Paraná          11516840  8.032085e+07"
      ]
     },
     "execution_count": 27,
     "metadata": {},
     "output_type": "execute_result"
    }
   ],
   "source": [
    "population_data_df_cleaned = \\\n",
    "    clean_population_data_df(df2=recent_month_hospital_expenses,\n",
    "                             population=population_data_df)\n",
    "\n",
    "# setting parameters just to be clear\n",
    "join_population_hospital_expenses(population=population_data_df_cleaned,\n",
    "                                  he=recent_month_hospital_expenses) \\\n",
    "    .head()"
   ]
  },
  {
   "cell_type": "code",
   "execution_count": null,
   "metadata": {},
   "outputs": [],
   "source": []
  }
 ],
 "metadata": {
  "kernelspec": {
   "display_name": "Python 3",
   "language": "python",
   "name": "python3"
  },
  "language_info": {
   "codemirror_mode": {
    "name": "ipython",
    "version": 3
   },
   "file_extension": ".py",
   "mimetype": "text/x-python",
   "name": "python",
   "nbconvert_exporter": "python",
   "pygments_lexer": "ipython3",
   "version": "3.6.9"
  }
 },
 "nbformat": 4,
 "nbformat_minor": 2
}
